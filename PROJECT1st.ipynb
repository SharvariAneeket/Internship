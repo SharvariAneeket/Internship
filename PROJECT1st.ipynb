﻿{
 "cells": [
  {
   "cell_type": "code",
   "execution_count": null,
   "id": "67624cdf",
   "metadata": {},
   "outputs": [],
   "source": [
    "!pip install bs4\n",
    "!pip install requests"
   ]
  },
  {
   "cell_type": "code",
   "execution_count": 2,
   "id": "addcb2f7",
   "metadata": {},
   "outputs": [],
   "source": [
    "from bs4 import BeautifulSoup\n",
    "import requests"
   ]
  },
  {
   "cell_type": "markdown",
   "id": "ca967cb7",
   "metadata": {},
   "source": [
    "List of President of India"
   ]
  },
  {
   "cell_type": "code",
   "execution_count": 3,
   "id": "a27e6873",
   "metadata": {},
   "outputs": [
    {
     "data": {
      "text/plain": [
       "\n",
       "<!DOCTYPE html PUBLIC \"-//W3C//DTD XHTML 1.0 Transitional//EN\" \"http://www.w3.org/TR/xhtml1/DTD/xhtml1-transitional.dtd\">\n",
       "\n",
       "<html lang=\"en\" xml:lang=\"en\" xmlns=\"http://www.w3.org/1999/xhtml\">\n",
       "<head id=\"Head1\"><title>\n",
       "\tFormer Presidents - The President of India\n",
       "</title><meta content=\"text/html; charset=utf-8\" http-equiv=\"Content-Type\"/><meta content=\"no-cache\" http-equiv=\"pragma\"/>\n",
       "<!--<meta http-equiv=\"Content-Style-Type\" content=\"text/css\" /><meta http-equiv=\"Content-Script-Type\" content=\"type\" />-->\n",
       "<meta content=\"telephone=no\" name=\"format-detection\"/><meta content=\"IE=EmulateIE10\" http-equiv=\"X-UA-Compatible\"/>\n",
       "<!-- Start Favicon -->\n",
       "<link href=\"favicon.ico\" rel=\"shortcut icon\" type=\"image/x-icon\"/><link href=\"js/panorama_viewer.css\" rel=\"stylesheet\" type=\"text/css\"/>\n",
       "<!-- Start Viewport -->\n",
       "<!--<meta name=\"viewport\" content=\"width=device-width, initial-scale=1, maximum-scale=1, user-scalable=no\" />-->\n",
       "<!-- Start IE CSS -->\n",
       "<!--[if IE]>\n",
       "\t<link href=\"writereaddata/Portal/Design_CSS/5.css\" rel=\"stylesheet\" type=\"text/css\" media=\"all\" />\n",
       "\t<![endif]-->\n",
       "<!-- Start Javascript Library -->\n",
       "<script language=\"JavaScript\" type=\"text/javascript\">\n",
       "        if (top != self) top.location.replace(location);\n",
       "        version = \"3.6.0\";\n",
       "        prettyPhoto = \"3.1.6\";\n",
       "\n",
       "    </script>\n",
       "<script src=\"js/jquery.min.js\" type=\"text/javascript\"></script>\n",
       "<script type=\"text/javascript\">\n",
       "\t\t<!--\n",
       "\n",
       "        function detectmob() {\n",
       "            if (navigator.userAgent.match(/Android/i)\n",
       "                || navigator.userAgent.match(/webOS/i)\n",
       "                || navigator.userAgent.match(/iPhone/i)\n",
       "                || navigator.userAgent.match(/iPad/i)\n",
       "                || navigator.userAgent.match(/iPod/i)\n",
       "                || navigator.userAgent.match(/BlackBerry/i)\n",
       "                || navigator.userAgent.match(/Windows Phone/i)\n",
       "                ) {\n",
       "                return true;\n",
       "            }\n",
       "            else {\n",
       "                return false;\n",
       "            }\n",
       "        }\n",
       "\n",
       "        function OfflineOverrideBody() {\n",
       "            if (!navigator.onLine && document.body != null && detectmob() == false) {\n",
       "                document.body.innerHTML = \"Loading...\";\n",
       "            }\n",
       "            setTimeout(OfflineOverrideBody, 100);\n",
       "        }\n",
       "        OfflineOverrideBody();\n",
       "\n",
       "        /*function setMenu(objatagV) {\n",
       "        $('.menuFirstNode').removeClass('active');\n",
       "        $('#' + objatagV).addClass('active');\n",
       "        CreateCookie('_tmpActiveMnu', objatagV);\n",
       "        }*/\t\n",
       "\t\t-->\n",
       "    </script>\n",
       "<script type=\"text/javascript\">\n",
       "        $(document).ready(function () { $(\"input\").attr(\"autocomplete\", \"off\"); });\n",
       "    </script>\n",
       "<link href=\"App_Themes/User/ie9.css\" rel=\"stylesheet\" type=\"text/css\"/><link href=\"App_Themes/User/jquery.ui.autocomplete.css\" rel=\"stylesheet\" type=\"text/css\"/><link href=\"App_Themes/User/jquery.ui.autocomplete.custom.css\" rel=\"stylesheet\" type=\"text/css\"/><link href=\"App_Themes/User/jQueryCalender.css\" rel=\"stylesheet\" type=\"text/css\"/><link href=\"App_Themes/User/User.css\" rel=\"stylesheet\" type=\"text/css\"/><link href=\"/writereaddata/Portal/Design_CSS/2.css\" id=\"css2\" rel=\"stylesheet\" type=\"text/css\"/><meta content=\"Former Presidents - The President of India\" name=\"keyword\"/><meta content=\"Former Presidents - The President of India\" name=\"description\"/><meta content=\"english\" name=\"language\"/><link href=\"/writereaddata/Portal/Design_CSS/7.css\" id=\"css7\" media=\"print\" rel=\"stylesheet\" type=\"text/css\"/></head>\n",
       "<body class=\"noJS\" id=\"bdMainSite\" style=\"font-size:87.5%\">\n",
       "<!--<script type=\"text/javascript\">\t\n",
       "\tfunction AddBodyClass() {\n",
       "\t\t$(\"#\" + \"bdMainSite\").addClass(\"home\");\n",
       "\t}\n",
       "\t\n",
       "</script>\n",
       "<noscript class=\"displayNone\"></noscript>-->\n",
       "<noscript class=\"noscriptDiv\">\n",
       "<div id=\"scriptOffMsg\">\n",
       "            Some of the functionalities will not work if javascript off. Please enable Javascript\n",
       "            for it.\n",
       "        </div>\n",
       "</noscript>\n",
       "<form action=\"/former-presidents.htm\" id=\"form1\" method=\"post\">\n",
       "<div class=\"aspNetHidden\">\n",
       "<input id=\"__VIEWSTATE\" name=\"__VIEWSTATE\" type=\"hidden\" value=\"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\"/>\n",
       "</div>\n",
       "<div class=\"aspNetHidden\">\n",
       "<input id=\"__VIEWSTATEGENERATOR\" name=\"__VIEWSTATEGENERATOR\" type=\"hidden\" value=\"CA0B0334\"/>\n",
       "<input id=\"__EVENTTARGET\" name=\"__EVENTTARGET\" type=\"hidden\" value=\"\"/>\n",
       "<input id=\"__EVENTARGUMENT\" name=\"__EVENTARGUMENT\" type=\"hidden\" value=\"\"/>\n",
       "<input id=\"__VIEWSTATEENCRYPTED\" name=\"__VIEWSTATEENCRYPTED\" type=\"hidden\" value=\"\"/>\n",
       "<input id=\"__EVENTVALIDATION\" name=\"__EVENTVALIDATION\" type=\"hidden\" value=\"j/C/omv7U9ukwgoQBgoQ/QzJ5ZysUUDwb0i9WezzH/t5C17MyrcMMGPocb6dD+zipRnGJk6DEsWb5am2+egJw4jgQBi0y8qhspVCefk2bVUKwEnqTZu7LMqXUghCOeNGU8rNRf0N8s4FSviFSiaD9+OC4vh2tvNzmWz6Dl0Iiin/amoeTkgcOEjGB4DdE7D+9DlqJMr2N4I0SmE7F2Y2CbS/A7vCWIegHeqLQs5l+mekKkmaqYkal7AX4fI/hUVx0+vq5go2OcWBVyYiC3N6c1pxqmyLytOqU5p3k9UJeQVlimj5Z2iZMm4lW9F+QI7prf+BpoelxvN5uDjhsaMIGMnzG7Dp1WvexZuJmC51810Xa8UQkgSnAUdBHVkkCPa4mjX++GyIRfKA+WLE19KcC7JZPRnZ+NBcFdlrQYrmLNHJVqhKpKbjYnb+UqZguAIztqbf6vp7tHDeo79KA1sGnyBGeG9vZ7J9ZQmmhCgBtzhJSWaC5ezQtwb6iKV25L6L/u5Ryo75dWePqEmFH/asvcEm0d3Yps+MhQW5ayUJSzLHQVto52IQWULIcSukAFIfbD6IFDL4fOlv+2wIzgkt8j90BPGOADtdcW19TAgxIk1jOrSSm+qfmts+lRRNfdxsPG88qeoAUuxUhWa48NbPp0jcJM1H7wabt47OrlnQ9qt2jSTpn2duX28ebaLWmX9VQ79g/mtKeHCWP+Ez9jAWgrGrq/RVr0Q+sGEY84mSMeF6EGr8YO0ZIeSHAhlhPa6eiSrxT9rcj7Z4wiKq5Q3kjjdFD9rRX55X/kh0bcomXkH9JqcQVx+MNm5OC3OVAgNXmTVqDKxNrJJRxY5n7uM8f1f9sOu6RSKMzTAgAZoAKHL4zbATBRPIwjRFBs5qN+tR67F90bnv1xOEgVA4q0QpAlaygHykJRBuX8eX4+xIL8g=\"/>\n",
       "</div>\n",
       "<input id=\"bodyDefaultTextSizehdn\" name=\"ctl00$bodyDefaultTextSizehdn\" type=\"hidden\" value=\"87.5\"/>\n",
       "<input id=\"hdnSiteName\" name=\"ctl00$hdnSiteName\" type=\"hidden\" value=\"SilverCMSVanila\"/>\n",
       "<input id=\"RootPathInt\" name=\"ctl00$RootPathInt\" type=\"hidden\"/>\n",
       "<div id=\"ContentPlaceHolder1_mainbody\">\n",
       "<div id=\"wrapper\">\n",
       "<div class=\"css3\" id=\"accessbar\">\n",
       "<div class=\"container\">\n",
       "<ul class=\"alignRight\">\n",
       "<li><a class=\"inSkipContent\" href=\"#skipContent\" title=\"Skip to Main Content\">Skip to Main Content</a> /</li><li><a href=\"screen-reader-access.htm\" title=\"Screen Reader Access\">Screen Reader Access</a></li><li class=\"padT0\"><span id=\"ContentPlaceHolder1_ChangeSiteStyle1_lblTitle\"></span>\n",
       "<ul id=\"accessControl\">\n",
       "<li class=\"a padL5\">\n",
       "<input class=\"fontScaler current normal font-normal\" id=\"ContentPlaceHolder1_ChangeSiteStyle1_font_normal\" name=\"ctl00$ContentPlaceHolder1$ChangeSiteStyle1$font_normal\" onclick=\"return validate();\" title=\"Normal Font Size\" type=\"submit\" value=\"A\"/>\n",
       "</li>\n",
       "<li class=\"a a-largeFont\">\n",
       "<input class=\"fontScaler large font-large\" id=\"ContentPlaceHolder1_ChangeSiteStyle1_font_large\" name=\"ctl00$ContentPlaceHolder1$ChangeSiteStyle1$font_large\" onclick=\"return validate();\" title=\"Largest Font Size\" type=\"submit\" value=\"A+\"/>\n",
       "</li>\n",
       "<!--<li class=\"a a-largestFont\">\n",
       "        <input type=\"submit\" name=\"ctl00$ContentPlaceHolder1$ChangeSiteStyle1$font_larger\" value=\"A+\" onclick=\"return validate();\" id=\"ContentPlaceHolder1_ChangeSiteStyle1_font_larger\" title=\"Large Font Size\" class=\"fontScaler larger font-largest\" />\n",
       "    </li>-->\n",
       "<li class=\"marL5 standardContrast\">\n",
       "<input accesskey=\"7\" class=\"contrastChanger normal current sprite\" id=\"ContentPlaceHolder1_ChangeSiteStyle1_contrast_normal\" name=\"ctl00$ContentPlaceHolder1$ChangeSiteStyle1$contrast_normal\" onclick=\"return false;\" title=\"Standard View\" type=\"submit\" value=\"Standard View\"/>\n",
       "</li>\n",
       "<li class=\"marL5 highContrast\">\n",
       "<input accesskey=\"8\" class=\"contrastChanger normal sprite\" id=\"ContentPlaceHolder1_ChangeSiteStyle1_contrast_wob\" name=\"ctl00$ContentPlaceHolder1$ChangeSiteStyle1$contrast_wob\" onclick=\"return false;\" title=\"High Contrast View\" type=\"submit\" value=\"High Contrast View\"/>\n",
       "</li>\n",
       "</ul>\n",
       "</li><li class=\"padT5\">\n",
       "<div class=\"language css3 cf\"><a class=\"english active\" href=\"http://presidentofindia.nic.in/index.htm\">English</a><a class=\"hindi\" href=\"http://presidentofindia.nic.in/index-hi.htm\">Hindi</a></div>\n",
       "</li><li class=\"padT6\">\n",
       "<div class=\"search css3 cf\"><input id=\"ContentPlaceHolder1_KeywordSearch1_hdnLanguageID\" name=\"ctl00$ContentPlaceHolder1$KeywordSearch1$hdnLanguageID\" type=\"hidden\" value=\"1\"/>\n",
       "<input id=\"ContentPlaceHolder1_KeywordSearch1_hdnSiteID\" name=\"ctl00$ContentPlaceHolder1$KeywordSearch1$hdnSiteID\" type=\"hidden\" value=\"1\"/>\n",
       "<input id=\"ContentPlaceHolder1_KeywordSearch1_hdnInternalMEA\" name=\"ctl00$ContentPlaceHolder1$KeywordSearch1$hdnInternalMEA\" type=\"hidden\" value=\"0\"/>\n",
       "<div id=\"ContentPlaceHolder1_KeywordSearch1_pnlKeywordSrch\" onkeypress=\"javascript:return WebForm_FireDefaultButton(event, 'ContentPlaceHolder1_KeywordSearch1_btnSearch')\">\n",
       "<input class=\"alignLeft ui-autocomplete-input\" id=\"ContentPlaceHolder1_KeywordSearch1_txtKeyword\" name=\"ctl00$ContentPlaceHolder1$KeywordSearch1$txtKeyword\" onblur=\"if (this.value =='' || this.value=='&lt;%=strEnterKeyWord %&gt;') this.value = this.defaultValue;\" onfocus=\"this.value=''\" title=\"Search\" type=\"text\" value=\"Search\"/>\n",
       "<input class=\"submit sprite alignRight\" id=\"ContentPlaceHolder1_KeywordSearch1_btnSearch\" name=\"ctl00$ContentPlaceHolder1$KeywordSearch1$btnSearch\" onclick=\"return CheckString();\" title=\"Minimum 3 character required\" type=\"submit\" value=\"Search\"/>\n",
       "</div>\n",
       "<div class=\"searchList\">\n",
       "</div>\n",
       "<script src=\"https://www.google.com/jsapi\" type=\"text/javascript\"></script>\n",
       "<noscript class=\"displayNone\">\n",
       "</noscript>\n",
       "<script type=\"text/javascript\">\n",
       "<!--\n",
       "    function CheckString() {\n",
       "        var Key = document.getElementById('ContentPlaceHolder1_KeywordSearch1_txtKeyword');\n",
       "        if (Key.value.length < 3) {\n",
       "            Key.value = \"Minimum 3 character required\";\n",
       "            return false;\n",
       "\n",
       "        }\n",
       "        if (Key.value == Key.defaultValue) {\n",
       "            Key.value = \"Enter valid search text\";\n",
       "            return false;\n",
       "        }\n",
       "        if (Key.value == \"Minimum 3 character required\" || Key.value == \"Enter valid search text\") {\n",
       "            return false;\n",
       "        }\n",
       "        return true;\n",
       "    }\n",
       "    var hdnLanguageID = document.getElementById('ContentPlaceHolder1_KeywordSearch1_hdnLanguageID');\n",
       "    if (hdnLanguageID.value == '2') {\n",
       "        google.load(\"elements\", \"1\", { packages: \"transliteration\" });\n",
       "        function onLoad() {\n",
       "            var options = { sourceLanguage: 'en', destinationLanguage: ['hi'], shortcutKey: 'ctrl+g', transliterationEnabled: true };\n",
       "            var control = new google.elements.transliteration.TransliterationControl(options);\n",
       "            control.makeTransliteratable(['ContentPlaceHolder1_KeywordSearch1_txtKeyword']);\n",
       "        }\n",
       "        google.setOnLoadCallback(onLoad);\n",
       "    }\n",
       "\n",
       "\n",
       "    /*  Auto Suggestion Script */\n",
       "    $(function () {\n",
       "\n",
       "\n",
       "        $(\"#ContentPlaceHolder1_KeywordSearch1_txtKeyword\").autocomplete({\n",
       "            source: function (request, response) {\n",
       "                var pID;\n",
       "                var hdnSiteID = document.getElementById('ContentPlaceHolder1_KeywordSearch1_hdnSiteID'); ;\n",
       "                var hdnLanguageID = document.getElementById('ContentPlaceHolder1_KeywordSearch1_hdnLanguageID');\n",
       "                if (hdnSiteID.value == '') pID = 1;\n",
       "                else pID = hdnSiteID.value;\n",
       "                $.ajax({\n",
       "                    url: \"AutoCompleteService.asmx/AutoSugessionSiteSearch\",\n",
       "                    data: \"{ 'SearchText': '\" + escape(request.term) + \"' , 'SiteId':'\" + pID + \"', 'LanguageId':'\" + hdnLanguageID.value + \"', 'TopRecords':'\" + 'top 15' + \"' }\",\n",
       "                    dataType: \"json\",\n",
       "                    type: \"POST\",\n",
       "                    contentType: \"application/json; charset=utf-8\",\n",
       "                    dataFilter: function (data) { return data; },\n",
       "                    success: function (data) {\n",
       "                        response($.map(data.d, function (item) {\n",
       "                            var label1 = item.split(\"::\");\n",
       "                            return {\n",
       "                                value: label1[1] + \"::\" + label1[2],\n",
       "                                label: label1[0]\n",
       "                            }\n",
       "                        }))\n",
       "                    },\n",
       "                    error: function (XMLHttpRequest, textStatus, errorThrown) {\n",
       "                        //alert(textStatus);\n",
       "                    }\n",
       "                });\n",
       "            },\n",
       "            select: function (event, ui) {\n",
       "                $(event.target).val(ui.item.label);\n",
       "                var target = ui.item.value.split(\"::\")\n",
       "                if (target[1] == \"_blank\") {\n",
       "                    window.open(target[0], '_blank');\n",
       "                }\n",
       "                else {\n",
       "                    //window.location = ui.item.value;\n",
       "                    window.location = target[0];\n",
       "                }\n",
       "                return false;\n",
       "            },\n",
       "            minLength: 3,\n",
       "            appendTo: \".searchList\"\n",
       "        });\n",
       "        /*  Auto Suggestion Script */\n",
       "        //-->\n",
       "    });         \n",
       "</script>\n",
       "<noscript class=\"displayNone\">\n",
       "</noscript>\n",
       "</div>\n",
       "</li></ul>\n",
       "</div>\n",
       "</div>\n",
       "<div class=\"container padB20\" id=\"container\">\n",
       "<div id=\"header\">\n",
       "<div class=\"padT20 cf\">\n",
       "<h1 class=\"alignLeft\" id=\"logo\" title=\"The President of India - Smt. Droupadi Murmu\">\n",
       "<a href=\"index.htm\" title=\"The President of India - Smt. Droupadi Murmu\"><img alt=\"The President of India - Smt. Droupadi Murmu\" height=\"74\" src=\"Images/logo.png\" title=\"The President of India - Smt. Droupadi Murmu\" width=\"439\"/></a></h1>\n",
       "<div class=\"alignRight\">\n",
       "<div class=\"alignLeft\">\n",
       "<ul class=\"subNav alignRight\">\n",
       "<li><a href=\"contact-us.htm\" title=\"Contact\">Contact</a></li><li><a href=\"mailto:webmaster[at]rb[dot]nic[dot]in\" title=\"Feedback\">Feedback</a></li><li class=\"last\"><a href=\"sitemap.htm\" title=\"Sitemap\">Sitemap</a></li></ul>\n",
       "<div class=\"social\"><a href=\"https://www.facebook.com/presidentofindia\" target=\"_blank\"><img alt=\"facebook\" src=\"Images/fb.png\" title=\"Facebook\"/></a><a href=\"https://www.instagram.com/presidentofindia\" target=\"_blank\"><img alt=\"Instagram\" src=\"Images/inst.png\" title=\"Instagram\"/></a><a href=\"https://twitter.com/rashtrapatibhvn\" target=\"_blank\"><img alt=\"Twitter\" src=\"Images/twitter.png\" title=\"Twitter\"/></a><a href=\"https://www.youtube.com/presidentofindia\" target=\"_blank\"><img alt=\"Youtube\" src=\"Images/youtube.png\" title=\"Youtube\"/></a></div>\n",
       "</div>\n",
       "<img alt=\"India - Flag\" class=\"padR5 alignRight\" height=\"50\" src=\"Images/india-flag.gif\" width=\"74\"/></div>\n",
       "</div>\n",
       "</div>\n",
       "<div id=\"skipContent\"><div class=\"menuPart cf\" id=\"ContentPlaceHolder1_UserMenuHorizontal1_divMenu\"><ul id=\"nav\"><li class=\"MenuLi MenuLiFirst MenuLi1\"><a class=\"menuFirstNode\" href=\"/index.htm\" target=\"_self\" title=\"Home\"><span>Home</span></a></li><li class=\"MenuLi MenuLi2\"><a class=\"menuFirstNode\" href=\"/press-release.htm\" target=\"_self\" title=\"Press Releases\"><span>Press Releases</span></a></li><li class=\"MenuLi MenuLi3\"><a class=\"menuFirstNode\" href=\"speeches.htm\" target=\"_self\" title=\"Speeches\"><span>Speeches</span></a></li><li class=\"MenuLi MenuLi4\"><a class=\"menuFirstNode\" href=\"photo-gallery.htm\" target=\"_self\" title=\"Gallery\"><span>Gallery</span></a><ul class=\"menuSubUl\"><li class=\"firstMenuLi\"><a class=\"firstMenuLiA\" href=\"/photo-gallery.htm\" target=\"_self\" title=\"Photo Gallery\">Photo Gallery</a></li><li class=\"lastMenuLi\"><a class=\"lastMenuLiA\" href=\"/video-gallery.htm\" target=\"_self\" title=\"Video Gallery\">Video Gallery</a></li></ul></li><li class=\"MenuLi MenuLi5\"><a class=\"menuFirstNode\" href=\"/rashtrapati-bhavan.htm\" target=\"_self\" title=\"Rashtrapati Bhavan\"><span>Rashtrapati Bhavan</span></a><ul class=\"menuSubUl\"><li class=\"firstMenuLi\"><a class=\"firstMenuLiA\" href=\"/panoramic-view.htm\" target=\"_self\" title=\"Panoramic View\">Panoramic View</a></li><li><a href=\"/presidential-retreats.htm\" target=\"_self\" title=\"Presidential Retreats\">Presidential Retreats</a></li><li><a href=\"/mughal-gardens.htm\" target=\"_self\" title=\"Mughal Gardens\">Mughal Gardens</a></li><li><a href=\"/herbal-gardens.htm\" target=\"_self\" title=\"Herbal Gardens\">Herbal Gardens</a></li><li><a href=\"/visit-to-rashtrapati-bhavan.htm.htm\" target=\"_self\" title=\"Visit to Rashtrapati Bhavan\">Visit to Rashtrapati Bhavan</a></li><li class=\"lastMenuLi\"><a class=\"lastMenuLiA\" href=\"/virtual-tour-of-rashtrapati-bhavan.htm\" target=\"_self\" title=\"Virtual Tour of Rashtrapati Bhavan\">Virtual Tour of Rashtrapati Bhavan</a></li></ul></li><li class=\"MenuLi MenuLi6\"><a class=\"menuFirstNode\" href=\"/former-presidents.htm\" target=\"_self\" title=\"Former Presidents\"><span>Former Presidents</span></a></li><li class=\"MenuLi MenuLiLast MenuLi7\"><a class=\"menuFirstNode\" href=\"/profile.htm\" target=\"_self\" title=\"Profile of the President\"><span>Profile of the President</span></a></li></ul></div>\n",
       "<input id=\"ContentPlaceHolder1_UserMenuHorizontal1_hf1\" name=\"ctl00$ContentPlaceHolder1$UserMenuHorizontal1$hf1\" type=\"hidden\" value=\"&lt;span&gt;\"/>\n",
       "<input id=\"ContentPlaceHolder1_UserMenuHorizontal1_hf2\" name=\"ctl00$ContentPlaceHolder1$UserMenuHorizontal1$hf2\" type=\"hidden\" value=\"&lt;/span&gt;\"/>\n",
       "<div class=\"contentWrap bgdWhite cf\">\n",
       "<div class=\"innerContent alignLeft\"><input id=\"ContentPlaceHolder1_BreadCrumbControl1_hdnLanguageSuffix\" name=\"ctl00$ContentPlaceHolder1$BreadCrumbControl1$hdnLanguageSuffix\" type=\"hidden\"/>\n",
       "<ul class=\"breadcrumb\">\n",
       "<li>\n",
       "<span id=\"ContentPlaceHolder1_BreadCrumbControl1_SiteMapPath1\"><span>\n",
       "<a href=\"/index.htm\" title=\"Home\">\n",
       "                    Home</a>\n",
       "</span><span> › </span><span>\n",
       "<span class=\"currentPage\" id=\"ContentPlaceHolder1_BreadCrumbControl1_SiteMapPath1_txtlabel_1\">Former Presidents</span></span></span>\n",
       "</li>\n",
       "</ul>\n",
       "<h2>Former Presidents</h2>\n",
       "<ul class=\"listing cf\">\n",
       "<li><img alt=\"Shri Ram Nath Kovind\" class=\"alignLeft\" src=\"Images/rnk.jpg\" title=\"Shri Ram Nath Kovind\"/>\n",
       "<div class=\"presidentListing\">\n",
       "<h3>Shri Ram Nath Kovind (birth - 1945)</h3>\n",
       "<p><span class=\"terms\">Term of Office:</span> 25 July, 2017 to 25 July, 2022 </p>\n",
       "<p><a href=\"https://ramnathkovind.nic.in\" target=\"_blank\">https://ramnathkovind.nic.in</a></p>\n",
       "</div>\n",
       "</li><li><img alt=\"Shri Pranab Mukherjee\" class=\"alignLeft\" src=\"Images/pranab.jpg\" title=\"Shri Pranab Mukherjee\"/>\n",
       "<div class=\"presidentListing\">\n",
       "<h3>Shri Pranab Mukherjee (1935-2020)</h3>\n",
       "<p><span class=\"terms\">Term of Office:</span> 25 July, 2012 to 25 July, 2017 </p>\n",
       "<p><a href=\"http://pranabmukherjee.nic.in\" target=\"_blank\">http://pranabmukherjee.nic.in</a></p>\n",
       "</div>\n",
       "</li><li><img alt=\"Smt Pratibha Devisingh Patil\" class=\"alignLeft\" src=\"Images/pratibha-patil.jpg\" title=\"Smt Pratibha Devisingh Patil\"/>\n",
       "<div class=\"presidentListing\">\n",
       "<h3>Smt Pratibha Devisingh Patil (birth - 1934)</h3>\n",
       "<p><span class=\"terms\">Term of Office:</span> 25 July, 2007 to 25 July, 2012 </p>\n",
       "<p><a href=\"http://pratibhapatil.nic.in\" target=\"_blank\">http://pratibhapatil.nic.in</a></p>\n",
       "</div>\n",
       "</li><li><img alt=\"DR. A.P.J. Abdul Kalam\" class=\"alignLeft\" src=\"Images/abdul-kalam.jpg\" title=\"DR. A.P.J. Abdul Kalam\"/>\n",
       "<div class=\"presidentListing\">\n",
       "<h3>DR. A.P.J. Abdul Kalam (1931-2015)</h3>\n",
       "<p><span class=\"terms\">Term of Office:</span> 25 July, 2002 to 25 July, 2007 </p>\n",
       "<p><a href=\"http://abdulkalam.nic.in\" target=\"_blank\">http://abdulkalam.nic.in</a></p>\n",
       "</div>\n",
       "</li><li><img alt=\"Shri K. R. Narayanan\" class=\"alignLeft\" src=\"Images/k-r-narayanan.jpg\" title=\"Shri K. R. Narayanan\"/>\n",
       "<div class=\"presidentListing\">\n",
       "<h3>Shri K. R. Narayanan (1920 - 2005)</h3>\n",
       "<p><span class=\"terms\">Term of Office:</span> 25 July, 1997 to 25 July, 2002 </p>\n",
       "</div>\n",
       "</li><li><img alt=\"Dr Shankar Dayal Sharma\" class=\"alignLeft\" src=\"Images/shankar-dayal-sharma.jpg\" title=\"Dr Shankar Dayal Sharma\"/>\n",
       "<div class=\"presidentListing\">\n",
       "<h3>Dr Shankar Dayal Sharma (1918-1999)</h3>\n",
       "<p><span class=\"terms\">Term of Office:</span> 25 July, 1992 to 25 July, 1997 </p>\n",
       "</div>\n",
       "</li><li><img alt=\"Shri R Venkataraman\" class=\"alignLeft\" src=\"Images/venkataraman.jpg\" title=\"Shri R Venkataraman\"/>\n",
       "<div class=\"presidentListing\">\n",
       "<h3>Shri R Venkataraman (1910-2009)</h3>\n",
       "<p><span class=\"terms\">Term of Office:</span> 25 July, 1987 to 25 July, 1992 </p>\n",
       "</div>\n",
       "</li><li><img alt=\"Giani Zail Singh\" class=\"alignLeft\" src=\"Images/giani-zail-singh.jpg\" title=\"Giani Zail Singh\"/>\n",
       "<div class=\"presidentListing\">\n",
       "<h3>Giani Zail Singh (1916-1994)</h3>\n",
       "<p><span class=\"terms\">Term of Office:</span> 25 July, 1982 to 25 July, 1987 </p>\n",
       "</div>\n",
       "</li><li><img alt=\"Shri Neelam Sanjiva Reddy\" class=\"alignLeft\" src=\"Images/neelam-sanjiva-reddy.jpg\" title=\"Shri Neelam Sanjiva Reddy\"/>\n",
       "<div class=\"presidentListing\">\n",
       "<h3>Shri Neelam Sanjiva Reddy (1913-1996)</h3>\n",
       "<p><span class=\"terms\">Term of Office:</span> 25 July, 1977 to 25 July, 1982 </p>\n",
       "</div>\n",
       "</li><li><img alt=\"Dr. Fakhruddin Ali Ahmed\" class=\"alignLeft\" src=\"Images/fakhruddin-ali-ahmed.jpg\" title=\"Dr. Fakhruddin Ali Ahmed\"/>\n",
       "<div class=\"presidentListing\">\n",
       "<h3>Dr. Fakhruddin Ali Ahmed (1905-1977)</h3>\n",
       "<p><span class=\"terms\">Term of Office:</span> 24 August, 1974 to 11 February, 1977</p>\n",
       "</div>\n",
       "</li><li><img alt=\"Shri Varahagiri Venkata Giri\" class=\"alignLeft\" src=\"Images/varahagiri-venkata-giri.jpg\" title=\"Shri Varahagiri Venkata Giri\"/>\n",
       "<div class=\"presidentListing\">\n",
       "<h3>Shri Varahagiri Venkata Giri (1894-1980)</h3>\n",
       "<p><span class=\"terms\">Term of Office:</span> 3 May, 1969 to 20 July, 1969 and 24 August, 1969 to 24 August, 1974</p>\n",
       "</div>\n",
       "</li><li><img alt=\"Dr. Zakir Husain\" class=\"alignLeft\" src=\"Images/zakir-hussion.jpg\" title=\"Dr. Zakir Husain\"/>\n",
       "<div class=\"presidentListing\">\n",
       "<h3>Dr. Zakir Husain (1897-1969)</h3>\n",
       "<p><span class=\"terms\">Term of Office:</span> 13 May, 1967 to 3 May, 1969</p>\n",
       "</div>\n",
       "</li><li><img alt=\"Dr. Sarvepalli Radhakrishnan\" class=\"alignLeft\" src=\"Images/sarvepalli-radhakrishnan.jpg\" title=\"Dr. Sarvepalli Radhakrishnan\"/>\n",
       "<div class=\"presidentListing\">\n",
       "<h3>Dr. Sarvepalli Radhakrishnan (1888-1975)</h3>\n",
       "<p><span class=\"terms\">Term of Office:</span> 13 May, 1962 to 13 May, 1967</p>\n",
       "</div>\n",
       "</li><li class=\"bordNone\"><img alt=\"Dr. Rajendra Prasad\" class=\"alignLeft\" src=\"Images/rajendra-prasad.jpg\" title=\"Dr. Rajendra Prasad\"/>\n",
       "<div class=\"presidentListing\">\n",
       "<h3>Dr. Rajendra Prasad (1884-1963) </h3>\n",
       "<p><span class=\"terms\">Term of Office:</span> 26 January, 1950 to 13 May, 1962</p>\n",
       "</div>\n",
       "</li></ul>\n",
       "</div>\n",
       "<div class=\"innerSidebar alignRight\">\n",
       "<ul class=\"sitemap cf\">\n",
       "<li><a class=\"menuFirstNode menuParent\" href=\"/index.htm\" target=\"_self\" title=\"Home\">Home</a></li><li><a class=\"menuFirstNode menuParent\" href=\"/press-release.htm\" target=\"_self\" title=\"Press Releases\">Press Releases</a></li><li><a class=\"menuFirstNode menuParent\" href=\"speeches.htm\" target=\"_self\" title=\"Speeches\">Speeches</a></li><li><a class=\"menuFirstNode menuParent\" href=\"photo-gallery.htm\" target=\"_self\" title=\"Gallery\">Gallery</a><ul><li><a class=\"menuFirstNode\" href=\"/photo-gallery.htm\" target=\"_self\" title=\"Photo Gallery\">Photo Gallery</a></li><li><a class=\"menuFirstNode\" href=\"/video-gallery.htm\" target=\"_self\" title=\"Video Gallery\">Video Gallery</a></li></ul></li><li><a class=\"menuFirstNode menuParent\" href=\"/rashtrapati-bhavan.htm\" target=\"_self\" title=\"Rashtrapati Bhavan\">Rashtrapati Bhavan</a><ul><li><a class=\"menuFirstNode\" href=\"/panoramic-view.htm\" target=\"_self\" title=\"Panoramic View\">Panoramic View</a></li><li><a class=\"menuFirstNode\" href=\"/presidential-retreats.htm\" target=\"_self\" title=\"Presidential Retreats\">Presidential Retreats</a></li><li><a class=\"menuFirstNode\" href=\"/mughal-gardens.htm\" target=\"_self\" title=\"Mughal Gardens\">Mughal Gardens</a></li><li><a class=\"menuFirstNode\" href=\"/herbal-gardens.htm\" target=\"_self\" title=\"Herbal Gardens\">Herbal Gardens</a></li><li><a class=\"menuFirstNode\" href=\"/visit-to-rashtrapati-bhavan.htm.htm\" target=\"_self\" title=\"Visit to Rashtrapati Bhavan\">Visit to Rashtrapati Bhavan</a></li><li><a class=\"menuFirstNode\" href=\"/virtual-tour-of-rashtrapati-bhavan.htm\" target=\"_self\" title=\"Virtual Tour of Rashtrapati Bhavan\">Virtual Tour of Rashtrapati Bhavan</a></li></ul></li><li><a class=\"menuFirstNode menuParent\" href=\"/former-presidents.htm\" target=\"_self\" title=\"Former Presidents\">Former Presidents</a></li><li><a class=\"menuFirstNode menuParent\" href=\"/profile.htm\" target=\"_self\" title=\"Profile of the President\">Profile of the President</a></li>\n",
       "</ul>\n",
       "</div>\n",
       "</div>\n",
       "</div>\n",
       "<div class=\"padB20 cf\" id=\"footer\">\n",
       "<div class=\"w800 alignLeft\">\n",
       "<p class=\"copyright\">Copyright © 2022 The Rashtrapati Bhavan.</p>\n",
       "<div class=\"footerLinks padB15\"><a href=\"terms-conditions.htm\" title=\"Terms &amp; Conditions\">Terms &amp; Conditions</a><a href=\"privacy-policy.htm\" title=\"Privacy Policy\">Privacy Policy</a><a href=\"copyright-policy.htm\" title=\"Copyright Policy\">Copyright Policy</a><a href=\"hyperlink-policy.htm\" title=\"Hyperlinking Policy\">Hyperlinking\n",
       " Policy</a><a href=\"accessibility-statement.htm\" title=\"Accessibility\">Accessibility</a><a href=\"help.htm\" title=\"Help\">Help</a><a href=\"sitemap.htm\" title=\"Sitemap\">Sitemap</a><a class=\"last\" href=\"\" id=\"subscribePopup\" onclick=\"return SubScribeShowHide('1');\" title=\"Subscribe to Website\">Subscribe\n",
       " to Website</a></div>\n",
       "</div>\n",
       "<div class=\"alignRight\"><a href=\"http://india.gov.in/\" target=\"_blank\"><img alt=\"The National Portal of India - india.gov.in - External website that opens in a new window\" height=\"45\" src=\"Images/india-gov-in.gif\" title=\"The National Portal of India - india.gov.in - External website that opens in a new window\" width=\"126\"/></a><br/>\n",
       "<span id=\"ContentPlaceHolder1_UserHitCounter1_lblHitCount\">Visitors: <strong>72810628</strong></span>\n",
       "</div>\n",
       "<p class=\"lastUpdated\"><span id=\"ContentPlaceHolder1_UserPageLastUpdateDate1_lblPageLastUpdateDate\">Page last updated on: <strong>22-July-2022 15:58 PM</strong></span>\n",
       "</p>\n",
       "<p class=\"govNic\"><a href=\"http://www.nic.in/\" target=\"_blank\"><img alt=\"National Informatics Centre - www.nic.in - External website that opens in a new window\" height=\"28\" src=\"Images/nic-logo.gif\" title=\"National Informatics Centre - www.nic.in - External website that opens in a new window\" width=\"28\"/></a>\n",
       " Website hosted by National Informatics Centre. Website Content provided by the President's Secretariat.</p>\n",
       "</div>\n",
       "</div>\n",
       "</div>\n",
       "<script type=\"text/javascript\">\n",
       "    //<![CDATA[\n",
       "\n",
       "    function SubScribeShowHide(obj) {\n",
       "        if (document.getElementById(\"DivSubScribe\") != null) {\n",
       "            if (obj == '1') {\n",
       "                document.getElementById(\"DivSubScribe\").style.display = 'block';\n",
       "                document.getElementById('divfade').style.display = 'block';\n",
       "                document.getElementById('ContentPlaceHolder1_SubScribe1_hdnIspopupOpen').value = '1';\n",
       "            }\n",
       "            else {\n",
       "                document.getElementById(\"DivSubScribe\").style.display = 'none';\n",
       "                document.getElementById('divfade').style.display = 'none';\n",
       "                document.getElementById('ContentPlaceHolder1_SubScribe1_hdnIspopupOpen').value = '0';\n",
       "            }\n",
       "            clearcontrol();\n",
       "        }\n",
       "        return false;\n",
       "    }\n",
       "\n",
       "    function clearcontrol() {\n",
       "        document.getElementById('ContentPlaceHolder1_SubScribe1_ltrlMsg').innerHTML = '';\n",
       "        document.getElementById('ContentPlaceHolder1_SubScribe1_txtSubScribeName').value = '';\n",
       "        document.getElementById('ContentPlaceHolder1_SubScribe1_txtSubScribeEmail').value = '';\n",
       "        document.getElementById('ContentPlaceHolder1_SubScribe1_txtMobileNumber').value = '';\n",
       "        document.getElementById('ContentPlaceHolder1_SubScribe1_txtVerifiCationCode_Subscribe').value = '';\n",
       "        document.getElementById('ContentPlaceHolder1_SubScribe1_ddlCountry_subscribe').value = '-1';\n",
       "\n",
       "\n",
       "        document.getElementById('ContentPlaceHolder1_SubScribe1_chkSpeech').checked = false;\n",
       "        document.getElementById('ContentPlaceHolder1_SubScribe1_chkPressRelease').checked = false;\n",
       "        document.getElementById('ContentPlaceHolder1_SubScribe1_chkPhotoGallery').checked = false;\n",
       "        document.getElementById('ContentPlaceHolder1_SubScribe1_chkVideoGallery').checked = false;\n",
       "\n",
       "        // var elm = document.getElementById(\"<=chkSubScribetype.ClientID %>\");\n",
       "        //var checkBoxes = elm.getElementsByTagName(\"input\");\n",
       "        //        for (var i = 0; i < checkBoxes.length; i++) {\n",
       "        //            checkBoxes[i].checked = false;\n",
       "        //        }\n",
       "\n",
       "        document.getElementById('ContentPlaceHolder1_SubScribe1_txtOTP_SubScribe').value = '';\n",
       "        document.getElementById('ContentPlaceHolder1_SubScribe1_ulSubScribeForm').style.display = '';\n",
       "        document.getElementById('ContentPlaceHolder1_SubScribe1_ulOTP').style.display = 'none';\n",
       "\n",
       "        //ulOTP,ulSubScribeForm\n",
       "    }\n",
       "\n",
       "    function subscribe_validation() {\n",
       "\n",
       "        var ltrlMsg = document.getElementById('ContentPlaceHolder1_SubScribe1_ltrlMsg');\n",
       "\n",
       "        var Msg_SubScribeName = 'Please Enter Name';\n",
       "        var Msg_SubScribeEmail = 'Please Enter Email-Id';\n",
       "        var Msg_MobileNumber = 'Please Enter Mobile Number';\n",
       "        var Msg_Country = 'Please Select Country';\n",
       "        var Msg_Captcha = 'Please Enter  Verification Code';\n",
       "\n",
       "        var inputSubScribeName = myTrim(document.getElementById('ContentPlaceHolder1_SubScribe1_txtSubScribeName').value);\n",
       "        var inputSubScribeEmail = myTrim(document.getElementById('ContentPlaceHolder1_SubScribe1_txtSubScribeEmail').value);\n",
       "        var inputSubScribeMobile = myTrim(document.getElementById('ContentPlaceHolder1_SubScribe1_txtMobileNumber').value);\n",
       "        var inputCaptcha = myTrim(document.getElementById('ContentPlaceHolder1_SubScribe1_txtVerifiCationCode_Subscribe').value);\n",
       "\n",
       "        var ddlCountry_subscribe = document.getElementById('ContentPlaceHolder1_SubScribe1_ddlCountry_subscribe');\n",
       "        var CountryId = parseInt(ddlCountry_subscribe.options[ddlCountry_subscribe.selectedIndex].value);\n",
       "\n",
       "        if (inputSubScribeName == '') {\n",
       "            ltrlMsg.innerHTML = Msg_SubScribeName;\n",
       "            document.getElementById('ContentPlaceHolder1_SubScribe1_txtSubScribeName').focus();\n",
       "            return false;\n",
       "        }\n",
       "        else if (inputSubScribeEmail == '') {\n",
       "            ltrlMsg.innerHTML = Msg_SubScribeEmail;\n",
       "            document.getElementById('ContentPlaceHolder1_SubScribe1_txtSubScribeEmail').focus();\n",
       "            return false;\n",
       "        }\n",
       "        else if (inputSubScribeMobile == '') {\n",
       "            ltrlMsg.innerHTML = Msg_MobileNumber;\n",
       "            document.getElementById('ContentPlaceHolder1_SubScribe1_txtMobileNumber').focus();\n",
       "            return false;\n",
       "        }\n",
       "        else if (CountryId == -1) {\n",
       "            ltrlMsg.innerHTML = Msg_Country;\n",
       "            return false;\n",
       "        }\n",
       "        else if (inputCaptcha == '') {\n",
       "            ltrlMsg.innerHTML = Msg_Captcha;\n",
       "            document.getElementById('ContentPlaceHolder1_SubScribe1_txtVerifiCationCode_Subscribe').focus();\n",
       "            return false;\n",
       "        }\n",
       "\n",
       "        return true;\n",
       "    }\n",
       "\n",
       "    function OTPSubScribe_validation() {\n",
       "\n",
       "        var ltrlMsg = document.getElementById('ContentPlaceHolder1_SubScribe1_ltrlMsg');\n",
       "        var Msg_OTP = 'Please Enter OTP';\n",
       "        var inputOTP = myTrim(document.getElementById('ContentPlaceHolder1_SubScribe1_txtOTP_SubScribe').value);\n",
       "\n",
       "        if (inputOTP == '') {\n",
       "            ltrlMsg.innerHTML = Msg_OTP;\n",
       "            document.getElementById('ContentPlaceHolder1_SubScribe1_txtOTP_SubScribe').focus();\n",
       "            return false;\n",
       "        }\n",
       "\n",
       "        return true;\n",
       "    }\n",
       "    //]]>\n",
       "</script>\n",
       "<noscript class=\"displayNone\">\n",
       "</noscript>\n",
       "<input id=\"ContentPlaceHolder1_SubScribe1_hdnLanguageID\" name=\"ctl00$ContentPlaceHolder1$SubScribe1$hdnLanguageID\" type=\"hidden\" value=\"1\"/>\n",
       "<input id=\"ContentPlaceHolder1_SubScribe1_hdnLanguageSuffix\" name=\"ctl00$ContentPlaceHolder1$SubScribe1$hdnLanguageSuffix\" type=\"hidden\"/>\n",
       "<input id=\"ContentPlaceHolder1_SubScribe1_hdnIspopupOpen\" name=\"ctl00$ContentPlaceHolder1$SubScribe1$hdnIspopupOpen\" type=\"hidden\" value=\"0\"/>\n",
       "<div class=\"overlaySubscribe\" id=\"divfade\">\n",
       "</div>\n",
       "<div class=\"subscribe\" id=\"DivSubScribe\">\n",
       "<input alt=\"Close\" class=\"closePop\" id=\"ContentPlaceHolder1_SubScribe1_imgClose\" name=\"ctl00$ContentPlaceHolder1$SubScribe1$imgClose\" onclick=\"return SubScribeShowHide('0');\" src=\"Images/close-btn.png\" title=\"Close\" type=\"image\"/>\n",
       "<h2>\n",
       "        Subscribe\n",
       "    </h2>\n",
       "<span id=\"ContentPlaceHolder1_SubScribe1_ltrlMsg\"></span>\n",
       "<ul class=\"cf\" id=\"ContentPlaceHolder1_SubScribe1_ulSubScribeForm\">\n",
       "<li>\n",
       "<label for=\"ContentPlaceHolder1_SubScribe1_txtSubScribeName\">\n",
       "                Name\n",
       "                <span class=\"required\">*</span></label>\n",
       "<input class=\"text\" id=\"ContentPlaceHolder1_SubScribe1_txtSubScribeName\" maxlength=\"100\" name=\"ctl00$ContentPlaceHolder1$SubScribe1$txtSubScribeName\" type=\"text\"/>\n",
       "</li>\n",
       "<li>\n",
       "<label for=\"ContentPlaceHolder1_SubScribe1_txtSubScribeEmail\">\n",
       "                Email-Id\n",
       "                <span class=\"required\">*</span></label>\n",
       "<input class=\"text\" id=\"ContentPlaceHolder1_SubScribe1_txtSubScribeEmail\" maxlength=\"50\" name=\"ctl00$ContentPlaceHolder1$SubScribe1$txtSubScribeEmail\" type=\"text\"/>\n",
       "</li>\n",
       "<li>\n",
       "<div class=\"cf\">\n",
       "<label for=\"ContentPlaceHolder1_SubScribe1_txtMobileNumber\">\n",
       "                    Mobile Number\n",
       "                    <span class=\"required\">*</span>\n",
       "</label>\n",
       "<input class=\"text\" id=\"ContentPlaceHolder1_SubScribe1_txtMobileNumber\" maxlength=\"10\" name=\"ctl00$ContentPlaceHolder1$SubScribe1$txtMobileNumber\" type=\"text\"/>\n",
       "</div>\n",
       "<span class=\"digitNo\">\n",
       "                [Note : Enter 10 digit Mobile Number] <br/> [For Ex. 9898464244]\n",
       "            </span></li>\n",
       "<li>\n",
       "<label for=\"ContentPlaceHolder1_SubScribe1_ddlCountry_subscribe\">\n",
       "                Select Country\n",
       "                <span class=\"required\">*</span>\n",
       "</label>\n",
       "<select id=\"ContentPlaceHolder1_SubScribe1_ddlCountry_subscribe\" name=\"ctl00$ContentPlaceHolder1$SubScribe1$ddlCountry_subscribe\">\n",
       "</select>\n",
       "</li>\n",
       "<li>\n",
       "<label for=\"ContentPlaceHolder1_SubScribe1_chkSpeech\">\n",
       "                SubScribe Type\n",
       "                <span class=\"required\">*</span>\n",
       "</label>\n",
       "<div class=\"subscribeType cf\">\n",
       "<label for=\"ContentPlaceHolder1_SubScribe1_chkSpeech\">\n",
       "<input id=\"ContentPlaceHolder1_SubScribe1_chkSpeech\" name=\"ctl00$ContentPlaceHolder1$SubScribe1$chkSpeech\" type=\"checkbox\"/>\n",
       "                    Speech</label>\n",
       "<label for=\"ContentPlaceHolder1_SubScribe1_chkPressRelease\">\n",
       "<input id=\"ContentPlaceHolder1_SubScribe1_chkPressRelease\" name=\"ctl00$ContentPlaceHolder1$SubScribe1$chkPressRelease\" type=\"checkbox\"/>\n",
       "                    Press Release</label>\n",
       "<label for=\"ContentPlaceHolder1_SubScribe1_chkPhotoGallery\">\n",
       "<input id=\"ContentPlaceHolder1_SubScribe1_chkPhotoGallery\" name=\"ctl00$ContentPlaceHolder1$SubScribe1$chkPhotoGallery\" type=\"checkbox\"/>\n",
       "                    Photo Gallery</label>\n",
       "<label for=\"ContentPlaceHolder1_SubScribe1_chkVideoGallery\">\n",
       "<input id=\"ContentPlaceHolder1_SubScribe1_chkVideoGallery\" name=\"ctl00$ContentPlaceHolder1$SubScribe1$chkVideoGallery\" type=\"checkbox\"/>\n",
       "                    Video Gallery</label>\n",
       "</div>\n",
       "</li>\n",
       "<li>\n",
       "<label for=\"ContentPlaceHolder1_SubScribe1_txtVerifiCationCode_Subscribe\">\n",
       "                Verification Code\n",
       "                <span class=\"required\">*</span>\n",
       "</label>\n",
       "<input class=\"text\" id=\"ContentPlaceHolder1_SubScribe1_txtVerifiCationCode_Subscribe\" name=\"ctl00$ContentPlaceHolder1$SubScribe1$txtVerifiCationCode_Subscribe\" type=\"text\"/>\n",
       "</li>\n",
       "<li style=\"padding-left: 140px;\">\n",
       "<label class=\"displayNone\">\n",
       "                Image\n",
       "            </label>\n",
       "<img alt=\"Verification Code\" id=\"ContentPlaceHolder1_SubScribe1_imgCaptcha_Subscribe\" src=\"writereaddata/Portal/Captcha_Image_SubScribe/Random.gif\" style=\"height:27px;width:103px;\" title=\"Verification Code\"/>\n",
       "<input alt=\"Refresh\" id=\"ContentPlaceHolder1_SubScribe1_ibtnCaptchaRefresh_Subscribe\" name=\"ctl00$ContentPlaceHolder1$SubScribe1$ibtnCaptchaRefresh_Subscribe\" src=\"Images/verification-code-refresh.gif\" title=\"Refresh Captcha\" type=\"image\"/>\n",
       "</li>\n",
       "<li class=\"last\">\n",
       "<input id=\"ContentPlaceHolder1_SubScribe1_btnSubmit\" name=\"ctl00$ContentPlaceHolder1$SubScribe1$btnSubmit\" onclick=\"return subscribe_validation();\" title=\"Submit\" type=\"submit\" value=\"Submit\"/>\n",
       "<input class=\"submitBtn\" id=\"ContentPlaceHolder1_SubScribe1_btnCancel\" name=\"ctl00$ContentPlaceHolder1$SubScribe1$btnCancel\" title=\"Reset\" type=\"submit\" value=\"Reset\"/>\n",
       "</li>\n",
       "</ul>\n",
       "<ul class=\"cf\" id=\"ContentPlaceHolder1_SubScribe1_ulOTP\" style=\"display: none;\">\n",
       "<li>\n",
       "<label for=\"ContentPlaceHolder1_SubScribe1_txtOTP_SubScribe\">\n",
       "                Enter OTP\n",
       "                <span class=\"required\">*</span></label>\n",
       "<input class=\"text\" id=\"ContentPlaceHolder1_SubScribe1_txtOTP_SubScribe\" maxlength=\"10\" name=\"ctl00$ContentPlaceHolder1$SubScribe1$txtOTP_SubScribe\" type=\"text\"/>\n",
       "</li>\n",
       "<li class=\"last\">\n",
       "<input id=\"ContentPlaceHolder1_SubScribe1_btnOTPSubmit_SubScribe\" name=\"ctl00$ContentPlaceHolder1$SubScribe1$btnOTPSubmit_SubScribe\" onclick=\"return OTPSubScribe_validation();\" title=\"Submit\" type=\"submit\" value=\"Submit\"/>\n",
       "<input class=\"submitBtn\" id=\"ContentPlaceHolder1_SubScribe1_btnOTPCancel_Subscribe\" name=\"ctl00$ContentPlaceHolder1$SubScribe1$btnOTPCancel_Subscribe\" title=\"Cancel\" type=\"submit\" value=\"Cancel\"/>\n",
       "</li>\n",
       "</ul>\n",
       "</div>\n",
       "<script type=\"text/javascript\">\n",
       "\n",
       "    var txtVerifiCationCode_Subscribe = document.getElementById('ContentPlaceHolder1_SubScribe1_txtVerifiCationCode_Subscribe');\n",
       "    if (txtVerifiCationCode_Subscribe != null) {\n",
       "        txtVerifiCationCode_Subscribe.autocomplete = 'off';\n",
       "    }\n",
       "\n",
       "</script>\n",
       "<noscript class=\"displayNone\">\n",
       "</noscript>\n",
       "</div>\n",
       "<a accesskey=\"3\" href=\"#wrapper\" id=\"backToTop\" title=\"Go to Navigation\">Go to Navigation</a>\n",
       "<script type=\"text/javascript\">\n",
       "//<![CDATA[\n",
       "var theForm = document.forms['form1'];\n",
       "if (!theForm) {\n",
       "    theForm = document.form1;\n",
       "}\n",
       "function __doPostBack(eventTarget, eventArgument) {\n",
       "    if (!theForm.onsubmit || (theForm.onsubmit() != false)) {\n",
       "        theForm.__EVENTTARGET.value = eventTarget;\n",
       "        theForm.__EVENTARGUMENT.value = eventArgument;\n",
       "        theForm.submit();\n",
       "    }\n",
       "}\n",
       "//]]>\n",
       "</script><noscript class=\"displayNone\"> This website uses Javascript </noscript>\n",
       "<script src=\"/WebResource.axd?d=ClADoJHxJ6DojNKv6thdFkttJZFjj6vdHImabsUp8zUQDJnkVZiM8pbi_Sbc4juj9NndNDdKDErTI4sooGtq150unpPHOnGyhpLUrNSB_YQ1&amp;t=637811929220000000\" type=\"text/javascript\"></script><noscript class=\"displayNone\"> This website uses Javascript </noscript>\n",
       "</form>\n",
       "<!-- Start Image Flow -->\n",
       "<script src=\"js/contentflow.js\" type=\"text/javascript\"></script>\n",
       "<noscript class=\"displayNone\">\n",
       "</noscript>\n",
       "<!-- Start Google Map -->\n",
       "<script src=\"https://maps.googleapis.com/maps/api/js?sensor=false&amp;region=IN\" type=\"text/javascript\"></script>\n",
       "<noscript class=\"displayNone\">\n",
       "</noscript>\n",
       "<script src=\"js/gmap3.min.js\" type=\"text/javascript\"></script>\n",
       "<noscript class=\"displayNone\">\n",
       "</noscript>\n",
       "<script src=\"js/jquery.panorama_viewer.js\" type=\"text/javascript\"></script>\n",
       "<!-- Start Functions -->\n",
       "<script src=\"js/functions.js\" type=\"text/javascript\"></script>\n",
       "<noscript class=\"displayNone\">\n",
       "</noscript>\n",
       "<!--<script src=\"Javascript/jquery.prettyPhoto.js\" type=\"text/javascript\"></script><noscript class=\"displayNone\"></noscript>-->\n",
       "<script language=\"javascript\" type=\"text/javascript\">\n",
       "        function validate() {\n",
       "            return false;\n",
       "        }    \n",
       "    </script>\n",
       "<noscript class=\"displayNone\">\n",
       "</noscript>\n",
       "<!--[if IE 7]>\n",
       "<script type=\"text/javascript\">\n",
       "  $.fn.uniform = function() { }\n",
       "</script><noscript class=\"displayNone\"></noscript>\n",
       "<![endif]-->\n",
       "<!-- Start Social Media -->\n",
       "<!--<script src=\"http://s7.addthis.com/js/250/addthis_widget.js#async=1\" type=\"text/javascript\"></script>\n",
       "<noscript class=\"displayNone\"></noscript>-->\n",
       "<!-- Start General Script -->\n",
       "<script src=\"js/general.js\" type=\"text/javascript\"></script>\n",
       "<noscript class=\"displayNone\">\n",
       "</noscript>\n",
       "</body>\n",
       "</html>"
      ]
     },
     "execution_count": 3,
     "metadata": {},
     "output_type": "execute_result"
    }
   ],
   "source": [
    "presedent_soup=BeautifulSoup(requests.get('https://presidentofindia.nic.in/former-presidents.htm').content,\"html.parser\")\n",
    "presedent_soup"
   ]
  },
  {
   "cell_type": "code",
   "execution_count": 4,
   "id": "9625547a",
   "metadata": {},
   "outputs": [
    {
     "data": {
      "text/plain": [
       "<div class=\"presidentListing\">\n",
       "<h3>Shri Ram Nath Kovind (birth - 1945)</h3>\n",
       "<p><span class=\"terms\">Term of Office:</span> 25 July, 2017 to 25 July, 2022 </p>\n",
       "<p><a href=\"https://ramnathkovind.nic.in\" target=\"_blank\">https://ramnathkovind.nic.in</a></p>\n",
       "</div>"
      ]
     },
     "execution_count": 4,
     "metadata": {},
     "output_type": "execute_result"
    }
   ],
   "source": [
    "first=presedent_soup.find('div',class_=\"presidentListing\")\n",
    "first"
   ]
  },
  {
   "cell_type": "code",
   "execution_count": 5,
   "id": "c7176feb",
   "metadata": {},
   "outputs": [
    {
     "data": {
      "text/plain": [
       "'\\nShri Ram Nath Kovind (birth - 1945)\\nTerm of Office: 25 July, 2017 to 25 July, 2022 \\nhttps://ramnathkovind.nic.in\\n'"
      ]
     },
     "execution_count": 5,
     "metadata": {},
     "output_type": "execute_result"
    }
   ],
   "source": [
    "first.text"
   ]
  },
  {
   "cell_type": "code",
   "execution_count": 8,
   "id": "964acdf8",
   "metadata": {},
   "outputs": [
    {
     "data": {
      "text/plain": [
       "<span class=\"terms\">Term of Office:</span>"
      ]
     },
     "execution_count": 8,
     "metadata": {},
     "output_type": "execute_result"
    }
   ],
   "source": [
    "term=presedent_soup.find('span',class_=\"terms\")\n",
    "term"
   ]
  },
  {
   "cell_type": "code",
   "execution_count": 9,
   "id": "ba7e6022",
   "metadata": {},
   "outputs": [
    {
     "data": {
      "text/plain": [
       "'Term of Office:'"
      ]
     },
     "execution_count": 9,
     "metadata": {},
     "output_type": "execute_result"
    }
   ],
   "source": [
    "term.text"
   ]
  },
  {
   "cell_type": "code",
   "execution_count": 12,
   "id": "f9dcb377",
   "metadata": {},
   "outputs": [
    {
     "data": {
      "text/plain": [
       "['\\nShri Ram Nath Kovind (birth - 1945)\\nTerm of Office: 25 July, 2017 to 25 July, 2022 \\nhttps://ramnathkovind.nic.in\\n',\n",
       " '\\nShri Pranab Mukherjee (1935-2020)\\nTerm of Office: 25 July, 2012 to 25 July, 2017 \\nhttp://pranabmukherjee.nic.in\\n',\n",
       " '\\nSmt Pratibha Devisingh Patil (birth - 1934)\\nTerm of Office: 25 July, 2007 to 25 July, 2012 \\nhttp://pratibhapatil.nic.in\\n',\n",
       " '\\nDR. A.P.J. Abdul Kalam (1931-2015)\\nTerm of Office: 25 July, 2002 to 25 July, 2007 \\nhttp://abdulkalam.nic.in\\n',\n",
       " '\\nShri K. R. Narayanan (1920 - 2005)\\nTerm of Office: 25 July, 1997 to 25 July, 2002 \\n',\n",
       " '\\nDr Shankar Dayal Sharma (1918-1999)\\nTerm of Office: 25 July, 1992 to 25 July, 1997 \\n',\n",
       " '\\nShri R Venkataraman (1910-2009)\\nTerm of Office: 25 July, 1987 to 25 July, 1992 \\n',\n",
       " '\\nGiani Zail Singh (1916-1994)\\nTerm of Office: 25 July, 1982 to 25 July, 1987 \\n',\n",
       " '\\nShri Neelam Sanjiva Reddy (1913-1996)\\nTerm of Office: 25 July, 1977 to 25 July, 1982 \\n',\n",
       " '\\nDr. Fakhruddin Ali Ahmed (1905-1977)\\nTerm of Office: 24 August, 1974 to 11 February, 1977\\n',\n",
       " '\\nShri Varahagiri Venkata Giri (1894-1980)\\nTerm of Office: 3 May, 1969 to 20 July, 1969 and 24 August, 1969 to 24 August, 1974\\n',\n",
       " '\\nDr. Zakir Husain (1897-1969)\\nTerm of Office: 13 May, 1967 to 3 May, 1969\\n',\n",
       " '\\nDr. Sarvepalli Radhakrishnan (1888-1975)\\nTerm of Office: 13 May, 1962 to 13 May, 1967\\n',\n",
       " '\\nDr. Rajendra Prasad (1884-1963) \\nTerm of Office: 26 January, 1950 to 13 May, 1962\\n']"
      ]
     },
     "execution_count": 12,
     "metadata": {},
     "output_type": "execute_result"
    }
   ],
   "source": [
    "Name=[]\n",
    "for i in presedent_soup.find_all('div',class_=\"presidentListing\"):\n",
    "    Name.append(i.text)\n",
    "Name    "
   ]
  },
  {
   "cell_type": "code",
   "execution_count": 14,
   "id": "938f2b1b",
   "metadata": {},
   "outputs": [
    {
     "data": {
      "text/plain": [
       "['Term of Office:',\n",
       " 'Term of Office:',\n",
       " 'Term of Office:',\n",
       " 'Term of Office:',\n",
       " 'Term of Office:',\n",
       " 'Term of Office:',\n",
       " 'Term of Office:',\n",
       " 'Term of Office:',\n",
       " 'Term of Office:',\n",
       " 'Term of Office:',\n",
       " 'Term of Office:',\n",
       " 'Term of Office:',\n",
       " 'Term of Office:',\n",
       " 'Term of Office:']"
      ]
     },
     "execution_count": 14,
     "metadata": {},
     "output_type": "execute_result"
    }
   ],
   "source": [
    "Term_of_office=[]\n",
    "for i in presedent_soup.find_all('span',class_=\"terms\"):\n",
    "    Term_of_office.append(i.text)\n",
    "Term_of_office    "
   ]
  },
  {
   "cell_type": "code",
   "execution_count": 15,
   "id": "84afcaf6",
   "metadata": {},
   "outputs": [
    {
     "name": "stdout",
     "output_type": "stream",
     "text": [
      "14 14\n"
     ]
    }
   ],
   "source": [
    "print(len(Name),len(Term_of_office))"
   ]
  },
  {
   "cell_type": "code",
   "execution_count": 21,
   "id": "63755df3",
   "metadata": {},
   "outputs": [
    {
     "ename": "AttributeError",
     "evalue": "partially initialized module 'pandas' has no attribute 'core' (most likely due to a circular import)",
     "output_type": "error",
     "traceback": [
      "\u001b[1;31m---------------------------------------------------------------------------\u001b[0m",
      "\u001b[1;31mAttributeError\u001b[0m                            Traceback (most recent call last)",
      "\u001b[1;32m~\\AppData\\Local\\Temp/ipykernel_3908/2176623139.py\u001b[0m in \u001b[0;36m<module>\u001b[1;34m\u001b[0m\n\u001b[1;32m----> 1\u001b[1;33m \u001b[1;32mimport\u001b[0m \u001b[0mpandas\u001b[0m \u001b[1;32mas\u001b[0m \u001b[0mpd\u001b[0m\u001b[1;33m\u001b[0m\u001b[1;33m\u001b[0m\u001b[0m\n\u001b[0m\u001b[0;32m      2\u001b[0m \u001b[0mdf\u001b[0m\u001b[1;33m=\u001b[0m\u001b[0mpd\u001b[0m\u001b[1;33m.\u001b[0m\u001b[0mDataFrame\u001b[0m\u001b[1;33m(\u001b[0m\u001b[1;33m{\u001b[0m\u001b[1;34m'Name of Presidents'\u001b[0m\u001b[1;33m:\u001b[0m\u001b[0mName\u001b[0m\u001b[1;33m,\u001b[0m\u001b[1;34m'Term of year'\u001b[0m\u001b[1;33m:\u001b[0m\u001b[0mTerm_of_year\u001b[0m\u001b[1;33m}\u001b[0m\u001b[1;33m)\u001b[0m\u001b[1;33m\u001b[0m\u001b[1;33m\u001b[0m\u001b[0m\n\u001b[0;32m      3\u001b[0m \u001b[0mdf\u001b[0m\u001b[1;33m\u001b[0m\u001b[1;33m\u001b[0m\u001b[0m\n",
      "\u001b[1;32m~\\anaconda3\\lib\\site-packages\\pandas\\__init__.py\u001b[0m in \u001b[0;36m<module>\u001b[1;34m\u001b[0m\n\u001b[0;32m    177\u001b[0m \u001b[1;33m\u001b[0m\u001b[0m\n\u001b[0;32m    178\u001b[0m \u001b[1;32mfrom\u001b[0m \u001b[0mpandas\u001b[0m\u001b[1;33m.\u001b[0m\u001b[0mutil\u001b[0m\u001b[1;33m.\u001b[0m\u001b[0m_tester\u001b[0m \u001b[1;32mimport\u001b[0m \u001b[0mtest\u001b[0m\u001b[1;33m\u001b[0m\u001b[1;33m\u001b[0m\u001b[0m\n\u001b[1;32m--> 179\u001b[1;33m \u001b[1;32mimport\u001b[0m \u001b[0mpandas\u001b[0m\u001b[1;33m.\u001b[0m\u001b[0mtesting\u001b[0m\u001b[1;33m\u001b[0m\u001b[1;33m\u001b[0m\u001b[0m\n\u001b[0m\u001b[0;32m    180\u001b[0m \u001b[1;32mimport\u001b[0m \u001b[0mpandas\u001b[0m\u001b[1;33m.\u001b[0m\u001b[0marrays\u001b[0m\u001b[1;33m\u001b[0m\u001b[1;33m\u001b[0m\u001b[0m\n\u001b[0;32m    181\u001b[0m \u001b[1;33m\u001b[0m\u001b[0m\n",
      "\u001b[1;32m~\\anaconda3\\lib\\site-packages\\pandas\\testing.py\u001b[0m in \u001b[0;36m<module>\u001b[1;34m\u001b[0m\n\u001b[0;32m      4\u001b[0m \u001b[1;33m\u001b[0m\u001b[0m\n\u001b[0;32m      5\u001b[0m \u001b[1;33m\u001b[0m\u001b[0m\n\u001b[1;32m----> 6\u001b[1;33m from pandas._testing import (\n\u001b[0m\u001b[0;32m      7\u001b[0m     \u001b[0massert_extension_array_equal\u001b[0m\u001b[1;33m,\u001b[0m\u001b[1;33m\u001b[0m\u001b[1;33m\u001b[0m\u001b[0m\n\u001b[0;32m      8\u001b[0m     \u001b[0massert_frame_equal\u001b[0m\u001b[1;33m,\u001b[0m\u001b[1;33m\u001b[0m\u001b[1;33m\u001b[0m\u001b[0m\n",
      "\u001b[1;32m~\\anaconda3\\lib\\site-packages\\pandas\\_testing\\__init__.py\u001b[0m in \u001b[0;36m<module>\u001b[1;34m\u001b[0m\n\u001b[0;32m    946\u001b[0m \u001b[1;33m\u001b[0m\u001b[0m\n\u001b[0;32m    947\u001b[0m \u001b[1;33m\u001b[0m\u001b[0m\n\u001b[1;32m--> 948\u001b[1;33m \u001b[0mcython_table\u001b[0m \u001b[1;33m=\u001b[0m \u001b[0mpd\u001b[0m\u001b[1;33m.\u001b[0m\u001b[0mcore\u001b[0m\u001b[1;33m.\u001b[0m\u001b[0mcommon\u001b[0m\u001b[1;33m.\u001b[0m\u001b[0m_cython_table\u001b[0m\u001b[1;33m.\u001b[0m\u001b[0mitems\u001b[0m\u001b[1;33m(\u001b[0m\u001b[1;33m)\u001b[0m\u001b[1;33m\u001b[0m\u001b[1;33m\u001b[0m\u001b[0m\n\u001b[0m\u001b[0;32m    949\u001b[0m \u001b[1;33m\u001b[0m\u001b[0m\n\u001b[0;32m    950\u001b[0m \u001b[1;33m\u001b[0m\u001b[0m\n",
      "\u001b[1;31mAttributeError\u001b[0m: partially initialized module 'pandas' has no attribute 'core' (most likely due to a circular import)"
     ]
    }
   ],
   "source": [
    "import pandas as pd\n",
    "df=pd.DataFrame({'Name of Presidents':Name,'Term of year':Term_of_year})\n",
    "df"
   ]
  },
  {
   "cell_type": "markdown",
   "id": "19da6b18",
   "metadata": {},
   "source": [
    "MOST DOWNLOADED ARTICLES FROM AI IN LAST 90 DAYS"
   ]
  },
  {
   "cell_type": "code",
   "execution_count": 26,
   "id": "ee5df18f",
   "metadata": {},
   "outputs": [
    {
     "data": {
      "text/plain": [
       "<!DOCTYPE html>\n",
       "<html><head><link as=\"font\" crossorigin=\"\" href=\"/fonts/NexusSansWebPro-Regular.woff2\" rel=\"preload\" type=\"font/woff2\"/><link as=\"font\" crossorigin=\"\" href=\"/fonts/ElsevierGulliver-Regular.woff2\" rel=\"preload\" type=\"font/woff2\"/><script src=\"//assets.adobedtm.com/4a848ae9611a/4da1513b0562/launch-a536f9fbceee.min.js\"></script><meta name=\"next-font-preconnect\"/><meta content=\"width=device-width\" name=\"viewport\"/><meta charset=\"utf-8\"/><meta content=\"en_US\" name=\"og:locale\"/><meta content=\"Most Downloaded Articles - Artificial Intelligence - Journal - Elsevier\" property=\"og:title\"/><meta content=\"The journal of Artificial Intelligence (AIJ)  welcomes papers on broad aspects of AI that constitute advances in the overall field including, but not limited …\" property=\"og:description\"/><meta content=\"http://ars.els-cdn.com/content/image/X00043702.jpg\" name=\"og:image\" property=\"og:image\"/><meta content=\"http://ars.els-cdn.com/content/image/X00043702.jpg\" name=\"og:image:url\" property=\"og:image:url\"/><meta content=\"https://ars.els-cdn.com/content/image/X00043702.jpg\" name=\"og:image:secure_url\" property=\"og:image:secure_url\"/><meta content=\"journals.elsevier.com/artificial-intelligence/most-downloaded-articles\" name=\"og:url\"/><meta content=\"website\" property=\"og:type\"/><link href=\"/apple-touch-icon.png\" rel=\"apple-touch-icon\" sizes=\"180x180\"/><link href=\"/favicon-32x32.png\" rel=\"icon\" sizes=\"32x32\" type=\"image/png\"/><link href=\"/favicon-16x16.png\" rel=\"icon\" sizes=\"16x16\" type=\"image/png\"/><link color=\"#ff6c00\" href=\"/safari-pinned-tab.svg\" rel=\"mask-icon\"/><title>Most Downloaded Articles - Artificial Intelligence - Journal - Elsevier</title><meta content=\"The journal of Artificial Intelligence (AIJ)  welcomes papers on broad aspects of AI that constitute advances in the overall field including, but not limited …\" name=\"description\"/><meta content=\"Most Downloaded Articles - Artificial Intelligence - Journal - Elsevier\" name=\"twitter:title\"/><meta content=\"The journal of Artificial Intelligence (AIJ)  welcomes papers on broad aspects of AI that constitute advances in the overall field including, but not limited …\" name=\"twitter:description\"/><meta content=\"http://ars.els-cdn.com/content/image/X00043702.jpg\" name=\"twitter:image\"/><meta content=\"summary\" name=\"twitter:card\"/><script type=\"application/ld+json\">{&quot;@context&quot;:&quot;https://schema.org&quot;,&quot;@type&quot;:&quot;Periodical&quot;,&quot;issn&quot;:&quot;0004-3702&quot;,&quot;name&quot;:&quot;Artificial Intelligence&quot;,&quot;publisher&quot;:&quot;Elsevier&quot;,&quot;acquireLicensePage&quot;:&quot;https://www.elsevier.com/journals/artificial-intelligence/0004-3702/subscribe?subscriptiontype=institutional&quot;}</script><link as=\"image\" imagesizes=\"100vw\" imagesrcset=\"/_next/image?url=%2Fimages%2Flogos%2Felsevier-graphic.svg&amp;w=640&amp;q=75 640w, /_next/image?url=%2Fimages%2Flogos%2Felsevier-graphic.svg&amp;w=750&amp;q=75 750w, /_next/image?url=%2Fimages%2Flogos%2Felsevier-graphic.svg&amp;w=828&amp;q=75 828w, /_next/image?url=%2Fimages%2Flogos%2Felsevier-graphic.svg&amp;w=1080&amp;q=75 1080w, /_next/image?url=%2Fimages%2Flogos%2Felsevier-graphic.svg&amp;w=1200&amp;q=75 1200w, /_next/image?url=%2Fimages%2Flogos%2Felsevier-graphic.svg&amp;w=1920&amp;q=75 1920w, /_next/image?url=%2Fimages%2Flogos%2Felsevier-graphic.svg&amp;w=2048&amp;q=75 2048w, /_next/image?url=%2Fimages%2Flogos%2Felsevier-graphic.svg&amp;w=3840&amp;q=75 3840w\" rel=\"preload\"/><link as=\"image\" imagesizes=\"100vw\" imagesrcset=\"/_next/image?url=%2Fimages%2Flogos%2Felsevier-wordmark.svg&amp;w=640&amp;q=75 640w, /_next/image?url=%2Fimages%2Flogos%2Felsevier-wordmark.svg&amp;w=750&amp;q=75 750w, /_next/image?url=%2Fimages%2Flogos%2Felsevier-wordmark.svg&amp;w=828&amp;q=75 828w, /_next/image?url=%2Fimages%2Flogos%2Felsevier-wordmark.svg&amp;w=1080&amp;q=75 1080w, /_next/image?url=%2Fimages%2Flogos%2Felsevier-wordmark.svg&amp;w=1200&amp;q=75 1200w, /_next/image?url=%2Fimages%2Flogos%2Felsevier-wordmark.svg&amp;w=1920&amp;q=75 1920w, /_next/image?url=%2Fimages%2Flogos%2Felsevier-wordmark.svg&amp;w=2048&amp;q=75 2048w, /_next/image?url=%2Fimages%2Flogos%2Felsevier-wordmark.svg&amp;w=3840&amp;q=75 3840w\" rel=\"preload\"/><meta content=\"23\" name=\"next-head-count\"/><link as=\"style\" href=\"/_next/static/css/799ef0e311a90fb2.css\" rel=\"preload\"/><link data-n-g=\"\" href=\"/_next/static/css/799ef0e311a90fb2.css\" rel=\"stylesheet\"/><noscript data-n-css=\"\"></noscript><script defer=\"\" nomodule=\"\" src=\"/_next/static/chunks/polyfills-5cd94c89d3acac5f.js\"></script><script data-nscript=\"beforeInteractive\" defer=\"\" src=\"https://polyfill.io/v3/polyfill.min.js?features=Element.prototype.getAttributeNames%2CIntl%2CString.prototype.normalize%2CscrollIntoView%2CIntersectionObserver\"></script><script data-nscript=\"beforeInteractive\" defer=\"\" nomodule=\"\" src=\"/browser-support.js\"></script><script defer=\"\" src=\"/_next/static/chunks/webpack-767db1712701ecaf.js\"></script><script defer=\"\" src=\"/_next/static/chunks/framework-00571d6fb73aeead.js\"></script><script defer=\"\" src=\"/_next/static/chunks/main-137dd9138f856d72.js\"></script><script defer=\"\" src=\"/_next/static/chunks/pages/_app-dfd8e26c3ffcb2c3.js\"></script><script defer=\"\" src=\"/_next/static/chunks/2757-aebf18c54c71a56a.js\"></script><script defer=\"\" src=\"/_next/static/chunks/149-df8fa8fee2508c1c.js\"></script><script defer=\"\" src=\"/_next/static/chunks/3560-6337715d6f2b9797.js\"></script><script defer=\"\" src=\"/_next/static/chunks/84-0b0c41c92f1ebbf5.js\"></script><script defer=\"\" src=\"/_next/static/chunks/pages/%5Bslug%5D/most-downloaded-articles-cb156fba99868abb.js\"></script><script defer=\"\" src=\"/_next/static/mbXMhIviQKGV9qg2GtRCw/_buildManifest.js\"></script><script defer=\"\" src=\"/_next/static/mbXMhIviQKGV9qg2GtRCw/_ssgManifest.js\"></script><script defer=\"\" src=\"/_next/static/mbXMhIviQKGV9qg2GtRCw/_middlewareManifest.js\"></script><style data-styled=\"\" data-styled-version=\"5.3.3\">.cFSZAH{margin-top:0.25rem;}/*!sc*/\n",
       ".cFSZAH a{color:#737373;}/*!sc*/\n",
       ".cFSZAH a::after{margin:0 0.25rem;content:url('data:image/svg+xml;charset=utf-8,<svg width=\"12\" height=\"12\" xmlns=\"http://www.w3.org/2000/svg\" viewBox=\"0 0 9 15\"><path d=\"M.156 13.469L6.094 7.53.156 1.594 1.25.5l7.031 7.031-7.031 7.032z\" fill=\"grey\" fill-rule=\"nonzero\" /></svg>');}/*!sc*/\n",
       ".cFSZAH ol{display:block;list-style-type:none;margin:0;padding:0;}/*!sc*/\n",
       ".cFSZAH li{display:inline;}/*!sc*/\n",
       ".cFSZAH li:last-of-type a::after{content:'';}/*!sc*/\n",
       "data-styled.g1[id=\"sc-yuedcl-0\"]{content:\"cFSZAH,\"}/*!sc*/\n",
       ".ljBYfY{display:-webkit-box;display:-webkit-flex;display:-ms-flexbox;display:flex;-webkit-flex-wrap:wrap;-ms-flex-wrap:wrap;flex-wrap:wrap;margin-top:0;margin-bottom:0;color:#505050;font-size:0.875em;}/*!sc*/\n",
       ".ljBYfY > *{margin-bottom:0.25rem;}/*!sc*/\n",
       ".ljBYfY > *:not(:last-child){margin-right:1rem;}/*!sc*/\n",
       "data-styled.g4[id=\"sc-1thf9ly-0\"]{content:\"ljBYfY,\"}/*!sc*/\n",
       ".bIzabL{margin-top:0.5rem;margin-bottom:0.5rem;}/*!sc*/\n",
       ".bIzabL > *{margin-bottom:0.25rem;}/*!sc*/\n",
       ".bIzabL > *:nth-child(n + 3)::before{content:'|';display:inline-block;margin:0 1rem 0 0;}/*!sc*/\n",
       "data-styled.g5[id=\"sc-1thf9ly-1\"]{content:\"bIzabL,\"}/*!sc*/\n",
       ".bKddwo{display:-webkit-inline-box;display:-webkit-inline-flex;display:-ms-inline-flexbox;display:inline-flex;-webkit-align-items:center;-webkit-box-align:center;-ms-flex-align:center;align-items:center;}/*!sc*/\n",
       ".bKddwo * + *{margin-left:0.25rem;}/*!sc*/\n",
       "data-styled.g6[id=\"sc-1thf9ly-2\"]{content:\"bKddwo,\"}/*!sc*/\n",
       ".fWlycu{display:none;opacity:0;-webkit-transition:opacity 200ms ease;transition:opacity 200ms ease;}/*!sc*/\n",
       "data-styled.g7[id=\"sc-dc2toh-0\"]{content:\"fWlycu,\"}/*!sc*/\n",
       ".lhCPPw{max-width:60em;margin:0 auto;}/*!sc*/\n",
       "data-styled.g8[id=\"sc-1dxr8k6-0\"]{content:\"lhCPPw,\"}/*!sc*/\n",
       ".hnoKGz{display:-webkit-inline-box;display:-webkit-inline-flex;display:-ms-inline-flexbox;display:inline-flex;-webkit-align-items:baseline;-webkit-box-align:baseline;-ms-flex-align:baseline;align-items:baseline;border-radius:0;border:2px solid transparent;-webkit-box-pack:center;-webkit-justify-content:center;-ms-flex-pack:center;justify-content:center;-webkit-transition:all 120ms ease 0s;transition:all 120ms ease 0s;}/*!sc*/\n",
       ".hnoKGz:active,.hnoKGz:hover,.hnoKGz[data-focus-visible-added]{outline:0;-webkit-text-decoration:none;text-decoration:none;background-color:#eb6500;border:2px solid #eb6500;color:#fff;}/*!sc*/\n",
       ".hnoKGz[data-button-size='default']{font-size:1em;padding:1rem 2rem;}/*!sc*/\n",
       ".hnoKGz[data-button-size='default'] span{white-space:nowrap;font-size:16px;line-height:16px;}/*!sc*/\n",
       ".hnoKGz[data-button-size='default'] span::before{content:'';margin-bottom:-0.1495em;display:table;}/*!sc*/\n",
       ".hnoKGz[data-button-size='default'] span::after{content:'';margin-top:-0.1905em;display:table;}/*!sc*/\n",
       ".hnoKGz[data-button-size='small']{font-size:0.875em;padding:0.5rem 1rem;}/*!sc*/\n",
       ".hnoKGz[data-button-size='small'] span{white-space:nowrap;font-size:14px;line-height:18px;}/*!sc*/\n",
       ".hnoKGz[data-button-size='small'] span::before{content:'';margin-bottom:-0.2924em;display:table;}/*!sc*/\n",
       ".hnoKGz[data-button-size='small'] span::after{content:'';margin-top:-0.3334em;display:table;}/*!sc*/\n",
       "data-styled.g9[id=\"sc-4ky1f6-0\"]{content:\"hnoKGz,\"}/*!sc*/\n",
       ".hLnlQv{background-color:#007398;border-color:#007398;color:#fff;}/*!sc*/\n",
       "data-styled.g10[id=\"sc-4ky1f6-1\"]{content:\"hLnlQv,\"}/*!sc*/\n",
       ".hcBixJ{background-color:#fff;border-color:#007398;color:#007398;}/*!sc*/\n",
       "data-styled.g12[id=\"sc-4ky1f6-3\"]{content:\"hcBixJ,\"}/*!sc*/\n",
       ".eTETae{font-size:16px;line-height:24px;margin:0 0 1.5rem;max-width:72ch;}/*!sc*/\n",
       ".eTETae::before{content:'';margin-bottom:-0.3995em;display:table;}/*!sc*/\n",
       ".eTETae::after{content:'';margin-top:-0.4405em;display:table;}/*!sc*/\n",
       ".eTETae:last-child{margin-bottom:0;}/*!sc*/\n",
       "data-styled.g13[id=\"sc-1q3g1nv-0\"]{content:\"eTETae,\"}/*!sc*/\n",
       ".ddyzPP{color:#737373;font-size:0.875em;}/*!sc*/\n",
       "data-styled.g14[id=\"sc-jsgros-0\"]{content:\"ddyzPP,\"}/*!sc*/\n",
       ".AcWHr{color:#505050;display:inline-block;}/*!sc*/\n",
       ".AcWHr p{margin:0.25rem 0 0;}/*!sc*/\n",
       "data-styled.g15[id=\"sc-uosj0-0\"]{content:\"AcWHr,\"}/*!sc*/\n",
       ".fAiWUX{display:-webkit-inline-box;display:-webkit-inline-flex;display:-ms-inline-flexbox;display:inline-flex;position:relative;}/*!sc*/\n",
       ".fAiWUX::before{content:'';z-index:1;position:absolute;top:0;left:0;width:100%;height:100%;border:1px solid rgb(0 0 0 / 15%);}/*!sc*/\n",
       "data-styled.g16[id=\"sc-uosj0-1\"]{content:\"fAiWUX,\"}/*!sc*/\n",
       ".jdxuot{background-color:white;border-bottom:0.075rem solid #dcdcdc;padding:0.25rem 0.75rem;}/*!sc*/\n",
       "data-styled.g17[id=\"sc-29krko-0\"]{content:\"jdxuot,\"}/*!sc*/\n",
       ".edcyFL{font-family:\"Elsevier Gulliver\",Georgia,serif;font-size:1em;font-weight:400;line-height:1.25;margin:0;margin-right:auto;white-space:nowrap;overflow:hidden;text-overflow:ellipsis;max-width:25rem;}/*!sc*/\n",
       "data-styled.g18[id=\"sc-29krko-1\"]{content:\"edcyFL,\"}/*!sc*/\n",
       ".lcqMeI{display:-webkit-box;display:-webkit-flex;display:-ms-flexbox;display:flex;-webkit-flex-wrap:nowrap;-ms-flex-wrap:nowrap;flex-wrap:nowrap;}/*!sc*/\n",
       "data-styled.g19[id=\"sc-29krko-2\"]{content:\"lcqMeI,\"}/*!sc*/\n",
       ".PQfhP{display:-webkit-box;display:-webkit-flex;display:-ms-flexbox;display:flex;-webkit-align-items:center;-webkit-box-align:center;-ms-flex-align:center;align-items:center;}/*!sc*/\n",
       "data-styled.g20[id=\"sc-29krko-3\"]{content:\"PQfhP,\"}/*!sc*/\n",
       ".jETNdX{display:none;font-size:0.875em;margin:0;}/*!sc*/\n",
       "@media screen and (min-width:45em){.jETNdX{display:grid;grid-template-columns:repeat(2,auto);grid-gap:1rem;}}/*!sc*/\n",
       "data-styled.g21[id=\"sc-29krko-4\"]{content:\"jETNdX,\"}/*!sc*/\n",
       ".gOAMsJ{display:grid;grid-gap:0.5rem;grid-template-columns:repeat(2,auto);grid-template-rows:auto;position:relative;}/*!sc*/\n",
       "data-styled.g22[id=\"sc-29krko-5\"]{content:\"gOAMsJ,\"}/*!sc*/\n",
       ".bBznbl{margin:0;}/*!sc*/\n",
       "data-styled.g23[id=\"sc-29krko-6\"]{content:\"bBznbl,\"}/*!sc*/\n",
       ".dnrrWg{margin:0 0.75rem;}/*!sc*/\n",
       "data-styled.g24[id=\"sc-29krko-7\"]{content:\"dnrrWg,\"}/*!sc*/\n",
       "@media screen and (max-width:30em){.iQzzfb{display:none;}}/*!sc*/\n",
       "data-styled.g25[id=\"sc-29krko-8\"]{content:\"iQzzfb,\"}/*!sc*/\n",
       ".RNqsW{display:-webkit-box;display:-webkit-flex;display:-ms-flexbox;display:flex;margin-right:0.75rem;}/*!sc*/\n",
       "data-styled.g26[id=\"sc-29krko-9\"]{content:\"RNqsW,\"}/*!sc*/\n",
       ".eqibmi{margin-bottom:0;margin-left:0.5rem;}/*!sc*/\n",
       "data-styled.g27[id=\"sc-29krko-10\"]{content:\"eqibmi,\"}/*!sc*/\n",
       ".civIvf{margin-bottom:0;margin-left:0.5rem;}/*!sc*/\n",
       "data-styled.g28[id=\"sc-29krko-11\"]{content:\"civIvf,\"}/*!sc*/\n",
       ".fYuYRT{display:-webkit-inline-box;display:-webkit-inline-flex;display:-ms-inline-flexbox;display:inline-flex;-webkit-align-items:baseline;-webkit-box-align:baseline;-ms-flex-align:baseline;align-items:baseline;-webkit-box-pack:start;-webkit-justify-content:flex-start;-ms-flex-pack:start;justify-content:flex-start;-webkit-flex-wrap:nowrap;-ms-flex-wrap:nowrap;flex-wrap:nowrap;}/*!sc*/\n",
       "data-styled.g29[id=\"sc-kvjqii-0\"]{content:\"fYuYRT,\"}/*!sc*/\n",
       ".hjlxNa{font-size:0.5625rem;margin-right:0.25rem;}/*!sc*/\n",
       "data-styled.g30[id=\"sc-kvjqii-1\"]{content:\"hjlxNa,\"}/*!sc*/\n",
       ".bDcWjJ{margin-right:0.5rem;}/*!sc*/\n",
       "data-styled.g31[id=\"sc-kvjqii-2\"]{content:\"bDcWjJ,\"}/*!sc*/\n",
       ".hQPrvi{-webkit-appearance:none;-moz-appearance:none;appearance:none;background-color:transparent;border:0;color:#0c7dbb;cursor:pointer;display:inline;font-family:\"Nexus Sans\",Arial,sans-serif;font-size:inherit;line-height:1.6;padding:0;-webkit-transition:color 0.12s ease,text-decoration-color 0.12s ease;transition:color 0.12s ease,text-decoration-color 0.12s ease;}/*!sc*/\n",
       ".hQPrvi:hover,.hQPrvi:active{color:#2e2e2e;-webkit-text-decoration-line:underline;text-decoration-line:underline;-webkit-text-decoration-thickness:2px;text-decoration-thickness:2px;text-underline-offset:0.3rem;}/*!sc*/\n",
       ".hQPrvi:hover{-webkit-text-decoration-color:#eb6500;text-decoration-color:#eb6500;}/*!sc*/\n",
       ".hQPrvi:active{-webkit-text-decoration-color:#2e2e2e;text-decoration-color:#2e2e2e;}/*!sc*/\n",
       ".hQPrvi[data-focus-visible-added]{outline-style:solid;outline-width:2px;}/*!sc*/\n",
       "data-styled.g32[id=\"sc-1qzfzkl-0\"]{content:\"hQPrvi,\"}/*!sc*/\n",
       ".emEISL{border-top:2px solid #ff6c00;padding:2rem 0 4rem;}/*!sc*/\n",
       "data-styled.g33[id=\"sc-1c6xsv-0\"]{content:\"emEISL,\"}/*!sc*/\n",
       ".kEACDc{display:-webkit-box;display:-webkit-flex;display:-ms-flexbox;display:flex;-webkit-align-items:flex-start;-webkit-box-align:flex-start;-ms-flex-align:flex-start;align-items:flex-start;-webkit-flex-direction:column;-ms-flex-direction:column;flex-direction:column;padding:0 1rem;}/*!sc*/\n",
       "@media screen and (min-width:35em){.kEACDc{-webkit-flex-direction:row;-ms-flex-direction:row;flex-direction:row;}}/*!sc*/\n",
       "@supports (grid-area:auto){.kEACDc{display:grid;grid-gap:0.5rem;grid-template-columns:auto 1fr;grid-auto-rows:auto auto;grid-template-areas:'text text' 'logo-left logo-right';padding:0 1rem;}@media screen and (min-width:61.25em){.kEACDc{grid-template-columns:10em auto 10em;grid-template-areas:'logo-left text logo-right';padding:0;}}}/*!sc*/\n",
       "data-styled.g34[id=\"sc-1c6xsv-1\"]{content:\"kEACDc,\"}/*!sc*/\n",
       ".gwkjaf{grid-area:logo-left;}/*!sc*/\n",
       "data-styled.g35[id=\"sc-1c6xsv-2\"]{content:\"gwkjaf,\"}/*!sc*/\n",
       ".dzhXup{grid-area:logo-right;}/*!sc*/\n",
       "data-styled.g36[id=\"sc-1c6xsv-3\"]{content:\"dzhXup,\"}/*!sc*/\n",
       ".hHsELc{padding:0.75rem 0;grid-area:text;width:100%;}/*!sc*/\n",
       "data-styled.g37[id=\"sc-1c6xsv-4\"]{content:\"hHsELc,\"}/*!sc*/\n",
       ".cfTwSE{color:#737373;max-width:100%;}/*!sc*/\n",
       ".cfTwSE:not(:last-child){margin:0 0 1rem;}/*!sc*/\n",
       ".cfTwSE a{margin-right:1rem;}/*!sc*/\n",
       "data-styled.g38[id=\"sc-1c6xsv-5\"]{content:\"cfTwSE,\"}/*!sc*/\n",
       ".bXyrVZ{color:#505050;font-size:1.25em;}/*!sc*/\n",
       ".bXyrVZ[data-focus-visible-added]{outline:none;-webkit-text-decoration-color:#eb6500;text-decoration-color:#eb6500;-webkit-text-decoration-line:underline;text-decoration-line:underline;-webkit-text-decoration-thickness:2px;text-decoration-thickness:2px;text-underline-offset:0.3rem;}/*!sc*/\n",
       ".bXyrVZ svg{color:#b9b9b9;font-size:0.5em;}/*!sc*/\n",
       "@media screen and (min-width:62em){.bXyrVZ{font-size:1em;}}/*!sc*/\n",
       "@media screen and (min-width:75em){.bXyrVZ{font-size:1.25em;}}/*!sc*/\n",
       "data-styled.g39[id=\"sc-12m3iqn-0\"]{content:\"bXyrVZ,\"}/*!sc*/\n",
       ".dyvnmg{display:-webkit-box;display:-webkit-flex;display:-ms-flexbox;display:flex;-webkit-align-items:center;-webkit-box-align:center;-ms-flex-align:center;align-items:center;}/*!sc*/\n",
       "data-styled.g40[id=\"sc-1lwlasb-0\"]{content:\"dyvnmg,\"}/*!sc*/\n",
       ".Cioql{position:relative;}/*!sc*/\n",
       "data-styled.g41[id=\"sc-1lwlasb-1\"]{content:\"Cioql,\"}/*!sc*/\n",
       ".ldtKVU{height:2rem;width:2.25rem;}/*!sc*/\n",
       "@media screen and (min-width:37.5em){.ldtKVU{height:3rem;width:3.375rem;}}/*!sc*/\n",
       "data-styled.g42[id=\"sc-1lwlasb-2\"]{content:\"ldtKVU,\"}/*!sc*/\n",
       ".fzwpcz{height:0.5625rem;width:4.0625rem;margin-left:0.75rem;}/*!sc*/\n",
       "@media screen and (min-width:37.5em){.fzwpcz{height:0.875rem;width:6.3125rem;margin-left:1.25rem;}}/*!sc*/\n",
       "data-styled.g43[id=\"sc-1lwlasb-3\"]{content:\"fzwpcz,\"}/*!sc*/\n",
       ".bqGuKi{font-size:1.125em;}/*!sc*/\n",
       "@media screen and (min-width:62em){.bqGuKi{margin-left:2px;}}/*!sc*/\n",
       "data-styled.g44[id=\"sc-1dvbwt1-0\"]{content:\"bqGuKi,\"}/*!sc*/\n",
       ".iScfRi{color:#505050;font-size:1em;margin:0;}/*!sc*/\n",
       ".iScfRi:hover,.iScfRi:active{-webkit-text-decoration:none;text-decoration:none;}/*!sc*/\n",
       ".iScfRi[data-focus-visible-added]{outline:none;}/*!sc*/\n",
       ".iScfRi:hover,.iScfRi:active,.iScfRi[data-focus-visible-added]{color:#ff6c00;}/*!sc*/\n",
       "@media screen and (min-width:37.5em){.iScfRi{font-size:1.25em;}}/*!sc*/\n",
       "@media screen and (min-width:62em){.iScfRi{border:2px solid #007398;}.iScfRi:hover,.iScfRi:active,.iScfRi[data-focus-visible-added]{background:#ff6c00;border:2px solid #ff6c00;color:#fff;}}/*!sc*/\n",
       "data-styled.g45[id=\"sc-1dvbwt1-1\"]{content:\"iScfRi,\"}/*!sc*/\n",
       ".kfquvO{display:-webkit-box;display:-webkit-flex;display:-ms-flexbox;display:flex;-webkit-align-items:center;-webkit-box-align:center;-ms-flex-align:center;align-items:center;}/*!sc*/\n",
       "@media screen and (min-width:62em){.kfquvO{padding:0.5rem;}}/*!sc*/\n",
       "@media screen and (min-width:75em){.kfquvO{padding:0.5rem 1rem;}}/*!sc*/\n",
       "data-styled.g46[id=\"sc-1dvbwt1-2\"]{content:\"kfquvO,\"}/*!sc*/\n",
       ".ioewXg{display:-webkit-box;display:-webkit-flex;display:-ms-flexbox;display:flex;margin-right:0.25rem;font-size:20px;line-height:20px;}/*!sc*/\n",
       ".ioewXg::before{content:'';margin-bottom:-0.1495em;display:table;}/*!sc*/\n",
       ".ioewXg::after{content:'';margin-top:-0.1905em;display:table;}/*!sc*/\n",
       "@media screen and (max-width:75em){.ioewXg{border:0;-webkit-clip:rect(0 0 0 0);clip:rect(0 0 0 0);-webkit-clip-path:inset(50%);clip-path:inset(50%);height:1px;margin:-1px;overflow:hidden;padding:0;position:absolute;width:1px;white-space:nowrap;word-wrap:normal;}}/*!sc*/\n",
       "data-styled.g47[id=\"sc-1dvbwt1-3\"]{content:\"ioewXg,\"}/*!sc*/\n",
       ".jdzJJA{display:-webkit-box;display:-webkit-flex;display:-ms-flexbox;display:flex;-webkit-align-items:center;-webkit-box-align:center;-ms-flex-align:center;align-items:center;list-style-type:none;margin:0;padding:0;}/*!sc*/\n",
       "data-styled.g48[id=\"sc-1uz32rr-0\"]{content:\"jdzJJA,\"}/*!sc*/\n",
       ".kQunip{display:-webkit-box;display:-webkit-flex;display:-ms-flexbox;display:flex;-webkit-align-items:center;-webkit-box-align:center;-ms-flex-align:center;align-items:center;margin-left:1.5rem;}/*!sc*/\n",
       ".kQunip:first-of-type{margin-left:0;}/*!sc*/\n",
       ".kQunip:last-of-type{margin-left:2rem;}/*!sc*/\n",
       "data-styled.g49[id=\"sc-1uz32rr-1\"]{content:\"kQunip,\"}/*!sc*/\n",
       ".isxohE{display:none;}/*!sc*/\n",
       "@media screen and (min-width:62em){.isxohE{display:initial;}}/*!sc*/\n",
       "data-styled.g50[id=\"sc-1uz32rr-2\"]{content:\"isxohE,\"}/*!sc*/\n",
       "@media screen and (min-width:62em){.fjIepc{display:none;}}/*!sc*/\n",
       "data-styled.g51[id=\"sc-1uz32rr-3\"]{content:\"fjIepc,\"}/*!sc*/\n",
       ".kMumlj{color:#505050;font-size:20px;line-height:16px;}/*!sc*/\n",
       ".kMumlj::before{content:'';margin-bottom:-0.0495em;display:table;}/*!sc*/\n",
       ".kMumlj::after{content:'';margin-top:-0.0905em;display:table;}/*!sc*/\n",
       ".kMumlj:hover,.kMumlj:active{-webkit-text-decoration:none;text-decoration:none;outline:none;}/*!sc*/\n",
       ".kMumlj[data-focus-visible-added]{outline:none;}/*!sc*/\n",
       ".kMumlj:hover,.kMumlj:active,.kMumlj[data-focus-visible-added]{color:#ff6c00;}/*!sc*/\n",
       "@media screen and (min-width:37.5em){.kMumlj{font-size:24px;line-height:24px;}.kMumlj::before{content:'';margin-bottom:-0.1495em;display:table;}.kMumlj::after{content:'';margin-top:-0.1905em;display:table;}}/*!sc*/\n",
       "data-styled.g52[id=\"sc-1uz32rr-4\"]{content:\"kMumlj,\"}/*!sc*/\n",
       ".kEzLkc{display:-webkit-box;display:-webkit-flex;display:-ms-flexbox;display:flex;color:#505050;font-size:1.25em;padding-top:0.25rem;}/*!sc*/\n",
       ".kEzLkc:hover,.kEzLkc:active,.kEzLkc[data-focus-visible-added]{-webkit-text-decoration:none;text-decoration:none;color:#ff6c00;}/*!sc*/\n",
       ".kEzLkc[data-focus-visible-added]{outline:none;}/*!sc*/\n",
       ".kEzLkc svg{width:2em;}/*!sc*/\n",
       "@media screen and (min-width:37.5em){.kEzLkc{font-size:1.5em;}}/*!sc*/\n",
       "@media screen and (min-width:62em){.kEzLkc{display:none;}}/*!sc*/\n",
       "data-styled.g53[id=\"sc-1uz32rr-5\"]{content:\"kEzLkc,\"}/*!sc*/\n",
       ".iJdaFT{display:none;-webkit-flex-direction:column;-ms-flex-direction:column;flex-direction:column;margin-bottom:2rem;}/*!sc*/\n",
       "@media screen and (min-width:62em){.iJdaFT{display:none;}}/*!sc*/\n",
       "data-styled.g54[id=\"sc-vyngc7-0\"]{content:\"iJdaFT,\"}/*!sc*/\n",
       ".jKSCEA{color:#505050;width:15em;}/*!sc*/\n",
       "data-styled.g55[id=\"sc-vyngc7-1\"]{content:\"jKSCEA,\"}/*!sc*/\n",
       ".fuFVHx{display:none;font-size:1em;right:0.75rem;top:0.75rem;position:absolute;}/*!sc*/\n",
       ".fuFVHx.visible{display:block;}/*!sc*/\n",
       "data-styled.g56[id=\"sc-vyngc7-2\"]{content:\"fuFVHx,\"}/*!sc*/\n",
       ".hCLUbN{color:#2e2e2e;font-size:1.5em;font-weight:400;line-height:1.2;margin:0;}/*!sc*/\n",
       "@media screen and (min-width:37.5em){.hCLUbN{font-size:2em;}}/*!sc*/\n",
       "data-styled.g57[id=\"sc-1qrq3sd-0\"]{content:\"hCLUbN,\"}/*!sc*/\n",
       ".MKjKb{color:#505050;font-size:1.5em;font-weight:400;line-height:1.3;margin:0;}/*!sc*/\n",
       "data-styled.g58[id=\"sc-1qrq3sd-1\"]{content:\"MKjKb,\"}/*!sc*/\n",
       ".iBQUpF{color:#505050;font-size:1.5em;font-weight:700;line-height:1.1667;padding:0.05px 0;margin-top:0;margin-bottom:1rem;}/*!sc*/\n",
       ".iBQUpF::before{content:'';margin-top:-0.2349em;display:block;height:0;}/*!sc*/\n",
       ".iBQUpF::after{content:'';margin-bottom:-0.2759em;display:block;height:0;}/*!sc*/\n",
       "data-styled.g59[id=\"sc-1qrq3sd-2\"]{content:\"iBQUpF,\"}/*!sc*/\n",
       ".grcxMK{position:relative;display:inline-block;}/*!sc*/\n",
       "data-styled.g60[id=\"sc-1fdbg4d-0\"]{content:\"grcxMK,\"}/*!sc*/\n",
       ".qRtBA{font-size:0.6rem;margin-left:0.25rem;-webkit-transform:rotate(90deg);-ms-transform:rotate(90deg);transform:rotate(90deg);}/*!sc*/\n",
       ".qRtBA[data-open]{-webkit-transform:rotate(270deg);-ms-transform:rotate(270deg);transform:rotate(270deg);}/*!sc*/\n",
       "data-styled.g61[id=\"sc-1fdbg4d-1\"]{content:\"qRtBA,\"}/*!sc*/\n",
       ".dZzYzL{position:absolute;top:2rem;}/*!sc*/\n",
       "data-styled.g62[id=\"sc-1fdbg4d-2\"]{content:\"dZzYzL,\"}/*!sc*/\n",
       ".gnRPaP{z-index:5;right:0;top:calc(100% + 1rem);min-width:15em;padding:1rem;background:rgba(235,235,235,0.85);border-top:2px solid #ff6c00;}/*!sc*/\n",
       ".gnRPaP::after,.gnRPaP::before{content:'';position:absolute;right:0;width:0;height:0;border-top:0.40625em solid transparent;border-left:0.40625em solid transparent;}/*!sc*/\n",
       ".gnRPaP::before{top:-13px;border-right:0.40625em solid #ff6c00;border-bottom:0.40625em solid #ff6c00;}/*!sc*/\n",
       ".gnRPaP::after{top:-10px;border-right:0.40625em solid #ebebeb;border-bottom:0.40625em solid #ebebeb;}/*!sc*/\n",
       ".egOxdO{border:1px solid #b9b9b9;background:#f5f5f5;box-shadow:0 0 0.5rem 0 rgba(0,0,0,0.15);z-index:2;}/*!sc*/\n",
       "data-styled.g63[id=\"sc-1fdbg4d-3\"]{content:\"gnRPaP,egOxdO,\"}/*!sc*/\n",
       ".gVBpEc{list-style-type:none;margin:0;z-index:3;padding:1rem 1rem;white-space:nowrap;}/*!sc*/\n",
       ".gVBpEc[data-align='left']{left:0;}/*!sc*/\n",
       ".gVBpEc[data-align='right']{right:0;}/*!sc*/\n",
       "data-styled.g64[id=\"sc-1fdbg4d-4\"]{content:\"gVBpEc,\"}/*!sc*/\n",
       ".fWJIJp{background:white;}/*!sc*/\n",
       "data-styled.g65[id=\"sc-1fdbg4d-5\"]{content:\"fWJIJp,\"}/*!sc*/\n",
       ".dTlWdR{margin-bottom:0.75rem;}/*!sc*/\n",
       ".dTlWdR:last-of-type{margin-bottom:0;}/*!sc*/\n",
       "data-styled.g66[id=\"sc-1fdbg4d-6\"]{content:\"dTlWdR,\"}/*!sc*/\n",
       ".LGFeA{margin-bottom:0.75rem;}/*!sc*/\n",
       "data-styled.g67[id=\"sc-1fdbg4d-7\"]{content:\"LGFeA,\"}/*!sc*/\n",
       ".ewtwcb{color:#505050;font-size:1.25em;line-height:1.35;cursor:pointer;}/*!sc*/\n",
       ".ewtwcb:hover,.ewtwcb:active,.ewtwcb[data-focus-visible-added]{outline:none;-webkit-text-decoration-line:underline;text-decoration-line:underline;-webkit-text-decoration-color:#ff6c00;text-decoration-color:#ff6c00;-webkit-text-decoration-thickness:2px;text-decoration-thickness:2px;text-underline-offset:0.3rem;}/*!sc*/\n",
       "data-styled.g68[id=\"sc-1fdbg4d-8\"]{content:\"ewtwcb,\"}/*!sc*/\n",
       ".LYYST{white-space:nowrap;margin-bottom:2rem;}/*!sc*/\n",
       "@media screen and (min-width:62em){.LYYST{position:relative;margin-right:2rem;margin-bottom:0;}}/*!sc*/\n",
       "data-styled.g69[id=\"sc-gvqsvo-0\"]{content:\"LYYST,\"}/*!sc*/\n",
       ".hUPkbI{color:#737373;font-size:1.25em;font-weight:400;margin:2rem 0 1.5rem;}/*!sc*/\n",
       "data-styled.g70[id=\"sc-gvqsvo-1\"]{content:\"hUPkbI,\"}/*!sc*/\n",
       ".hdZLuu{min-width:15em;}/*!sc*/\n",
       "data-styled.g71[id=\"sc-gvqsvo-2\"]{content:\"hdZLuu,\"}/*!sc*/\n",
       ".doOpoN{background:#fff;list-style:none;margin:0;padding:0;}/*!sc*/\n",
       "data-styled.g72[id=\"sc-gvqsvo-3\"]{content:\"doOpoN,\"}/*!sc*/\n",
       ".dYBQLb{margin-bottom:0.75rem;}/*!sc*/\n",
       "data-styled.g73[id=\"sc-gvqsvo-4\"]{content:\"dYBQLb,\"}/*!sc*/\n",
       "@media screen and (min-width:62em){.eTXxtX{display:none;}}/*!sc*/\n",
       "data-styled.g74[id=\"sc-gvqsvo-5\"]{content:\"eTXxtX,\"}/*!sc*/\n",
       ".cWkpUK{display:none;}/*!sc*/\n",
       "@media screen and (min-width:62em){.cWkpUK{display:block;}}/*!sc*/\n",
       "data-styled.g75[id=\"sc-gvqsvo-6\"]{content:\"cWkpUK,\"}/*!sc*/\n",
       ".iCwJnF{position:absolute;background-color:#fff;overflow:hidden;padding:0 2rem;z-index:4;top:calc(100% + 1px);left:0;width:100%;}/*!sc*/\n",
       "data-styled.g76[id=\"sc-nbr0sq-0\"]{content:\"iCwJnF,\"}/*!sc*/\n",
       ".iPBpEs{margin:2rem 0;}/*!sc*/\n",
       "data-styled.g77[id=\"sc-nbr0sq-1\"]{content:\"iPBpEs,\"}/*!sc*/\n",
       ".jRjTLz{border-bottom:1px solid #b9b9b9;-webkit-align-items:center;-webkit-box-align:center;-ms-flex-align:center;align-items:center;display:-webkit-box;display:-webkit-flex;display:-ms-flexbox;display:flex;}/*!sc*/\n",
       "data-styled.g78[id=\"sc-nbr0sq-2\"]{content:\"jRjTLz,\"}/*!sc*/\n",
       ".lefOXt{font-size:1.5em;}/*!sc*/\n",
       "data-styled.g79[id=\"sc-nbr0sq-3\"]{content:\"lefOXt,\"}/*!sc*/\n",
       ".CJUyz{background-color:#fff;border:0;color:#505050;font-family:\"Nexus Sans\",Arial,sans-serif;font-size:1.5em;padding:1rem 0.5rem 0.5rem;box-shadow:none;margin-bottom:0;outline:0;overflow:hidden;width:100%;}/*!sc*/\n",
       ".CJUyz[data-focus-visible-added]{outline:none;}/*!sc*/\n",
       ".CJUyz::-webkit-search-cancel-button{-webkit-appearance:none;-moz-appearance:none;appearance:none;}/*!sc*/\n",
       "data-styled.g80[id=\"sc-nbr0sq-4\"]{content:\"CJUyz,\"}/*!sc*/\n",
       ".bwhAfp{border:0;cursor:pointer;color:#0c7dbb;font-size:1.75em;margin-bottom:0;background-color:transparent;-webkit-transition:fill 0.15s linear;transition:fill 0.15s linear;}/*!sc*/\n",
       ".bwhAfp:hover{color:#ff6c00;}/*!sc*/\n",
       "data-styled.g81[id=\"sc-nbr0sq-5\"]{content:\"bwhAfp,\"}/*!sc*/\n",
       ".iMbvxE{border:0;cursor:pointer;color:#dcdcdc;display:none;font-size:1em;margin-bottom:0;background-color:transparent;-webkit-transition:fill 0.15s linear;transition:fill 0.15s linear;}/*!sc*/\n",
       ".iMbvxE:hover{color:#505050;}/*!sc*/\n",
       "data-styled.g82[id=\"sc-nbr0sq-6\"]{content:\"iMbvxE,\"}/*!sc*/\n",
       ".AZirp{display:-webkit-box;display:-webkit-flex;display:-ms-flexbox;display:flex;-webkit-box-pack:justify;-webkit-justify-content:space-between;-ms-flex-pack:justify;justify-content:space-between;background-color:#fff;padding:0.5rem 0.75rem;border-bottom:1px solid #dcdcdc;position:relative;z-index:4;-webkit-font-smoothing:antialiased;-moz-osx-font-smoothing:grayscale;}/*!sc*/\n",
       "@media screen and (min-width:37.5em){.AZirp{padding:0.5rem 1rem;}}/*!sc*/\n",
       "@media screen and (min-width:62em){.AZirp{padding:0 1.5rem;}}/*!sc*/\n",
       "data-styled.g83[id=\"sc-e948u6-0\"]{content:\"AZirp,\"}/*!sc*/\n",
       ".iEiQWV{position:fixed;top:0;left:0;width:100%;}/*!sc*/\n",
       "data-styled.g84[id=\"sc-e948u6-1\"]{content:\"iEiQWV,\"}/*!sc*/\n",
       ".eBRfdU{background-color:rgb(235 235 235 / 85%);position:fixed;top:0;right:0;bottom:0;left:0;-webkit-transition:background-color 500ms,visibility 500ms;transition:background-color 500ms,visibility 500ms;visibility:hidden;z-index:3;}/*!sc*/\n",
       "data-styled.g85[id=\"sc-e948u6-2\"]{content:\"eBRfdU,\"}/*!sc*/\n",
       ".iDLdAj{background-color:#fff;color:#0c7dbb;left:0.25rem;position:absolute;top:-999%;}/*!sc*/\n",
       ".iDLdAj[data-focus-visible-added]{top:0.25rem;z-index:1;}/*!sc*/\n",
       "data-styled.g86[id=\"sc-e948u6-3\"]{content:\"iDLdAj,\"}/*!sc*/\n",
       ".gOVuFF{display:-webkit-box;display:-webkit-flex;display:-ms-flexbox;display:flex;-webkit-align-items:center;-webkit-box-align:center;-ms-flex-align:center;align-items:center;position:relative;}/*!sc*/\n",
       "data-styled.g87[id=\"sc-e948u6-4\"]{content:\"gOVuFF,\"}/*!sc*/\n",
       ".jtQDOm{display:-webkit-box;display:-webkit-flex;display:-ms-flexbox;display:flex;-webkit-flex-wrap:nowrap;-ms-flex-wrap:nowrap;flex-wrap:nowrap;-webkit-align-items:center;-webkit-box-align:center;-ms-flex-align:center;align-items:center;}/*!sc*/\n",
       "data-styled.g88[id=\"sc-e948u6-5\"]{content:\"jtQDOm,\"}/*!sc*/\n",
       ".jLNEJF{-webkit-align-items:center;-webkit-box-align:center;-ms-flex-align:center;align-items:center;bottom:0;background-color:white;list-style:none;margin:0;padding:1.5rem 1rem;overflow-y:auto;-webkit-transition:-webkit-transform 0.3s ease;-webkit-transition:transform 0.3s ease;transition:transform 0.3s ease;-webkit-transform:translateX(100%);-ms-transform:translateX(100%);transform:translateX(100%);top:0;width:20em;position:fixed;right:0;}/*!sc*/\n",
       "@media screen and (min-width:62em){.jLNEJF{background-color:transparent;display:-webkit-box;display:-webkit-flex;display:-ms-flexbox;display:flex;-webkit-flex-direction:row;-ms-flex-direction:row;flex-direction:row;position:relative;width:auto;-webkit-transform:none;-ms-transform:none;transform:none;height:initial;overflow-y:visible;padding:1.5rem 0;}}/*!sc*/\n",
       "data-styled.g89[id=\"sc-e948u6-6\"]{content:\"jLNEJF,\"}/*!sc*/\n",
       ".jOcueP{min-width:0;overflow:hidden;-webkit-box-flex:1;-webkit-flex-grow:1;-ms-flex-positive:1;flex-grow:1;}/*!sc*/\n",
       ".jOcueP[data-subpage] > nav,.jOcueP[data-subpage] > main{padding:0 1rem;}/*!sc*/\n",
       "@media screen and (min-width:37.5em){.jOcueP[data-subpage] > nav,.jOcueP[data-subpage] > main{padding:0 2rem;}}/*!sc*/\n",
       "data-styled.g90[id=\"sc-1g5fvti-0\"]{content:\"jOcueP,\"}/*!sc*/\n",
       ".fukXbF{background:white;padding-bottom:0.75rem;}/*!sc*/\n",
       "data-styled.g91[id=\"sc-1g5fvti-1\"]{content:\"fukXbF,\"}/*!sc*/\n",
       ".cdVvBc{display:-webkit-box;display:-webkit-flex;display:-ms-flexbox;display:flex;-webkit-flex-direction:column;-ms-flex-direction:column;flex-direction:column;min-height:100vh;}/*!sc*/\n",
       "data-styled.g92[id=\"sc-1g5fvti-2\"]{content:\"cdVvBc,\"}/*!sc*/\n",
       ".lgbLoo{color:#2e2e2e;font-family:\"Elsevier Gulliver\",Georgia,serif;font-size:1.5em;margin:0.75rem 0 0.5rem;width:100%;}/*!sc*/\n",
       "data-styled.g93[id=\"sc-1nwsl0e-0\"]{content:\"lgbLoo,\"}/*!sc*/\n",
       ".bQNQKU{margin-top:3rem;padding-top:1rem;}/*!sc*/\n",
       "data-styled.g94[id=\"sc-1nwsl0e-1\"]{content:\"bQNQKU,\"}/*!sc*/\n",
       ".gazhpM{padding:0 1rem;}/*!sc*/\n",
       "@media screen and (min-width:61.25em){.gazhpM{padding:0;}}/*!sc*/\n",
       "data-styled.g95[id=\"sc-1nwsl0e-2\"]{content:\"gazhpM,\"}/*!sc*/\n",
       ".VQbJA{display:-webkit-box;display:-webkit-flex;display:-ms-flexbox;display:flex;-webkit-flex-wrap:wrap;-ms-flex-wrap:wrap;flex-wrap:wrap;}/*!sc*/\n",
       "data-styled.g96[id=\"sc-1nwsl0e-3\"]{content:\"VQbJA,\"}/*!sc*/\n",
       ".cviXWN{width:13.75em;}/*!sc*/\n",
       "data-styled.g97[id=\"sc-1nwsl0e-4\"]{content:\"cviXWN,\"}/*!sc*/\n",
       ".hugDdc{color:#505050;margin-right:0.5rem;}/*!sc*/\n",
       "data-styled.g98[id=\"sc-1nwsl0e-5\"]{content:\"hugDdc,\"}/*!sc*/\n",
       ".fhoAiN{list-style:none;margin:0 1rem 2rem 0;padding:0;}/*!sc*/\n",
       ".fhoAiN li{line-height:1.35;margin-bottom:0.75rem;}/*!sc*/\n",
       "data-styled.g99[id=\"sc-1nwsl0e-6\"]{content:\"fhoAiN,\"}/*!sc*/\n",
       ".esiGMQ{color:#505050;}/*!sc*/\n",
       "data-styled.g100[id=\"sc-1nwsl0e-7\"]{content:\"esiGMQ,\"}/*!sc*/\n",
       ".cRFLRd{margin:1rem 0 0.5rem;}/*!sc*/\n",
       ".cRFLRd > *{margin-right:1rem;margin-bottom:0;}/*!sc*/\n",
       "data-styled.g101[id=\"sc-1f27thb-0\"]{content:\"cRFLRd,\"}/*!sc*/\n",
       ".eTISqs{display:grid;grid-template-columns:1fr;grid-auto-rows:auto;-webkit-column-gap:2rem;column-gap:2rem;row-gap:1rem;grid-template-areas:'cover' 'header' 'content';}/*!sc*/\n",
       "@media screen and (min-width:43.75em){.eTISqs{grid-gap:2rem;grid-template-columns:auto 1fr;grid-template-areas:'cover header' 'cover content';}}/*!sc*/\n",
       "data-styled.g102[id=\"sc-orwwe2-0\"]{content:\"eTISqs,\"}/*!sc*/\n",
       ".dZFiMY{display:none;grid-area:cover;}/*!sc*/\n",
       "@media screen and (min-width:43.75em){.dZFiMY{display:block;}}/*!sc*/\n",
       "data-styled.g103[id=\"sc-orwwe2-1\"]{content:\"dZFiMY,\"}/*!sc*/\n",
       ".fCHAcd{grid-area:header;border-bottom:1px solid #dcdcdc;}/*!sc*/\n",
       "data-styled.g104[id=\"sc-orwwe2-2\"]{content:\"fCHAcd,\"}/*!sc*/\n",
       ".gPmFkB{grid-area:content;}/*!sc*/\n",
       "data-styled.g105[id=\"sc-orwwe2-3\"]{content:\"gPmFkB,\"}/*!sc*/\n",
       ".ysXeK{margin-top:0.5rem;}/*!sc*/\n",
       ".fonts-loaded .sc-orwwe2-4{font-family:\"Elsevier Display\",Arial,sans-serif;font-weight:300;}/*!sc*/\n",
       "data-styled.g106[id=\"sc-orwwe2-4\"]{content:\"ysXeK,\"}/*!sc*/\n",
       ".jUaFts{color:#2e2e2e;font-family:\"Elsevier Gulliver\",Georgia,serif;font-size:1.5em;margin:0 0 0.5rem;}/*!sc*/\n",
       "data-styled.g107[id=\"sc-orwwe2-5\"]{content:\"jUaFts,\"}/*!sc*/\n",
       ".dtzDFi{display:-webkit-box;display:-webkit-flex;display:-ms-flexbox;display:flex;-webkit-flex-wrap:wrap;-ms-flex-wrap:wrap;flex-wrap:wrap;margin:0.75rem 0;}/*!sc*/\n",
       ".dtzDFi > *{margin-right:0.75rem;}/*!sc*/\n",
       "data-styled.g108[id=\"sc-orwwe2-6\"]{content:\"dtzDFi,\"}/*!sc*/\n",
       ".jbCSRa{background-color:#f5f5f5;}/*!sc*/\n",
       "data-styled.g109[id=\"sc-orwwe2-7\"]{content:\"jbCSRa,\"}/*!sc*/\n",
       ".nrDZj{display:block;}/*!sc*/\n",
       ".nrDZj:hover,.nrDZj:focus,.nrDZj:active{-webkit-text-decoration:none;text-decoration:none;outline:none;}/*!sc*/\n",
       ".nrDZj[href]:hover,.nrDZj[href]:active{-webkit-text-decoration-line:none;text-decoration-line:none;}/*!sc*/\n",
       ".nrDZj[href]:hover h2,.nrDZj[href]:active h2,.nrDZj[href]:hover h3,.nrDZj[href]:active h3,.nrDZj[href]:hover h4,.nrDZj[href]:active h4{-webkit-text-decoration-line:underline;text-decoration-line:underline;-webkit-text-decoration-thickness:2px;text-decoration-thickness:2px;text-underline-offset:0.2rem;}/*!sc*/\n",
       ".nrDZj[href]:active h2,.nrDZj[href]:active h3,.nrDZj[href]:active h4{-webkit-text-decoration-color:#2e2e2e;text-decoration-color:#2e2e2e;}/*!sc*/\n",
       ".nrDZj[href]:hover h2,.nrDZj[href]:hover h3,.nrDZj[href]:hover h4{-webkit-text-decoration-color:#eb6500;text-decoration-color:#eb6500;}/*!sc*/\n",
       ".nrDZj[href][data-focus-visible-added]{outline:2px solid #eb6500;}/*!sc*/\n",
       "data-styled.g172[id=\"sc-5smygv-0\"]{content:\"nrDZj,\"}/*!sc*/\n",
       ".hqhUYH{font-family:\"Elsevier Gulliver\",Georgia,serif;font-size:1.125em;font-weight:400;color:#2e2e2e;margin:0;}/*!sc*/\n",
       "data-styled.g173[id=\"sc-1nmom32-0\"]{content:\"hqhUYH,\"}/*!sc*/\n",
       ".ebTA-dR{font-size:1.25em;margin-bottom:0;}/*!sc*/\n",
       "data-styled.g174[id=\"sc-1nmom32-1\"]{content:\"ebTA-dR,\"}/*!sc*/\n",
       ".ffmPq{list-style-type:none;margin:0;padding:0;}/*!sc*/\n",
       "data-styled.g176[id=\"sc-9zxyh7-0\"]{content:\"ffmPq,\"}/*!sc*/\n",
       ".exAXfr{margin:1rem 0;}/*!sc*/\n",
       ".exAXfr:last-of-type{margin-bottom:0.5rem;}/*!sc*/\n",
       "data-styled.g177[id=\"sc-9zxyh7-1\"]{content:\"exAXfr,\"}/*!sc*/\n",
       ".jQmQZp{max-width:37.5rem;margin:1.5rem 0;}/*!sc*/\n",
       ".jQmQZp:not(:last-of-type){border-bottom:1px solid #dcdcdc;}/*!sc*/\n",
       "data-styled.g178[id=\"sc-9zxyh7-2\"]{content:\"jQmQZp,\"}/*!sc*/\n",
       ".pgLAT{-webkit-flex-basis:100%;-ms-flex-preferred-size:100%;flex-basis:100%;}/*!sc*/\n",
       "data-styled.g294[id=\"sc-1w3fpd7-0\"]{content:\"pgLAT,\"}/*!sc*/\n",
       ".eOytAu{max-width:60em;margin:calc(1.5rem + 0.25rem) auto 2rem;}/*!sc*/\n",
       "data-styled.g390[id=\"sc-15ho9eu-0\"]{content:\"eOytAu,\"}/*!sc*/\n",
       ".bqTbOd{margin:0.75rem 0 3rem;font-size:1.25em;max-width:35em;}/*!sc*/\n",
       "data-styled.g391[id=\"sc-15ho9eu-1\"]{content:\"bqTbOd,\"}/*!sc*/\n",
       "</style></head><body><noscript><iframe height=\"0\" src=\"https://www.googletagmanager.com/ns.html?id=GTM-559KMPG\" style=\"display: none; visibility: hidden;\" width=\"0\"></iframe></noscript><div id=\"__next\"><div class=\"sc-1g5fvti-2 cdVvBc\"><header class=\"sc-e948u6-0 AZirp\" role=\"banner\"><a class=\"sc-e948u6-3 iDLdAj\" href=\"#skip-to-content-anchor\">Skip to content</a><a class=\"sc-1lwlasb-0 dyvnmg\" href=\"http://www.elsevier.com\"><div class=\"sc-1lwlasb-1 sc-1lwlasb-2 Cioql ldtKVU\"><span style=\"box-sizing: border-box; display: block; overflow: hidden; width: initial; height: initial; background: none; opacity: 1; border: 0px; margin: 0px; padding: 0px; position: absolute; top: 0px; left: 0px; bottom: 0px; right: 0px;\"><img alt=\"Elsevier Tree\" data-nimg=\"fill\" decoding=\"async\" sizes=\"100vw\" src=\"/_next/image?url=%2Fimages%2Flogos%2Felsevier-graphic.svg&amp;w=3840&amp;q=75\" srcset=\"/_next/image?url=%2Fimages%2Flogos%2Felsevier-graphic.svg&amp;w=640&amp;q=75 640w, /_next/image?url=%2Fimages%2Flogos%2Felsevier-graphic.svg&amp;w=750&amp;q=75 750w, /_next/image?url=%2Fimages%2Flogos%2Felsevier-graphic.svg&amp;w=828&amp;q=75 828w, /_next/image?url=%2Fimages%2Flogos%2Felsevier-graphic.svg&amp;w=1080&amp;q=75 1080w, /_next/image?url=%2Fimages%2Flogos%2Felsevier-graphic.svg&amp;w=1200&amp;q=75 1200w, /_next/image?url=%2Fimages%2Flogos%2Felsevier-graphic.svg&amp;w=1920&amp;q=75 1920w, /_next/image?url=%2Fimages%2Flogos%2Felsevier-graphic.svg&amp;w=2048&amp;q=75 2048w, /_next/image?url=%2Fimages%2Flogos%2Felsevier-graphic.svg&amp;w=3840&amp;q=75 3840w\" style=\"position: absolute; top: 0px; left: 0px; bottom: 0px; right: 0px; box-sizing: border-box; padding: 0px; border: none; margin: auto; display: block; width: 0px; height: 0px; min-width: 100%; max-width: 100%; min-height: 100%; max-height: 100%; object-fit: contain; object-position: left center;\"/><noscript><img alt=\"Elsevier Tree\" data-nimg=\"fill\" decoding=\"async\" loading=\"eager\" sizes=\"100vw\" src=\"/_next/image?url=%2Fimages%2Flogos%2Felsevier-graphic.svg&amp;w=3840&amp;q=75\" srcset=\"/_next/image?url=%2Fimages%2Flogos%2Felsevier-graphic.svg&amp;w=640&amp;q=75 640w, /_next/image?url=%2Fimages%2Flogos%2Felsevier-graphic.svg&amp;w=750&amp;q=75 750w, /_next/image?url=%2Fimages%2Flogos%2Felsevier-graphic.svg&amp;w=828&amp;q=75 828w, /_next/image?url=%2Fimages%2Flogos%2Felsevier-graphic.svg&amp;w=1080&amp;q=75 1080w, /_next/image?url=%2Fimages%2Flogos%2Felsevier-graphic.svg&amp;w=1200&amp;q=75 1200w, /_next/image?url=%2Fimages%2Flogos%2Felsevier-graphic.svg&amp;w=1920&amp;q=75 1920w, /_next/image?url=%2Fimages%2Flogos%2Felsevier-graphic.svg&amp;w=2048&amp;q=75 2048w, /_next/image?url=%2Fimages%2Flogos%2Felsevier-graphic.svg&amp;w=3840&amp;q=75 3840w\" style=\"position: absolute; top: 0px; left: 0px; bottom: 0px; right: 0px; box-sizing: border-box; padding: 0px; border: none; margin: auto; display: block; width: 0px; height: 0px; min-width: 100%; max-width: 100%; min-height: 100%; max-height: 100%; object-fit: contain; object-position: left center;\"/></noscript></span></div><div class=\"sc-1lwlasb-1 sc-1lwlasb-3 Cioql fzwpcz\"><span style=\"box-sizing: border-box; display: block; overflow: hidden; width: initial; height: initial; background: none; opacity: 1; border: 0px; margin: 0px; padding: 0px; position: absolute; top: 0px; left: 0px; bottom: 0px; right: 0px;\"><img alt=\"Elsevier Wordmark\" data-nimg=\"fill\" decoding=\"async\" sizes=\"100vw\" src=\"/_next/image?url=%2Fimages%2Flogos%2Felsevier-wordmark.svg&amp;w=3840&amp;q=75\" srcset=\"/_next/image?url=%2Fimages%2Flogos%2Felsevier-wordmark.svg&amp;w=640&amp;q=75 640w, /_next/image?url=%2Fimages%2Flogos%2Felsevier-wordmark.svg&amp;w=750&amp;q=75 750w, /_next/image?url=%2Fimages%2Flogos%2Felsevier-wordmark.svg&amp;w=828&amp;q=75 828w, /_next/image?url=%2Fimages%2Flogos%2Felsevier-wordmark.svg&amp;w=1080&amp;q=75 1080w, /_next/image?url=%2Fimages%2Flogos%2Felsevier-wordmark.svg&amp;w=1200&amp;q=75 1200w, /_next/image?url=%2Fimages%2Flogos%2Felsevier-wordmark.svg&amp;w=1920&amp;q=75 1920w, /_next/image?url=%2Fimages%2Flogos%2Felsevier-wordmark.svg&amp;w=2048&amp;q=75 2048w, /_next/image?url=%2Fimages%2Flogos%2Felsevier-wordmark.svg&amp;w=3840&amp;q=75 3840w\" style=\"position: absolute; top: 0px; left: 0px; bottom: 0px; right: 0px; box-sizing: border-box; padding: 0px; border: none; margin: auto; display: block; width: 0px; height: 0px; min-width: 100%; max-width: 100%; min-height: 100%; max-height: 100%; object-fit: contain; object-position: left center;\"/><noscript><img alt=\"Elsevier Wordmark\" data-nimg=\"fill\" decoding=\"async\" loading=\"eager\" sizes=\"100vw\" src=\"/_next/image?url=%2Fimages%2Flogos%2Felsevier-wordmark.svg&amp;w=3840&amp;q=75\" srcset=\"/_next/image?url=%2Fimages%2Flogos%2Felsevier-wordmark.svg&amp;w=640&amp;q=75 640w, /_next/image?url=%2Fimages%2Flogos%2Felsevier-wordmark.svg&amp;w=750&amp;q=75 750w, /_next/image?url=%2Fimages%2Flogos%2Felsevier-wordmark.svg&amp;w=828&amp;q=75 828w, /_next/image?url=%2Fimages%2Flogos%2Felsevier-wordmark.svg&amp;w=1080&amp;q=75 1080w, /_next/image?url=%2Fimages%2Flogos%2Felsevier-wordmark.svg&amp;w=1200&amp;q=75 1200w, /_next/image?url=%2Fimages%2Flogos%2Felsevier-wordmark.svg&amp;w=1920&amp;q=75 1920w, /_next/image?url=%2Fimages%2Flogos%2Felsevier-wordmark.svg&amp;w=2048&amp;q=75 2048w, /_next/image?url=%2Fimages%2Flogos%2Felsevier-wordmark.svg&amp;w=3840&amp;q=75 3840w\" style=\"position: absolute; top: 0px; left: 0px; bottom: 0px; right: 0px; box-sizing: border-box; padding: 0px; border: none; margin: auto; display: block; width: 0px; height: 0px; min-width: 100%; max-width: 100%; min-height: 100%; max-height: 100%; object-fit: contain; object-position: left center;\"/></noscript></span></div></a><nav aria-label=\"Main Navigation\" class=\"sc-e948u6-4 gOVuFF\" role=\"navigation\"><div class=\"sc-e948u6-5 jtQDOm\"><ul class=\"sc-e948u6-6 jLNEJF\"><li class=\"sc-vyngc7-0 iJdaFT\"><p class=\"sc-1q3g1nv-0 sc-vyngc7-1 eTETae jKSCEA\">Sign in to view your account details and order history</p><a class=\"sc-kvjqii-0 fYuYRT\" href=\"https://account.elsevier.com/auth\"><span>Sign in</span></a><button class=\"sc-1qzfzkl-0 sc-1uz32rr-5 hQPrvi kEzLkc\"><svg aria-label=\"Close Navigation\" class=\"sc-vyngc7-2 fuFVHx\" height=\"1em\" viewbox=\"0 0 357 357\" width=\"1em\"><path d=\"M357 35.7L321.3 0 178.5 142.8 35.7 0 0 35.7l142.8 142.8L0 321.3 35.7 357l142.8-142.8L321.3 357l35.7-35.7-142.8-142.8z\" fill=\"currentColor\"></path></svg></button></li><li class=\"sc-gvqsvo-0 sc-gvqsvo-5 LYYST eTXxtX\"><h3 class=\"sc-1qrq3sd-2 sc-gvqsvo-1 iBQUpF hUPkbI\">About Elsevier</h3><div class=\"sc-gvqsvo-2 hdZLuu\"><ul class=\"sc-gvqsvo-3 doOpoN\"><li class=\"sc-gvqsvo-4 dYBQLb\"><a class=\"sc-kvjqii-0 fYuYRT sc-12m3iqn-0 bXyrVZ\" href=\"https://elsevier.com/about\" rel=\"noopener noreferrer\" target=\"_self\"><span>About us</span></a></li><li class=\"sc-gvqsvo-4 dYBQLb\"><a class=\"sc-kvjqii-0 fYuYRT sc-12m3iqn-0 bXyrVZ\" href=\"https://www.elsevier.com/connect\" rel=\"noopener noreferrer\" target=\"_self\"><span>Elsevier Connect</span></a></li><li class=\"sc-gvqsvo-4 dYBQLb\"><a class=\"sc-kvjqii-0 fYuYRT sc-12m3iqn-0 bXyrVZ\" href=\"https://www.elsevier.com/about/careers\" rel=\"noopener noreferrer\" target=\"_self\"><span>Careers</span></a></li></ul></div></li><li class=\"sc-gvqsvo-0 sc-gvqsvo-6 LYYST cWkpUK\"><div class=\"sc-1fdbg4d-0 grcxMK\"><button aria-expanded=\"false\" class=\"sc-1qzfzkl-0 sc-1fdbg4d-8 hQPrvi ewtwcb\">About Elsevier</button><div class=\"sc-1fdbg4d-2 sc-1fdbg4d-3 dZzYzL gnRPaP\" data-align=\"left\" hidden=\"\"><ul class=\"sc-1fdbg4d-4 sc-1fdbg4d-5 gVBpEc fWJIJp\"><li class=\"sc-1fdbg4d-6 sc-1fdbg4d-7 dTlWdR LGFeA\"><a class=\"sc-kvjqii-0 fYuYRT sc-12m3iqn-0 bXyrVZ\" href=\"https://elsevier.com/about\" rel=\"noopener noreferrer\" target=\"_self\"><span>About us</span></a></li><li class=\"sc-1fdbg4d-6 sc-1fdbg4d-7 dTlWdR LGFeA\"><a class=\"sc-kvjqii-0 fYuYRT sc-12m3iqn-0 bXyrVZ\" href=\"https://www.elsevier.com/connect\" rel=\"noopener noreferrer\" target=\"_self\"><span>Elsevier Connect</span></a></li><li class=\"sc-1fdbg4d-6 sc-1fdbg4d-7 dTlWdR LGFeA\"><a class=\"sc-kvjqii-0 fYuYRT sc-12m3iqn-0 bXyrVZ\" href=\"https://www.elsevier.com/about/careers\" rel=\"noopener noreferrer\" target=\"_self\"><span>Careers</span></a></li></ul></div></div></li><li class=\"sc-gvqsvo-0 sc-gvqsvo-5 LYYST eTXxtX\"><h3 class=\"sc-1qrq3sd-2 sc-gvqsvo-1 iBQUpF hUPkbI\">Products &amp; Solutions</h3><div class=\"sc-gvqsvo-2 hdZLuu\"><ul class=\"sc-gvqsvo-3 doOpoN\"><li class=\"sc-gvqsvo-4 dYBQLb\"><a class=\"sc-kvjqii-0 fYuYRT sc-12m3iqn-0 bXyrVZ\" href=\"https://www.elsevier.com/rd-solutions\" rel=\"noopener noreferrer\" target=\"_self\"><span>R &amp; D Solutions</span></a></li><li class=\"sc-gvqsvo-4 dYBQLb\"><a class=\"sc-kvjqii-0 fYuYRT sc-12m3iqn-0 bXyrVZ\" href=\"https://www.elsevier.com/clinical-solutions\" rel=\"noopener noreferrer\" target=\"_self\"><span>Clinical Solutions</span></a></li><li class=\"sc-gvqsvo-4 dYBQLb\"><a class=\"sc-kvjqii-0 fYuYRT sc-12m3iqn-0 bXyrVZ\" href=\"https://www.elsevier.com/research-platforms\" rel=\"noopener noreferrer\" target=\"_self\"><span>Research Platforms</span></a></li><li class=\"sc-gvqsvo-4 dYBQLb\"><a class=\"sc-kvjqii-0 fYuYRT sc-12m3iqn-0 bXyrVZ\" href=\"https://www.elsevier.com/research-intelligence\" rel=\"noopener noreferrer\" target=\"_self\"><span>Research Intelligence</span></a></li><li class=\"sc-gvqsvo-4 dYBQLb\"><a class=\"sc-kvjqii-0 fYuYRT sc-12m3iqn-0 bXyrVZ\" href=\"https://www.elsevier.com/education\" rel=\"noopener noreferrer\" target=\"_self\"><span>Education</span></a></li><li class=\"sc-gvqsvo-4 dYBQLb\"><a class=\"sc-kvjqii-0 fYuYRT sc-12m3iqn-0 bXyrVZ\" href=\"https://www.elsevier.com/solutions\" rel=\"noopener noreferrer\" target=\"_self\"><span>All Solutions</span></a></li></ul></div></li><li class=\"sc-gvqsvo-0 sc-gvqsvo-6 LYYST cWkpUK\"><div class=\"sc-1fdbg4d-0 grcxMK\"><button aria-expanded=\"false\" class=\"sc-1qzfzkl-0 sc-1fdbg4d-8 hQPrvi ewtwcb\">Products &amp; Solutions</button><div class=\"sc-1fdbg4d-2 sc-1fdbg4d-3 dZzYzL gnRPaP\" data-align=\"left\" hidden=\"\"><ul class=\"sc-1fdbg4d-4 sc-1fdbg4d-5 gVBpEc fWJIJp\"><li class=\"sc-1fdbg4d-6 sc-1fdbg4d-7 dTlWdR LGFeA\"><a class=\"sc-kvjqii-0 fYuYRT sc-12m3iqn-0 bXyrVZ\" href=\"https://www.elsevier.com/rd-solutions\" rel=\"noopener noreferrer\" target=\"_self\"><span>R &amp; D Solutions</span></a></li><li class=\"sc-1fdbg4d-6 sc-1fdbg4d-7 dTlWdR LGFeA\"><a class=\"sc-kvjqii-0 fYuYRT sc-12m3iqn-0 bXyrVZ\" href=\"https://www.elsevier.com/clinical-solutions\" rel=\"noopener noreferrer\" target=\"_self\"><span>Clinical Solutions</span></a></li><li class=\"sc-1fdbg4d-6 sc-1fdbg4d-7 dTlWdR LGFeA\"><a class=\"sc-kvjqii-0 fYuYRT sc-12m3iqn-0 bXyrVZ\" href=\"https://www.elsevier.com/research-platforms\" rel=\"noopener noreferrer\" target=\"_self\"><span>Research Platforms</span></a></li><li class=\"sc-1fdbg4d-6 sc-1fdbg4d-7 dTlWdR LGFeA\"><a class=\"sc-kvjqii-0 fYuYRT sc-12m3iqn-0 bXyrVZ\" href=\"https://www.elsevier.com/research-intelligence\" rel=\"noopener noreferrer\" target=\"_self\"><span>Research Intelligence</span></a></li><li class=\"sc-1fdbg4d-6 sc-1fdbg4d-7 dTlWdR LGFeA\"><a class=\"sc-kvjqii-0 fYuYRT sc-12m3iqn-0 bXyrVZ\" href=\"https://www.elsevier.com/education\" rel=\"noopener noreferrer\" target=\"_self\"><span>Education</span></a></li><li class=\"sc-1fdbg4d-6 sc-1fdbg4d-7 dTlWdR LGFeA\"><a class=\"sc-kvjqii-0 fYuYRT sc-12m3iqn-0 bXyrVZ\" href=\"https://www.elsevier.com/solutions\" rel=\"noopener noreferrer\" target=\"_self\"><span>All Solutions</span></a></li></ul></div></div></li><li class=\"sc-gvqsvo-0 sc-gvqsvo-5 LYYST eTXxtX\"><h3 class=\"sc-1qrq3sd-2 sc-gvqsvo-1 iBQUpF hUPkbI\">Services</h3><div class=\"sc-gvqsvo-2 hdZLuu\"><ul class=\"sc-gvqsvo-3 doOpoN\"><li class=\"sc-gvqsvo-4 dYBQLb\"><a class=\"sc-kvjqii-0 fYuYRT sc-12m3iqn-0 bXyrVZ\" href=\"https://www.elsevier.com/authors\" rel=\"noopener noreferrer\" target=\"_self\"><span>Authors</span></a></li><li class=\"sc-gvqsvo-4 dYBQLb\"><a class=\"sc-kvjqii-0 fYuYRT sc-12m3iqn-0 bXyrVZ\" href=\"https://www.elsevier.com/editors\" rel=\"noopener noreferrer\" target=\"_self\"><span>Editors</span></a></li><li class=\"sc-gvqsvo-4 dYBQLb\"><a class=\"sc-kvjqii-0 fYuYRT sc-12m3iqn-0 bXyrVZ\" href=\"https://www.elsevier.com/reviewers\" rel=\"noopener noreferrer\" target=\"_self\"><span>Reviewers</span></a></li><li class=\"sc-gvqsvo-4 dYBQLb\"><a class=\"sc-kvjqii-0 fYuYRT sc-12m3iqn-0 bXyrVZ\" href=\"https://www.elsevier.com/librarians\" rel=\"noopener noreferrer\" target=\"_self\"><span>Librarians</span></a></li><li class=\"sc-gvqsvo-4 dYBQLb\"><a class=\"sc-kvjqii-0 fYuYRT sc-12m3iqn-0 bXyrVZ\" href=\"https://www.elsevier.com/strategic-partners\" rel=\"noopener noreferrer\" target=\"_self\"><span>Strategic Partners</span></a></li><li class=\"sc-gvqsvo-4 dYBQLb\"><a class=\"sc-kvjqii-0 fYuYRT sc-12m3iqn-0 bXyrVZ\" href=\"https://www.elsevier.com/open-access\" rel=\"noopener noreferrer\" target=\"_self\"><span>Open Access</span></a></li><li class=\"sc-gvqsvo-4 dYBQLb\"><a class=\"sc-kvjqii-0 fYuYRT sc-12m3iqn-0 bXyrVZ\" href=\"https://www.elsevier.com/societies\" rel=\"noopener noreferrer\" target=\"_self\"><span>Societies</span></a></li></ul></div></li><li class=\"sc-gvqsvo-0 sc-gvqsvo-6 LYYST cWkpUK\"><div class=\"sc-1fdbg4d-0 grcxMK\"><button aria-expanded=\"false\" class=\"sc-1qzfzkl-0 sc-1fdbg4d-8 hQPrvi ewtwcb\">Services</button><div class=\"sc-1fdbg4d-2 sc-1fdbg4d-3 dZzYzL gnRPaP\" data-align=\"left\" hidden=\"\"><ul class=\"sc-1fdbg4d-4 sc-1fdbg4d-5 gVBpEc fWJIJp\"><li class=\"sc-1fdbg4d-6 sc-1fdbg4d-7 dTlWdR LGFeA\"><a class=\"sc-kvjqii-0 fYuYRT sc-12m3iqn-0 bXyrVZ\" href=\"https://www.elsevier.com/authors\" rel=\"noopener noreferrer\" target=\"_self\"><span>Authors</span></a></li><li class=\"sc-1fdbg4d-6 sc-1fdbg4d-7 dTlWdR LGFeA\"><a class=\"sc-kvjqii-0 fYuYRT sc-12m3iqn-0 bXyrVZ\" href=\"https://www.elsevier.com/editors\" rel=\"noopener noreferrer\" target=\"_self\"><span>Editors</span></a></li><li class=\"sc-1fdbg4d-6 sc-1fdbg4d-7 dTlWdR LGFeA\"><a class=\"sc-kvjqii-0 fYuYRT sc-12m3iqn-0 bXyrVZ\" href=\"https://www.elsevier.com/reviewers\" rel=\"noopener noreferrer\" target=\"_self\"><span>Reviewers</span></a></li><li class=\"sc-1fdbg4d-6 sc-1fdbg4d-7 dTlWdR LGFeA\"><a class=\"sc-kvjqii-0 fYuYRT sc-12m3iqn-0 bXyrVZ\" href=\"https://www.elsevier.com/librarians\" rel=\"noopener noreferrer\" target=\"_self\"><span>Librarians</span></a></li><li class=\"sc-1fdbg4d-6 sc-1fdbg4d-7 dTlWdR LGFeA\"><a class=\"sc-kvjqii-0 fYuYRT sc-12m3iqn-0 bXyrVZ\" href=\"https://www.elsevier.com/strategic-partners\" rel=\"noopener noreferrer\" target=\"_self\"><span>Strategic Partners</span></a></li><li class=\"sc-1fdbg4d-6 sc-1fdbg4d-7 dTlWdR LGFeA\"><a class=\"sc-kvjqii-0 fYuYRT sc-12m3iqn-0 bXyrVZ\" href=\"https://www.elsevier.com/open-access\" rel=\"noopener noreferrer\" target=\"_self\"><span>Open Access</span></a></li><li class=\"sc-1fdbg4d-6 sc-1fdbg4d-7 dTlWdR LGFeA\"><a class=\"sc-kvjqii-0 fYuYRT sc-12m3iqn-0 bXyrVZ\" href=\"https://www.elsevier.com/societies\" rel=\"noopener noreferrer\" target=\"_self\"><span>Societies</span></a></li></ul></div></div></li><li class=\"sc-gvqsvo-0 sc-gvqsvo-5 LYYST eTXxtX\"><h3 class=\"sc-1qrq3sd-2 sc-gvqsvo-1 iBQUpF hUPkbI\">Shop &amp; Discover</h3><div class=\"sc-gvqsvo-2 hdZLuu\"><ul class=\"sc-gvqsvo-3 doOpoN\"><li class=\"sc-gvqsvo-4 dYBQLb\"><a class=\"sc-kvjqii-0 fYuYRT sc-12m3iqn-0 bXyrVZ\" href=\"https://www.elsevier.com/books-and-journals\" rel=\"noopener noreferrer\" target=\"_self\"><span>Books &amp; Journals</span></a></li><li class=\"sc-gvqsvo-4 dYBQLb\"><a class=\"sc-kvjqii-0 fYuYRT sc-12m3iqn-0 bXyrVZ\" href=\"https://webshop.elsevier.com/?utm_source=ecom&amp;utm_medium=top&amp;utm_campaign=webshop\" rel=\"noopener noreferrer\" target=\"_self\"><span>Author Webshop <svg aria-hidden=\"true\" height=\"1em\" viewbox=\"0 0 14 14\" width=\"1em\" xmlns=\"http://www.w3.org/2000/svg\"><path d=\"M.445 1.829H10.9L0 12.705 1.294 14 12.167 3.149v10.38H14V0H.445z\" fill=\"currentColor\" fill-rule=\"nonzero\"></path></svg></span></a></li></ul></div></li><li class=\"sc-gvqsvo-0 sc-gvqsvo-6 LYYST cWkpUK\"><div class=\"sc-1fdbg4d-0 grcxMK\"><button aria-expanded=\"false\" class=\"sc-1qzfzkl-0 sc-1fdbg4d-8 hQPrvi ewtwcb\">Shop &amp; Discover</button><div class=\"sc-1fdbg4d-2 sc-1fdbg4d-3 dZzYzL gnRPaP\" data-align=\"left\" hidden=\"\"><ul class=\"sc-1fdbg4d-4 sc-1fdbg4d-5 gVBpEc fWJIJp\"><li class=\"sc-1fdbg4d-6 sc-1fdbg4d-7 dTlWdR LGFeA\"><a class=\"sc-kvjqii-0 fYuYRT sc-12m3iqn-0 bXyrVZ\" href=\"https://www.elsevier.com/books-and-journals\" rel=\"noopener noreferrer\" target=\"_self\"><span>Books &amp; Journals</span></a></li><li class=\"sc-1fdbg4d-6 sc-1fdbg4d-7 dTlWdR LGFeA\"><a class=\"sc-kvjqii-0 fYuYRT sc-12m3iqn-0 bXyrVZ\" href=\"https://webshop.elsevier.com/?utm_source=ecom&amp;utm_medium=top&amp;utm_campaign=webshop\" rel=\"noopener noreferrer\" target=\"_self\"><span>Author Webshop <svg aria-hidden=\"true\" height=\"1em\" viewbox=\"0 0 14 14\" width=\"1em\" xmlns=\"http://www.w3.org/2000/svg\"><path d=\"M.445 1.829H10.9L0 12.705 1.294 14 12.167 3.149v10.38H14V0H.445z\" fill=\"currentColor\" fill-rule=\"nonzero\"></path></svg></span></a></li></ul></div></div></li></ul><ul class=\"sc-1uz32rr-0 jdzJJA\"><li class=\"sc-1uz32rr-1 kQunip\"><button aria-controls=\"react-collapsed-panel-undefined\" aria-expanded=\"false\" class=\"sc-1qzfzkl-0 sc-1dvbwt1-1 hQPrvi iScfRi\" id=\"react-collapsed-toggle-undefined\" role=\"button\" tabindex=\"0\" type=\"button\"><div class=\"sc-1dvbwt1-2 kfquvO\"><span class=\"sc-1dvbwt1-3 ioewXg\">Search</span><svg class=\"sc-1dvbwt1-0 bqGuKi\" height=\"1em\" preserveaspectratio=\"xMinYMax meet\" viewbox=\"12 8 55 60\" width=\"1em\"><path d=\"M65.6 62L52 48.4c2.9-3.7 4.5-8.2 4.5-13 0-5.6-2.2-10.9-6.2-14.9s-9.3-6.2-14.9-6.2-10.9 2.2-14.9 6.2-6.2 9.3-6.2 14.9 2.2 10.9 6.2 14.9 9.3 6.2 14.9 6.2c4.8 0 9.3-1.6 13-4.5L62 65.6l3.6-3.6zM24.1 46.7c-3-3-4.7-7-4.7-11.3 0-4.3 1.7-8.3 4.7-11.3s7-4.7 11.3-4.7c4.3 0 8.3 1.7 11.3 4.7s4.7 7 4.7 11.3c0 4.3-1.7 8.3-4.7 11.3s-7 4.7-11.3 4.7c-4.3 0-8.3-1.7-11.3-4.7z\" fill=\"currentColor\"></path></svg></div></button></li><li class=\"sc-1uz32rr-1 kQunip\"><a class=\"sc-1uz32rr-4 kMumlj\" href=\"https://global-checkout.elsevier.com\"><svg aria-label=\"View Cart\" height=\"1em\" viewbox=\"0 0 64 64\" width=\"1em\"><path d=\"M18.82 10c-1.112-3-4.467-6-8.308-6h-9.3v5h9.3c1.97 0 3.7 1.612 3.7 3.452v28.52c0 4.577 3.57 8.031 8.3 8.031h33.7v-5h-33.7c-2.005 0-3.3-1.191-3.3-3.031v-25.98h35.6c-.385 5-.95 11.89-1.216 13.64-.274 1.808-1.98 3.14-4.451 3.477-2.796.383-17.34 2.057-23.93 2.855V40c6.274-.76 21.65-2.536 24.61-2.94 4.685-.642 8.107-3.66 8.716-7.687.425-2.811 1.421-16.12 1.464-16.69l.2-2.685h-41.38m32.4 42c-2.764 0-5 2.238-5 5s2.236 5 5 5a5.001 5.001 0 000-10m-32 0c-2.763 0-5 2.238-5 5a5 5 0 1010 0 5 5 0 00-5-5\" fill=\"currentColor\"></path></svg></a></li><li class=\"sc-1uz32rr-1 sc-1uz32rr-2 kQunip isxohE\"><a class=\"sc-1uz32rr-4 kMumlj\" href=\"https://account.elsevier.com/auth\"><svg aria-label=\"View Account\" height=\"1em\" viewbox=\"0 0 106 128\" width=\"1em\"><path d=\"M11.07 120l.84-9.29C13.88 91.92 35.25 87.78 53 87.78c17.74 0 39.11 4.13 41.08 22.84l.84 9.38h10.04l-.93-10.34C101.88 89.23 83.89 78 53 78S4.11 89.22 1.95 109.73L1.04 120h10.03M53 17.71c-9.72 0-18.24 8.69-18.24 18.59 0 13.67 7.84 23.98 18.24 23.98S71.24 49.97 71.24 36.3c0-9.9-8.52-18.59-18.24-18.59zM53 70c-15.96 0-28-14.48-28-33.67C25 20.97 37.82 8 53 8s28 12.97 28 28.33C81 55.52 68.96 70 53 70\" fill=\"currentColor\"></path></svg></a></li><li class=\"sc-1uz32rr-1 sc-1uz32rr-3 kQunip fjIepc\"><button class=\"sc-1qzfzkl-0 sc-1uz32rr-5 hQPrvi kEzLkc\"><svg aria-label=\"Open Navigation\" class=\"icon-menu_svg__utility-icon\" height=\"1em\" width=\"1em\" xmlns=\"http://www.w3.org/2000/svg\"><path d=\"M0 14h40v2H0zm0-7h40v2H0zm0-7h40v2H0z\" fill=\"currentColor\"></path></svg></button></li></ul></div></nav><div aria-hidden=\"true\" class=\"sc-nbr0sq-0 iCwJnF\" id=\"react-collapsed-panel-undefined\" style=\"box-sizing: border-box; display: none; height: 0px; overflow: hidden;\"><div class=\"sc-1dxr8k6-0 lhCPPw\"><form autocomplete=\"off\" class=\"sc-nbr0sq-1 iPBpEs\" role=\"search\"><label class=\"sc-nbr0sq-3 lefOXt\" for=\"search-input\">Search by keyword, title, subject area</label><div class=\"sc-nbr0sq-2 jRjTLz\"><input class=\"sc-nbr0sq-4 CJUyz\" id=\"search-input\" type=\"search\" value=\"\"/><button class=\"sc-nbr0sq-6 iMbvxE\" id=\"clear-search-input\" title=\"Clear search\" type=\"button\"><svg height=\"1em\" viewbox=\"0 0 357 357\" width=\"1em\"><path d=\"M357 35.7L321.3 0 178.5 142.8 35.7 0 0 35.7l142.8 142.8L0 321.3 35.7 357l142.8-142.8L321.3 357l35.7-35.7-142.8-142.8z\" fill=\"currentColor\"></path></svg></button><button class=\"sc-nbr0sq-5 bwhAfp\" title=\"Search\" type=\"submit\"><svg height=\"1em\" preserveaspectratio=\"xMinYMax meet\" viewbox=\"12 8 55 60\" width=\"1em\"><path d=\"M65.6 62L52 48.4c2.9-3.7 4.5-8.2 4.5-13 0-5.6-2.2-10.9-6.2-14.9s-9.3-6.2-14.9-6.2-10.9 2.2-14.9 6.2-6.2 9.3-6.2 14.9 2.2 10.9 6.2 14.9 9.3 6.2 14.9 6.2c4.8 0 9.3-1.6 13-4.5L62 65.6l3.6-3.6zM24.1 46.7c-3-3-4.7-7-4.7-11.3 0-4.3 1.7-8.3 4.7-11.3s7-4.7 11.3-4.7c4.3 0 8.3 1.7 11.3 4.7s4.7 7 4.7 11.3c0 4.3-1.7 8.3-4.7 11.3s-7 4.7-11.3 4.7c-4.3 0-8.3-1.7-11.3-4.7z\" fill=\"currentColor\"></path></svg></button></div></form></div></div><div class=\"sc-e948u6-1 iEiQWV\"><div class=\"sc-dc2toh-0 fWlycu sc-29krko-8 iQzzfb\" display=\"none\" opacity=\"0\"><div class=\"sc-29krko-0 jdxuot\"><div class=\"sc-1dxr8k6-0 sc-29krko-3 lhCPPw PQfhP\"><div class=\"sc-uosj0-0 AcWHr sc-29krko-9 RNqsW\"><div class=\"sc-uosj0-1 fAiWUX\"><img alt=\"Journal cover for Artificial Intelligence\" src=\"https://www.elsevier.com/__data/cover_img/505601.gif\" width=\"32\"/></div></div><h3 class=\"sc-29krko-1 edcyFL\">Artificial Intelligence</h3><dl class=\"sc-29krko-4 jETNdX sc-29krko-7 dnrrWg\"><div class=\"sc-29krko-5 gOAMsJ\"><dt>Impact Factor</dt><dd class=\"sc-29krko-6 bBznbl\">14.050</dd></div><div class=\"sc-29krko-5 gOAMsJ\"><dt>CiteScore</dt><dd class=\"sc-29krko-6 bBznbl\">8.7</dd></div></dl><div class=\"sc-29krko-2 lcqMeI\"><a class=\"sc-4ky1f6-0 sc-4ky1f6-3 hnoKGz hcBixJ sc-29krko-10 eqibmi\" data-aa-name=\"View articles\" data-aa-region=\"sticky-bar\" data-button-size=\"small\" href=\"https://www.sciencedirect.com/science/journal/00043702\" size=\"small\"><span>View articles</span></a><a class=\"sc-4ky1f6-0 sc-4ky1f6-1 hnoKGz hLnlQv sc-29krko-11 civIvf\" data-aa-name=\"Submit your paper\" data-aa-region=\"sticky-bar\" data-button-size=\"small\" href=\"https://www.editorialmanager.com/artint/default.aspx\" size=\"small\"><span>Submit your paper</span></a></div></div></div></div></div></header><div class=\"sc-e948u6-2 eBRfdU\"></div><div class=\"sc-1g5fvti-0 jOcueP\" data-subpage=\"\" id=\"skip-to-content-anchor\"><nav aria-label=\"Breadcrumbs\" class=\"sc-yuedcl-0 cFSZAH sc-15ho9eu-0 eOytAu\"><ol itemscope=\"\" itemtype=\"https://schema.org/BreadcrumbList\"><li itemprop=\"itemListElement\" itemscope=\"\" itemtype=\"https://schema.org/ListItem\"><a href=\"https://www.elsevier.com/\" itemid=\"https://www.elsevier.com/\" itemprop=\"item\" itemscope=\"\" itemtype=\"https://schema.org/WebPage\"><span itemprop=\"name\">Home</span></a><meta content=\"1\" itemprop=\"position\"/></li><li itemprop=\"itemListElement\" itemscope=\"\" itemtype=\"https://schema.org/ListItem\"><a href=\"https://www.elsevier.com/search-results?labels=journals\" itemid=\"https://www.elsevier.com/search-results?labels=journals\" itemprop=\"item\" itemscope=\"\" itemtype=\"https://schema.org/WebPage\"><span itemprop=\"name\">Journals</span></a><meta content=\"2\" itemprop=\"position\"/></li><li itemprop=\"itemListElement\" itemscope=\"\" itemtype=\"https://schema.org/ListItem\"><a href=\"/artificial-intelligence\" itemid=\"/artificial-intelligence\" itemprop=\"item\" itemscope=\"\" itemtype=\"https://schema.org/WebPage\"><span itemprop=\"name\">Artificial Intelligence</span></a><meta content=\"3\" itemprop=\"position\"/></li><li itemprop=\"itemListElement\" itemscope=\"\" itemtype=\"https://schema.org/ListItem\"><a href=\"/artificial-intelligence/most-downloaded-articles\" itemid=\"/artificial-intelligence/most-downloaded-articles\" itemprop=\"item\" itemscope=\"\" itemtype=\"https://schema.org/WebPage\"><span itemprop=\"name\">Most Downloaded Articles</span></a><meta content=\"4\" itemprop=\"position\"/></li></ol></nav><main class=\"sc-1dxr8k6-0 sc-orwwe2-0 lhCPPw eTISqs\"><div class=\"sc-orwwe2-1 dZFiMY\"><div class=\"sc-uosj0-0 AcWHr\"><a class=\"sc-uosj0-1 fAiWUX header-journal-cover\" data-aa-name=\"Journal Cover\" data-aa-region=\"header\" href=\"https://www.sciencedirect.com/science/journal/00043702\"><img alt=\"Journal cover for Artificial Intelligence\" src=\"https://www.elsevier.com/__data/cover_img/505601.gif\" width=\"75\"/></a><p class=\"sc-1q3g1nv-0 sc-jsgros-0 eTETae ddyzPP\">ISSN: 0004-3702</p></div></div><header class=\"sc-orwwe2-2 fCHAcd\"><p class=\"sc-orwwe2-5 jUaFts\">Artificial Intelligence</p><div class=\"sc-orwwe2-6 dtzDFi\"><a class=\"sc-4ky1f6-0 sc-4ky1f6-1 hnoKGz hLnlQv sub-page-header-submit-your-paper\" data-aa-name=\"Submit your paper\" data-aa-region=\"sub-page-header\" data-button-size=\"small\" href=\"https://www.editorialmanager.com/artint/default.aspx\" size=\"small\"><span>Submit your Paper</span></a><a class=\"sc-4ky1f6-0 sc-4ky1f6-3 hnoKGz hcBixJ sub-page-header-view-articles\" data-aa-name=\"View articles\" data-aa-region=\"sub-page-header\" data-button-size=\"small\" href=\"https://www.sciencedirect.com/science/journal/00043702\" size=\"small\"><span>View Articles</span></a></div><div class=\"sc-1f27thb-0 cRFLRd\"><a class=\"sc-kvjqii-0 fYuYRT header-guide-for-authors\" data-aa-name=\"Guide for authors\" data-aa-region=\"header\" href=\"https://www.elsevier.com/journals/artificial-intelligence/0004-3702/guide-for-authors\" rel=\"noopener noreferrer\" target=\"_self\"><span class=\"sc-kvjqii-1 sc-kvjqii-2 hjlxNa bDcWjJ\"><svg aria-hidden=\"true\" focusable=\"false\" height=\"1em\" viewbox=\"0 0 14 14\" width=\"1em\" xmlns=\"http://www.w3.org/2000/svg\"><path d=\"M.445 1.829H10.9L0 12.705 1.294 14 12.167 3.149v10.38H14V0H.445z\" fill=\"currentColor\" fill-rule=\"nonzero\"></path></svg></span><span>Guide for authors</span></a><div class=\"sc-1fdbg4d-0 grcxMK\"><button aria-expanded=\"false\" class=\"sc-1qzfzkl-0 sc-1fdbg4d-8 hQPrvi\" data-aa-name=\"Track your paper\" data-aa-region=\"header\">Track your paper<svg aria-hidden=\"true\" class=\"sc-1fdbg4d-1 qRtBA\" focusable=\"false\" height=\"1em\" viewbox=\"0 0 9 15\" width=\"1em\"><path d=\"M.156 13.469L6.094 7.53.156 1.594 1.25.5l7.031 7.031-7.031 7.032z\" fill=\"currentColor\" fill-rule=\"nonzero\"></path></svg></button><div class=\"sc-1fdbg4d-2 sc-1fdbg4d-3 dZzYzL egOxdO\" data-align=\"left\" hidden=\"\"><ul class=\"sc-1fdbg4d-4 sc-1fdbg4d-5 gVBpEc\"><li class=\"sc-1fdbg4d-6 sc-1fdbg4d-7 dTlWdR\"><a class=\"sc-kvjqii-0 fYuYRT header-check-submitted-paper\" data-aa-name=\"Check submitted paper\" data-aa-region=\"header\" href=\"https://www.editorialmanager.com/artint/default.aspx\" rel=\"noopener noreferrer\" target=\"_blank\"><span class=\"sc-kvjqii-1 sc-kvjqii-2 hjlxNa bDcWjJ\"><svg aria-hidden=\"true\" focusable=\"false\" height=\"1em\" viewbox=\"0 0 14 14\" width=\"1em\" xmlns=\"http://www.w3.org/2000/svg\"><path d=\"M.445 1.829H10.9L0 12.705 1.294 14 12.167 3.149v10.38H14V0H.445z\" fill=\"currentColor\" fill-rule=\"nonzero\"></path></svg></span><span>Check submitted paper</span></a></li><li class=\"sc-1fdbg4d-6 sc-1fdbg4d-7 dTlWdR\"><a class=\"sc-kvjqii-0 fYuYRT header-track-accepted-paper\" data-aa-name=\"Track accepted paper\" data-aa-region=\"header\" href=\"https://authors.elsevier.com/tracking/landingpage/selection.do\" rel=\"noopener noreferrer\" target=\"_self\"><span class=\"sc-kvjqii-1 sc-kvjqii-2 hjlxNa bDcWjJ\"><svg aria-hidden=\"true\" focusable=\"false\" height=\"1em\" viewbox=\"0 0 14 14\" width=\"1em\" xmlns=\"http://www.w3.org/2000/svg\"><path d=\"M.445 1.829H10.9L0 12.705 1.294 14 12.167 3.149v10.38H14V0H.445z\" fill=\"currentColor\" fill-rule=\"nonzero\"></path></svg></span><span>Track accepted paper</span></a></li></ul></div></div><a class=\"sc-kvjqii-0 fYuYRT header-order-journal-institutional\" data-aa-name=\"Order journal (institutional)\" data-aa-region=\"header\" href=\"https://www.elsevier.com/journals/artificial-intelligence/0004-3702/subscribe?subscriptiontype=institutional\" rel=\"noopener noreferrer\" target=\"_self\"><span class=\"sc-kvjqii-1 sc-kvjqii-2 hjlxNa bDcWjJ\"><svg aria-hidden=\"true\" focusable=\"false\" height=\"1em\" viewbox=\"0 0 14 14\" width=\"1em\" xmlns=\"http://www.w3.org/2000/svg\"><path d=\"M.445 1.829H10.9L0 12.705 1.294 14 12.167 3.149v10.38H14V0H.445z\" fill=\"currentColor\" fill-rule=\"nonzero\"></path></svg></span><span>Order journal</span></a></div></header><div class=\"sc-orwwe2-3 gPmFkB\"><h1 class=\"sc-1qrq3sd-0 sc-orwwe2-4 hCLUbN ysXeK\">Most Downloaded Articles</h1><p class=\"sc-1q3g1nv-0 sc-15ho9eu-1 eTETae bqTbOd\">The most downloaded articles from Artificial Intelligence in the last 90 days.</p><ul class=\"sc-9zxyh7-0 ffmPq\"><li class=\"sc-9zxyh7-1 sc-9zxyh7-2 exAXfr jQmQZp\"><article><a class=\"sc-5smygv-0 nrDZj\" href=\"https://www.sciencedirect.com/science/article/pii/S0004370221000862\"><h2 class=\"sc-1qrq3sd-1 MKjKb sc-1nmom32-0 sc-1nmom32-1 hqhUYH ebTA-dR\">Reward is enough</h2></a><p class=\"sc-1thf9ly-0 sc-1thf9ly-1 ljBYfY bIzabL\"><span class=\"sc-1w3fpd7-0 pgLAT\">Silver, David, Singh, Satinder, Precup, Doina, Sutton, Richard S. </span><em>Open Access</em><span class=\"sc-1thf9ly-2 bKddwo\"><span>October 2021</span></span></p></article></li><li class=\"sc-9zxyh7-1 sc-9zxyh7-2 exAXfr jQmQZp\"><article><a class=\"sc-5smygv-0 nrDZj\" href=\"https://www.sciencedirect.com/science/article/pii/S0004370221000722\"><h2 class=\"sc-1qrq3sd-1 MKjKb sc-1nmom32-0 sc-1nmom32-1 hqhUYH ebTA-dR\">Making sense of raw input</h2></a><p class=\"sc-1thf9ly-0 sc-1thf9ly-1 ljBYfY bIzabL\"><span class=\"sc-1w3fpd7-0 pgLAT\">Evans, Richard, Bošnjak, Matko and 5 more</span><em>Open Access</em><span class=\"sc-1thf9ly-2 bKddwo\"><span>October 2021</span></span></p></article></li><li class=\"sc-9zxyh7-1 sc-9zxyh7-2 exAXfr jQmQZp\"><article><a class=\"sc-5smygv-0 nrDZj\" href=\"https://www.sciencedirect.com/science/article/pii/S0004370215000910\"><h2 class=\"sc-1qrq3sd-1 MKjKb sc-1nmom32-0 sc-1nmom32-1 hqhUYH ebTA-dR\">Law and logic: A review from an argumentation perspective</h2></a><p class=\"sc-1thf9ly-0 sc-1thf9ly-1 ljBYfY bIzabL\"><span class=\"sc-1w3fpd7-0 pgLAT\">Prakken, Henry, Sartor, Giovanni </span><em>Open Access</em><span class=\"sc-1thf9ly-2 bKddwo\"><span>October 2015</span></span></p></article></li><li class=\"sc-9zxyh7-1 sc-9zxyh7-2 exAXfr jQmQZp\"><article><a class=\"sc-5smygv-0 nrDZj\" href=\"https://www.sciencedirect.com/science/article/pii/S0004370298000551\"><h2 class=\"sc-1qrq3sd-1 MKjKb sc-1nmom32-0 sc-1nmom32-1 hqhUYH ebTA-dR\">Creativity and artificial intelligence</h2></a><p class=\"sc-1thf9ly-0 sc-1thf9ly-1 ljBYfY bIzabL\"><span class=\"sc-1w3fpd7-0 pgLAT\">Boden, Margaret A. </span><em>Open Access</em><span class=\"sc-1thf9ly-2 bKddwo\"><span>August 1998</span></span></p></article></li><li class=\"sc-9zxyh7-1 sc-9zxyh7-2 exAXfr jQmQZp\"><article><a class=\"sc-5smygv-0 nrDZj\" href=\"https://www.sciencedirect.com/science/article/pii/S0004370216300790\"><h2 class=\"sc-1qrq3sd-1 MKjKb sc-1nmom32-0 sc-1nmom32-1 hqhUYH ebTA-dR\">Artificial cognition for social human–robot interaction: An implementation</h2></a><p class=\"sc-1thf9ly-0 sc-1thf9ly-1 ljBYfY bIzabL\"><span class=\"sc-1w3fpd7-0 pgLAT\">Lemaignan, Séverin, Warnier, Mathieu and 3 more</span><em>Open Access</em><span class=\"sc-1thf9ly-2 bKddwo\"><span>June 2017</span></span></p></article></li><li class=\"sc-9zxyh7-1 sc-9zxyh7-2 exAXfr jQmQZp\"><article><a class=\"sc-5smygv-0 nrDZj\" href=\"https://www.sciencedirect.com/science/article/pii/S0004370218305988\"><h2 class=\"sc-1qrq3sd-1 MKjKb sc-1nmom32-0 sc-1nmom32-1 hqhUYH ebTA-dR\">Explanation in artificial intelligence: Insights from the social sciences</h2></a><p class=\"sc-1thf9ly-0 sc-1thf9ly-1 ljBYfY bIzabL\"><span class=\"sc-1w3fpd7-0 pgLAT\">Miller, Tim </span><span class=\"sc-1thf9ly-2 bKddwo\"><span>February 2019</span></span></p></article></li><li class=\"sc-9zxyh7-1 sc-9zxyh7-2 exAXfr jQmQZp\"><article><a class=\"sc-5smygv-0 nrDZj\" href=\"https://www.sciencedirect.com/science/article/pii/S0004370220301855\"><h2 class=\"sc-1qrq3sd-1 MKjKb sc-1nmom32-0 sc-1nmom32-1 hqhUYH ebTA-dR\">Making sense of sensory input</h2></a><p class=\"sc-1thf9ly-0 sc-1thf9ly-1 ljBYfY bIzabL\"><span class=\"sc-1w3fpd7-0 pgLAT\">Evans, Richard, Hernández-Orallo, José and 3 more</span><em>Open Access</em><span class=\"sc-1thf9ly-2 bKddwo\"><span>April 2021</span></span></p></article></li><li class=\"sc-9zxyh7-1 sc-9zxyh7-2 exAXfr jQmQZp\"><article><a class=\"sc-5smygv-0 nrDZj\" href=\"https://www.sciencedirect.com/science/article/pii/S0004370214001386\"><h2 class=\"sc-1qrq3sd-1 MKjKb sc-1nmom32-0 sc-1nmom32-1 hqhUYH ebTA-dR\">Conflict-based search for optimal multi-agent pathfinding</h2></a><p class=\"sc-1thf9ly-0 sc-1thf9ly-1 ljBYfY bIzabL\"><span class=\"sc-1w3fpd7-0 pgLAT\">Sharon, Guni, Stern, Roni, Felner, Ariel, Sturtevant, Nathan R. </span><em>Open Access</em><span class=\"sc-1thf9ly-2 bKddwo\"><span>February 2015</span></span></p></article></li><li class=\"sc-9zxyh7-1 sc-9zxyh7-2 exAXfr jQmQZp\"><article><a class=\"sc-5smygv-0 nrDZj\" href=\"https://www.sciencedirect.com/science/article/pii/S0004370299000521\"><h2 class=\"sc-1qrq3sd-1 MKjKb sc-1nmom32-0 sc-1nmom32-1 hqhUYH ebTA-dR\">Between MDPs and semi-MDPs: A framework for temporal abstraction in reinforcement learning</h2></a><p class=\"sc-1thf9ly-0 sc-1thf9ly-1 ljBYfY bIzabL\"><span class=\"sc-1w3fpd7-0 pgLAT\">Sutton, Richard S., Precup, Doina, Singh, Satinder </span><em>Open Access</em><span class=\"sc-1thf9ly-2 bKddwo\"><span>August 1999</span></span></p></article></li><li class=\"sc-9zxyh7-1 sc-9zxyh7-2 exAXfr jQmQZp\"><article><a class=\"sc-5smygv-0 nrDZj\" href=\"https://www.sciencedirect.com/science/article/pii/S0004370219300116\"><h2 class=\"sc-1qrq3sd-1 MKjKb sc-1nmom32-0 sc-1nmom32-1 hqhUYH ebTA-dR\">The Hanabi challenge: A new frontier for AI research</h2></a><p class=\"sc-1thf9ly-0 sc-1thf9ly-1 ljBYfY bIzabL\"><span class=\"sc-1w3fpd7-0 pgLAT\">Bard, Nolan, Foerster, Jakob N. and 13 more</span><em>Open Access</em><span class=\"sc-1thf9ly-2 bKddwo\"><span>March 2020</span></span></p></article></li><li class=\"sc-9zxyh7-1 sc-9zxyh7-2 exAXfr jQmQZp\"><article><a class=\"sc-5smygv-0 nrDZj\" href=\"https://www.sciencedirect.com/science/article/pii/S0004370220301533\"><h2 class=\"sc-1qrq3sd-1 MKjKb sc-1nmom32-0 sc-1nmom32-1 hqhUYH ebTA-dR\">Evaluating XAI: A comparison of rule-based and example-based explanations</h2></a><p class=\"sc-1thf9ly-0 sc-1thf9ly-1 ljBYfY bIzabL\"><span class=\"sc-1w3fpd7-0 pgLAT\">van der Waa, Jasper, Nieuwburg, Elisabeth, Cremers, Anita, Neerincx, Mark </span><em>Open Access</em><span class=\"sc-1thf9ly-2 bKddwo\"><span>February 2021</span></span></p></article></li><li class=\"sc-9zxyh7-1 sc-9zxyh7-2 exAXfr jQmQZp\"><article><a class=\"sc-5smygv-0 nrDZj\" href=\"https://www.sciencedirect.com/science/article/pii/S0004370207000793\"><h2 class=\"sc-1qrq3sd-1 MKjKb sc-1nmom32-0 sc-1nmom32-1 hqhUYH ebTA-dR\">Argumentation in artificial intelligence</h2></a><p class=\"sc-1thf9ly-0 sc-1thf9ly-1 ljBYfY bIzabL\"><span class=\"sc-1w3fpd7-0 pgLAT\">Bench-Capon, T.J.M., Dunne, Paul E. </span><em>Open Access</em><span class=\"sc-1thf9ly-2 bKddwo\"><span>October 2007</span></span></p></article></li><li class=\"sc-9zxyh7-1 sc-9zxyh7-2 exAXfr jQmQZp\"><article><a class=\"sc-5smygv-0 nrDZj\" href=\"https://www.sciencedirect.com/science/article/pii/S0004370216300285\"><h2 class=\"sc-1qrq3sd-1 MKjKb sc-1nmom32-0 sc-1nmom32-1 hqhUYH ebTA-dR\">Algorithms for computing strategies in two-player simultaneous move games</h2></a><p class=\"sc-1thf9ly-0 sc-1thf9ly-1 ljBYfY bIzabL\"><span class=\"sc-1w3fpd7-0 pgLAT\">Bošanský, Branislav, Lisý, Viliam and 3 more</span><em>Open Access</em><span class=\"sc-1thf9ly-2 bKddwo\"><span>August 2016</span></span></p></article></li><li class=\"sc-9zxyh7-1 sc-9zxyh7-2 exAXfr jQmQZp\"><article><a class=\"sc-5smygv-0 nrDZj\" href=\"https://www.sciencedirect.com/science/article/pii/S0004370220301958\"><h2 class=\"sc-1qrq3sd-1 MKjKb sc-1nmom32-0 sc-1nmom32-1 hqhUYH ebTA-dR\">Multiple object tracking: A literature review</h2></a><p class=\"sc-1thf9ly-0 sc-1thf9ly-1 ljBYfY bIzabL\"><span class=\"sc-1w3fpd7-0 pgLAT\">Luo, Wenhan, Xing, Junliang and 4 more</span><span class=\"sc-1thf9ly-2 bKddwo\"><span>April 2021</span></span></p></article></li><li class=\"sc-9zxyh7-1 sc-9zxyh7-2 exAXfr jQmQZp\"><article><a class=\"sc-5smygv-0 nrDZj\" href=\"https://www.sciencedirect.com/science/article/pii/S0004370297000635\"><h2 class=\"sc-1qrq3sd-1 MKjKb sc-1nmom32-0 sc-1nmom32-1 hqhUYH ebTA-dR\">Selection of relevant features and examples in machine learning</h2></a><p class=\"sc-1thf9ly-0 sc-1thf9ly-1 ljBYfY bIzabL\"><span class=\"sc-1w3fpd7-0 pgLAT\">Blum, Avrim L., Langley, Pat </span><em>Open Access</em><span class=\"sc-1thf9ly-2 bKddwo\"><span>December 1997</span></span></p></article></li><li class=\"sc-9zxyh7-1 sc-9zxyh7-2 exAXfr jQmQZp\"><article><a class=\"sc-5smygv-0 nrDZj\" href=\"https://www.sciencedirect.com/science/article/pii/S0004370221000515\"><h2 class=\"sc-1qrq3sd-1 MKjKb sc-1nmom32-0 sc-1nmom32-1 hqhUYH ebTA-dR\">A survey of inverse reinforcement learning: Challenges, methods and progress</h2></a><p class=\"sc-1thf9ly-0 sc-1thf9ly-1 ljBYfY bIzabL\"><span class=\"sc-1w3fpd7-0 pgLAT\">Arora, Saurabh, Doshi, Prashant </span><span class=\"sc-1thf9ly-2 bKddwo\"><span>August 2021</span></span></p></article></li><li class=\"sc-9zxyh7-1 sc-9zxyh7-2 exAXfr jQmQZp\"><article><a class=\"sc-5smygv-0 nrDZj\" href=\"https://www.sciencedirect.com/science/article/pii/S0004370221000539\"><h2 class=\"sc-1qrq3sd-1 MKjKb sc-1nmom32-0 sc-1nmom32-1 hqhUYH ebTA-dR\">Explaining individual predictions when features are dependent: More accurate approximations to Shapley values</h2></a><p class=\"sc-1thf9ly-0 sc-1thf9ly-1 ljBYfY bIzabL\"><span class=\"sc-1w3fpd7-0 pgLAT\">Aas, Kjersti, Jullum, Martin, Løland, Anders </span><em>Open Access</em><span class=\"sc-1thf9ly-2 bKddwo\"><span>September 2021</span></span></p></article></li><li class=\"sc-9zxyh7-1 sc-9zxyh7-2 exAXfr jQmQZp\"><article><a class=\"sc-5smygv-0 nrDZj\" href=\"https://www.sciencedirect.com/science/article/pii/S0004370221000096\"><h2 class=\"sc-1qrq3sd-1 MKjKb sc-1nmom32-0 sc-1nmom32-1 hqhUYH ebTA-dR\">A review of possible effects of cognitive biases on interpretation of rule-based machine learning models</h2></a><p class=\"sc-1thf9ly-0 sc-1thf9ly-1 ljBYfY bIzabL\"><span class=\"sc-1w3fpd7-0 pgLAT\">Kliegr, Tomáš, Bahník, Štěpán, Fürnkranz, Johannes </span><em>Open Access</em><span class=\"sc-1thf9ly-2 bKddwo\"><span>June 2021</span></span></p></article></li><li class=\"sc-9zxyh7-1 sc-9zxyh7-2 exAXfr jQmQZp\"><article><a class=\"sc-5smygv-0 nrDZj\" href=\"https://www.sciencedirect.com/science/article/pii/S0004370216300868\"><h2 class=\"sc-1qrq3sd-1 MKjKb sc-1nmom32-0 sc-1nmom32-1 hqhUYH ebTA-dR\">Integrating social power into the decision-making of cognitive agents</h2></a><p class=\"sc-1thf9ly-0 sc-1thf9ly-1 ljBYfY bIzabL\"><span class=\"sc-1w3fpd7-0 pgLAT\">Pereira, Gonçalo, Prada, Rui, Santos, Pedro A. </span><em>Open Access</em><span class=\"sc-1thf9ly-2 bKddwo\"><span>December 2016</span></span></p></article></li><li class=\"sc-9zxyh7-1 sc-9zxyh7-2 exAXfr jQmQZp\"><article><a class=\"sc-5smygv-0 nrDZj\" href=\"https://www.sciencedirect.com/science/article/pii/S0004370221000588\"><h2 class=\"sc-1qrq3sd-1 MKjKb sc-1nmom32-0 sc-1nmom32-1 hqhUYH ebTA-dR\">“That's (not) the output I expected!” On the role of end user expectations in creating explanations of AI systems</h2></a><p class=\"sc-1thf9ly-0 sc-1thf9ly-1 ljBYfY bIzabL\"><span class=\"sc-1w3fpd7-0 pgLAT\">Riveiro, Maria, Thill, Serge </span><em>Open Access</em><span class=\"sc-1thf9ly-2 bKddwo\"><span>September 2021</span></span></p></article></li><li class=\"sc-9zxyh7-1 sc-9zxyh7-2 exAXfr jQmQZp\"><article><a class=\"sc-5smygv-0 nrDZj\" href=\"https://www.sciencedirect.com/science/article/pii/S0004370221000102\"><h2 class=\"sc-1qrq3sd-1 MKjKb sc-1nmom32-0 sc-1nmom32-1 hqhUYH ebTA-dR\">Explaining black-box classifiers using post-hoc explanations-by-example: The effect of explanations and error-rates in XAI user studies</h2></a><p class=\"sc-1thf9ly-0 sc-1thf9ly-1 ljBYfY bIzabL\"><span class=\"sc-1w3fpd7-0 pgLAT\">Kenny, Eoin M., Ford, Courtney, Quinn, Molly, Keane, Mark T. </span><em>Open Access</em><span class=\"sc-1thf9ly-2 bKddwo\"><span>May 2021</span></span></p></article></li><li class=\"sc-9zxyh7-1 sc-9zxyh7-2 exAXfr jQmQZp\"><article><a class=\"sc-5smygv-0 nrDZj\" href=\"https://www.sciencedirect.com/science/article/pii/S0004370213001082\"><h2 class=\"sc-1qrq3sd-1 MKjKb sc-1nmom32-0 sc-1nmom32-1 hqhUYH ebTA-dR\">Algorithm runtime prediction: Methods &amp; evaluation</h2></a><p class=\"sc-1thf9ly-0 sc-1thf9ly-1 ljBYfY bIzabL\"><span class=\"sc-1w3fpd7-0 pgLAT\">Hutter, Frank, Xu, Lin, Hoos, Holger H., Leyton-Brown, Kevin </span><em>Open Access</em><span class=\"sc-1thf9ly-2 bKddwo\"><span>January 2014</span></span></p></article></li><li class=\"sc-9zxyh7-1 sc-9zxyh7-2 exAXfr jQmQZp\"><article><a class=\"sc-5smygv-0 nrDZj\" href=\"https://www.sciencedirect.com/science/article/pii/S000437029700043X\"><h2 class=\"sc-1qrq3sd-1 MKjKb sc-1nmom32-0 sc-1nmom32-1 hqhUYH ebTA-dR\">Wrappers for feature subset selection</h2></a><p class=\"sc-1thf9ly-0 sc-1thf9ly-1 ljBYfY bIzabL\"><span class=\"sc-1w3fpd7-0 pgLAT\">Kohavi, Ron, John, George H. </span><em>Open Access</em><span class=\"sc-1thf9ly-2 bKddwo\"><span>December 1997</span></span></p></article></li><li class=\"sc-9zxyh7-1 sc-9zxyh7-2 exAXfr jQmQZp\"><article><a class=\"sc-5smygv-0 nrDZj\" href=\"https://www.sciencedirect.com/science/article/pii/S0004370221000734\"><h2 class=\"sc-1qrq3sd-1 MKjKb sc-1nmom32-0 sc-1nmom32-1 hqhUYH ebTA-dR\">Commonsense visual sensemaking for autonomous driving – On generalised neurosymbolic online abduction integrating vision and semantics</h2></a><p class=\"sc-1thf9ly-0 sc-1thf9ly-1 ljBYfY bIzabL\"><span class=\"sc-1w3fpd7-0 pgLAT\">Suchan, Jakob, Bhatt, Mehul, Varadarajan, Srikrishna </span><em>Open Access</em><span class=\"sc-1thf9ly-2 bKddwo\"><span>October 2021</span></span></p></article></li><li class=\"sc-9zxyh7-1 sc-9zxyh7-2 exAXfr jQmQZp\"><article><a class=\"sc-5smygv-0 nrDZj\" href=\"https://www.sciencedirect.com/science/article/pii/S0004370209001398\"><h2 class=\"sc-1qrq3sd-1 MKjKb sc-1nmom32-0 sc-1nmom32-1 hqhUYH ebTA-dR\">Quantum computation, quantum theory and AI</h2></a><p class=\"sc-1thf9ly-0 sc-1thf9ly-1 ljBYfY bIzabL\"><span class=\"sc-1w3fpd7-0 pgLAT\">Ying, Mingsheng </span><em>Open Access</em><span class=\"sc-1thf9ly-2 bKddwo\"><span>February 2010</span></span></p></article></li></ul></div></main><aside class=\"sc-1nwsl0e-1 bQNQKU sc-orwwe2-7 jbCSRa\"><div class=\"sc-1dxr8k6-0 sc-1nwsl0e-2 lhCPPw gazhpM\"><p class=\"sc-1nwsl0e-0 lgbLoo\">Artificial Intelligence</p><div class=\"sc-1nwsl0e-3 VQbJA\"><div class=\"sc-1nwsl0e-4 cviXWN\"><p class=\"sc-1nwsl0e-5 hugDdc\">Readers</p><ul class=\"sc-1nwsl0e-6 fhoAiN\"><li><a class=\"sc-kvjqii-0 fYuYRT\" href=\"https://www.sciencedirect.com/science/journal/00043702\" rel=\"noopener noreferrer\" target=\"_blank\"><span>View Articles</span></a></li><li><a class=\"sc-kvjqii-0 fYuYRT\" href=\"https://www.sciencedirect.com/user/alerts\" rel=\"noopener noreferrer\" target=\"_blank\"><span>Volume/Issue Alert</span></a></li><li><a class=\"sc-kvjqii-0 fYuYRT\" href=\"https://www.sciencedirect.com/user/register?utm_campaign=sd_recommender_ELSJLS&amp;utm_channel=elseco&amp;dgcid=sd_recommender_ELSJLS\" rel=\"noopener noreferrer\" target=\"_blank\"><span>Personalized Recommendations</span></a></li></ul></div><div class=\"sc-1nwsl0e-4 cviXWN\"><a class=\"sc-kvjqii-0 fYuYRT sc-1nwsl0e-7 esiGMQ\" href=\"http://www.elsevier.com/authors/home\" rel=\"noopener noreferrer\" target=\"_self\"><span><p class=\"sc-1nwsl0e-5 hugDdc\">Authors</p></span><span class=\"sc-kvjqii-1 hjlxNa\"><svg aria-hidden=\"true\" focusable=\"false\" height=\"1em\" viewbox=\"0 0 9 15\" width=\"1em\"><path d=\"M.156 13.469L6.094 7.53.156 1.594 1.25.5l7.031 7.031-7.031 7.032z\" fill=\"currentColor\" fill-rule=\"nonzero\"></path></svg></span></a><ul class=\"sc-1nwsl0e-6 fhoAiN\"><li><a class=\"sc-kvjqii-0 fYuYRT\" href=\"https://www.editorialmanager.com/artint/default.aspx\" rel=\"noopener noreferrer\" target=\"_blank\"><span>Submit your Paper</span></a></li><li><a class=\"sc-kvjqii-0 fYuYRT\" href=\"https://www.editorialmanager.com/artint/default.aspx\" rel=\"noopener noreferrer\" target=\"_blank\"><span>Check Submitted Paper</span></a></li><li><a class=\"sc-kvjqii-0 fYuYRT\" href=\"https://researcheracademy.elsevier.com\" rel=\"noopener noreferrer\" target=\"_self\"><span>Researcher Academy</span></a></li><li><a class=\"sc-kvjqii-0 fYuYRT\" href=\"https://www.elsevier.com/about/policies/copyright/permissions\" rel=\"noopener noreferrer\" target=\"_self\"><span>Rights and Permissions</span></a></li><li><a class=\"sc-kvjqii-0 fYuYRT\" href=\"https://webshop.elsevier.com\" rel=\"noopener noreferrer\" target=\"_self\"><span>Elsevier Author Services</span></a></li><li><a class=\"sc-kvjqii-0 fYuYRT\" href=\"https://service.elsevier.com/app/home/supporthub/publishing/#authors\" rel=\"noopener noreferrer\" target=\"_self\"><span>Support Center</span></a></li><li><a class=\"sc-kvjqii-0 fYuYRT\" href=\"https://authors.elsevier.com/tracking/landingpage/selection.do\" rel=\"noopener noreferrer\" target=\"_self\"><span>Track Accepted Paper</span></a></li></ul></div><div class=\"sc-1nwsl0e-4 cviXWN\"><a class=\"sc-kvjqii-0 fYuYRT sc-1nwsl0e-7 esiGMQ\" href=\"https://www.elsevier.com/librarians\" rel=\"noopener noreferrer\" target=\"_self\"><span><p class=\"sc-1nwsl0e-5 hugDdc\">Librarians</p></span><span class=\"sc-kvjqii-1 hjlxNa\"><svg aria-hidden=\"true\" focusable=\"false\" height=\"1em\" viewbox=\"0 0 9 15\" width=\"1em\"><path d=\"M.156 13.469L6.094 7.53.156 1.594 1.25.5l7.031 7.031-7.031 7.032z\" fill=\"currentColor\" fill-rule=\"nonzero\"></path></svg></span></a><ul class=\"sc-1nwsl0e-6 fhoAiN\"><li><a class=\"sc-kvjqii-0 fYuYRT\" href=\"https://www.elsevier.com/journals/artificial-intelligence/0004-3702/subscribe?subscriptiontype=institutional\" rel=\"noopener noreferrer\" target=\"_self\"><span>Order Journal Institutional</span></a></li></ul></div><div class=\"sc-1nwsl0e-4 cviXWN\"><a class=\"sc-kvjqii-0 fYuYRT sc-1nwsl0e-7 esiGMQ\" href=\"http://www.elsevier.com/editors\" rel=\"noopener noreferrer\" target=\"_self\"><span><p class=\"sc-1nwsl0e-5 hugDdc\">Editors</p></span><span class=\"sc-kvjqii-1 hjlxNa\"><svg aria-hidden=\"true\" focusable=\"false\" height=\"1em\" viewbox=\"0 0 9 15\" width=\"1em\"><path d=\"M.156 13.469L6.094 7.53.156 1.594 1.25.5l7.031 7.031-7.031 7.032z\" fill=\"currentColor\" fill-rule=\"nonzero\"></path></svg></span></a><ul class=\"sc-1nwsl0e-6 fhoAiN\"><li><a class=\"sc-kvjqii-0 fYuYRT\" href=\"http://www.elsevier.com/editors/perk\" rel=\"noopener noreferrer\" target=\"_self\"><span>Publishing Ethics Resource Kit</span></a></li><li><a class=\"sc-kvjqii-0 fYuYRT\" href=\"https://www.elsevier.com/editors/guest-editors\" rel=\"noopener noreferrer\" target=\"_self\"><span>Guest Editors</span></a></li><li><a class=\"sc-kvjqii-0 fYuYRT\" href=\"https://service.elsevier.com/app/home/supporthub/publishing/#editors\" rel=\"noopener noreferrer\" target=\"_self\"><span>Support Center</span></a></li></ul></div><div class=\"sc-1nwsl0e-4 cviXWN\"><a class=\"sc-kvjqii-0 fYuYRT sc-1nwsl0e-7 esiGMQ\" href=\"http://www.elsevier.com/reviewers\" rel=\"noopener noreferrer\" target=\"_self\"><span><p class=\"sc-1nwsl0e-5 hugDdc\">Reviewers</p></span><span class=\"sc-kvjqii-1 hjlxNa\"><svg aria-hidden=\"true\" focusable=\"false\" height=\"1em\" viewbox=\"0 0 9 15\" width=\"1em\"><path d=\"M.156 13.469L6.094 7.53.156 1.594 1.25.5l7.031 7.031-7.031 7.032z\" fill=\"currentColor\" fill-rule=\"nonzero\"></path></svg></span></a><ul class=\"sc-1nwsl0e-6 fhoAiN\"><li><a class=\"sc-kvjqii-0 fYuYRT\" href=\"https://www.elsevier.com/reviewers/how-to-review\" rel=\"noopener noreferrer\" target=\"_self\"><span>Reviewer Guidelines</span></a></li><li><a class=\"sc-kvjqii-0 fYuYRT\" href=\"https://www.editorialmanager.com/artint/default.aspx\" rel=\"noopener noreferrer\" target=\"_blank\"><span>Log in as Reviewer</span></a></li><li><a class=\"sc-kvjqii-0 fYuYRT\" href=\"https://www.elsevier.com/reviewers/becoming-a-reviewer-how-and-why#recognizing\" rel=\"noopener noreferrer\" target=\"_self\"><span>Reviewer Recognition</span></a></li><li><a class=\"sc-kvjqii-0 fYuYRT\" href=\"https://service.elsevier.com/app/home/supporthub/publishing/#reviewers\" rel=\"noopener noreferrer\" target=\"_self\"><span>Support Center</span></a></li></ul></div></div></div></aside></div><footer class=\"sc-1g5fvti-1 fukXbF\" role=\"contentinfo\"><div class=\"sc-1c6xsv-0 emEISL\"><div class=\"sc-1dxr8k6-0 sc-1c6xsv-1 lhCPPw kEACDc\"><a class=\"sc-1c6xsv-2 gwkjaf\" href=\"https://www.elsevier.com\" title=\"Elsevier Homepage\"><span style=\"box-sizing: border-box; display: inline-block; overflow: hidden; width: initial; height: initial; background: none; opacity: 1; border: 0px; margin: 0px; padding: 0px; position: relative; max-width: 100%;\"><span style=\"box-sizing: border-box; display: block; width: initial; height: initial; background: none; opacity: 1; border: 0px; margin: 0px; padding: 0px; max-width: 100%;\"><img alt=\"\" aria-hidden=\"true\" src=\"data:image/svg+xml;base64,PHN2ZyB3aWR0aD0iODUiIGhlaWdodD0iOTQiIHhtbG5zPSJodHRwOi8vd3d3LnczLm9yZy8yMDAwL3N2ZyIgdmVyc2lvbj0iMS4xIi8+\" style=\"display: block; max-width: 100%; width: initial; height: initial; background: none; opacity: 1; border: 0px; margin: 0px; padding: 0px;\"/></span><img alt=\"Elsevier Logo\" data-nimg=\"intrinsic\" decoding=\"async\" src=\"data:image/gif;base64,R0lGODlhAQABAIAAAAAAAP///yH5BAEAAAAALAAAAAABAAEAAAIBRAA7\" style=\"position: absolute; top: 0px; left: 0px; bottom: 0px; right: 0px; box-sizing: border-box; padding: 0px; border: none; margin: auto; display: block; width: 0px; height: 0px; min-width: 100%; max-width: 100%; min-height: 100%; max-height: 100%;\"/><noscript><img alt=\"Elsevier Logo\" data-nimg=\"intrinsic\" decoding=\"async\" loading=\"lazy\" src=\"/images/logos/nonsolus-elsevier.svg\" style=\"position: absolute; top: 0px; left: 0px; bottom: 0px; right: 0px; box-sizing: border-box; padding: 0px; border: none; margin: auto; display: block; width: 0px; height: 0px; min-width: 100%; max-width: 100%; min-height: 100%; max-height: 100%;\"/></noscript></span></a><div class=\"sc-1c6xsv-4 hHsELc\"><p class=\"sc-1q3g1nv-0 sc-1c6xsv-5 eTETae cfTwSE\">Copyright © 2022 Elsevier, except certain content provided by third parties</p><p class=\"sc-1q3g1nv-0 sc-1c6xsv-5 eTETae cfTwSE\">Cookies are used by this site. <button class=\"sc-1qzfzkl-0 hQPrvi ot-sdk-show-settings\">Cookie Settings</button></p><p class=\"sc-1q3g1nv-0 sc-1c6xsv-5 eTETae cfTwSE\"><a class=\"sc-kvjqii-0 fYuYRT footer-terms-and-conditions\" data-aa-name=\"Terms and Conditions\" data-aa-region=\"footer\" href=\"//www.elsevier.com/legal/elsevier-website-terms-and-conditions\" rel=\"noopener noreferrer\" target=\"_self\"><span>Terms and Conditions</span></a><a class=\"sc-kvjqii-0 fYuYRT footer-privacy-policy\" data-aa-name=\"Privacy Policy\" data-aa-region=\"footer\" href=\"//www.elsevier.com/legal/privacy-policy\" rel=\"noopener noreferrer\" target=\"_self\"><span>Privacy Policy</span></a><a class=\"sc-kvjqii-0 fYuYRT footer-cookie-notice\" data-aa-name=\"Cookie Notice\" data-aa-region=\"footer\" href=\"//www.elsevier.com/legal/cookienotice\" rel=\"noopener noreferrer\" target=\"_self\"><span>Cookie Notice</span></a><a class=\"sc-kvjqii-0 fYuYRT footer-sitemap\" data-aa-name=\"Sitemap\" data-aa-region=\"footer\" href=\"//www.elsevier.com/sitemap\" rel=\"noopener noreferrer\" target=\"_self\"><span>Sitemap</span></a></p></div><a class=\"sc-1c6xsv-3 dzhXup\" href=\"https://www.relx.com/\" rel=\"noopener\" title=\"Relx Group Homepage\"><span style=\"box-sizing: border-box; display: inline-block; overflow: hidden; width: initial; height: initial; background: none; opacity: 1; border: 0px; margin: 0px; padding: 0px; position: relative; max-width: 100%;\"><span style=\"box-sizing: border-box; display: block; width: initial; height: initial; background: none; opacity: 1; border: 0px; margin: 0px; padding: 0px; max-width: 100%;\"><img alt=\"\" aria-hidden=\"true\" src=\"data:image/svg+xml;base64,PHN2ZyB3aWR0aD0iMTUwIiBoZWlnaHQ9IjUxIiB4bWxucz0iaHR0cDovL3d3dy53My5vcmcvMjAwMC9zdmciIHZlcnNpb249IjEuMSIvPg==\" style=\"display: block; max-width: 100%; width: initial; height: initial; background: none; opacity: 1; border: 0px; margin: 0px; padding: 0px;\"/></span><img alt=\"Relx Group Logo\" data-nimg=\"intrinsic\" decoding=\"async\" src=\"data:image/gif;base64,R0lGODlhAQABAIAAAAAAAP///yH5BAEAAAAALAAAAAABAAEAAAIBRAA7\" style=\"position: absolute; top: 0px; left: 0px; bottom: 0px; right: 0px; box-sizing: border-box; padding: 0px; border: none; margin: auto; display: block; width: 0px; height: 0px; min-width: 100%; max-width: 100%; min-height: 100%; max-height: 100%;\"/><noscript><img alt=\"Relx Group Logo\" data-nimg=\"intrinsic\" decoding=\"async\" loading=\"lazy\" src=\"/images/logos/logo-relxgroup.svg\" style=\"position: absolute; top: 0px; left: 0px; bottom: 0px; right: 0px; box-sizing: border-box; padding: 0px; border: none; margin: auto; display: block; width: 0px; height: 0px; min-width: 100%; max-width: 100%; min-height: 100%; max-height: 100%;\"/></noscript></span></a></div></div></footer></div></div><script id=\"__NEXT_DATA__\" type=\"application/json\">{\"props\":{\"pageProps\":{\"basicInfo\":{\"aimsAndScope\":\"\\u003cp\\u003eThe journal of \\u003ci\\u003eArtificial Intelligence (AIJ) \\u003c/i\\u003e welcomes papers on broad aspects of AI that constitute advances in the overall field including, but not limited to, cognition and AI, automated reasoning and inference, case-based reasoning, commonsense reasoning, computer vision, constraint processing, ethical AI, heuristic search, human interfaces, intelligent robotics, knowledge representation, machine learning, multi-agent systems, natural language processing, planning and action, and reasoning under uncertainty. The journal reports results achieved in addition to proposals for new ways of looking at AI problems, both of which must include demonstrations of value and effectiveness.  \\u003c/p\\u003e\\u003cp\\u003e Papers describing applications of AI are also welcome, but the focus should be on how new and novel AI methods advance performance in application areas, rather than a presentation of yet another application of conventional AI methods.  Papers on applications should describe a principled solution, emphasize its novelty, and present an indepth evaluation of the AI techniques being exploited.\\u003c/p\\u003e\\u003cp\\u003e  Apart from regular papers, the journal also accepts Research Notes, Research Field Reviews, Position Papers, and Book Reviews (see details below).  The journal will also consider summary papers that describe challenges and competitions from various areas of AI. Such papers should motivate and describe the competition design as well as report and interpret competition results, with an emphasis on insights that are of value beyond the competition (series) itself. \\u003c/p\\u003e\\u003cp\\u003e From time to time, there are special issues devoted to a particular topic. Such special issues must always have open calls-for-papers. Guidance on the submission of proposals for special issues, as well as other material for authors and reviewers can be found at \\u003ca href=http://aij.ijcai.org/special-issues rel=external target=_blank\\u003ehttp://aij.ijcai.org/special-issues\\u003c/a\\u003e. \\u003c/p\\u003e\\u003cp\\u003e  \\u003cb\\u003eTypes of Papers \\u003c/b\\u003e\\u003c/p\\u003e\\u003cp\\u003e\\u003cb\\u003e Regular Papers \\u003c/b\\u003e\\u003c/p\\u003e\\u003cp\\u003e AIJ welcomes basic and applied papers describing mature, complete, and novel research that articulate methods for, and provide insight into artificial intelligence and the production of artificial intelligent systems. The question of whether a paper is mature, complete and novel is ultimately determined by reviewers and editors on a case-bycase basis. Generally, a paper should include a convincing motivational discussion, articulate the relevance of the research to Artificial Intelligence, clarify what is new and different, anticipate the scientific impact of the work, include all relevant proofs and/or experimental data, and provide a thorough discussion of connections with the existing literature. A prerequisite for the novelty of a paper is that the results it describes have not been previously published by other authors and have not been previously published by the same authors in any archival journal. In particular, a previous conference publication by the same authors does not disqualify a submission on the grounds of novelty. However, it is rarely the case that conference papers satisfy the completeness criterion without further elaboration. Indeed, even prize-winning papers from major conferences often undergo major revision following referee comments, before being accepted to AIJ. \\u003c/p\\u003e\\u003cp\\u003e \\u003ci\\u003eAIJ\\u003c/i\\u003e caters to a broad readership. Papers that are heavily mathematical in content are welcome but should include a less technical high-level motivation and introduction that is accessible to a wide audience and explanatory commentary throughout the paper. Papers that are only purely mathematical in nature, without demonstrated applicability to artificial intelligence problems may be returned. A discussion of the work's implications on the production of artificial intelligent systems is normally expected. \\u003c/p\\u003e\\u003cp\\u003e There is no restriction on the length of submitted manuscripts. However, authors should note that publication of lengthy papers, typically greater than forty pages, is often significantly delayed, as the length of the paper acts as a disincentive to the reviewer to undertake the review process. Unedited theses are acceptable only in exceptional circumstances. Editing a thesis into a journal article is the author's responsibility, not the reviewers'. \\u003c/p\\u003e\\u003cp\\u003e \\u003cb\\u003eResearch Notes \\u003c/b\\u003e\\u003c/p\\u003e\\u003cp\\u003e The Research Notes section of the Journal of Artificial Intelligence will provide a forum for short communications that cannot fit within the other paper categories. The maximum length should not exceed 4500 words (typically a paper with 5 to 14 pages). Some examples of suitable Research Notes include, but are not limited to the following: crisp and highly focused technical research aimed at other specialists; a detailed exposition of a relevant theorem or an experimental result; an erratum note that addresses and revises earlier results appearing in the journal; an extension or addendum to an earlier published paper that presents additional experimental or theoretical results. \\u003c/p\\u003e\\u003cp\\u003e  \\u003cb\\u003eReviews\\u003c/b\\u003e  \\u003c/p\\u003e\\u003cp\\u003e The AIJ invests significant effort in assessing and publishing scholarly papers that provide broad and principled reviews of important existing and emerging research areas, reviews of topical and timely books related to AI, and substantial, but perhaps controversial position papers (so-called \\\"Turing Tape\\\" papers) that articulate scientific or social issues of interest in the AI research community. \\u003c/p\\u003e\\u003cp\\u003e \\u003cb\\u003eResearch Field Reviews:\\u003c/b\\u003e AIJ expects broad coverage of an established or emerging research area, and the articulation of a comprehensive framework that demonstrates the role of existing results, and synthesizes a position on the potential value and possible new research directions.  A list of papers in an area, coupled with a summary of their contributions is not sufficient. Overall, a field review article must provide a scholarly overview that facilitates deeper understanding of a research area. The selection of work covered in a field article should be based on clearly stated, rational criteria that are acceptable to the respective research community within AI; it must be free from personal or idiosyncratic bias. \\u003c/p\\u003e\\u003cp\\u003e Research Field Reviews are by invitation only, where authors can then submit a 2-page proposal of a Research Field Review for confirmation by the special editors. The 2-page proposal should include a convincing motivational discussion, articulate the relevance of the research to artificial intelligence, clarify what is new and different from other surveys available in the literature, anticipate the scientific impact of the proposed work, and provide evidence that authors are authoritative researchers in the area of the proposed Research Field Review. Upon confirmation of the 2-page proposal, the full Invited Research Field Reviews can then be submitted and then undergoes the same review process as regular papers. \\u003c/p\\u003e\\u003cp\\u003e \\u003cb\\u003eBook Reviews: \\u003c/b\\u003eWe seek reviewers for books received, and suggestions for books to be reviewed. In the case of the former, the review editors solicit reviews from researchers assessed to be expert in the field of the book.  In the case of the latter, the review editors can either assess the relevance of a particular suggestion, or even arrange for the refereeing of a submitted draft review. \\u003c/p\\u003e\\u003cp\\u003e \\u003cb\\u003ePosition Papers\\u003c/b\\u003e: The last review category, named in honour of Alan Turing as a \\\"Turing Tapes\\\" section of AIJ, seeks clearly written and scholarly papers on potentially controversial topics, whose authors present professional and mature positions on all variety of methodological, scientific, and social aspects of AI.  Turing Tape papers typically provide more personal perspectives on important issues, with the intent to catalyze scholarly discussion. \\u003c/p\\u003e\\u003cp\\u003e Turing Tape papers are by invitation only, where authors can then submit a 2-page proposal of a Turing Tape paper for confirmation by the special editors. The 2-page proposal should include a convincing motivational discussion, articulate the relevance to artificial intelligence, clarify the originality of the position, and provide evidence that authors are authoritative researchers in the area on which they are expressing the position. Upon confirmation of the 2-page proposal, the full Turing Tape paper can then be submitted and then undergoes the same review process as regular papers. \\u003c/p\\u003e\\u003cp\\u003e \\u003cb\\u003eCompetition Papers \\u003c/b\\u003e\\u003c/p\\u003e\\u003cp\\u003eCompetitions between AI systems are now well established (e.g. in speech and language, planning, auctions, games, to name a few). The scientific contributions associated with the systems entered in these competitions are routinely submitted as research papers to conferences and journals. However, it has been more difficult to find suitable venues for papers summarizing the objectives, results, and major innovations of a competition. For this purpose, AIJ has established the category of competition summary papers. \\u003c/p\\u003e\\u003cp\\u003e Competition Paper submissions should describe the competition, its criteria, why it is interesting to the AI research community, the results (including how they compare to previous rounds, if appropriate), in addition to giving a summary of the main technical contributions to the field manifested in systems participating in the competition. Papers may be supplemented by online appendices giving details of participants, problem statements, test scores, and even competition-related software. \\u003c/p\\u003e\\u003cp\\u003e Although Competition Papers serve as an archival record of a competition, it is critical that they make clear why the competition's problems are relevant to continued progress in the area, what progress has been made since the previous competition, if applicable, and what were the most significant technical advances reflected in the competition results. The exposition should be accessible to a broad AI audience.\\u003c/p\\u003e\",\"description\":\"The journal of Artificial Intelligence (AIJ)  welcomes papers on broad aspects of AI that constitute advances in the overall field including, but not limited …\",\"coverUrl\":\"https://www.elsevier.com/__data/cover_img/505601.gif\",\"subtitle1\":\"An International Journal\",\"title\":\"Artificial Intelligence\"},\"callToActions\":{\"submit_your_paper_url\":\"https://www.editorialmanager.com/artint/default.aspx\",\"view_articles_url\":\"https://www.sciencedirect.com/science/journal/00043702\"},\"footerLinks\":{\"sections\":[{\"title\":\"Readers\",\"url\":null,\"urls\":[{\"url\":\"https://www.sciencedirect.com/science/journal/00043702\",\"title\":\"View Articles\"},{\"url\":\"https://www.sciencedirect.com/user/alerts\",\"title\":\"Volume/Issue Alert\"},{\"url\":\"https://www.sciencedirect.com/user/register?utm_campaign=sd_recommender_ELSJLS\\u0026utm_channel=elseco\\u0026dgcid=sd_recommender_ELSJLS\",\"title\":\"Personalized Recommendations\"}]},{\"title\":\"Authors\",\"url\":\"http://www.elsevier.com/authors/home\",\"urls\":[{\"url\":\"https://www.editorialmanager.com/artint/default.aspx\",\"title\":\"Submit your Paper\"},{\"url\":\"https://www.editorialmanager.com/artint/default.aspx\",\"title\":\"Check Submitted Paper\"},{\"url\":\"https://researcheracademy.elsevier.com\",\"title\":\"Researcher Academy\"},{\"url\":\"https://www.elsevier.com/about/policies/copyright/permissions\",\"title\":\"Rights and Permissions\"},{\"url\":\"https://webshop.elsevier.com\",\"title\":\"Elsevier Author Services\"},{\"url\":\"https://service.elsevier.com/app/home/supporthub/publishing/#authors\",\"title\":\"Support Center\"},{\"url\":\"https://authors.elsevier.com/tracking/landingpage/selection.do\",\"title\":\"Track Accepted Paper\"}]},{\"title\":\"Librarians\",\"url\":\"https://www.elsevier.com/librarians\",\"urls\":[{\"url\":\"https://www.elsevier.com/journals/artificial-intelligence/0004-3702/subscribe?subscriptiontype=institutional\",\"title\":\"Order Journal Institutional\"}]},{\"title\":\"Editors\",\"url\":\"http://www.elsevier.com/editors\",\"urls\":[{\"url\":\"http://www.elsevier.com/editors/perk\",\"title\":\"Publishing Ethics Resource Kit\"},{\"url\":\"https://www.elsevier.com/editors/guest-editors\",\"title\":\"Guest Editors\"},{\"url\":\"https://service.elsevier.com/app/home/supporthub/publishing/#editors\",\"title\":\"Support Center\"}]},{\"title\":\"Reviewers\",\"url\":\"http://www.elsevier.com/reviewers\",\"urls\":[{\"url\":\"https://www.elsevier.com/reviewers/how-to-review\",\"title\":\"Reviewer Guidelines\"},{\"url\":\"https://www.editorialmanager.com/artint/default.aspx\",\"title\":\"Log in as Reviewer\"},{\"url\":\"https://www.elsevier.com/reviewers/becoming-a-reviewer-how-and-why#recognizing\",\"title\":\"Reviewer Recognition\"},{\"url\":\"https://service.elsevier.com/app/home/supporthub/publishing/#reviewers\",\"title\":\"Support Center\"}]},{\"title\":\"Advertisers Media Information\",\"url\":\"https://www.elsevier.com/advertisers\",\"urls\":[]},{\"title\":\"Societies\",\"url\":\"http://www.elsevier.com/societies\",\"urls\":[]}]},\"issn\":\"0004-3702\",\"metrics\":[{\"name\":\"CiteScore\",\"type\":\"trend\",\"is_yearly\":true,\"url\":\"https://www.scopus.com/source/sourceInfo.url?sourceId=23675\",\"show_value_for_year\":\"2021-01-01T00:00:00.000Z\",\"data\":[{\"value\":7.7,\"date\":\"2018-01-01T00:00:00.000Z\"},{\"value\":7.7,\"date\":\"2019-01-01T00:00:00.000Z\"},{\"value\":8.3,\"date\":\"2020-01-01T00:00:00.000Z\"},{\"value\":8.7,\"date\":\"2021-01-01T00:00:00.000Z\"},{\"value\":8.3,\"date\":\"2022-01-01T00:00:00.000Z\"}]},{\"name\":\"Impact Factor\",\"url\":\"https://journalinsights.elsevier.com/journals/0004-3702/impact_factor\",\"type\":\"trend\",\"is_yearly\":true,\"data\":[{\"date\":\"2017-01-01T00:00:00.000Z\",\"value\":3.034},{\"date\":\"2018-01-01T00:00:00.000Z\",\"value\":4.483},{\"date\":\"2019-01-01T00:00:00.000Z\",\"value\":6.628},{\"date\":\"2020-01-01T00:00:00.000Z\",\"value\":9.088},{\"date\":\"2021-01-01T00:00:00.000Z\",\"value\":14.05}]},{\"name\":\"Top Readership\",\"url\":\"https://journalinsights.elsevier.com/journals/0004-3702/downloads\",\"type\":\"countries\",\"is_yearly\":true,\"data\":[{\"value\":322572,\"country\":\"China\",\"iso\":\"CN\"},{\"value\":240733,\"country\":\"United States\",\"iso\":\"US\"},{\"value\":112798,\"country\":\"United Kingdom\",\"iso\":\"GB\"},{\"value\":65020,\"country\":\"Germany\",\"iso\":\"DE\"},{\"value\":55257,\"country\":\"India\",\"iso\":\"IN\"}]},{\"name\":\"Publication Time\",\"url\":\"https://journalinsights.elsevier.com/journals/0004-3702/oapt\",\"type\":\"value\",\"is_yearly\":true,\"data\":1.03}],\"publishingOptions\":{\"subscription_type\":\"HYBRID_OPEN_ACCESS\",\"open_access_url\":\"https://www.elsevier.com/journals/artificial-intelligence/0004-3702/open-access-options\",\"guide_for_authors_url\":\"https://www.elsevier.com/journals/artificial-intelligence/0004-3702/guide-for-authors\",\"check_submitted_paper\":\"https://www.editorialmanager.com/artint/default.aspx\",\"order_journal_institutional_url\":\"https://www.elsevier.com/journals/artificial-intelligence/0004-3702/subscribe?subscriptiontype=institutional\",\"show_guide_for_authors\":true,\"show_check_submitted_paper\":true,\"show_order_journal\":true},\"socialMedia\":{\"facebook_url\":\"https://www.facebook.com/ElsevierComputerScience\",\"twitter_url\":\"https://twitter.com/comp_science\",\"linked_in_url\":\"https://www.linkedin.com/groups/3384863/\"},\"mostDownloadedArticles\":[{\"title\":\"Reward is enough\",\"article_url\":\"https://www.sciencedirect.com/science/article/pii/S0004370221000862\",\"open_access\":true,\"authors\":[\"Silver, David\",\"Singh, Satinder\",\"Precup, Doina\",\"Sutton, Richard S.\"],\"publication_date\":\"2021-10-31\"},{\"title\":\"Making sense of raw input\",\"article_url\":\"https://www.sciencedirect.com/science/article/pii/S0004370221000722\",\"open_access\":true,\"authors\":[\"Evans, Richard\",\"Bošnjak, Matko\",\"Buesing, Lars\",\"Ellis, Kevin\",\"Pfau, David\",\"Kohli, Pushmeet\",\"Sergot, Marek\"],\"publication_date\":\"2021-10-31\"},{\"title\":\"Law and logic: A review from an argumentation perspective\",\"article_url\":\"https://www.sciencedirect.com/science/article/pii/S0004370215000910\",\"open_access\":true,\"authors\":[\"Prakken, Henry\",\"Sartor, Giovanni\"],\"publication_date\":\"2015-10-31\"},{\"title\":\"Creativity and artificial intelligence\",\"article_url\":\"https://www.sciencedirect.com/science/article/pii/S0004370298000551\",\"open_access\":true,\"authors\":[\"Boden, Margaret A.\"],\"publication_date\":\"1998-08-31\"},{\"title\":\"Artificial cognition for social human–robot interaction: An implementation\",\"article_url\":\"https://www.sciencedirect.com/science/article/pii/S0004370216300790\",\"open_access\":true,\"authors\":[\"Lemaignan, Séverin\",\"Warnier, Mathieu\",\"Sisbot, E. Akin\",\"Clodic, Aurélie\",\"Alami, Rachid\"],\"publication_date\":\"2017-06-30\"},{\"title\":\"Explanation in artificial intelligence: Insights from the social sciences\",\"article_url\":\"https://www.sciencedirect.com/science/article/pii/S0004370218305988\",\"open_access\":false,\"authors\":[\"Miller, Tim\"],\"publication_date\":\"2019-02-28\"},{\"title\":\"Making sense of sensory input\",\"article_url\":\"https://www.sciencedirect.com/science/article/pii/S0004370220301855\",\"open_access\":true,\"authors\":[\"Evans, Richard\",\"Hernández-Orallo, José\",\"Welbl, Johannes\",\"Kohli, Pushmeet\",\"Sergot, Marek\"],\"publication_date\":\"2021-04-30\"},{\"title\":\"Conflict-based search for optimal multi-agent pathfinding\",\"article_url\":\"https://www.sciencedirect.com/science/article/pii/S0004370214001386\",\"open_access\":true,\"authors\":[\"Sharon, Guni\",\"Stern, Roni\",\"Felner, Ariel\",\"Sturtevant, Nathan R.\"],\"publication_date\":\"2015-02-28\"},{\"title\":\"Between MDPs and semi-MDPs: A framework for temporal abstraction in reinforcement learning\",\"article_url\":\"https://www.sciencedirect.com/science/article/pii/S0004370299000521\",\"open_access\":true,\"authors\":[\"Sutton, Richard S.\",\"Precup, Doina\",\"Singh, Satinder\"],\"publication_date\":\"1999-08-31\"},{\"title\":\"The Hanabi challenge: A new frontier for AI research\",\"article_url\":\"https://www.sciencedirect.com/science/article/pii/S0004370219300116\",\"open_access\":true,\"authors\":[\"Bard, Nolan\",\"Foerster, Jakob N.\",\"Chandar, Sarath\",\"Burch, Neil\",\"Lanctot, Marc\",\"Song, H. Francis\",\"Parisotto, Emilio\",\"Dumoulin, Vincent\",\"Moitra, Subhodeep\",\"Hughes, Edward\",\"Dunning, Iain\",\"Mourad, Shibl\",\"Larochelle, Hugo\",\"Bellemare, Marc G.\",\"Bowling, Michael\"],\"publication_date\":\"2020-03-31\"},{\"title\":\"Evaluating XAI: A comparison of rule-based and example-based explanations\",\"article_url\":\"https://www.sciencedirect.com/science/article/pii/S0004370220301533\",\"open_access\":true,\"authors\":[\"van der Waa, Jasper\",\"Nieuwburg, Elisabeth\",\"Cremers, Anita\",\"Neerincx, Mark\"],\"publication_date\":\"2021-02-28\"},{\"title\":\"Argumentation in artificial intelligence\",\"article_url\":\"https://www.sciencedirect.com/science/article/pii/S0004370207000793\",\"open_access\":true,\"authors\":[\"Bench-Capon, T.J.M.\",\"Dunne, Paul E.\"],\"publication_date\":\"2007-10-31\"},{\"title\":\"Algorithms for computing strategies in two-player simultaneous move games\",\"article_url\":\"https://www.sciencedirect.com/science/article/pii/S0004370216300285\",\"open_access\":true,\"authors\":[\"Bošanský, Branislav\",\"Lisý, Viliam\",\"Lanctot, Marc\",\"Čermák, Jiří\",\"Winands, Mark H.M.\"],\"publication_date\":\"2016-08-31\"},{\"title\":\"Multiple object tracking: A literature review\",\"article_url\":\"https://www.sciencedirect.com/science/article/pii/S0004370220301958\",\"open_access\":false,\"authors\":[\"Luo, Wenhan\",\"Xing, Junliang\",\"Milan, Anton\",\"Zhang, Xiaoqin\",\"Liu, Wei\",\"Kim, Tae-Kyun\"],\"publication_date\":\"2021-04-30\"},{\"title\":\"Selection of relevant features and examples in machine learning\",\"article_url\":\"https://www.sciencedirect.com/science/article/pii/S0004370297000635\",\"open_access\":true,\"authors\":[\"Blum, Avrim L.\",\"Langley, Pat\"],\"publication_date\":\"1997-12-31\"},{\"title\":\"A survey of inverse reinforcement learning: Challenges, methods and progress\",\"article_url\":\"https://www.sciencedirect.com/science/article/pii/S0004370221000515\",\"open_access\":false,\"authors\":[\"Arora, Saurabh\",\"Doshi, Prashant\"],\"publication_date\":\"2021-08-31\"},{\"title\":\"Explaining individual predictions when features are dependent: More accurate approximations to Shapley values\",\"article_url\":\"https://www.sciencedirect.com/science/article/pii/S0004370221000539\",\"open_access\":true,\"authors\":[\"Aas, Kjersti\",\"Jullum, Martin\",\"Løland, Anders\"],\"publication_date\":\"2021-09-30\"},{\"title\":\"A review of possible effects of cognitive biases on interpretation of rule-based machine learning models\",\"article_url\":\"https://www.sciencedirect.com/science/article/pii/S0004370221000096\",\"open_access\":true,\"authors\":[\"Kliegr, Tomáš\",\"Bahník, Štěpán\",\"Fürnkranz, Johannes\"],\"publication_date\":\"2021-06-30\"},{\"title\":\"Integrating social power into the decision-making of cognitive agents\",\"article_url\":\"https://www.sciencedirect.com/science/article/pii/S0004370216300868\",\"open_access\":true,\"authors\":[\"Pereira, Gonçalo\",\"Prada, Rui\",\"Santos, Pedro A.\"],\"publication_date\":\"2016-12-31\"},{\"title\":\"“That's (not) the output I expected!” On the role of end user expectations in creating explanations of AI systems\",\"article_url\":\"https://www.sciencedirect.com/science/article/pii/S0004370221000588\",\"open_access\":true,\"authors\":[\"Riveiro, Maria\",\"Thill, Serge\"],\"publication_date\":\"2021-09-30\"},{\"title\":\"Explaining black-box classifiers using post-hoc explanations-by-example: The effect of explanations and error-rates in XAI user studies\",\"article_url\":\"https://www.sciencedirect.com/science/article/pii/S0004370221000102\",\"open_access\":true,\"authors\":[\"Kenny, Eoin M.\",\"Ford, Courtney\",\"Quinn, Molly\",\"Keane, Mark T.\"],\"publication_date\":\"2021-05-31\"},{\"title\":\"Algorithm runtime prediction: Methods \\u0026#x26; evaluation\",\"article_url\":\"https://www.sciencedirect.com/science/article/pii/S0004370213001082\",\"open_access\":true,\"authors\":[\"Hutter, Frank\",\"Xu, Lin\",\"Hoos, Holger H.\",\"Leyton-Brown, Kevin\"],\"publication_date\":\"2014-01-31\"},{\"title\":\"Wrappers for feature subset selection\",\"article_url\":\"https://www.sciencedirect.com/science/article/pii/S000437029700043X\",\"open_access\":true,\"authors\":[\"Kohavi, Ron\",\"John, George H.\"],\"publication_date\":\"1997-12-31\"},{\"title\":\"Commonsense visual sensemaking for autonomous driving – On generalised neurosymbolic online abduction integrating vision and semantics\",\"article_url\":\"https://www.sciencedirect.com/science/article/pii/S0004370221000734\",\"open_access\":true,\"authors\":[\"Suchan, Jakob\",\"Bhatt, Mehul\",\"Varadarajan, Srikrishna\"],\"publication_date\":\"2021-10-31\"},{\"title\":\"Quantum computation, quantum theory and AI\",\"article_url\":\"https://www.sciencedirect.com/science/article/pii/S0004370209001398\",\"open_access\":true,\"authors\":[\"Ying, Mingsheng\"],\"publication_date\":\"2010-02-28\"}]},\"__N_SSG\":true},\"page\":\"/[slug]/most-downloaded-articles\",\"query\":{\"slug\":\"artificial-intelligence\"},\"buildId\":\"mbXMhIviQKGV9qg2GtRCw\",\"isFallback\":false,\"gsp\":true,\"scriptLoader\":[]}</script><script crossorigin=\"anonymous\" data-cf-beacon='{\"rayId\":\"74f390e56c849a72\",\"token\":\"1f19f5bb68b64c76855d2d1457370d53\",\"version\":\"2022.8.1\",\"si\":100}' defer=\"\" integrity=\"sha512-Gi7xpJR8tSkrpF7aordPZQlW2DLtzUlZcumS8dMQjwDHEnw9I7ZLyiOj/6tZStRBGtGgN6ceN6cMH8z7etPGlw==\" src=\"https://static.cloudflareinsights.com/beacon.min.js/v652eace1692a40cfa3763df669d7439c1639079717194\"></script>\n",
       "</body></html>"
      ]
     },
     "execution_count": 26,
     "metadata": {},
     "output_type": "execute_result"
    }
   ],
   "source": [
    "article_soup=BeautifulSoup(requests.get(\"https://www.journals.elsevier.com/artificial-intelligence/most-downloaded-articles\").content,\"html.parser\")\n",
    "article_soup"
   ]
  },
  {
   "cell_type": "code",
   "execution_count": 27,
   "id": "90f7d322",
   "metadata": {},
   "outputs": [
    {
     "data": {
      "text/plain": [
       "<h2 class=\"sc-1qrq3sd-1 MKjKb sc-1nmom32-0 sc-1nmom32-1 hqhUYH ebTA-dR\">Reward is enough</h2>"
      ]
     },
     "execution_count": 27,
     "metadata": {},
     "output_type": "execute_result"
    }
   ],
   "source": [
    "title1=article_soup.find('h2',class_=\"sc-1qrq3sd-1 MKjKb sc-1nmom32-0 sc-1nmom32-1 hqhUYH ebTA-dR\")\n",
    "title1"
   ]
  },
  {
   "cell_type": "code",
   "execution_count": 28,
   "id": "60248ff5",
   "metadata": {},
   "outputs": [
    {
     "data": {
      "text/plain": [
       "'Reward is enough'"
      ]
     },
     "execution_count": 28,
     "metadata": {},
     "output_type": "execute_result"
    }
   ],
   "source": [
    "title1.text"
   ]
  },
  {
   "cell_type": "code",
   "execution_count": 29,
   "id": "050f15be",
   "metadata": {},
   "outputs": [
    {
     "data": {
      "text/plain": [
       "<span class=\"sc-1w3fpd7-0 pgLAT\">Silver, David, Singh, Satinder, Precup, Doina, Sutton, Richard S. </span>"
      ]
     },
     "execution_count": 29,
     "metadata": {},
     "output_type": "execute_result"
    }
   ],
   "source": [
    "authors1=article_soup.find('span',class_=\"sc-1w3fpd7-0 pgLAT\")\n",
    "authors1"
   ]
  },
  {
   "cell_type": "code",
   "execution_count": 30,
   "id": "0048a74a",
   "metadata": {},
   "outputs": [
    {
     "data": {
      "text/plain": [
       "'Silver, David, Singh, Satinder, Precup, Doina, Sutton, Richard S. '"
      ]
     },
     "execution_count": 30,
     "metadata": {},
     "output_type": "execute_result"
    }
   ],
   "source": [
    "authors1.text"
   ]
  },
  {
   "cell_type": "code",
   "execution_count": 32,
   "id": "5067e982",
   "metadata": {},
   "outputs": [
    {
     "data": {
      "text/plain": [
       "<span class=\"sc-1thf9ly-2 bKddwo\"><span>October 2021</span></span>"
      ]
     },
     "execution_count": 32,
     "metadata": {},
     "output_type": "execute_result"
    }
   ],
   "source": [
    "publisheddate1=article_soup.find('span',class_=\"sc-1thf9ly-2 bKddwo\")\n",
    "publisheddate1"
   ]
  },
  {
   "cell_type": "code",
   "execution_count": 33,
   "id": "1d6ed668",
   "metadata": {},
   "outputs": [
    {
     "data": {
      "text/plain": [
       "'October 2021'"
      ]
     },
     "execution_count": 33,
     "metadata": {},
     "output_type": "execute_result"
    }
   ],
   "source": [
    "publisheddate1.text"
   ]
  },
  {
   "cell_type": "code",
   "execution_count": 34,
   "id": "6f8a514e",
   "metadata": {},
   "outputs": [],
   "source": [
    "paperurl1=article_soup.find('a',href_=\"https://www.sciencedirect.com/science/article/pii/S0004370221000862\")\n",
    "paperurl1"
   ]
  },
  {
   "cell_type": "code",
   "execution_count": 37,
   "id": "98e473de",
   "metadata": {},
   "outputs": [
    {
     "data": {
      "text/plain": [
       "['Reward is enough',\n",
       " 'Making sense of raw input',\n",
       " 'Law and logic: A review from an argumentation perspective',\n",
       " 'Creativity and artificial intelligence',\n",
       " 'Artificial cognition for social human–robot interaction: An implementation',\n",
       " 'Explanation in artificial intelligence: Insights from the social sciences',\n",
       " 'Making sense of sensory input',\n",
       " 'Conflict-based search for optimal multi-agent pathfinding',\n",
       " 'Between MDPs and semi-MDPs: A framework for temporal abstraction in reinforcement learning',\n",
       " 'The Hanabi challenge: A new frontier for AI research',\n",
       " 'Evaluating XAI: A comparison of rule-based and example-based explanations',\n",
       " 'Argumentation in artificial intelligence',\n",
       " 'Algorithms for computing strategies in two-player simultaneous move games',\n",
       " 'Multiple object tracking: A literature review',\n",
       " 'Selection of relevant features and examples in machine learning',\n",
       " 'A survey of inverse reinforcement learning: Challenges, methods and progress',\n",
       " 'Explaining individual predictions when features are dependent: More accurate approximations to Shapley values',\n",
       " 'A review of possible effects of cognitive biases on interpretation of rule-based machine learning models',\n",
       " 'Integrating social power into the decision-making of cognitive agents',\n",
       " \"“That's (not) the output I expected!” On the role of end user expectations in creating explanations of AI systems\",\n",
       " 'Explaining black-box classifiers using post-hoc explanations-by-example: The effect of explanations and error-rates in XAI user studies',\n",
       " 'Algorithm runtime prediction: Methods & evaluation',\n",
       " 'Wrappers for feature subset selection',\n",
       " 'Commonsense visual sensemaking for autonomous driving – On generalised neurosymbolic online abduction integrating vision and semantics',\n",
       " 'Quantum computation, quantum theory and AI']"
      ]
     },
     "execution_count": 37,
     "metadata": {},
     "output_type": "execute_result"
    }
   ],
   "source": [
    "Paper_Title=[]\n",
    "for i in article_soup.find_all('h2',class_=\"sc-1qrq3sd-1 MKjKb sc-1nmom32-0 sc-1nmom32-1 hqhUYH ebTA-dR\"):\n",
    "    Paper_Title.append(i.text)\n",
    "Paper_Title    "
   ]
  },
  {
   "cell_type": "code",
   "execution_count": 38,
   "id": "153d4e85",
   "metadata": {},
   "outputs": [
    {
     "data": {
      "text/plain": [
       "['Silver, David, Singh, Satinder, Precup, Doina, Sutton, Richard S. ',\n",
       " 'Evans, Richard, Bošnjak, Matko and 5 more',\n",
       " 'Prakken, Henry, Sartor, Giovanni ',\n",
       " 'Boden, Margaret A. ',\n",
       " 'Lemaignan, Séverin, Warnier, Mathieu and 3 more',\n",
       " 'Miller, Tim ',\n",
       " 'Evans, Richard, Hernández-Orallo, José and 3 more',\n",
       " 'Sharon, Guni, Stern, Roni, Felner, Ariel, Sturtevant, Nathan R. ',\n",
       " 'Sutton, Richard S., Precup, Doina, Singh, Satinder ',\n",
       " 'Bard, Nolan, Foerster, Jakob N. and 13 more',\n",
       " 'van der Waa, Jasper, Nieuwburg, Elisabeth, Cremers, Anita, Neerincx, Mark ',\n",
       " 'Bench-Capon, T.J.M., Dunne, Paul E. ',\n",
       " 'Bošanský, Branislav, Lisý, Viliam and 3 more',\n",
       " 'Luo, Wenhan, Xing, Junliang and 4 more',\n",
       " 'Blum, Avrim L., Langley, Pat ',\n",
       " 'Arora, Saurabh, Doshi, Prashant ',\n",
       " 'Aas, Kjersti, Jullum, Martin, Løland, Anders ',\n",
       " 'Kliegr, Tomáš, Bahník, Štěpán, Fürnkranz, Johannes ',\n",
       " 'Pereira, Gonçalo, Prada, Rui, Santos, Pedro A. ',\n",
       " 'Riveiro, Maria, Thill, Serge ',\n",
       " 'Kenny, Eoin M., Ford, Courtney, Quinn, Molly, Keane, Mark T. ',\n",
       " 'Hutter, Frank, Xu, Lin, Hoos, Holger H., Leyton-Brown, Kevin ',\n",
       " 'Kohavi, Ron, John, George H. ',\n",
       " 'Suchan, Jakob, Bhatt, Mehul, Varadarajan, Srikrishna ',\n",
       " 'Ying, Mingsheng ']"
      ]
     },
     "execution_count": 38,
     "metadata": {},
     "output_type": "execute_result"
    }
   ],
   "source": [
    "Authors=[]\n",
    "for i in article_soup.find_all('span',class_=\"sc-1w3fpd7-0 pgLAT\"):\n",
    "    Authors.append(i.text)\n",
    "Authors   "
   ]
  },
  {
   "cell_type": "code",
   "execution_count": 39,
   "id": "eb9302f4",
   "metadata": {},
   "outputs": [
    {
     "data": {
      "text/plain": [
       "['October 2021',\n",
       " 'October 2021',\n",
       " 'October 2015',\n",
       " 'August 1998',\n",
       " 'June 2017',\n",
       " 'February 2019',\n",
       " 'April 2021',\n",
       " 'February 2015',\n",
       " 'August 1999',\n",
       " 'March 2020',\n",
       " 'February 2021',\n",
       " 'October 2007',\n",
       " 'August 2016',\n",
       " 'April 2021',\n",
       " 'December 1997',\n",
       " 'August 2021',\n",
       " 'September 2021',\n",
       " 'June 2021',\n",
       " 'December 2016',\n",
       " 'September 2021',\n",
       " 'May 2021',\n",
       " 'January 2014',\n",
       " 'December 1997',\n",
       " 'October 2021',\n",
       " 'February 2010']"
      ]
     },
     "execution_count": 39,
     "metadata": {},
     "output_type": "execute_result"
    }
   ],
   "source": [
    "Published_Date=[]\n",
    "for i in article_soup.find_all('span',class_=\"sc-1thf9ly-2 bKddwo\"):\n",
    "    Published_Date.append(i.text)\n",
    "Published_Date"
   ]
  },
  {
   "cell_type": "code",
   "execution_count": 42,
   "id": "52b5f4d9",
   "metadata": {},
   "outputs": [
    {
     "data": {
      "text/plain": [
       "['Reward is enough']"
      ]
     },
     "execution_count": 42,
     "metadata": {},
     "output_type": "execute_result"
    }
   ],
   "source": [
    "Paper_URL=[]\n",
    "for i in article_soup.find_all('a',href=\"https://www.sciencedirect.com/science/article/pii/S0004370221000862\"):\n",
    "    Paper_URL.append(i.text)\n",
    "Paper_URL "
   ]
  },
  {
   "cell_type": "code",
   "execution_count": 43,
   "id": "95c123e0",
   "metadata": {},
   "outputs": [
    {
     "name": "stdout",
     "output_type": "stream",
     "text": [
      "25 25 25 1\n"
     ]
    }
   ],
   "source": [
    "print(len(Paper_Title),len(Authors),len(Published_Date),len(Paper_URL))"
   ]
  },
  {
   "cell_type": "code",
   "execution_count": 44,
   "id": "d5e50869",
   "metadata": {},
   "outputs": [
    {
     "ename": "SyntaxError",
     "evalue": "invalid syntax (Temp/ipykernel_3908/4098478336.py, line 2)",
     "output_type": "error",
     "traceback": [
      "\u001b[1;36m  File \u001b[1;32m\"C:\\Users\\welcome\\AppData\\Local\\Temp/ipykernel_3908/4098478336.py\"\u001b[1;36m, line \u001b[1;32m2\u001b[0m\n\u001b[1;33m    df=pd.DataFrame({'Paper Title':Paper_title,'Authors':Authors,'Published Date':Published_Date,'Paper URL:Paper_URL'})\u001b[0m\n\u001b[1;37m                                                                                                                      ^\u001b[0m\n\u001b[1;31mSyntaxError\u001b[0m\u001b[1;31m:\u001b[0m invalid syntax\n"
     ]
    }
   ],
   "source": [
    "import pandas as pd\n",
    "df=pd.DataFrame({'Paper Title':Paper_title,'Authors':Authors,'Published Date':Published_Date,'Paper URL:Paper_URL'})\n",
    "df"
   ]
  },
  {
   "cell_type": "markdown",
   "id": "1d7cb552",
   "metadata": {},
   "source": [
    "Details of top publications from Google Scholar"
   ]
  },
  {
   "cell_type": "code",
   "execution_count": 45,
   "id": "0748c4f5",
   "metadata": {},
   "outputs": [
    {
     "data": {
      "text/plain": [
       "<!DOCTYPE html>\n",
       "<html><head><title>English - Google Scholar Metrics</title><meta content=\"text/html;charset=utf-8\" http-equiv=\"Content-Type\"/><meta content=\"IE=Edge\" http-equiv=\"X-UA-Compatible\"/><meta content=\"always\" name=\"referrer\"/><meta content=\"width=device-width,initial-scale=1,minimum-scale=1,maximum-scale=2\" name=\"viewport\"/><meta content=\"telephone=no\" name=\"format-detection\"/><link href=\"/favicon.ico\" rel=\"shortcut icon\"/><style>html,body,form,table,div,h1,h2,h3,h4,h5,h6,img,ol,ul,li,button{margin:0;padding:0;border:0;}table{border-collapse:collapse;border-width:0;empty-cells:show;}html,body{height:100%}#gs_top{position:relative;box-sizing:border-box;min-height:100%;min-width:964px;-webkit-tap-highlight-color:rgba(0,0,0,0);}#gs_top>*:not(#x){-webkit-tap-highlight-color:rgba(204,204,204,.5);}.gs_el_ph #gs_top,.gs_el_ta #gs_top{min-width:320px;}#gs_top.gs_nscl{position:fixed;width:100%;}body,td,input,button{font-size:13px;font-family:Arial,sans-serif;line-height:1.24;}body{background:#fff;color:#222;-webkit-text-size-adjust:100%;-moz-text-size-adjust:none;}body{background-color:#f9f9f9;}.gs_gray{color:#777777}.gs_red{color:#dd4b39}.gs_grn{color:#006621}.gs_lil{font-size:11px}.gs_med{font-size:16px}.gs_hlt{font-weight:bold;}a:link{color:#1a0dab;text-decoration:none}a:visited{color:#660099;text-decoration:none}a:hover,a:hover .gs_lbl{text-decoration:underline}a:active,a:active .gs_lbl,a .gs_lbl:active{color:#d14836}.gs_el_tc a:hover,.gs_el_tc a:hover .gs_lbl{text-decoration:none}.gs_pfcs a:focus,.gs_pfcs button:focus,.gs_pfcs input:focus,.gs_pfcs label:focus{outline:none}.gs_a,.gs_a a:link,.gs_a a:visited{color:#006621}.gs_a a:active{color:#d14836}a.gs_fl:link,.gs_fl a:link{color:#1a0dab}a.gs_fl:visited,.gs_fl a:visited{color:#660099}a.gs_fl:active,.gs_fl a:active{color:#d14836}.gs_fl{color:#777777}.gs_ctc,.gs_ctu{vertical-align:middle;font-size:11px;font-weight:bold}.gs_ctc{color:#1a0dab}.gs_ctg,.gs_ctg2{font-size:13px;font-weight:bold}.gs_ctg{color:#1a0dab}a.gs_pda,.gs_pda a{padding:7px 0 5px 0}.gs_alrt{background:#f9edbe;border:1px solid #f0c36d;padding:0 16px;text-align:center;box-shadow:0 2px 4px rgba(0,0,0,.2);border-radius:2px;}.gs_alrt:empty{display:none;}.gs_spc{display:inline-block;width:12px}.gs_br{width:0;font-size:0}.gs_ibl{display:inline-block;}.gs_scl:after{content:\"\";display:table;clear:both;}.gs_ind{padding-left:8px;text-indent:-8px}.gs_ico,.gs_icm{display:inline-block;background:no-repeat url(/intl/en/scholar/images/1x/sprite_20161020.png);background-position:-23px -161px;background-size:169px;width:21px;height:21px;}@media(-webkit-min-device-pixel-ratio:1.5),(min-resolution:144dpi){.gs_ico,.gs_icm{background-image:url(/intl/en/scholar/images/2x/sprite_20161020.png);}}.gs_el_ta .gs_nta,.gs_ota,.gs_el_ph .gs_nph,.gs_oph{display:none}.gs_el_ta .gs_ota,.gs_el_ph .gs_oph{display:inline}.gs_el_ta div.gs_ota,.gs_el_ph div.gs_oph{display:block}.gs_sth_g{visibility:hidden;max-height:0;}.gs_sth_vis .gs_sth_g{max-height:1000px;}.gs_sth_vis .gs_sth_b{position:fixed;top:0;}.gs_sth_trk .gs_sth_b{position:absolute;top:auto;}@keyframes gs_anm_spin{0%{transform:rotate(0deg);}100%{transform:rotate(360deg);}}.gs_rimg{display:block;background-color:#e5e5e5;border-radius:50%;overflow:hidden;position:relative;z-index:1;}.gs_rimg>img{position:absolute;margin:auto;left:0;top:0;bottom:0;right:0;}.gs_in_txtw{display:inline-block;vertical-align:middle;}.gs_in_txtb{display:block;}.gs_in_txt{color:#000;background-color:#fff;font-size:16px;box-sizing:border-box;height:29px;line-height:23px;border:1px solid #d9d9d9;border-top-color:#c0c0c0;padding:3px 6px 1px 8px;border-radius:1px;outline:none;-webkit-appearance:none;-moz-appearance:none;}.gs_el_tc .gs_in_txt{font-size:18px;}.gs_in_txtb .gs_in_txt{width:100%;}.gs_in_rnd .gs_in_txt{border-radius:14.5px;padding:3px 12px 1px 12px;}.gs_in_txt:hover{border-color:#b9b9b9;border-top-color:#a0a0a0;box-shadow:inset 0 1px 2px rgba(0,0,0,.1);}.gs_in_txte .gs_in_txt{border-color:#dd4b39;}.gs_in_txt:focus{border-color:#4d90fe;box-shadow:inset 0 1px 2px rgba(0,0,0,.3);}.gs_in_txt:disabled{color:#b8b8b8;border-color:#f1f1f1;box-shadow:none;}.gs_in_txtm .gs_in_txt{font-size:13px;height:24px;line-height:16px;padding:3px 6px;}.gs_in_txtm.gs_in_rnd .gs_in_txt{border-radius:12px;}.gs_el_tc .gs_in_txtm .gs_in_txt{height:29px;line-height:21px;}.gs_el_tc .gs_in_txtm.gs_in_rnd .gs_in_txt{border-radius:14.5px;}.gs_in_txtl .gs_in_txt{height:41px;padding:9px 43px;}.gs_in_txtl.gs_in_rnd .gs_in_txt{border-radius:20.5px;}.gs_in_txts{font-size:13px;line-height:18px;color:#666;}.gs_in_txts:not(:empty){margin-top:2px;}.gs_in_txte .gs_in_txts{color:#dd4b39;}button{position:relative;z-index:1;box-sizing:border-box;font-size:13px;cursor:pointer;height:29px;line-height:normal;min-width:72px;padding:0 8px;color:#444;border:1px solid rgba(0,0,0,.1);border-radius:3px;text-align:center;background-color:#f5f5f5;user-select:none;}button.gs_btn_rnd{border-radius:14px;padding:0 12px;}button.gs_btn_rnd.gs_btn_rndci{padding-left:4px;}button.gs_btn_lrge{height:41px;min-width:82px;padding:0 9px;}button.gs_btn_lrge.gs_btn_lrge_asym{padding-left:5px;padding-right:8px;}button.gs_btn_lrge.gs_btn_rnd{border-radius:20px;padding:0 16px;}button.gs_btn_lrge.gs_btn_rnd.gs_btn_rndci{padding-left:10px;}button.gs_btn_cir{border-radius:14.5px;min-width:29px;}button.gs_btn_lrge.gs_btn_cir{border-radius:20.5px;min-width:41px;}button.gs_btn_mini{padding:0;border:0;}.gs_el_ph button.gs_btn_mph,.gs_el_ta button.gs_btn_mta{height:41px;}button .gs_wr{position:relative;display:inline-block;width:100%;height:100%;}button .gs_wr:before{content:\"\";width:0;height:100%;}button .gs_wr:before,button .gs_ico,button .gs_rdt,button .gs_lbl,button .gs_icm{display:inline-block;vertical-align:middle;}button .gs_wr{font-size:13px;text-transform:none;}.gs_btn_lrge .gs_wr{font-size:15px;}.gs_btn_lsb .gs_wr{font-size:11px;font-weight:bold;}.gs_btn_lsu .gs_wr{font-size:11px;text-transform:uppercase;}.gs_btn_lrge.gs_btn_lsb .gs_wr,.gs_btn_lrge.gs_btn_lsu .gs_wr,.gs_btn_lrge.gs_btn_lrge_asym .gs_wr{font-size:13px;}.gs_btn_half,.gs_el_ta .gs_btn_hta,.gs_el_ph .gs_btn_hph{min-width:36px;}.gs_btn_lrge.gs_btn_half,.gs_el_ta .gs_btn_lrge.gs_btn_hta,.gs_el_ph .gs_btn_lrge.gs_btn_hph,.gs_el_ta .gs_btn_mta,.gs_el_ph .gs_btn_mph{min-width:41px;}.gs_btn_slt{border-radius:3px 0 0 3px;}.gs_btn_srt{margin-left:-1px;border-radius:0 3px 3px 0;}.gs_btn_smd{margin-left:-1px;border-radius:0;}button:hover{z-index:2;color:#222;border-color:rgba(0,0,0,.2);background-color:#f8f8f8;}button.gs_sel{background-color:#dcdcdc;}button:active{z-index:2;background-color:#f1f1f1;}button:focus{z-index:2;}button::-moz-focus-inner{padding:0;border:0}button:-moz-focusring{outline:1px dotted ButtonText}.gs_pfcs button:-moz-focusring{outline:none}a.gs_in_ib{position:relative;display:inline-block;line-height:16px;padding:6px 0 7px 0;user-select:none;}a.gs_btn_lrge{height:40px;padding:0;}a.gs_in_bgcw{min-width:41px;}a.gs_btn_lrge.gs_in_bgcw:before{position:absolute;content:\"\";height:29px;width:29px;top:6px;left:6px;background-color:#fff;box-shadow:0 1px 3px rgb(0,0,0,.4);border-radius:50%;}a.gs_in_bgcw:hover:before{background-color:#f5f5f5;}a.gs_in_bgcw:active:before{background-color:#e5e5e5;}a.gs_in_bgcw.gs_dis:before{background-color:#fff;}a.gs_in_ib .gs_lbl{display:inline-block;padding-left:21px;color:#222;}a.gs_in_ib.gs_in_gray .gs_lbl{color:#444;}a.gs_in_ib .gs_lbl:not(:empty){padding-left:29px;}button.gs_in_ib .gs_lbl:not(:empty){padding-left:4px;}a.gs_in_ib:active .gs_lbl,a.gs_in_ib .gs_lbl:active,a.gs_in_ib :active~.gs_lbl{color:#d14836;}.gs_el_ta .gs_btn_hta .gs_lbl,.gs_el_ph .gs_btn_hph .gs_lbl,.gs_el_ta .gs_btn_mta .gs_lbl,.gs_el_ph .gs_btn_mph .gs_lbl,.gs_el_ta .gs_btn_cta .gs_lbl,.gs_el_ph .gs_btn_cph .gs_lbl{display:none;}a.gs_in_ib .gs_ico{position:absolute;top:3px;left:0;}.gs_in_ib.gs_md_li .gs_ico{left:14px;}.gs_el_tc .gs_in_ib.gs_md_li .gs_ico{top:11px;}.gs_in_ib.gs_md_li.gs_md_lix .gs_ico{top:10px;left:16px;}a.gs_btn_lrge .gs_ico{top:50%;left:50%;margin:-10.5px 0 0 -10.5px;}.gs_in_ib .gs_ico{opacity:.55;}.gs_in_ib:hover .gs_ico{opacity:.72;}.gs_in_ib:active .gs_ico,.gs_in_ib .gs_ico:active,.gs_in_ib :active~.gs_ico{opacity:1;}.gs_in_ib:disabled .gs_ico,.gs_in_ib.gs_dis .gs_ico{opacity:.28;}.gs_in_ib.gs_btn_act .gs_ico,.gs_in_ib.gs_btn_cre .gs_ico{opacity:1;}.gs_btn_act:disabled .gs_ico,.gs_btn_cre:disabled .gs_ico{opacity:.72;}.gs_rdt{position:relative;width:0;height:21px;}a.gs_in_ib .gs_rdt{left:21px;}.gs_rdt:before{content:\"\";position:absolute;top:1px;right:0;width:5px;height:5px;border:1px solid #fff;border-radius:50%;background-color:#dd4b39;}.gs_notf{display:inline-block;vertical-align:top;margin-left:8px;width:16px;line-height:16px;background-color:#d14836;border-radius:50%;color:#fff;text-align:center;font-size:9px;font-weight:bold;}.gs_notf:empty{display:none;}.gs_ind .gs_notf{text-indent:0;}button.gs_btn_flat{border-color:transparent;background-color:transparent;}button.gs_btn_olact{color:#4d90fe;background-color:transparent;}button.gs_btn_flat:hover,button.gs_btn_olact:hover{background-color:rgba(0,0,0,.05);}button.gs_btn_flat:active,button.gs_btn_olact:active{background-color:rgba(0,0,0,.1);}button.gs_btn_flat.gs_btn_flact{color:#1a0dab;}button.gs_btn_act{color:#fff;background-color:#4d90fe;}button.gs_btn_act:hover{color:#fff;background-color:#3983fe;}button.gs_btn_act.gs_sel{background-color:#2f6bcc;}button.gs_btn_act:active{background-color:#357ae8;}button.gs_btn_cre{color:#fff;background-color:#d14836;}button.gs_btn_cre:hover{color:#fff;background-color:#c53727;}button.gs_btn_cre.gs_sel{background-color:#992b1e;}button.gs_btn_cre:active{background-color:#b0281a;}button.gs_btn_hov_nobg:hover,button.gs_btn_hov_nobg:active{border:none;background:transparent;}button:disabled,button:disabled:hover,button:disabled:active{cursor:default;color:#b8b8b8;border-color:rgba(0,0,0,.05);background-color:transparent;z-index:0;}button.gs_btn_flat:disabled{color:#b8b8b8;border-color:transparent;}button.gs_btn_act:disabled{color:#fff;background-color:#a6c8ff;}button.gs_btn_cre:disabled{color:#fff;background-color:#e8a49b;}a.gs_in_ib.gs_dis{cursor:default;pointer-events:none}a.gs_in_ib.gs_dis .gs_lbl{color:#b8b8b8;text-decoration:none}.gs_ttp{position:absolute;top:100%;right:50%;z-index:10;pointer-events:none;visibility:hidden;opacity:0;transition:visibility 0s .13s,opacity .13s ease-out;}button:hover .gs_ttp,button:focus .gs_ttp,a:hover .gs_ttp,a:focus .gs_ttp{transition:visibility 0s .3s,opacity .13s ease-in .3s;visibility:visible;opacity:1;}.gs_md_tb.gs_sel .gs_ttp{transition:none;visibility:hidden;}button.gs_btn_lrge.gs_btn_cir .gs_ttp{top:75%;}.gs_ttp .gs_aro,.gs_ttp .gs_aru{position:absolute;top:-2px;right:-5px;width:0;height:0;line-height:0;font-size:0;border:5px solid transparent;border-top:none;border-bottom-color:#595959;z-index:1;}.gs_ttp .gs_aro{top:-3px;right:-6px;border-width:6px;border-top:none;border-bottom-color:white;}.gs_ttp .gs_txt{display:block;position:relative;top:2px;right:-50%;padding:4px 6px;background:#595959;color:white;font-size:11px;font-weight:bold;line-height:normal;white-space:nowrap;border:1px solid white;border-radius:3px;box-shadow:inset 0 1px 4px rgba(0,0,0,.2);}.gs_press,.gs_in_se,.gs_tan{touch-action:none;}.gs_in_se .gs_lbl:not(:empty){padding-right:14px;}.gs_in_se .gs_icm{position:absolute;top:50%;margin-top:-5.5px;right:0;width:7px;height:11px;background-position:-21px -88px;opacity:.55;}.gs_in_se:hover .gs_icm{opacity:.72;}.gs_in_se:active .gs_icm{opacity:1;}.gs_in_se:disabled .gs_icm{opacity:.28;}.gs_el_ta .gs_btn_hta .gs_icm,.gs_el_ph .gs_btn_hph .gs_icm,.gs_el_ta .gs_btn_mta .gs_icm,.gs_el_ph .gs_btn_mph .gs_icm,.gs_el_ta .gs_btn_cta .gs_icm,.gs_el_ph .gs_btn_cph .gs_icm{display:none;}.gs_btn_mnu .gs_icm{margin-top:-3.5px;height:7px;background-position:0 -110px;}.gs_in_se.gs_btn_act .gs_icm,.gs_in_se.gs_btn_cre .gs_icm{margin-top:-3.5px;height:7px;background-position:-42px -44px;opacity:1;}.gs_btn_act:disabled .gs_icm,.gs_btn_cre:disabled .gs_icm{opacity:.72;}button.gs_btnG .gs_ico{width:21px;height:21px;background-position:-92px -253px;}.gs_md_d{text-transform:none;white-space:nowrap;position:absolute;top:0;left:0;border:1px solid #ccc;border-color:rgba(0,0,0,.2);background:#fff;box-shadow:0 2px 4px rgba(0,0,0,.2);z-index:1100;text-align:left;visibility:hidden;max-height:0;margin-top:-1000px;opacity:0;transition:opacity .13s,visibility 0s .13s,max-height 0s .13s,margin-top 0s .13s;}.gs_md_d.gs_vis{visibility:visible;max-height:10000px;margin-top:0;opacity:1;transition:all 0s;}.gs_el_tc .gs_md_d{transform-origin:100% 0;transform:scale(1,0);transition:opacity .218s ease-out,transform 0s .218s,visibility 0s .218s,max-height 0s .218s,margin-top 0s .218s;}.gs_el_tc .gs_md_d.gs_ttzi{transform-origin:50% 50%;transform:scale(0,0);}.gs_el_tc .gs_md_d.gs_ttzr{transform:scale(0,0);}.gs_el_tc .gs_md_d.gs_vis{transform:scale(1,1);transition:transform .218s ease-out;}.gs_md_r{position:relative;display:inline-block;}.gs_md_rmb>.gs_md_d{top:29px}.gs_md_rmbl>.gs_md_d{top:41px}.gs_md_ul{list-style-type:none;word-wrap:break-word;display:inline-block;vertical-align:top;}.gs_md_ul.gs_md_ul_tb{display:block;}.gs_md_li,.gs_in_cb.gs_md_li,.gs_md_li:link,.gs_md_li:visited{display:block;padding:6px 44px 6px 16px;font-size:13px;line-height:16px;color:#222;cursor:pointer;text-decoration:none;position:relative;z-index:0;}a.gs_md_li:hover .gs_lbl,a.gs_md_li:active .gs_lbl{text-decoration:none}.gs_el_tc .gs_md_li{padding-top:14px;padding-bottom:10px;}.gs_md_li.gs_md_lix{font-size:16px;line-height:20px;padding:12px 16px 8px 16px;}.gs_md_li:before{content:\"\";background-color:#f1f1f1;position:absolute;left:0;right:0;top:0;bottom:0;opacity:0;transition:opacity .13s;z-index:-1;}.gs_md_li:hover:before,.gs_md_li:focus:before{opacity:1;transition:all 0s;}a.gs_in_ib.gs_md_li .gs_lbl{color:#222}a.gs_in_ib.gs_md_li.gs_in_gray .gs_lbl{color:#444}.gs_md_li:active:before{background-color:#ddd}.gs_md_li.gs_sel,a.gs_in_ib.gs_md_li.gs_sel .gs_lbl{color:#d14836}.gs_md_d:focus,.gs_md_li:focus{outline:none}a.gs_md_lix .gs_lbl,a.gs_md_lix .gs_lbl:not(:empty){padding:0 0 0 40px;}a.gs_in_cb:link,a.gs_in_cb:visited,a.gs_in_cb:active,a.gs_in_cb:hover{cursor:pointer;color:#222;text-decoration:none;}.gs_in_cb,.gs_in_ra{position:relative;line-height:16px;display:inline-block;user-select:none;}.gs_in_cb.gs_md_li{padding:6px 44px 6px 16px;}.gs_in_cb input,.gs_in_ra input{position:absolute;top:1px;left:1px;width:15px;height:15px;margin:0;padding:0;opacity:0;z-index:2;}.gs_in_ra input{top:0;left:0}.gs_el_tc .gs_in_cb input{top:9px}.gs_el_tc .gs_in_ra input{top:8px}.gs_in_cb.gs_in_cbj input{top:15px;left:15px}.gs_in_cb label,.gs_in_cb .gs_lbl,.gs_in_ra label{display:inline-block;padding-left:21px;min-height:16px;}.gs_in_ra_lrge{font-size:15px;}.gs_in_cb label:empty:before,.gs_in_cb .gs_lbl:empty:before,.gs_in_ra label:empty:before{content:\"\\200b\";}.gs_el_tc .gs_in_cb label,.gs_el_tc .gs_in_cb .gs_lbl,.gs_el_tc .gs_in_ra label{padding-top:8px;padding-bottom:5px;}.gs_in_cb.gs_in_cbj label,.gs_in_cb.gs_in_cbj .gs_lbl{padding:13px 0 12px 41px;}.gs_in_cbb,.gs_in_cbb label,.gs_in_cbb .gs_lbl{display:block;}.gs_in_cb .gs_cbx,.gs_in_ra .gs_cbx{position:absolute}.gs_in_cb .gs_cbx{top:2px;left:2px;width:11px;height:11px;border:1px solid #c6c6c6;border-radius:1px;}.gs_md_li .gs_cbx{top:8px;left:18px}.gs_el_tc .gs_in_cb .gs_cbx{top:10px}.gs_el_tc .gs_md_li .gs_cbx{top:16px}.gs_in_cb.gs_in_cbj .gs_cbx{top:15px;left:15px}.gs_el_tc .gs_in_ra .gs_cbx{top:8px}.gs_in_ra .gs_cbx{top:0;left:0;border:1px solid #c6c6c6;width:13px;height:13px;border-radius:7px;}.gs_in_cb:hover .gs_cbx,.gs_in_ra:hover .gs_cbx{border-color:#666;box-shadow:inset 0 1px 1px rgba(0,0,0,.1);}button.gs_in_cb:hover .gs_cbx{border-color:#c6c6c6;}.gs_in_cb :focus~label,.gs_in_ra :focus~label{outline:1px dotted #222;}.gs_pfcs .gs_in_cb :focus~label,.gs_pfcs .gs_in_ra :focus~label{outline:none;}.gs_in_cb:active .gs_cbx,.gs_in_ra:active .gs_cbx,.gs_in_cb .gs_cbx:active,.gs_in_ra .gs_cbx:active,.gs_in_cb :active~.gs_cbx,.gs_in_ra :active~.gs_cbx{border-color:#666;background-color:#ebebeb;}button.gs_in_cb:active .gs_cbx{border-color:#a6a6a6;}.gs_in_cb :disabled~.gs_cbx,.gs_in_ra :disabled~.gs_cbx,button.gs_in_cb:disabled .gs_cbx{border-color:#f1f1f1;box-shadow:none;}.gs_in_cb :disabled~label,.gs_in_ra :disabled~label{color:#b8b8b8;}.gs_in_cb.gs_err .gs_cbx{border-color:#eda29b;}.gs_in_cb .gs_chk,.gs_in_ra .gs_chk{position:absolute;z-index:1;top:-3px;left:-2px;width:21px;height:21px;}.gs_md_li .gs_chk{top:3px;left:14px}.gs_el_tc .gs_in_cb .gs_chk{top:5px}.gs_el_tc .gs_md_li .gs_chk{top:11px}.gs_in_cb.gs_in_cbj .gs_chk{top:10px;left:11px}.gs_in_ra .gs_chk{top:4px;left:4px;width:7px;height:7px;border-radius:4px;}.gs_el_tc .gs_in_ra .gs_chk{top:12px}.gs_in_cb input:checked~.gs_chk,.gs_in_cb.gs_sel .gs_chk{background:no-repeat url(/intl/en/scholar/images/1x/sprite_20161020.png) -69px -67px;opacity:.62;}.gs_in_ra input:checked~.gs_chk{background-color:#666}.gs_in_cb.gs_par .gs_chk{background:no-repeat url(/intl/en/scholar/images/1x/sprite_20161020.png) -21px -44px;opacity:.55;}@media(-webkit-min-device-pixel-ratio:1.5),(min-resolution:144dpi){.gs_in_cb input:checked~.gs_chk,.gs_in_cb.gs_sel .gs_chk,.gs_in_cb.gs_par .gs_chk{background-image:url(/intl/en/scholar/images/2x/sprite_20161020.png);background-size:169px;}}.gs_in_cb input:checked:disabled~.gs_chk{opacity:.22}.gs_in_ra input:checked:disabled~.gs_chk{background-color:#f1f1f1}.gs_ico_x{background-position:-113px -22px;opacity:.55;}.gs_ico_x:hover{opacity:.72;}.gs_ico_x:active{opacity:1;}.gs_ico_X{background-position:-71px 0;opacity:.55;}.gs_ico_X:hover{opacity:.72;}.gs_ico_X:active{opacity:1;}.gs_btnX .gs_ico{background-position:-71px 0;}.gs_el_tc .gs_ico_Xt{background-origin:content-box;background-clip:content-box;padding:10px 6px 10px 14px;}.gs_ico_P{background-position:0 0;opacity:.55;}.gs_ico_P:hover{opacity:.72;}.gs_ico_P:active{opacity:1;}.gs_btnP .gs_ico{background-position:-21px 0;}.gs_btnC .gs_ico{background-position:0 -66px;}.gs_btnL .gs_ico{background-position:-92px -44px;}.gs_ico_LB{background-position:-50px -44px;height:16px;}.gs_btnJ .gs_ico{background-position:-92px -22px;}.gs_btnM .gs_ico{background-position:-92px 0;}.gs_btnMW .gs_ico{background-position:-21px -22px;}.gs_btnSB .gs_ico{background-position:0 -44px;}.gs_btnTSB .gs_ico{background-position:-115px -253px;}.gs_btnPL .gs_ico{background-position:-148px -66px;}.gs_btnPR .gs_ico{background-position:-21px -66px;}.gs_btnPLW .gs_ico{background-position:-0 -230px;}.gs_btnPRW .gs_ico{background-position:-23px -230px;}.gs_btnZI .gs_ico{background-position:-148px -22px;}.gs_btnZO .gs_ico{background-position:-127px -44px;}.gs_btnDE .gs_ico{background-position:-134px 0;}.gs_btnFI .gs_ico{background-position:-50px -66px;}.gs_btnAD .gs_ico{background-position:-141px -88px;opacity:.55;}.gs_btnAD:hover .gs_ico{opacity:.72;}.gs_btnAD:active .gs_ico,.gs_btnAD .gs_ico:active,.gs_btnAD :active~.gs_ico{opacity:1;}.gs_btnBA .gs_ico{background-position:-50px -22px;}.gs_btnADD .gs_ico{background-position:-92px -66px;}.gs_btnMRG .gs_ico{background-position:-113px 0;}.gs_btnLBL .gs_ico{background-position:0 -161px;}.gs_btnCNCL .gs_ico{background-position:-71px 0;}.gs_btnDWL .gs_ico{background-position:-28px -88px;}.gs_btnMNU .gs_ico{background-position:0 -88px;}.gs_btnMNT .gs_ico{background-position:-46px -161px;}.gs_btnALT .gs_ico{background-position:-92px -161px;}.gs_btnART .gs_ico{background-position:-115px -161px;}.gs_btnGSL .gs_ico{background-position:-69px -161px;}.gs_btnCLS .gs_ico{background-position:-138px -161px;}.gs_btnXBLU .gs_ico{background-position:-138px -253px;}.gs_btnSSB .gs_ico{background-position:0 -276px;}.gs_btnSSW .gs_ico{background-position:-23px -276px;}.gs_btnFLT .gs_ico{background-position:0 -184px;}.gs_btnXT .gs_ico{background-position:-46px -184px;}.gs_btnPD .gs_ico{background-position:-69px -184px;}.gs_btnPU .gs_ico {background-position:-92px -276px;}.gs_btnCP .gs_ico{background-position:-92px -184px;}.gs_btnTP .gs_ico{background-position:-138px -184px;}.gs_btnML .gs_ico{background-position:-115px -276px;}.gs_btnCHK .gs_ico{background-position:-71px -66px;}.gs_btnDNB .gs_ico{background-position:-115px -230px;}.gs_btnDNW .gs_ico{background-position:0 -207px;}.gs_btnACA .gs_ico{background-position:-23px -207px;}.gs_btnAPT .gs_ico{background-position:-46px -207px;}.gs_btnAPTW .gs_ico{background-position:-92px -230px;}.gs_btnAFL .gs_ico{background-position:-69px -207px;}.gs_btnAN .gs_ico{background-position:-46px -276px;}.gs_btnAI .gs_ico{background-position:-69px -276px;}.gs_btnPBL .gs_ico{background-position:-92px -207px;}.gs_btnUCT .gs_ico{background-position:-115px -207px;}.gs_btnVRF .gs_ico{background-position:-138px -207px;}.gs_btnLSI .gs_ico{background-position:-46px -230px;}.gs_btnLSG .gs_ico{background-position:-69px -230px;}.gs_btnMOR .gs_ico{background-position:-23px -253px;}.gs_btnADV .gs_ico{background-position:-46px -253px;}.gs_btnPRO .gs_ico{background-position:-69px -253px;}.gs_ico_star{background-position:-71px -44px;width:13px;height:13px;}.gs_btnPLSW .gs_ico{background-position:-138px -230px;}.gs_btnPDF .gs_ico{background-position:0 -253px;}.gs_btnS .gs_ico{background-position:-138px -276px;}.gs_btnUNS .gs_ico{background-position:0 -299px;}.gs_btnMORR .gs_ico{background-position:-23px -299px;}.gs_btnTW .gs_ico{background-position:-46px -299px;}.gs_btnIN .gs_ico{background-position:-69px -299px;}.gs_btnFB .gs_ico{background-position:-92px -299px;}.gs_btnET .gs_ico{background-position:-115px -299px;}.gs_btnARC .gs_ico{background-position:-138px -299px;}.gs_btnOL .gs_ico{background-position:0px -322px;}.gs_btnFA .gs_ico{background-position:-23px -322px;}.gs_btnFAD .gs_ico{background-position:-46px -322px;}.gs_btnHP .gs_ico{background-position:-69px -322px;}.gs_btnPLM .gs_ico{background-position:-92px -322px;}.gs_btnPRM .gs_ico{background-position:-115px -322px;}.gs_btnSRT .gs_ico{background-position:0 -345px;}#gs_md_s.gs_hdr_drs{transition:opacity .15s,visibility 0s .15s;}#gs_md_s.gs_hdr_drs.gs_vis{transition:opacity .15s,visibility 0s;}.gs_el_tc #gs_md_s.gs_hdr_drs{transition:opacity .218s,visibility 0s .218s;}.gs_el_tc #gs_md_s.gs_hdr_drs.gs_vis{transition:opacity .218s,visibility 0s;}#gs_hdr_drw{position:fixed;top:0;left:0;height:100%;z-index:1200;visibility:hidden;overflow:auto;width:228px;background-color:#fff;box-shadow:2px 2px 4px rgba(0,0,0,.15);outline:none;transform:translate(-100%,0);transition:transform .15s ease-in-out,visibility 0s .15s;}#gs_hdr_drw.gs_vis{visibility:visible;transform:translate(0,0);transition:transform .15s ease-in-out,visibility 0s;}.gs_el_tc #gs_hdr_drw{transition:transform .3s cubic-bezier(.4,0,.6,1),visibility 0s .3s;}.gs_el_tc #gs_hdr_drw.gs_vis{transition:transform .225s cubic-bezier(0,0,.2,1),visibility 0s;}#gs_top #gs_hdr_drw.gs_abt,#gs_top #gs_md_s.gs_abt{transition:none;}#gs_hdr_drw_in{position:relative;box-sizing:border-box;min-height:100%;padding:0 0 8px 0;}.gs_el_ta #gs_hdr_drw_in,.gs_el_ph #gs_hdr_drw_in{padding:0 0 65px 0;}#gs_hdr_drw_top{position:relative;height:63px;border-bottom:1px solid #e5e5e5;margin-bottom:8px;}.gs_el_ta #gs_hdr_drw_top,.gs_el_ph #gs_hdr_drw_top{height:57px;}#gs_hdr_drw_mnu,#gs_hdr_drw_lgo{position:absolute;top:0;height:100%;}#gs_hdr_drw_mnu{left:0;width:55px;}#gs_hdr_drw_lgo{left:56px;}.gs_hdr_drw_sec:before{display:block;content:\" \";height:0;border-bottom:1px solid #e5e5e5;margin:8px 0;}.gs_hdr_drw_sec:first-child:before{display:none;}#gs_hdr_drw_bot{display:none;}.gs_el_ta #gs_hdr_drw_bot,.gs_el_ph #gs_hdr_drw_bot{display:block;position:absolute;left:0;bottom:0;width:100%;height:65px;}#gs_hdr_drw_bot .gs_md_li:before{opacity:0;}#gs_hdr_drw_bot .gs_hdr_pp{display:block;position:absolute;bottom:14px;left:15px;pointer-events:none;}#gs_hdr_drw_bot .gs_lbl{display:block;white-space:nowrap;overflow:hidden;text-overflow:ellipsis;}#gs_hdr{position:relative;height:63px;background-color:#f5f5f5;border-bottom:1px solid #e5e5e5;display:flex;}.gs_el_ta #gs_hdr,.gs_el_ph #gs_hdr{height:57px;}#gs_hdr_mnu,#gs_hdr_bck,#gs_hdr_lgo,#gs_hdr_lgt,#gs_hdr_md,#gs_hdr_sre,#gs_hdr_act{display:inline-block;vertical-align:top;position:relative;height:100%;flex:0 0 auto;}#gs_hdr_md{flex:1 1 auto;}#gs_hdr .gs_hdr_mbo,#gs_hdr .gs_hdr_mbo,.gs_el_ta #gs_hdr .gs_hdr_dso,.gs_el_ph #gs_hdr .gs_hdr_dso{display:none;}.gs_el_ta #gs_hdr .gs_hdr_mbo,.gs_el_ph #gs_hdr .gs_hdr_mbo{display:inline-block;}#gs_hdr_mnu,#gs_hdr_bck,#gs_hdr_sre{width:55px;margin-right:1px;}#gs_hdr_lgo,#gs_hdr_drw_lgo{width:149px;background:no-repeat url('/intl/en/scholar/images/1x/scholar_logo_24dp.png') 0% 50%;background-size:149px;}@media(-webkit-min-device-pixel-ratio:1.5),(min-resolution:144dpi){#gs_hdr_lgo,#gs_hdr_drw_lgo{background-image:url('/intl/en/scholar/images/2x/scholar_logo_24dp.png');}}#gs_hdr_lgo{margin-right:31px;}.gs_el_ph #gs_hdr_lgo{margin-right:0;}#gs_hdr_lgt{min-width:164px;margin-right:16px;}.gs_el_sm #gs_hdr_lgt:empty{display:none;}#gs_hdr_md{margin-right:16px;min-width:1px;}#gs_hdr_lgt,#gs_hdr_md h1{padding:19px 0 0 0;white-space:nowrap;overflow:hidden;text-overflow:ellipsis;font-size:20px;line-height:25px;font-weight:normal;color:#666;max-width:100%;text-align:left;}.gs_el_ta #gs_hdr_md h1,.gs_el_ph #gs_hdr_md h1{padding:16px 0 0 0;}#gs_hdr_srch{padding:14px 0 0 0;max-width:600px;}.gs_el_ta #gs_hdr_srch,.gs_el_ph #gs_hdr_srch{padding:10px 0 0 0;max-width:none;}#gs_hdr_frm{position:relative;padding-right:39px;}#gs_hdr_tsi{height:38px;border-radius:2px 0 0 2px;}#gs_hdr_tsi::-ms-clear{display:none;}#gs_hdr_tsc{display:none;position:absolute;top:3px;right:41px;width:21px;height:21px;padding:6px 10px 7px 10px;}.gs_in_acw[dir=\"rtl\"]~#gs_hdr_tsc{right:auto;left:1px;}#gs_hdr_tsb{position:absolute;top:0;right:0;width:40px;height:38px;border-radius:0 2px 2px 0;}#gs_hdr_frm_ac{top:37px;right:40px;}.gs_el_ph #gs_hdr_frm_ac{right:0;}.gs_el_ph .gs_hdr_ifc #gs_hdr_mnu,.gs_el_ph .gs_hdr_ifc #gs_hdr_bck,.gs_hdr_src #gs_hdr_srch,.gs_hdr_src #gs_hdr_lgt,.gs_hdr_srx #gs_hdr_sre,.gs_hdr_srx #gs_hdr_md h1,.gs_hdr_srx #gs_hdr_md h1.gs_hdr_mbo,.gs_hdr_srx #gs_hdr_md h1.gs_hdr_dso,.gs_el_ta .gs_hdr_srx #gs_hdr_lgo,.gs_el_ph .gs_hdr_srx #gs_hdr_lgo,.gs_el_ph .gs_hdr_srx #gs_hdr_mnu,.gs_el_ph .gs_hdr_srx #gs_hdr_bck{display:none;}.gs_el_ph .gs_hdr_ifc #gs_hdr_md,.gs_el_ph .gs_hdr_srx #gs_hdr_md{margin-left:16px;}.gs_el_tc .gs_hdr_tsc #gs_hdr_tsi[dir=\"ltr\"]{padding-right:41px;}.gs_el_tc .gs_hdr_tsc #gs_hdr_tsi[dir=\"rtl\"]{padding-left:41px;}.gs_el_tc .gs_hdr_tsc .gs_in_acw~#gs_hdr_tsc{display:block;}#gs_hdr_act{min-width:64px;max-width:200px;text-align:right;float:right;}.gs_el_ta #gs_hdr_act,.gs_el_ph #gs_hdr_act{display:none;}#gs_hdr_act_i,#gs_hdr_act_s{display:inline-block;padding:23px 24px 23px 16px;max-width:100%;box-sizing:border-box;font-size:13px;line-height:17px;white-space:nowrap;overflow:hidden;text-overflow:ellipsis;color:#444;}#gs_hdr_act_s{text-transform:uppercase;}.gs_el_sm #gs_hdr_act_i,.gs_el_sm #gs_hdr_act_s{padding:23px 16px;}.gs_el_ta #gs_hdr_act_i,.gs_el_ta #gs_hdr_act_s,.gs_el_ph #gs_hdr_act_i,.gs_el_ph #gs_hdr_act_s{padding:20px 16px;}#gs_hdr_act_i:active,#gs_hdr_act_s:active{color:#d14836;}#gs_hdr_act_i,.gs_el_sm #gs_hdr_act_i{padding-top:15px;padding-bottom:16px;}.gs_el_ta #gs_hdr_act_i,.gs_el_ph #gs_hdr_act_i{padding-top:12px;padding-bottom:13px;}#gs_hdr_act_i .gs_hdr_pp{vertical-align:top;}#gs_hdr_act_d{top:63px;left:auto;right:24px;min-width:288px;max-width:400px;}.gs_el_sm #gs_hdr_act_d{right:16px;}.gs_el_ta #gs_hdr_act_d{top:57px;}.gs_el_ph #gs_hdr_act_d{top:57px;min-width:280px;max-width:280px;max-width:90vw;}/* Account dialog body. */#gs_hdr_act_aw,#gs_hdr_act_ap,.gs_hdr_act_am,#gs_hdr_act_ab{display:block;padding:10px 20px;word-wrap:break-word;white-space:normal;}#gs_hdr_act_aw{background-color:#fef9db;font-size:11px;}#gs_hdr_act_ap,.gs_hdr_act_am{border-bottom:1px solid #ccc;}#gs_hdr_act_ap{padding:20px;}.gs_el_ph #gs_hdr_act_ap{padding:10px;}#gs_hdr_act_apb{margin-top:12px;}#gs_hdr_act_aa:link,#gs_hdr_act_aa:visited{float:right;margin-left:8px;color:#1a0dab;}#gs_hdr_act_aa:active{color:#d14836}.gs_hdr_act_am:link,.gs_hdr_act_am:visited{color:#222;text-decoration:none;background:#fbfbfb;}.gs_hdr_act_am:hover,.gs_hdr_act_am:focus{background:#f1f1f1;}.gs_hdr_act_am:active{background:#eee;}#gs_hdr_act_ab{background:#fbfbfb;padding:10px 0;display:table;width:100%;white-space:nowrap;}#gs_hdr_act_aba,#gs_hdr_act_abs{display:table-cell;padding:0 20px;}#gs_hdr_act_abs{text-align:right;}.gs_el_ph #gs_hdr_act_aba,.gs_el_ph #gs_hdr_act_abs{display:block;padding:10px;text-align:center;}.gs_el_ph #gs_hdr_act_aba button,.gs_el_ph #gs_hdr_act_abs button{width:100%;}#gs_hdr_act_a1,#gs_hdr_act_a2{position:absolute;top:-9px;right:7.5px;width:0;height:0;z-index:1;border:8.5px solid transparent;border-top:none;border-bottom-color:#333;border-bottom-color:rgba(0,0,0,.2);}#gs_hdr_act_a2{top:-8px;border-bottom-color:#fff;}.gs_hdr_act_mw #gs_hdr_act_a2{border-bottom-color:#fef9db;}.gs_hdr_pp{border-radius:50%;overflow:hidden;}#gs_hdr_act_ap .gs_hdr_pp,.gs_hdr_act_am .gs_hdr_pp{float:left;}#gs_hdr_act_ap .gs_hdr_pm{margin-left:116px;}.gs_hdr_act_am .gs_hdr_pm{margin:6px 0 0 58px;}#gs_ab{position:relative;height:41px;border-bottom:1px solid #e5e5e5;display:flex;white-space:nowrap;background-color:#fff;z-index:1000;}.gs_el_ta #gs_ab.gs_nta,.gs_el_ph #gs_ab.gs_nph{display:none;}.gs_sth_vis #gs_ab{position:fixed;}#gs_ab_ico,#gs_ab_ttl,#gs_ab_md,#gs_ab_btns{display:inline-block;vertical-align:top;position:relative;height:100%;flex:0 0 auto;}.gs_el_ph #gs_ab_md{display:block;}#gs_ab_ico{width:55px;margin-right:1px;}#gs_ab_ico .gs_ico{position:absolute;top:50%;left:50%;margin:-10.5px 0 0 -10.5px;}#gs_ab_ttl{min-width:172px;padding-right:8px;}.gs_el_sm #gs_ab_ttl{min-width:68px;}.gs_el_ta #gs_ab_ttl,.gs_el_ph #gs_ab_ttl{min-width:0;}#gs_ab_ttl,#gs_ab_ttll{font-size:18px;color:#666;text-transform:none;}.gs_el_sm #gs_ab_ttl,.gs_el_sm #gs_ab_ttll{font-size:16px;}#gs_ab_ttll{overflow:hidden;text-overflow:ellipsis;max-width:200px;}#gs_ab_md{flex:1 0 auto;}.gs_ab_st #gs_ab_md{flex:1 1 auto;font-size:13px;line-height:17px;padding:0 8px;color:#999;overflow:hidden;text-overflow:ellipsis;}.gs_el_ph .gs_ab_st #gs_ab_md{visibility:hidden;padding:0;}#gs_ab_btns{margin-right:8px;}.gs_el_sm #gs_ab_btns{margin-right:0;}.gs_el_ta #gs_ab_btns,.gs_el_ph #gs_ab_btns{margin-right:4px;}#gs_ab_ttl:before,#gs_ab_md:before,#gs_ab_btns:before{content:\"\";display:inline-block;width:0;height:100%;vertical-align:middle;}#gs_ab_md>button,#gs_ab_btns>button,#gs_ab_md>.gs_in_ib,#gs_ab_btns>.gs_in_ib,#gs_ab_md>.gs_md_r,#gs_ab_btns>.gs_md_r,#gs_ab .gs_ab_mdw,#gs_ab .gs_ab_btw{margin:0 8px;vertical-align:middle;}#gs_ab .gs_ab_mdw,.gs_ab_btw{display:inline-block;margin:0;}#gs_ab_btns>.gs_in_ib{margin:0 16px 0 8px;}#gs_ab .gs_ab_btw{margin:0 12px 0 16px;}.gs_el_ta .gs_ab_sel #gs_ab_ico,.gs_el_ph .gs_ab_sel #gs_ab_ico,.gs_el_ta .gs_ab_sel #gs_ab_ttl,.gs_el_ph .gs_ab_sel #gs_ab_ttl,.gs_el_ta .gs_ab_sel #gs_ab_btns,.gs_el_ph .gs_ab_sel #gs_ab_btns{display:none;}#gs_bdy{display:table;table-layout:fixed;width:100%;}#gs_bdy_sb{vertical-align:top;width:228px;word-wrap:break-word;display:table-cell;}.gs_el_sm #gs_bdy_sb{display:none;}.gs_el_ta #gs_bdy_sb,.gs_el_ph #gs_bdy_sb{display:none;}.gs_bdy_sb_sec{margin:0 40px 0 56px;}.gs_bdy_sb_sec:before{display:block;content:\" \";height:0;margin:13px 0;border-top:1px solid #eee;}.gs_bdy_sb_sec:first-child:before{margin:21px 0 0 0;border:none;}#gs_bdy_sb ul{list-style-type:none;}.gs_bdy_sb_sec a:link,.gs_bdy_sb_sec a:visited{color:#222;}.gs_bdy_sb_sec a:active{color:#d14836;}.gs_bdy_sb_sel a:link,.gs_bdy_sb_sel a:visited{color:#d14836;text-decoration:none;}.gs_el_tc .gs_bdy_sb_sec li.gs_ind,.gs_el_tc .gs_bdy_sb_sec li.gs_ind a{padding-top:8px;padding-bottom:5px;}.gs_el_tc .gs_bdy_sb_sec:first-child li.gs_ind:first-child{margin-top:-8px;}#gs_bdy_sb .gs_ind,#gs_bdy_sb .gs_inw{margin-bottom:4px;}.gs_el_tc #gs_bdy_sb .gs_ind,.gs_el_tc #gs_bdy_sb .gs_inw{margin-bottom:0;}#gs_bdy_ccl{display:table-cell;vertical-align:top;padding:0 24px 0 16px;}.gs_el_sm #gs_bdy_ccl{padding:0 16px 0 56px;}.gs_el_ta #gs_bdy_ccl,.gs_el_ph #gs_bdy_ccl{padding:0 16px 0 56px;}.gs_el_ph #gs_bdy_ccl{padding:0 16px;}#gs_ftr_sp{height:62px;}.gs_el_sm #gs_ftr_sp{height:57px;}#gs_ftr{position:absolute;bottom:0;left:0;width:100%;white-space:nowrap;border-top:1px solid #e4e4e4;background-color:#f2f2f2;display:flex;}#gs_ftr_rt{box-sizing:border-box;max-width:100%;overflow-x:auto;margin-left:auto;padding:0 12px;}.gs_el_sm #gs_ftr_rt{padding:0 8px;}.gs_el_ph #gs_ftr_rt:after{content:\" \";position:absolute;top:0;right:0;width:16px;height:100%;background-image:linear-gradient(to right,rgba(242,242,242,0),rgba(242,242,242,1) 80%);}#gs_ftr_rt a{display:inline-block;line-height:16px;padding:12px;white-space:nowrap;}.gs_el_sm #gs_ftr_rt a{padding:12px 8px;}#gs_ftr_rt a:link,#gs_ftr_rt a:visited{color:#666}#gs_ftr_rt a:active{color:#d14836}#gsc_mp_ccl{max-width:862px;padding:21px 0;margin-left:-8px;}.gs_el_sm #gsc_mp_ccl{padding:16px 0;margin-left:0;}#gsc_mp_nav{position:relative;height:41px;margin:-5px 0 8px 0;}.gs_el_ph #gsc_mp_nav{margin:-16px 0 0 0;}#gsc_mp_nav_left{margin-left:7px;}.gs_el_sm #gsc_mp_nav_left{margin-left:-10px;}#gsc_mp_nav_right{position:absolute;top:0;right:0;}#gsc_mp_nav_right .gs_md_d{left:auto;right:0;}#gsc_mp_desc{word-wrap:break-word;}#gsc_mp_desc:empty{display:none;}.gsc_mp_desc_inner{padding:0 8px 8px 8px;}.gs_el_sm .gsc_mp_desc_inner{padding:0 0 8px 0;}#gsc_mp_disclaimer{margin:21px 0 -21px 0;font-style:italic;text-align:center;}.gs_el_sm #gsc_mp_disclaimer{margin:16px 0 -16px 0;}#gsc_mp_disclaimer:empty{display:none;}.gsc_mp_anchor:link,.gsc_mp_anchor:visited{color:#222;text-decoration:underline;}.gsc_mp_anchor:active{color:#d14836;}.gs_el_tc .gsc_mp_anchor,.gs_el_tc .gsc_mp_anchor_lrge{padding:8px 0 5px 0;}.gsc_mp_table_wrapper{border-right:1px solid #ebebeb;border-left:1px solid #ebebeb;}.gsc_mp_table{width:100%;background-color:#fff;}.gsc_mp_row_highlight{background-color:#ffc;}.gsc_pgn{text-align:right;font-weight:bold;line-height:29px;}.gsc_pgn_ppn{margin:0 8px;}.gsc_mvt_table_wrapper{border-right:1px solid #ebebeb;border-left:1px solid #ebebeb;}.gsc_mvt_table_wrapper.gsc_mvt_lmi{border:none;margin:0;}#gsc_mvt_table{table-layout:fixed;}.gsc_mvt_p,.gsc_mvt_t,.gsc_mvt_n{font-weight:normal;padding:8px;border-bottom:1px solid #ebebeb;text-align:center;vertical-align:middle;}th.gsc_mvt_p,th.gsc_mvt_t,th.gsc_mvt_n{height:48px;box-sizing:border-box;padding:0 8px;}th.gsc_mvt_n{width:82px;word-wrap:break-word;}.gs_el_ph th.gsc_mvt_n{width:56px;padding:0 4px;}.gsc_mvt_t{text-align:left;word-wrap:break-word;}.gs_el_ph .gsc_mvt_p{padding:0;text-align:right;}th.gsc_mvt_p{width:60px;}.gs_el_ph th.gsc_mvt_p{width:32px;}.gsc_mvt_t,th.gsc_mvt_t{padding-left:12px;}.gsc_mvt_lmi .gsc_mvt_p,.gs_el_ta .gsc_mvt_lmi .gsc_mvt_p{text-align:right;padding:0;}.gsc_mvt_lmi th.gsc_mvt_p{width:21px;}.gsc_mphm{display:none;padding:8px 0;}.gsc_mphm_show{display:block;}.gsc_mphm_ha{margin-left:8px;}#gsc_mcn{height:41px;position:relative;}.gsc_mcn_ar{pointer-events:none;vertical-align:-1px;}#gsc_mcn_sb-r{position:static;}#gsc_mcn_sb .gs_md_ul{width:270px;}.gs_el_ta #gsc_mcn_sb .gs_md_ul,.gs_el_ph #gsc_mcn_sb .gs_md_ul{display:block;}#gsc_mcn_sb .gs_md_li{white-space:normal;}.gsc_mcn_lc #gsc_mcn_acb_lbl{max-width:90px;overflow:hidden;text-overflow:ellipsis;white-space:nowrap;}</style><script>!function(GSP){/*\n",
       "\n",
       " Copyright The Closure Library Authors.\n",
       " SPDX-License-Identifier: Apache-2.0\n",
       "*/\n",
       "var aa=\"function\"==typeof Object.create?Object.create:function(a){var b=function(){};b.prototype=a;return new b},ba=\"function\"==typeof Object.defineProperties?Object.defineProperty:function(a,b,c){if(a==Array.prototype||a==Object.prototype)return a;a[b]=c.value;return a},ca=function(a){a=[\"object\"==typeof globalThis&&globalThis,a,\"object\"==typeof window&&window,\"object\"==typeof self&&self,\"object\"==typeof global&&global];for(var b=0;b<a.length;++b){var c=a[b];if(c&&c.Math==Math)return c}throw Error(\"Cannot find global object\");\n",
       "},da=ca(this),l=function(a,b){if(b)a:{var c=da;a=a.split(\".\");for(var d=0;d<a.length-1;d++){var e=a[d];if(!(e in c))break a;c=c[e]}a=a[a.length-1];d=c[a];b=b(d);b!=d&&null!=b&&ba(c,a,{configurable:!0,writable:!0,value:b})}},ea;if(\"function\"==typeof Object.setPrototypeOf)ea=Object.setPrototypeOf;else{var fa;a:{var ia={a:!0},ja={};try{ja.__proto__=ia;fa=ja.a;break a}catch(a){}fa=!1}ea=fa?function(a,b){a.__proto__=b;if(a.__proto__!==b)throw new TypeError(a+\" is not extensible\");return a}:null}\n",
       "var ka=ea,la=function(a,b){a.prototype=aa(b.prototype);a.prototype.constructor=a;if(ka)ka(a,b);else for(var c in b)if(\"prototype\"!=c)if(Object.defineProperties){var d=Object.getOwnPropertyDescriptor(b,c);d&&Object.defineProperty(a,c,d)}else a[c]=b[c];a.pa=b.prototype},ma=function(a){a=Math.trunc(a)||0;0>a&&(a+=this.length);if(!(0>a||a>=this.length))return this[a]};l(\"Array.prototype.at\",function(a){return a?a:ma});var n=function(a){return a?a:ma};l(\"Int8Array.prototype.at\",n);\n",
       "l(\"Uint8Array.prototype.at\",n);l(\"Uint8ClampedArray.prototype.at\",n);l(\"Int16Array.prototype.at\",n);l(\"Uint16Array.prototype.at\",n);l(\"Int32Array.prototype.at\",n);l(\"Uint32Array.prototype.at\",n);l(\"Float32Array.prototype.at\",n);l(\"Float64Array.prototype.at\",n);l(\"String.prototype.at\",function(a){return a?a:ma});var na=function(a,b){var c=Array.prototype.slice.call(arguments,1);return function(){var d=c.slice();d.push.apply(d,arguments);return a.apply(this,d)}};var t=function(){this.C=this.C;this.I=this.I};t.prototype.C=!1;t.prototype.isDisposed=function(){return this.C};t.prototype.X=function(){this.C||(this.C=!0,this.K())};t.prototype.K=function(){if(this.I)for(;this.I.length;)this.I.shift()()};var oa=function(){};function u(a,b){a.classList.add(b)}function w(a,b){a.classList.remove(b)}function x(a,b){return a.classList?a.classList.contains(b):!1}function y(a,b,c){c=void 0!==c?c:!x(a,b);(c?u:w)(a,b)};function C(a){return 0<=(navigator.userAgent||\"\").indexOf(a)}var pa=C(\"iPhone\")||C(\"iPad\")||C(\"iPod\"),qa=C(\"iPhone\")||C(\"Android\")&&C(\"Mobile\");function ra(){if(void 0===b){var a=window.screen;a={width:window.innerWidth,height:window.innerHeight,oa:a.width,na:a.height}}else a=b;var b=a;a=b.width;var c=b.height,d=b.oa;b=b.na;var e=4;if(600>a||48E4>d*b||qa)e=1;else if(982>a)e=2;else if(1136>a||590>c)e=3;return e}var sa,ta=/[?&]tc=([01])/.exec(location.search||\"\");\n",
       "sa=ta?0<+ta[1]:C(\"Android\")?!0:window.matchMedia&&window.matchMedia(\"(pointer)\").matches?window.matchMedia(\"(pointer:coarse)\").matches:!C(\"Firefox\")||C(\"Mobile\")||C(\"Tablet\")?pa||\"ontouchstart\"in window||0<(navigator.msMaxTouchPoints||0):!1;function ua(){if(void 0==va){va=!1;try{var a=Object.defineProperty({},\"passive\",{get:function(){va=!0}});window.addEventListener(\"testPassive\",oa,a);window.removeEventListener(\"testPassive\",oa,a)}catch(b){}}return va}var va;function D(a){return document.getElementById(a)}function E(a){return a.id||(a.id=\"gs_id\"+wa++)}function xa(a){a=(void 0===a?null:a)||document.body;return\"rtl\"==(a?window.getComputedStyle(a,null):null).direction}function ya(a){var b=[];a=a.elements;for(var c=a.length,d=0;d<c;d++){var e=a[d],f=encodeURIComponent(e.name||\"\"),g=e.type;!f||e.disabled||!(\"checkbox\"!=g&&\"radio\"!=g||e.checked)||b.push(f+\"=\"+encodeURIComponent(e.value||\"\"))}return b.join(\"&\")}\n",
       "var wa=100,za=/\\S+/g,Aa=/^(?:https?:|[^:/?#]*(?:[/?#]|$))/i,Ba=/^(?:#|\\/[a-z0-9_-]*(?:[?].*)?$)/i;function F(a){return a.hasOwnProperty(\"gs_uid\")?a.gs_uid:a.gs_uid=++Ca}var Ca=0;var G=function(){this.o=[];this.G={};this.S=this.F=0};G.prototype.add=function(a){var b=F(a);this.G[b]||(this.o.push(a),this.G[b]=this.o.length,++this.F)};G.prototype.remove=function(a){a=F(a);var b=this.G[a];b&&(this.o[b-1]=null,delete this.G[a],2*--this.F<this.o.length&&!this.S&&Da(this))};G.prototype.notify=function(a){var b=this.o;try{++this.S;for(var c=0;c<b.length;c++){var d=b[c];d&&d.apply(null,arguments)}}finally{!--this.S&&2*this.F<b.length&&Da(this)}};\n",
       "var Da=function(a){var b=a.o,c=b.length;a=a.G;for(var d=0,e=0;e<c;e++){var f=b[e];f&&(b[d]=f,a[F(f)]=++d)}b.length=d};function H(a,b,c,d,e){Ea(a,b,c,void 0===d?!1:d,void 0===e?!1:e,Fa)}function I(a,b,c,d){Ea(a,b,c,void 0===d?!1:d,!1,Ga)}function Ha(a,b,c,d){function e(g){I(f,a,e,c);b(g)}var f=document;c=void 0===c?!1:c;H(f,a,e,c,void 0===d?!1:d)}function Ia(a){Ja?Ja.add(a):a()}var Ka=window.requestAnimationFrame?function(a){window.requestAnimationFrame(a)}:function(a){setTimeout(a,33)};function La(a){a.stopPropagation();a.preventDefault()}\n",
       "function Ma(a){return(a.ctrlKey?1:0)|(a.altKey?2:0)|(a.metaKey?4:0)|(a.shiftKey?8:0)}function Fa(a,b,c,d,e){var f=a.addEventListener;e=e&&ua();f.call(a,b,c,e?{passive:e,capture:d}:d)}function Ga(a,b,c,d){a.removeEventListener(b,c,d)}function Ea(a,b,c,d,e,f){if(\"string\"===typeof b)f(a,b,c,d,e);else for(var g=b.length,m=0;m<g;m++)f(a,b[m],c,d,e)}function Na(){Ja.notify();Ja=null}function Oa(){\"complete\"==document.readyState&&(I(document,\"readystatechange\",Oa),Na())}\n",
       "var Ja,Pa=!!document.attachEvent,Qa=document.readyState;if(Pa?\"complete\"!=Qa:\"loading\"==Qa)Ja=new G,Pa?H(document,\"readystatechange\",Oa):Ha(\"DOMContentLoaded\",Na);function Ra(){Ha([\"mousedown\",\"touchstart\"],function(){y(document.documentElement,\"gs_pfcs\",!0);H(document,\"keydown\",Sa,!0)},!0,!0)}function Sa(a){9==a.keyCode&&(y(document.documentElement,\"gs_pfcs\",!1),I(document,\"keydown\",Sa,!0),Ra())}Ra();function Ta(a,b,c,d,e){var f=D(a);Ua(f,function(){u(f,\"gs_vis\");b&&b()},function(){w(f,\"gs_vis\");c&&c()},d,e)}function Va(a){a=J[a]||[0];return a[a.length-1]}\n",
       "function Ua(a,b,c,d,e,f){f=void 0===f?\"\":f;var g=E(a),m=Va(g);if(!m||m<Va(f)){var h=document.activeElement;f=D(f);Wa(Xa(f||a),!0);b&&b();K.push(function(k){J[g].pop();J[g].length||delete J[g];if(!k){(k=e)||h==document.body||(k=h);var p=document.activeElement;if(k)try{k.focus()}catch(z){}else p&&a.contains(p)&&p.blur()}c&&c()});J[g]||(J[g]=[]);J[g].push(K.length);h&&a.contains(h)||setTimeout(function(){var k=d,p=k&&\"text\"==k.type;if(!k||p&&sa)k=a;try{k.focus(),p&&(k.value=k.value)}catch(z){}},0)}}\n",
       "function L(a){Wa((Va(a)||1E6)-1,!1)}function Ya(a){a=void 0===a?!1:a;K.pop()(a)}function Wa(a,b){for(b=void 0===b?!1:b;K.length>a;)Ya(b||K.length>a+1)}function Xa(a){for(var b=0;a&&!(b=Va(a.id));)a=a.parentNode;return b}var K=[],J={};H(document,\"click\",function(a){var b=K.length;b&&!Ma(a)&&b>Xa(a.target)&&Ya(!0)});H(document,\"keydown\",function(a){27==a.keyCode&&!Ma(a)&&K.length&&Ya()});\n",
       "H(document,\"focus\",function(a){var b=K.length;if(b)for(var c=Xa(a.target);c<b;){var d=\"\",e;for(e in J)if(Va(e)==b){d=e;break}a:{d=(D(d).getAttribute(\"data-wfc\")||\"\").match(za)||[];for(var f=0;f<d.length;f++){var g=D(d[f]);if(g&&g.offsetWidth){d=g;break a}}d=void 0}if(d){La(a);d.focus();break}else Ya(!0),--b}},!0);var Za={},$a={},ab;try{ab=window.sessionStorage}catch(a){};function M(a){return\"object\"==typeof a?a:null}function bb(){var a=cb(),b=db();b=eb(b);a=fb(a);a=gb(a)||\"#\";N=M(b);hb?window.history.replaceState(b,\"\",a):window.location.replace(a)}function gb(a){var b=[],c;for(c in a)b.push(encodeURIComponent(c)+\"=\"+encodeURIComponent(a[c]));return(a=b.sort().join(\"&\"))?\"#\"+a:\"\"}\n",
       "function ib(a){var b={};a=a.split(\"&\");for(var c=0;c<a.length;c++){var d=a[c],e=d.indexOf(\"=\");if(e+1){var f=d.substr(0,e);d=d.substr(e+1)}else f=d,d=\"\";f&&(b[decodeURIComponent(f)]=decodeURIComponent(d))}return b}function jb(){var a=window.location.hash,b=a.indexOf(\"#\")+1;return ib(b?a.substr(b):\"\")}function kb(a,b){for(var c in b){var d=b[c];void 0!==d?a[c]=d:delete a[c]}}function fb(a){var b=jb();kb(b,a);return b}\n",
       "function eb(a){var b=N||M(window.history.state),c={},d;for(d in b)c[d]=b[d];kb(c,a);return c}function lb(){setTimeout(function(){if(!mb){var a=window.history.state;mb=!0;N=M(a);nb.notify()}ob=!1},0)}var nb=new G,N,mb=!1,ob=!0,hb=\"pushState\"in window.history,pb;\n",
       "if(\"undefined\"==typeof GSP)pb=!1;else{var qb=.001*Date.now(),rb=GSP.eventId,sb=!1,O,tb=ab;if(!(\"nh\"in Za)){var ub=tb&&tb.getItem(\"nh\"),vb;if(ub)try{vb=JSON.parse(ub)}catch(a){}$a.nh=vb}O=$a.nh;O instanceof Array||(O=[]);for(var wb=O.length,xb=0,yb=0;yb<wb;yb++){var zb=O[yb];if(zb instanceof Array&&2==zb.length){var Ab=zb[1]==rb;sb=sb||Ab;10>=wb-yb&&+zb[0]>qb-86400&&!Ab&&(O[xb++]=zb)}}O.length=xb;O.push([qb,rb]);var Bb=O,Cb=ab;$a.nh=Bb;try{Cb&&Cb.setItem(\"nh\",JSON.stringify(Bb))}catch(a){}pb=sb}\n",
       "var Db=pb;\"onpageshow\"in window?H(window,\"pageshow\",lb):Ia(lb);H(window,hb?\"popstate\":\"hashchange\",function(a){\"loading\"!=document.readyState&&(a=a.state,mb=!0,N=M(a),nb.notify())});function Eb(){Fb&&(I(D(\"gs_alrt_l\"),\"click\",Fb),Fb=void 0)}function Gb(){var a=Hb();u(a,\"gs_anm\");u(a,\"gs_vis\");H(document,\"click\",Ib);clearTimeout(Jb);Jb=setTimeout(Ib,4E3);++Kb;setTimeout(Lb,0)}function Ib(){Kb||(I(document,\"click\",Ib),clearTimeout(Jb),Jb=void 0,Eb(),w(Hb(),\"gs_vis\"))}function Hb(){return D(\"gs_alrt\")}function Lb(){Kb=0}var Jb,Kb=0,Fb;Ia(function(){var a=D(\"gs_alrt_m\");a&&(a.innerHTML&&!Db&&Gb(),H(window,\"pagehide\",function(){Kb=0;Ib();w(Hb(),\"gs_anm\")}))});function Mb(a,b,c){var d=new XMLHttpRequest;d.onreadystatechange=function(){if(4==d.readyState){var e=d.status,f=d.responseText,g=d.getResponseHeader(\"Content-Type\"),m=d.responseURL,h=window.location,k=h.protocol;h=\"//\"+h.host+\"/\";m&&m.indexOf(k+h)&&m.indexOf(\"https:\"+h)&&(e=0,g=f=\"\");c(e,f,g||\"\")}};d.open(b?\"POST\":\"GET\",a,!0);d.setRequestHeader(\"X-Requested-With\",\"XHR\");b&&d.setRequestHeader(\"Content-Type\",\"application/x-www-form-urlencoded\");b?d.send(b):d.send();return d}\n",
       "function Nb(a){a&&(a.onreadystatechange=function(){},a.abort())};var Ob=function(a,b,c){this.type=a;this.currentTarget=this.target=b;this.j=void 0===c?null:c;this.U=!1};Ob.prototype.stopPropagation=function(){this.j&&this.j.stopPropagation();this.U=!0};var P=function(a){a.j&&La(a.j);a.U=!0};var R=function(a,b){this.V=a;this.ma=b},Pb=function(a,b,c){this.V=a;this.types=b;this.listener=c};function Qb(a,b){var c=b.length;if(c){var d=F(a),e=Rb[d];if(!e){e=Rb[d]=[];d=Sb(b[0].V);for(var f in d){var g=Tb[f];g||(g=Tb[f]=Object.create(null));for(var m in d[f]){var h=g[m];h||(h=g[m]=[]);h.push(a)}}Ub(a,e,b[0],Vb);for(f=1;f<c;f++)Ub(a,e,b[f],Wb)}}}function S(a,b,c){Xb(new Ob(a,b,void 0===c?null:c))}\n",
       "function T(a,b,c){var d=Yb;\"string\"===typeof b&&(Zb[0]=b,b=Zb);var e=b.length;a=Sb(a);for(var f in a)for(var g in a[f])for(var m=0;m<e;m++)d(f,g,b[m],c)}function Sb(a){\"string\"===typeof a&&($b[0]=a,a=$b);for(var b=a.length,c=Object.create(null),d=0;d<b;d++){var e=a[d],f=e.charAt(0),g=e.substr(1);if(\"#\"!=f&&\".\"!=f||!g)throw Error(\"bad selector: \"+e);(e=c[f])||(e=c[f]=Object.create(null));e[g]=!0}return c}\n",
       "function Yb(a,b,c,d){var e=ac[c];e||(\"touchstart\"!=c&&\"mouseover\"!=c&&\"mouseout\"!=c&&H(document,c,bc,\"focus\"==c||\"blur\"==c),e=ac[c]=Object.create(null));(c=e[a])||(c=e[a]=Object.create(null));(a=c[b])||(a=c[b]=new G);a.add(d)}function bc(a){var b=a.target;b&&3==b.nodeType&&(b=b.parentNode);Xb(new Ob(a.type,b,a))}\n",
       "function Xb(a){for(var b=a.target;b&&b!=document&&!b.disabled&&!x(b,\"gs_dis\");){a.currentTarget=b;var c=b.id;if(c&&!cc(\"#\",c,a))break;c=b.classList||[];for(var d=c.length,e=0;e<d;e++)if(!cc(\".\",c[e],a))return;b=b.parentNode}}function cc(a,b,c){var d=ac[c.type];(b=(a=d&&d[a])&&a[b])&&b.notify(c);return!c.U}function Ub(a,b,c,d){var e=c.V;c=c.ma;for(var f in c){var g=na(d,a,c[f]);T(e,f,g);b.push(new Pb(e,f,g))}}function Vb(a,b,c){var d=c.currentTarget;a=dc(a,d)||a;a=ec(a,d);b.call(a,c)}\n",
       "function Wb(a,b,c){a:{for(var d=c.currentTarget;d&&d!=document;){var e=dc(a,d);if(e){a=ec(e,d);break a}d=d.parentNode}a=void 0}a&&b.call(a,c)}function ec(a,b){var c=fc(b),d=gc[c];d||(d=gc[c]=[]);for(var e=d.length,f=0;f<e;f++){var g=d[f];if(g instanceof a)return g}b=new a(b);d.push(b);a=F(a);(d=hc[a])||(d=hc[a]=[]);d.push(c);return b}function dc(a,b){var c,d=b.id;d&&(c=ic(a,c,\"#\",d));b=b.classList||[];d=b.length;for(var e=0;e<d;e++)c=ic(a,c,\".\",b[e]);return c}\n",
       "function ic(a,b,c,d){c=(d=(c=Tb[c])&&c[d])?d.length:0;for(var e=0;e<c;e++){var f=d[e];!(f===a||f.prototype instanceof a)||b&&!(f===b||f.prototype instanceof b)||(b=f)}return b}function fc(a){var b=a.getAttribute(\"data-duid\");b||a.setAttribute(\"data-duid\",b=\"\"+jc++);return b}var ac=Object.create(null),$b=[\"\"],Zb=[\"\"],Tb=Object.create(null),Rb=Object.create(null),hc=Object.create(null),gc=Object.create(null),jc=100;window.gs_evt_dsp=bc;function kc(){var a=\".gs_md_li\";if(\"string\"===typeof a){var b=a.charAt(0),c=a.slice(1);if(\"#\"==b)a=function(d){return d.id==c&&0<d.offsetWidth};else if(\".\"==b)a=function(d){return x(d,c)&&0<d.offsetWidth};else throw Error(\"bad selector: \"+a);}return a}function lc(a,b){return a&&((void 0===b?0:b)?a.lastElementChild:a.firstElementChild)}function mc(a,b){return a&&((void 0===b?0:b)?a.previousElementSibling:a.nextElementSibling)}function nc(a,b,c){c=void 0===c?!1:c;return oc(a,b,kc(),c,!1)}\n",
       "function oc(a,b,c,d,e){for(var f;b&&a;){if(c(b)){if(e)return b}else for(f=lc(b,d);f;f=mc(f,d))if(e=oc(f,f,c,d,!0))return e;for(e=!0;;){if(b==a)return null;f=b.parentNode;if(b=mc(b,d))break;b=f}}return null};var pc=[\"false\",\"true\",\"mixed\"];var U=function(){this.D=Object.create(null)};U.prototype.clear=function(){this.D=Object.create(null)};U.prototype.has=function(a){return a in this.D};U.prototype.get=function(a){return this.D[a]};U.prototype.set=function(a,b){this.has(a);this.D[a]=b};U.prototype.delete=function(a){this.has(a)&&delete this.D[a]};var qc=function(a){var b=window,c=this;this.o=new G;this.Z=0;this.W=[b,a,function(){c.Z++||Ka(d)},!1];var d=function(){c.Z=0;c.o.notify()}};qc.prototype.addListener=function(a){this.o.F||H.apply(null,this.W);this.o.add(a)};qc.prototype.removeListener=function(a){this.o.remove(a);this.o.F||I.apply(null,this.W)};var rc=new qc(\"scroll\"),sc=new qc(\"resize\");var tc=new G;function uc(){var a=document.documentElement,b=ra();b={gs_el_ph:1==b,gs_el_ta:2==b,gs_el_sm:4!=b,gs_el_tc:sa||1==b};var c;for(c in b){var d=b[c];if(x(a,c)!=d){var e=!0;y(a,c,d)}}e&&tc.notify()}y(document.documentElement,\"gs_el_ios\",pa);uc();sc.addListener(uc);H(window,[\"pageshow\",\"load\"],uc);var vc=function(a,b,c,d,e,f){this.g=a;this.B=b;this.v=c;this.A=d;this.T=e;this.s=f;this.m=null},wc=function(a,b){a.m=b},xc=function(){this.l=[];this.i=-1};xc.prototype.push=function(a){++this.i;this.i==this.l.length?this.l.push(a):(this.l[this.i]=a,this.l.splice(this.i+1,this.l.length-this.i))};xc.prototype.pop=function(){--this.i};var Ac=function(a){for(var b=W;b.i>a;)L(b.top().g)},Bc=function(a,b){for(var c=0;c<a.l.length&&!(a.l[c].s>=b);++c);return c};xc.prototype.top=function(){return this.at(this.i)};\n",
       "xc.prototype.at=function(a){return this.l[a]||null};function Cc(a,b){var c=a==W.i;W.i=a;b&&!N&&!M(window.history.state)&&bb();c||Dc()}function Ec(a){var b=void 0===b?\"\":b;var c=void 0===c?\"\":c;var d=void 0===d?\"\":d;var e=W.top();e&&a==e.g&&b==e.B&&c==e.v||(W.push(new vc(a,b,c,d,e&&e.g==a?e.T+1:1,Date.now())),b=cb(),a=db(),a=eb(a),b=fb(b),b=gb(b)||\"#\",N=M(a),hb?window.history.pushState(a,\"\",b):window.location.assign(b),Dc())}\n",
       "function Fc(a){a=Gc(D(a));return!!a&&x(a,\"gs_md_wmw\")&&x(document.documentElement,\"gs_el_ph\")}function Hc(){var a=D(\"gs_top\"),b=document.documentElement;a=a.scrollHeight>b.clientHeight;for(var c=!1,d=0;d<=W.i&&!c;++d)c=!Fc(W.at(d).g);y(D(\"gs_md_s\"),\"gs_vis\",c);c=W.i;1<=c&&(c=W.at(c-1).g,d=Fc(c),y(D(c),\"gs_md_ins_vis\",!d));b.style.overflowY=a&&!Fc(W.top().g)?\"scroll\":\"\"}\n",
       "function Dc(){function a(){var v=c.clientHeight,q=+A.getAttribute(\"data-h\");q||(g.style.maxHeight=\"none\",q=f.offsetHeight);var r=f.querySelector(\".gs_md_ftr\");q=Math.max((v-q)/2,10);v=Math.max(v-48-(r?r.offsetHeight:0)-2*q,10);r=Fc(e);f.style.top=r?\"auto\":q+\"px\";g.style.maxHeight=r?\"none\":v+\"px\";Ic(g)}var b=W.top(),c=document.documentElement,d=D(\"gs_top\"),e=b.g,f=D(e),g=D(e+\"-bdy\"),m=1200+W.i,h=D(f.getAttribute(\"data-cid\")||f.id+\"-bdy\")||f,k=b.A,p=b.v,z=b.B,B=D(\"gs_md_s\"),V=D(e).getAttribute(\"data-shd\")||\n",
       "\"\",A=Gc(f),Q=window.pageYOffset,yc=z&&\"#\"!=z[0]&&!k,zc=0<W.i?W.at(W.i-1).g:\"\",ha=!!J[e];yc?(ha?y(h,\"gs_md_ldg\",!0):Jc(f,h,'<div class=\"gs_md_prg\">'+D(\"gs_md_ldg\").innerHTML+\"</div>\",b),S(\"gs-md-ldin\",h)):(k&&Jc(f,h,k,b),S(\"gs-md-lded\",h));ha&&e==zc||Ua(f,function(){(A||f).style.zIndex=m;Kc(V);if(!ha){A&&u(A,\"gs_vis\");u(f,\"gs_vis\");y(f,\"gs_abt\",ob);y(B,\"gs_abt\",ob);Lc(e);if(0==W.i){var v=Hc;tc.add(v);v()}else Hc();A&&g&&(a(),sc.addListener(a))}0==W.i&&(u(d,\"gs_nscl\"),d.style.top=-Q+\"px\")},function(){ha||\n",
       "(sc.removeListener(a),A&&w(A,\"gs_vis\"),w(f,\"gs_vis\"),w(f,\"gs_abt\"));for(var v=W.top()?W.top().T:0;W.top()&&W.top().g==e;){var q=W.top();Nb(q.m);q.m=null;W.pop()}if(W.top()){if(q=W.top().g,Kc(D(q).getAttribute(\"data-shd\")||\"\"),w(D(q),\"gs_md_ins_vis\"),ha){a:{q=W;for(var r=q.i;0<=r;r--)if(q.l[r].g==e){q=r;break a}q=-1}r=W.at(q);(A||f).style.zIndex=1200+q;Jc(f,h,r.A,r)}}else w(B,\"gs_vis\"),w(B,\"gs_abt\");-1==W.i?(tc.remove(Hc),c.style.overflowY=\"\",w(d,\"gs_nscl\"),d.style.top=\"auto\",window.scrollTo(0,Q)):\n",
       "Hc();Mc||(0<v?window.history.go(-v):bb())},Nc(f),Oc(f),zc);yc&&(Nb(b.m),b.m=null,wc(b,Mb(z,p,function(v,q,r){b.m=null;r=(v=200==v&&r.match(/^text\\/html(;.*)?$/i))?q:Pc();Jc(f,h,r,b);if(v)for(v=0;v<W.l.length;++v)r=W.at(v),e==r.g&&z==r.B&&p==r.v&&(r.A=q,v==W.i&&bb());S(\"gs-md-lded\",h)})))}function Gc(a){a=a.parentNode;return x(a,\"gs_md_wnw\")?a:null}function Nc(a){return(a=a.getAttribute(\"data-ifc\"))?D(a):null}function Oc(a){return(a=a.getAttribute(\"data-cfc\"))?D(a):null}\n",
       "function Jc(a,b,c,d){y(b,\"gs_md_ldg\",!1);for(var e=b.querySelectorAll(\"[data-duid]\"),f=e.length,g={},m=0;m<f;m++){for(var h=fc(e[m]),k=gc[h],p=k?k.length:0,z=0;z<p;z++){var B=k[z],V=F(B.constructor),A=g[V];A||(A=g[V]={});A[h]=!0;B&&\"function\"==typeof B.X&&B.X()}delete gc[h]}for(var Q in g){Q=+Q;e=g[Q];m=(f=hc[Q])?f.length:0;for(k=h=0;k<m;k++)p=f[k],p in e||(f[h++]=p);h?f.length=h:delete hc[Q]}b.innerHTML=c;d.A=c;Lc(a.id);Nb(d.m);d.m=null}\n",
       "function Lc(a){if(a=document.querySelector(\"#\"+a+\">.gs_md_bdy\"))a.scrollTop=a.scrollLeft=0,Ic(a)}function Ic(a){var b=a.style,c=\"padding\"+(xa(a)?\"Left\":\"Right\");b[c]=\"\";var d=a.offsetWidth-a.clientWidth;2<d&&(a=parseInt(window.getComputedStyle(a,null)[c],10)||0,b[c]=Math.max(a-d,0)+\"px\")}function Pc(){return'<div class=\"gs_md_prg\"><div class=\"gs_alrt\">'+D(\"gs_md_err\").innerHTML+\"</div></div>\"}\n",
       "function cb(){var a=W.top();return{d:a&&a.g||void 0,u:a&&a.B||void 0,p:a&&a.v?\"1\":void 0,t:a&&a.s||void 0}}function db(){var a=W.top();return{n:a&&a.T||0,p:a&&a.v||\"\",h:a&&a.A||\"\"}}function Kc(a){if(Qc!=a){var b=D(\"gs_md_s\");Qc&&w(b,Qc);(Qc=a)&&u(b,a)}}var Mc=0,Qc=\"\",W=new xc;\n",
       "nb.add(function(){var a=jb(),b=a.d||\"\",c=b?D(b):null;++Mc;if(c){var d=a.u||\"\";c=0<+a.p;var e=+a.t||0,f=N||M(window.history.state)||{};a=+f.n||0;var g=\"\"+(f.p||\"\");f=\"\"+(f.h||\"\");d.match(Ba)||(d=\"\");for(var m=Bc(W,e),h=m;h<W.l.length;++h){var k=W.at(h);if(e<k.s&&k.g!=b)break}for(k=m-1;0<=k;--k){var p=W.at(k);if(e>p.s&&p.g!=b)break}Ac(h-1);for(h=0;h<=k;++h)p=W.at(h).g,J[p]||Cc(k,!1);if(k=m<W.l.length)k=W.at(m),k=b==k.g&&d==k.B&&c==!!k.v&&e==k.s;k?Cc(m,!0):(0==a&&(Ac(-1),W=new xc,e=Date.now()),c!=!!g&&\n",
       "(d=g=\"\",f=Pc()),b=new vc(b,d,g,f,a,e),c=W,e=b.s,a=Bc(c,e),e=a<c.l.length&&e==c.at(a).s,c.l.splice(a,e?1:0,b),W.i=a,bb(),Dc())}else Ac(-1);--Mc});var Rc=function(a){t.call(this);this.H=a;this.R=Object.create(null);this.m=null;a=a.querySelectorAll(\".gs_in_txtw>input[type=text]\");for(var b=a.length;b--;){var c=a[b],d=c.parentNode.querySelector(\".gs_in_txts\");c=c.name;d&&c&&(this.R[c]=d.innerHTML)}};la(Rc,t);Rc.prototype.K=function(){Nb(this.m);this.H=this.m=null;t.prototype.K.call(this)};\n",
       "Rc.prototype.ia=function(a){var b=this;P(a);if((a=this.H)&&!this.m){var c=\"json=&\"+ya(a);Sc(this,!0);this.m=Mb(a.action,c,function(d,e){b.m=null;Sc(b,!1);var f=b.H,g=f.getAttribute(\"data-alrt\");if(g=g?D(g):null)g.innerHTML=\"\";try{var m=200==d&&JSON.parse(e)}catch(A){}d=!1;m&&\"object\"==typeof m||(Tc(g,D(\"gs_md_err\").innerHTML),m={},d=!0);f.setAttribute(\"data-p\",\"\"+(m.P||\"\"));S(\"gs-ajax-form-done\",f);if(e=m.L){var h=\"\"+e;h.match(Aa)&&(window.location.href=h)}else{if(e=m.M)Tc(g,e),d=!0;e=1E6;g&&g.innerHTML&&\n",
       "(h=g,e=g.getBoundingClientRect().top);g=f.elements;m=m.E;\"object\"==typeof m||(m=Object.create(null));for(var k in b.R){var p=g[k],z=void 0,B=\"\"+(m[k]||\"\"),V=p.parentNode.querySelector(\".gs_in_txts\");y(p.parentNode,\"gs_in_txte\",!!B);V&&(V.innerHTML=B||b.R[k]||\"\");B&&(z=p.getBoundingClientRect().top)<e&&(h=p,e=z);d=d||!!B}(f=f.getAttribute(\"data-d\"))&&!d&&L(f);h&&h.scrollIntoView&&(0>e||e+20>window.innerHeight)&&h.scrollIntoView()}})}};\n",
       "var Sc=function(a,b){a=a.H;var c=a.getAttribute(\"data-bsel\");a=c?document.querySelectorAll(c):a.querySelectorAll(\"button\");for(c=a.length;c--;){var d=a[c];d.disabled=b;y(d,\"gs_bsp\",b)}},Tc=function(a,b){if(a)a.innerHTML=b;else{var c=void 0===c?\"\":c;var d=void 0===d?\"\":d;var e=void 0===e?[]:e;D(\"gs_alrt_m\").innerHTML=b;Hb().action=d.match(Aa)?d:\"\";a=D(\"gs_alrt_l\");a.textContent=c;c=D(\"gs_alrt_h\");c.innerHTML=\"\";for(var f in e)b=document.createElement(\"input\"),b.type=\"hidden\",b.name=f,b.value=e[f],\n",
       "c.appendChild(b);Eb();y(a,\"gs_fm_s\",!0);Gb()}};Qb(Rc,[new R(\".gs_ajax_frm\",{submit:Rc.prototype.ia})]);var Uc=[[1,0,1],[2,0,1]];T(\".gs_cb_gen\",\"click\",function(a){var b=a.currentTarget,c=!!x(b,\"gs_sel\")+2*!!x(b,\"gs_par\"),d=2==+b.getAttribute(\"data-s\");c=Uc[+d][c];d=!0;d=void 0===d?!1:d;y(b,\"gs_sel\",1==c);y(b,\"gs_par\",2==c);b.setAttribute(\"aria-checked\",pc[c]);d||b.setAttribute(\"data-s\",\"\"+c);S(\"gs-change\",b,a.j)});T(\".gs_cb_gen\",[\"keydown\",\"keyup\"],function(a){var b=a.currentTarget,c=a.j.keyCode;\"BUTTON\"!=b.tagName||13!=c&&32!=c||(P(a),\"keydown\"==a.type&&b.click())});T([\".gs_cb_gen\",\".gs_md_li\"],\"keydown\",function(a){var b=a.currentTarget,c=b.tagName,d=a.j.keyCode;\"BUTTON\"!=c&&(32==d||13==d&&\"A\"!=c)&&(P(a),b.click())});var Vc=[\"click\",\"contextmenu\",\"mouseup\"].concat(navigator.sendBeacon?[]:[\"mousedown\",\"touchstart\"]),Wc=\"\",Xc=null;function Yc(){Xc=null}function Zc(a){navigator.sendBeacon?navigator.sendBeacon(a):Xc&&a==Xc.src||((Xc=new Image).src=a,setTimeout(Yc,1E3))}\n",
       "function $c(){var a=document.location.href,b=a.indexOf(\"?\")+1;a=b?a.substr(b):\"\";b=a.indexOf(\"#\");a=ib(b+1?a.substr(0,b):a).hl||\"\";a=\"/scholar_bfnav?url=\"+encodeURIComponent(document.location.href)+\"&hl=\"+encodeURIComponent(a)+\"&ei=\"+GSP.eventId;Zc(a)}Ia(function(){Wc=Db?\"&bn=1\":\"\";Db&&$c()});H(window,\"pageshow\",function(a){a.persisted&&(Wc=\"&bn=1\",$c())});\n",
       "H(document,Vc,function(a){if(!(\"click\"==a.type&&a.button||\"mouseup\"==a.type&&1!=a.button)){var b,c;a:{for(a=a.target;a;){var d=a.nodeName;if(\"A\"==d)break a;if(\"SPAN\"==d||\"B\"==d||\"I\"==d||\"EM\"==d||\"IMG\"==d)a=a.parentNode;else break}a=null}a&&(b=a.getAttribute(\"href\"))&&(c=a.getAttribute(\"data-clk\"))&&(b=\"/scholar_url?url=\"+encodeURIComponent(b)+\"&\"+c+\"&ws=\"+window.innerWidth+\"x\"+window.innerHeight+\"&at=\",c=encodeURIComponent,a=(a=a.getAttribute(\"data-clk-atid\"))&&D(a),b=b+c(a&&a.innerText||\"\")+Wc,Zc(b))}},\n",
       "!1,!0);T(\".gs_fm_s\",\"click\",function(a){a=a.currentTarget.getAttribute(\"data-fm\")||\"\";(a=D(a))&&a.submit()});var X=function(a){this.g=E(a.querySelector(\".gs_md_d\"));this.J=E(a.querySelector(\".gs_md_tb\"))};X.prototype.N=function(a){var b=D(this.g);return void 0!==a?nc(b,b,a):null};X.prototype.open=function(a){a=this.N(a);if(x(D(this.J),\"gs_sel\"))try{a&&a.focus()}catch(c){}else{var b=D(this.J);Ta(this.g,function(){u(b,\"gs_sel\")},function(){w(b,\"gs_sel\")},a,b)}};X.prototype.close=function(){L(this.g)};X.prototype.ba=function(a){P(a);x(D(this.J),\"gs_sel\")?this.close():this.open(\"keydown\"==a.j.type?!1:void 0)};\n",
       "X.prototype.Y=function(a){var b=a.j.keyCode;if(38==b||40==b)P(a),this.open(38==b)};X.prototype.da=function(a){a.target.id==this.g&&this.Y(a)};Qb(X,[new R(\".gs_md_rmb\",{}),new R(\".gs_md_tb\",{\"gs-press\":X.prototype.ba,keydown:X.prototype.Y}),new R(\".gs_md_d\",{keydown:X.prototype.da})]);var Y=function(a){X.call(this,a);this.ka=E(a.querySelector(\".gs_md_in\"));this.la=E(a.querySelector(\".gs_md_tb .gs_lbl\"))};la(Y,X);Y.prototype.N=function(){return D(this.g).querySelector(\".gs_md_li[aria-selected]\")};Y.prototype.ea=function(a){ad(this,a)};Y.prototype.O=function(a){var b=a.j.keyCode;13!=b&&32!=b||ad(this,a)};\n",
       "var ad=function(a,b){var c=b.currentTarget,d=D(a.ka),e=a.N();c!=e&&(d.value=c.getAttribute(\"data-v\"),D(a.la).innerHTML=c.innerHTML,e&&bd(e,!1),bd(c,!0));P(b);a.close();S(\"gs-change\",d,b.j)},bd=function(a,b){y(a,\"gs_sel\",b);b?a.setAttribute(\"aria-selected\",\"true\"):a.removeAttribute(\"aria-selected\")};Qb(Y,[new R(\".gs_md_ris\",{}),new R(\".gs_md_li\",{click:Y.prototype.ea,keydown:Y.prototype.O})]);T(\"#gs_lp\",\"click\",function(a){P(a);Ec(\"gs_lp_d\")});T(\"#gs_lp_cur\",\"click\",function(a){P(a);L(\"gs_lp_d\")});var cd=function(a){this.aa=E(a)};cd.prototype.O=function(a){var b=a.currentTarget,c=a.j.keyCode;if(38==c||40==c){var d=D(this.aa);d=nc(d,b,38==c)||nc(d,d,38==c)}else if(37==c||39==c)a:{c=!!(37==c^xa(b.parentNode));d=b.parentNode;var e=d.children,f=e.length;if(d.id!=this.aa){for(;e[--f]!=b;);d=mc(d,c)||lc(d.parentNode,c);e=d.children;if(f=Math.min(f+1,e.length))if(d=e[f-1],x(d,\"gs_md_li\")&&d.offsetLeft!=b.offsetLeft)break a}d=void 0}d&&(P(a),d.focus())};\n",
       "Qb(cd,[new R(\".gs_md_ulr\",{}),new R(\".gs_md_li\",{keydown:cd.prototype.O})]);T(\"#gs_hdr_mnu\",\"click\",function(a){P(a);Ec(\"gs_hdr_drw\")});T(\"#gs_hdr_drw_mnu\",\"click\",function(a){P(a);L(\"gs_hdr_drw\")});T(\"#gs_hdr_act_i\",\"click\",function(a){P(a);1==ra()?(a=document.querySelector(\"#gs_hdr_drw_bot>a\").href,a.match(Aa)&&(window.location.href=a)):Ta(\"gs_hdr_act_d\")});T(\"#gs_hdr_drw\",\"keydown\",function(a){var b=a.j.keyCode;if(38==b||40==b){var c=a.currentTarget;if(b=nc(c,c,38==b))P(a),b.focus()}});\n",
       "T(\"#gs_hdr_tsi\",[\"focus\",\"blur\"],function(a){function b(){var g=d.getBoundingClientRect().top-10;10<Math.abs(g)&&window.scrollBy(0,g);clearTimeout(e);c()}function c(){I(window,f,b)}var d=a.target;a=\"focus\"==a.type;y(D(\"gs_hdr\"),\"gs_hdr_ifc\",a);if(a&&sa&&!(749<window.innerHeight)){var e=setTimeout(c,1E3),f=[\"scroll\",\"resize\"];H(window,f,b)}});T(\"#gs_hdr_tsi\",[\"input\",\"gs-change\"],function(a){y(D(\"gs_hdr_frm\"),\"gs_hdr_tsc\",!!a.currentTarget.value)});\n",
       "T(\"#gs_hdr_tsc\",\"mousedown\",function(a){P(a);var b=D(\"gs_hdr_tsi\");b.value=\"\";b.focus();S(\"input\",b,a.j)});T(\"#gs_hdr_sre\",\"click\",function(a){P(a);var b=D(\"gs_hdr\");Ta(\"gs_hdr_frm\",function(){w(b,\"gs_hdr_src\");u(b,\"gs_hdr_srx\")},function(){u(b,\"gs_hdr_src\");w(b,\"gs_hdr_srx\")},D(\"gs_hdr_tsi\"))});T(\".gs_md_x\",\"click\",function(a){(a=a.currentTarget.getAttribute(\"data-mdx\"))&&L(a)});var Z=function(){},dd,ed;Z.prototype.ca=function(a){a.j.button||(P(a),fd(a))};Z.prototype.fa=function(a){gd(a)&&(P(a),fd(a))};Z.prototype.ga=function(a){gd(a)&&P(a)};Z.prototype.ha=function(a){if(!a.j.button){P(a);var b=a.j;b&&(hd=b.clientX||0,id=b.clientY||0,H(document,jd,kd,!0),clearTimeout(dd),dd=setTimeout(ld,2E3));fd(a)}};Z.prototype.ja=function(a){P(a);if(md){var b=a.j;if(b=(b=b&&b.touches)&&1==b.length&&b[0])nd=b.clientX,od=b.clientY,H(document,pd,qd,!0),clearTimeout(ed),ed=setTimeout(rd,2E3)}fd(a)};\n",
       "var gd=function(a){a=a.j.keyCode;return 32==a||13==a},fd=function(a){S(\"gs-press\",a.currentTarget,a.j)},ld=function(){I(document,jd,kd,!0);clearTimeout(dd);dd=void 0},kd=function(a){\"mousedown\"!=a.type&&10>Math.abs(a.clientX-hd)&&10>Math.abs(a.clientY-id)?(La(a),\"click\"==a.type&&ld()):ld()},rd=function(){I(document,pd,qd,!0);clearTimeout(ed);ed=void 0},qd=function(a){\"touchstart\"!=a.type&&10>Math.abs(a.clientX-nd)&&10>Math.abs(a.clientY-od)?(La(a),\"click\"==a.type&&rd()):rd()},hd=0,id=0,jd=[\"mousedown\",\n",
       "\"mouseup\",\"click\"],md=C(\"Android\")&&!C(\"Chrome\"),nd=0,od=0,pd=[\"touchstart\",\"mousedown\",\"mouseup\",\"click\"];Qb(Z,[new R(\".gs_press\",{click:Z.prototype.ca,keydown:Z.prototype.fa,keyup:Z.prototype.ga,mousedown:Z.prototype.ha,touchstart:Z.prototype.ja})]);function sd(a){td.style.left=ud&&vd===wd?a.left+\"px\":\"auto\";td.style.width=ud?a.width+\"px\":\"auto\";S(\"gs-sth-change\",D(\"gs_sth\"))}function xd(){var a=yd.getBoundingClientRect(),b=a.top,c=td.offsetHeight,d=0>b,e;if(e=d&&pa)e=document.activeElement,e=!!e&&\"INPUT\"==e.tagName&&\"text\"==e.type;b=e?-b-a.height:wd;var f=ud!=d||vd!==wd!=e;b!==vd&&(vd=b,td.style.transform=b===wd?\"none\":\"translate3d(0,\"+b+\"px,0)\");f&&(ud=d,y(zd,\"gs_sth_vis\",d),y(zd,\"gs_sth_trk\",e),sd(a),yd.style.height=ud?c+\"px\":\"auto\")}\n",
       "function Ad(){ud&&sd(yd.getBoundingClientRect())}var wd,zd,yd,td,ud=!1,vd;Ia(function(){if(zd=D(\"gs_sth\"))yd=zd.querySelector(\".gs_sth_g\"),td=zd.querySelector(\".gs_sth_b\"),rc.addListener(xd),sc.addListener(Ad),xd()});new U;new U;T(\".gsc_mp_tgh\",\"click\",function(a){a=a.currentTarget.getAttribute(\"data-tg\")||\"\";for(var b=document.querySelectorAll(\".gsc_mphm\"),c=b.length;c--;){var d=b[c];y(d,\"gsc_mphm_show\",d.id==a?void 0:!1)}});\n",
       "}({\"customAC\":0,\"eventId\":\"jbwtY8eqFs-4mwH_m7LoAQ\"});</script></head><body><div id=\"gs_top\" onclick=\"\"><style>#gs_md_s,.gs_md_wnw{z-index:1200;position:fixed;top:0;left:0;width:100%;height:100%;visibility:hidden;}.gs_md_ds:before{content:'';position:absolute;background-color:#fff;z-index:100;opacity:0;visibility:hidden;top:0;bottom:0;right:0;left:0;}.gs_md_ds.gs_md_d:not(.gs_el_ph .gs_md_wmw):before{top:-1px;bottom:-1px;right:-1px;left:-1px;}#gs_md_s{background-color:#fff;opacity:0;}.gs_el_ta #gs_md_s,.gs_el_ph #gs_md_s,.gs_el_ta .gs_md_ds:before,.gs_el_ph .gs_md_ds:before{background-color:#666;}#gs_md_s.gs_vis,.gs_md_ds.gs_md_ins_vis:before{opacity:.5;visibility:visible;}.gs_md_wnw{transition:all 0s .218s;}.gs_md_wnw.gs_vis{visibility:visible;transition:all 0s;}.gs_el_tc .gs_md_ds:before{transition:opacity .15s,visibility 0s .15s;}.gs_el_tc .gs_md_ds.gs_md_ins_vis:before{transition:opacity .218s,visibility 0s;}.gs_md_wnw>.gs_md_d{position:relative;margin:0 auto;width:464px;box-shadow:2px 2px 8px rgba(0,0,0,.2);white-space:normal;}.gs_el_ta .gs_md_wnw>.gs_md_d,.gs_el_ph .gs_md_wnw>.gs_md_d{box-shadow:2px 2px 8px rgba(0,0,0,.65);}.gs_el_ph .gs_md_wnw>.gs_md_d{width:80%;max-width:440px;}.gs_el_ph .gs_md_wmw>.gs_md_d{display:flex;flex-direction:column;width:100%;height:100%;max-width:none;border:none;box-shadow:none;transform:translate(0,100%);transform:translate(0,100vh);transition:transform .27s cubic-bezier(.4,0,.6,1),opacity 0s .27s,visibility 0s .27s,max-height 0s .27s;}.gs_el_ph .gs_md_wmw>.gs_md_d.gs_vis{transform:translate(0,0);transition:transform .3s cubic-bezier(0,0,.2,1);}.gs_md_wmw>.gs_md_d.gs_abt,.gs_el_ph .gs_md_wmw>.gs_md_d.gs_abt{transition:none;}.gs_md_hdr{display:flex;align-items:center;height:47px;border-bottom:1px solid #e0e0e0;border-bottom-color:rgba(0,0,0,.12);background-color:#f5f5f5;}.gs_md_hdr>a,.gs_md_hdr>a.gs_btn_lrge{flex:0 0 auto;width:41px;height:47px;}.gs_el_ph .gs_md_hdr>a{margin:0 2px 0 0;}.gs_el_ph a.gs_md_hdr_c{margin:0 0 0 2px;}.gs_md_hdr_b{margin:0 41px 0 16px;}.gs_el_ph .gs_md_hdr_b{margin:0 16px;}.gs_md_hdr_t:empty~.gs_md_hdr_b{margin-left:0;}.gs_md_hdr_b:empty{width:41px;margin:0;}.gs_el_ph .gs_md_hdr_b:empty{margin-right:2px;}.gs_md_hdr_b:empty:not(:last-child){display:none;}.gs_md_hdr_b>button{min-width:51px;height:33px;}.gs_md_hdr_t{flex:1 1 auto;font-size:18px;font-weight:normal;color:#666;overflow:hidden;text-overflow:ellipsis;white-space:nowrap;text-align:center;}.gs_md_bdy{position:relative;overflow-y:auto;box-sizing:border-box;padding:24px 41px 0 41px;}.gs_md_bdy:after{display:block;content:\"\";clear:both;padding-bottom:24px;}.gs_el_ph .gs_md_bdy{padding:16px 16px 0 16px;}.gs_el_ph .gs_md_bdy:after{padding-bottom:16px;}.gs_el_ph .gs_md_wmw .gs_md_bdy{flex:1;}.gs_md_ftr{border-top:1px solid #e0e0e0;}.gs_md_lbl{display:block;font-size:16px;margin:0 0 16px 0;word-wrap:break-word;}.gs_md_btns{margin:24px 0 0 0;white-space:nowrap;}.gs_el_ph .gs_md_btns{margin:16px 0 0 0;}.gs_md_btns button{margin-right:16px;}.gs_md_btns button:last-child{margin-right:0;}.gs_md_prg{margin:24px 0;text-align:center;}.gs_md_prg .gs_alrt{padding:4px 16px;}.gs_md_ldg:before{content:\"\";position:absolute;top:0;left:0;bottom:0;right:0;background-color:#fff;opacity:.5;z-index:100;}</style><div id=\"gs_md_ldg\" style=\"display:none\">Loading...</div><div id=\"gs_md_err\" style=\"display:none\">The system can't perform the operation now. Try again later.</div><div id=\"gs_md_s\"></div><!--[if lte IE 9]><div class=\"gs_alrt\" style=\"padding:16px\"><div>Sorry, some features may not work in this version of Internet Explorer.</div><div>Please use <a href=\"//www.google.com/chrome/\">Google Chrome</a> or <a href=\"//www.mozilla.com/firefox/\">Mozilla Firefox</a> for the best experience.</div></div><![endif]--><div class=\"gs_md_ulr gs_md_ds\" data-cfc=\"gs_hdr_mnu\" data-shd=\"gs_hdr_drs\" data-wfc=\"gs_hdr_drw_mnu\" id=\"gs_hdr_drw\" role=\"dialog\" tabindex=\"-1\"><div id=\"gs_hdr_drw_in\"><div id=\"gs_hdr_drw_top\"><a aria-controls=\"gs_hdr_drw\" aria-label=\"Options\" class=\"gs_btnMNT gs_in_ib gs_btn_lrge\" href=\"javascript:void(0)\" id=\"gs_hdr_drw_mnu\" role=\"button\"><span class=\"gs_ico\"></span><span class=\"gs_ia_notf\"></span><span class=\"gs_lbl\"></span></a><a aria-label=\"Homepage\" href=\"/schhp?hl=en&amp;oe=ASCII\" id=\"gs_hdr_drw_lgo\"></a></div><div><div class=\"gs_hdr_drw_sec\"><a class=\"gs_btnPRO gs_in_ib gs_md_li gs_md_lix gs_in_gray\" href=\"/citations?hl=en&amp;oe=ASCII\" role=\"menuitem\"><span class=\"gs_ico\"></span><span class=\"gs_ia_notf\"></span><span class=\"gs_lbl\">My profile</span></a><a class=\"gs_btnL gs_in_ib gs_md_li gs_md_lix gs_in_gray\" href=\"/scholar?scilib=1&amp;hl=en&amp;oe=ASCII\" role=\"menuitem\"><span class=\"gs_ico\"></span><span class=\"gs_ia_notf\"></span><span class=\"gs_lbl\">My library</span></a><a class=\"gs_btnJ gs_in_ib gs_md_li gs_md_lix gs_in_gray\" href=\"/citations?view_op=metrics_intro&amp;hl=en&amp;oe=ASCII\" role=\"menuitem\"><span class=\"gs_ico\"></span><span class=\"gs_ia_notf\"></span><span class=\"gs_lbl\">Metrics</span></a><a class=\"gs_btnM gs_in_ib gs_md_li gs_md_lix gs_in_gray\" href=\"/scholar_alerts?view_op=list_alerts&amp;hl=en&amp;oe=ASCII\" role=\"menuitem\"><span class=\"gs_ico\"></span><span class=\"gs_ia_notf\"></span><span class=\"gs_lbl\">Alerts</span></a></div><div class=\"gs_hdr_drw_sec\"><a class=\"gs_btnP gs_in_ib gs_md_li gs_md_lix gs_in_gray\" href=\"/scholar_settings?hl=en&amp;oe=ASCII\" role=\"menuitem\"><span class=\"gs_ico\"></span><span class=\"gs_ia_notf\"></span><span class=\"gs_lbl\">Settings</span></a></div></div><div class=\"gs_hdr_drw_sec\" id=\"gs_hdr_drw_bot\"><a class=\"gs_in_ib gs_md_li gs_md_lix gs_in_gray\" href=\"https://accounts.google.com/Login?hl=en&amp;continue=https://scholar.google.com/schhp%3Fhl%3Den%26oe%3DASCII\"><span class=\"gs_ico\"></span><span class=\"gs_ia_notf\"></span><span class=\"gs_lbl\">Sign in</span></a></div></div></div><div class=\"gs_hdr_src\" id=\"gs_hdr\" role=\"banner\"><a aria-controls=\"gs_hdr_drw\" class=\"gs_btnMNT gs_in_ib gs_btn_lrge\" href=\"javascript:void(0)\" id=\"gs_hdr_mnu\" role=\"button\"><span class=\"gs_ico\"></span><span class=\"gs_ia_notf\"></span><span class=\"gs_lbl\"></span></a><a aria-label=\"Homepage\" class=\"gs_hdr_dso\" href=\"/schhp?hl=en&amp;oe=ASCII\" id=\"gs_hdr_lgo\"></a><div id=\"gs_hdr_md\"><h1 class=\"gs_hdr_mbo\" dir=\"ltr\">Top publications</h1><div id=\"gs_hdr_srch\"><form action=\"/citations\" id=\"gs_hdr_frm\"><input name=\"hl\" type=\"hidden\" value=\"en\"/><input name=\"oe\" type=\"hidden\" value=\"ASCII\"/><input name=\"view_op\" type=\"hidden\" value=\"search_venues\"/><div class=\"gs_in_txtw gs_in_txtb\"><input aria-label=\"Search\" autocapitalize=\"off\" class=\"gs_in_txt\" id=\"gs_hdr_tsi\" maxlength=\"2048\" name=\"vq\" placeholder=\"Search publications\" size=\"50\" type=\"text\" value=\"\"/><div class=\"gs_in_txts\"></div></div><span id=\"gs_hdr_tsc\"><span class=\"gs_ico gs_ico_X\"></span></span><button aria-label=\"Search\" class=\"gs_btnG gs_in_ib gs_btn_act gs_btn_half gs_btn_lsb\" id=\"gs_hdr_tsb\" name=\"btnG\" type=\"submit\"><span class=\"gs_wr\"><span class=\"gs_ico\"></span><span class=\"gs_lbl\"></span></span></button></form></div></div><a aria-controls=\"gs_hdr_frm\" aria-label=\"Search\" class=\"gs_btnTSB gs_in_ib gs_btn_lrge\" href=\"javascript:void(0)\" id=\"gs_hdr_sre\" role=\"button\"><span class=\"gs_ico\"></span><span class=\"gs_ia_notf\"></span><span class=\"gs_lbl\"></span></a><div id=\"gs_hdr_act\"><a href=\"https://accounts.google.com/Login?hl=en&amp;continue=https://scholar.google.com/schhp%3Fhl%3Den%26oe%3DASCII\" id=\"gs_hdr_act_s\">Sign in</a></div></div><style>#gs_alrt{position:fixed;bottom:48px;left:16px;max-width:384px;z-index:1250;display:flex;justify-content:space-between;align-items:center;font-size:13px;line-height:16px;color:#e2e2e2;background:#333;text-align:left;border-radius:3px;box-shadow:0 3px 5px -1px rgba(0,0,0,.2),0 6px 10px 0 rgba(0,0,0,.14),0 1px 18px 0 rgba(0,0,0,.12);visibility:hidden;transform-origin:center;transform:scale(0.8,0.8) translate(0,100%);}.gs_el_ph #gs_alrt{bottom:0;left:0;width:100%;max-width:none;border-radius:0;box-shadow:none;transform:scale(1,1) translate(0,100%);}#gs_alrt.gs_vis{visibility:visible;transform:scale(1,1) translate(0,0);}#gs_alrt.gs_anm{transition:transform .067s cubic-bezier(.4,0,1,1),visibility 0s .067s;}#gs_alrt.gs_vis.gs_anm{transition:transform .067s cubic-bezier(0,0,.2,1);}.gs_el_ph #gs_alrt.gs_anm{transition:transform .084s cubic-bezier(.4,0,1,1),visibility 0s .084s;}.gs_el_ph #gs_alrt.gs_vis.gs_anm{transition:transform .1s cubic-bezier(0,0,.2,1);}#gs_alrt_m{display:block;padding:16px;}#gs_alrt_l{display:block;padding:8px;margin:0 8px 0 -8px;border-radius:3px;color:#fcc934;text-transform:uppercase;text-decoration:none;}#gs_alrt_l:hover{background-color:rgba(255,255,255,.05)}#gs_alrt_l:active{background-color:rgba(255,255,255,.1)}#gs_alrt_l:empty{display:none}#gs_alrt_m a{padding:8px 0;color:#e2e2e2;text-decoration:underline;}#gs_alrt_m a:active{color:#f6aea9}</style><form action=\"\" id=\"gs_alrt\" method=\"post\"><span id=\"gs_alrt_m\"></span><span id=\"gs_alrt_h\"></span><a class=\"gs_fm_s\" data-fm=\"gs_alrt\" href=\"javascript:void(0)\" id=\"gs_alrt_l\"></a></form><div class=\"gs_nta gs_nph\" id=\"gs_ab\"><div class=\"gs_btnGSL\" id=\"gs_ab_ico\"><span class=\"gs_ico\"></span></div><div id=\"gs_ab_ttl\"><div class=\"gs_ab_mdw\">Top publications</div></div><div id=\"gs_ab_md\"><div class=\"gs_ab_mdw\"></div></div><div id=\"gs_ab_btns\"></div></div><div id=\"gs_bdy\"><div id=\"gs_bdy_sb\" role=\"navigation\"><div id=\"gs_bdy_sb_in\"></div></div><div id=\"gs_bdy_ccl\" role=\"main\"><div id=\"gsc_mp_ccl\"><div class=\"\" id=\"gsc_mp_nav\" role=\"navigation\"><div id=\"gsc_mp_nav_left\"><div class=\"gs_md_r gs_md_rmb gs_md_rmbl\" id=\"gsc_mtv_ac-r\"><button aria-controls=\"gsc_mtv_ac-d\" aria-haspopup=\"true\" class=\"gs_in_se gs_btn_mnu gs_btn_flat gs_btn_lrge gs_press gs_md_tb\" id=\"gsc_mtv_ac-b\" ontouchstart=\"gs_evt_dsp(event)\" type=\"button\"><span class=\"gs_wr\"><span class=\"gs_lbl\">Categories</span><span class=\"gs_icm\"></span></span></button><div class=\"gs_md_d gs_md_ds gs_md_ulr\" id=\"gsc_mtv_ac-d\" role=\"menu\" tabindex=\"-1\"><div class=\"gs_md_ul\"><a class=\"gs_md_li\" href=\"/citations?view_op=top_venues&amp;hl=en&amp;oe=ASCII&amp;vq=bus\" role=\"menuitem\" tabindex=\"-1\">Business, Economics &amp; Management</a><a class=\"gs_md_li\" href=\"/citations?view_op=top_venues&amp;hl=en&amp;oe=ASCII&amp;vq=chm\" role=\"menuitem\" tabindex=\"-1\">Chemical &amp; Material Sciences</a><a class=\"gs_md_li\" href=\"/citations?view_op=top_venues&amp;hl=en&amp;oe=ASCII&amp;vq=eng\" role=\"menuitem\" tabindex=\"-1\">Engineering &amp; Computer Science</a><a class=\"gs_md_li\" href=\"/citations?view_op=top_venues&amp;hl=en&amp;oe=ASCII&amp;vq=med\" role=\"menuitem\" tabindex=\"-1\">Health &amp; Medical Sciences</a><a class=\"gs_md_li\" href=\"/citations?view_op=top_venues&amp;hl=en&amp;oe=ASCII&amp;vq=hum\" role=\"menuitem\" tabindex=\"-1\">Humanities, Literature &amp; Arts</a><a class=\"gs_md_li\" href=\"/citations?view_op=top_venues&amp;hl=en&amp;oe=ASCII&amp;vq=bio\" role=\"menuitem\" tabindex=\"-1\">Life Sciences &amp; Earth Sciences</a><a class=\"gs_md_li\" href=\"/citations?view_op=top_venues&amp;hl=en&amp;oe=ASCII&amp;vq=phy\" role=\"menuitem\" tabindex=\"-1\">Physics &amp; Mathematics</a><a class=\"gs_md_li\" href=\"/citations?view_op=top_venues&amp;hl=en&amp;oe=ASCII&amp;vq=soc\" role=\"menuitem\" tabindex=\"-1\">Social Sciences</a></div></div></div></div><div id=\"gsc_mp_nav_right\"><div class=\"gs_md_r gs_md_rmb gs_md_rmbl\" id=\"gsc_mp_lang-r\"><button aria-controls=\"gsc_mp_lang-d\" aria-haspopup=\"true\" class=\"gs_in_se gs_btn_mnu gs_btn_flat gs_btn_lrge gs_press gs_md_tb\" id=\"gsc_mp_lang-b\" ontouchstart=\"gs_evt_dsp(event)\" type=\"button\"><span class=\"gs_wr\"><span class=\"gs_lbl\">English</span><span class=\"gs_icm\"></span></span></button><div class=\"gs_md_d gs_md_ds gs_md_ulr\" id=\"gsc_mp_lang-d\" role=\"menu\" tabindex=\"-1\"><a aria-checked=\"true\" class=\"gs_md_li gs_sel\" href=\"/citations?view_op=top_venues&amp;hl=en&amp;oe=ASCII&amp;vq=en\" role=\"menuitem\" tabindex=\"-1\">English</a><a class=\"gs_md_li\" href=\"/citations?view_op=top_venues&amp;hl=en&amp;oe=ASCII&amp;vq=pt\" role=\"menuitem\" tabindex=\"-1\">Portuguese</a><a class=\"gs_md_li\" href=\"/citations?view_op=top_venues&amp;hl=en&amp;oe=ASCII&amp;vq=es\" role=\"menuitem\" tabindex=\"-1\">Spanish</a><a class=\"gs_md_li\" href=\"/citations?view_op=top_venues&amp;hl=en&amp;oe=ASCII&amp;vq=de\" role=\"menuitem\" tabindex=\"-1\">German</a><a class=\"gs_md_li\" href=\"/citations?view_op=top_venues&amp;hl=en&amp;oe=ASCII&amp;vq=ru\" role=\"menuitem\" tabindex=\"-1\">Russian</a><a class=\"gs_md_li\" href=\"/citations?view_op=top_venues&amp;hl=en&amp;oe=ASCII&amp;vq=fr\" role=\"menuitem\" tabindex=\"-1\">French</a><a class=\"gs_md_li\" href=\"/citations?view_op=top_venues&amp;hl=en&amp;oe=ASCII&amp;vq=ja\" role=\"menuitem\" tabindex=\"-1\">Japanese</a><a class=\"gs_md_li\" href=\"/citations?view_op=top_venues&amp;hl=en&amp;oe=ASCII&amp;vq=ko\" role=\"menuitem\" tabindex=\"-1\">Korean</a><a class=\"gs_md_li\" href=\"/citations?view_op=top_venues&amp;hl=en&amp;oe=ASCII&amp;vq=pl\" role=\"menuitem\" tabindex=\"-1\">Polish</a><a class=\"gs_md_li\" href=\"/citations?view_op=top_venues&amp;hl=en&amp;oe=ASCII&amp;vq=uk\" role=\"menuitem\" tabindex=\"-1\">Ukrainian</a><a class=\"gs_md_li\" href=\"/citations?view_op=top_venues&amp;hl=en&amp;oe=ASCII&amp;vq=id\" role=\"menuitem\" tabindex=\"-1\">Indonesian</a></div></div></div></div><div id=\"gsc_mp_desc\"><div class=\"gsc_mphm\" id=\"gsc_mphm_hidx\">h5-index is the h-index for articles published in the last 5 complete years. It is the largest number h such that h articles published in 2017-2021 have at least h citations each.<a class=\"gsc_mp_tgh gsc_mphm_ha gsc_mp_anchor\" data-tg=\"gsc_mphm_hidx\" href=\"javascript:void(0)\">hide</a></div><div class=\"gsc_mphm\" id=\"gsc_mphm_hmed\">h5-median for a publication is the median number of citations for the articles that make up its h5-index.<a class=\"gsc_mp_tgh gsc_mphm_ha gsc_mp_anchor\" data-tg=\"gsc_mphm_hmed\" href=\"javascript:void(0)\">hide</a></div></div><div class=\"gs_scl\" id=\"gsc_mp_content\" role=\"main\"><div class=\"gsc_mvt_table_wrapper\"><table class=\"gsc_mp_table\" id=\"gsc_mvt_table\"><tr><th class=\"gsc_mvt_p\"></th><th class=\"gsc_mvt_t\">Publication</th><th class=\"gsc_mvt_n\"><a class=\"gsc_mp_anchor gsc_mp_tgh\" data-tg=\"gsc_mphm_hidx\" href=\"javascript:void(0)\">h5-index</a></th><th class=\"gsc_mvt_n\"><a class=\"gsc_mp_anchor gsc_mp_tgh\" data-tg=\"gsc_mphm_hmed\" href=\"javascript:void(0)\">h5-median</a></th></tr><tr><td class=\"gsc_mvt_p\">1.</td><td class=\"gsc_mvt_t\">Nature</td><td class=\"gsc_mvt_n\"><a class=\"gs_ibl gsc_mp_anchor\" href=\"/citations?hl=en&amp;oe=ASCII&amp;vq=en&amp;view_op=list_hcore&amp;venue=H--JoiVp8x8J.2022\">444</a></td><td class=\"gsc_mvt_n\"><span class=\"gs_ibl gsc_mp_anchor\">667</span></td></tr><tr><td class=\"gsc_mvt_p\">2.</td><td class=\"gsc_mvt_t\">The New England Journal of Medicine</td><td class=\"gsc_mvt_n\"><a class=\"gs_ibl gsc_mp_anchor\" href=\"/citations?hl=en&amp;oe=ASCII&amp;vq=en&amp;view_op=list_hcore&amp;venue=NR7xTEnpNgsJ.2022\">432</a></td><td class=\"gsc_mvt_n\"><span class=\"gs_ibl gsc_mp_anchor\">780</span></td></tr><tr><td class=\"gsc_mvt_p\">3.</td><td class=\"gsc_mvt_t\">Science</td><td class=\"gsc_mvt_n\"><a class=\"gs_ibl gsc_mp_anchor\" href=\"/citations?hl=en&amp;oe=ASCII&amp;vq=en&amp;view_op=list_hcore&amp;venue=oY2eER5-jTUJ.2022\">401</a></td><td class=\"gsc_mvt_n\"><span class=\"gs_ibl gsc_mp_anchor\">614</span></td></tr><tr><td class=\"gsc_mvt_p\">4.</td><td class=\"gsc_mvt_t\">IEEE/CVF Conference on Computer Vision and Pattern Recognition</td><td class=\"gsc_mvt_n\"><a class=\"gs_ibl gsc_mp_anchor\" href=\"/citations?hl=en&amp;oe=ASCII&amp;vq=en&amp;view_op=list_hcore&amp;venue=FXe-a9w0eycJ.2022\">389</a></td><td class=\"gsc_mvt_n\"><span class=\"gs_ibl gsc_mp_anchor\">627</span></td></tr><tr><td class=\"gsc_mvt_p\">5.</td><td class=\"gsc_mvt_t\">The Lancet</td><td class=\"gsc_mvt_n\"><a class=\"gs_ibl gsc_mp_anchor\" href=\"/citations?hl=en&amp;oe=ASCII&amp;vq=en&amp;view_op=list_hcore&amp;venue=dj7TIF9zE7gJ.2022\">354</a></td><td class=\"gsc_mvt_n\"><span class=\"gs_ibl gsc_mp_anchor\">635</span></td></tr><tr><td class=\"gsc_mvt_p\">6.</td><td class=\"gsc_mvt_t\">Advanced Materials</td><td class=\"gsc_mvt_n\"><a class=\"gs_ibl gsc_mp_anchor\" href=\"/citations?hl=en&amp;oe=ASCII&amp;vq=en&amp;view_op=list_hcore&amp;venue=iGi98NXoUDsJ.2022\">312</a></td><td class=\"gsc_mvt_n\"><span class=\"gs_ibl gsc_mp_anchor\">418</span></td></tr><tr><td class=\"gsc_mvt_p\">7.</td><td class=\"gsc_mvt_t\">Nature Communications</td><td class=\"gsc_mvt_n\"><a class=\"gs_ibl gsc_mp_anchor\" href=\"/citations?hl=en&amp;oe=ASCII&amp;vq=en&amp;view_op=list_hcore&amp;venue=m_DUlvLcyY0J.2022\">307</a></td><td class=\"gsc_mvt_n\"><span class=\"gs_ibl gsc_mp_anchor\">428</span></td></tr><tr><td class=\"gsc_mvt_p\">8.</td><td class=\"gsc_mvt_t\">Cell</td><td class=\"gsc_mvt_n\"><a class=\"gs_ibl gsc_mp_anchor\" href=\"/citations?hl=en&amp;oe=ASCII&amp;vq=en&amp;view_op=list_hcore&amp;venue=VlyKmNJzCgkJ.2022\">300</a></td><td class=\"gsc_mvt_n\"><span class=\"gs_ibl gsc_mp_anchor\">505</span></td></tr><tr><td class=\"gsc_mvt_p\">9.</td><td class=\"gsc_mvt_t\">International Conference on Learning Representations</td><td class=\"gsc_mvt_n\"><a class=\"gs_ibl gsc_mp_anchor\" href=\"/citations?hl=en&amp;oe=ASCII&amp;vq=en&amp;view_op=list_hcore&amp;venue=0032SoU2xY4J.2022\">286</a></td><td class=\"gsc_mvt_n\"><span class=\"gs_ibl gsc_mp_anchor\">533</span></td></tr><tr><td class=\"gsc_mvt_p\">10.</td><td class=\"gsc_mvt_t\">Neural Information Processing Systems</td><td class=\"gsc_mvt_n\"><a class=\"gs_ibl gsc_mp_anchor\" href=\"/citations?hl=en&amp;oe=ASCII&amp;vq=en&amp;view_op=list_hcore&amp;venue=eqYFflc_uhEJ.2022\">278</a></td><td class=\"gsc_mvt_n\"><span class=\"gs_ibl gsc_mp_anchor\">436</span></td></tr><tr><td class=\"gsc_mvt_p\">11.</td><td class=\"gsc_mvt_t\">JAMA</td><td class=\"gsc_mvt_n\"><a class=\"gs_ibl gsc_mp_anchor\" href=\"/citations?hl=en&amp;oe=ASCII&amp;vq=en&amp;view_op=list_hcore&amp;venue=OmPdUD0HxiAJ.2022\">267</a></td><td class=\"gsc_mvt_n\"><span class=\"gs_ibl gsc_mp_anchor\">425</span></td></tr><tr><td class=\"gsc_mvt_p\">12.</td><td class=\"gsc_mvt_t\">Chemical Reviews</td><td class=\"gsc_mvt_n\"><a class=\"gs_ibl gsc_mp_anchor\" href=\"/citations?hl=en&amp;oe=ASCII&amp;vq=en&amp;view_op=list_hcore&amp;venue=MzBRZZcuwa0J.2022\">265</a></td><td class=\"gsc_mvt_n\"><span class=\"gs_ibl gsc_mp_anchor\">444</span></td></tr><tr><td class=\"gsc_mvt_p\">13.</td><td class=\"gsc_mvt_t\">Proceedings of the National Academy of Sciences</td><td class=\"gsc_mvt_n\"><a class=\"gs_ibl gsc_mp_anchor\" href=\"/citations?hl=en&amp;oe=ASCII&amp;vq=en&amp;view_op=list_hcore&amp;venue=5RY_PS94Oc4J.2022\">256</a></td><td class=\"gsc_mvt_n\"><span class=\"gs_ibl gsc_mp_anchor\">364</span></td></tr><tr><td class=\"gsc_mvt_p\">14.</td><td class=\"gsc_mvt_t\">Angewandte Chemie</td><td class=\"gsc_mvt_n\"><a class=\"gs_ibl gsc_mp_anchor\" href=\"/citations?hl=en&amp;oe=ASCII&amp;vq=en&amp;view_op=list_hcore&amp;venue=kGPhuITsJjEJ.2022\">245</a></td><td class=\"gsc_mvt_n\"><span class=\"gs_ibl gsc_mp_anchor\">332</span></td></tr><tr><td class=\"gsc_mvt_p\">15.</td><td class=\"gsc_mvt_t\">Chemical Society Reviews</td><td class=\"gsc_mvt_n\"><a class=\"gs_ibl gsc_mp_anchor\" href=\"/citations?hl=en&amp;oe=ASCII&amp;vq=en&amp;view_op=list_hcore&amp;venue=8J7ybE69eSgJ.2022\">244</a></td><td class=\"gsc_mvt_n\"><span class=\"gs_ibl gsc_mp_anchor\">386</span></td></tr><tr><td class=\"gsc_mvt_p\">16.</td><td class=\"gsc_mvt_t\">Journal of the American Chemical Society</td><td class=\"gsc_mvt_n\"><a class=\"gs_ibl gsc_mp_anchor\" href=\"/citations?hl=en&amp;oe=ASCII&amp;vq=en&amp;view_op=list_hcore&amp;venue=SwzcHesTay8J.2022\">242</a></td><td class=\"gsc_mvt_n\"><span class=\"gs_ibl gsc_mp_anchor\">344</span></td></tr><tr><td class=\"gsc_mvt_p\">17.</td><td class=\"gsc_mvt_t\">IEEE/CVF International Conference on Computer Vision</td><td class=\"gsc_mvt_n\"><a class=\"gs_ibl gsc_mp_anchor\" href=\"/citations?hl=en&amp;oe=ASCII&amp;vq=en&amp;view_op=list_hcore&amp;venue=Umlb1kMURG4J.2022\">239</a></td><td class=\"gsc_mvt_n\"><span class=\"gs_ibl gsc_mp_anchor\">415</span></td></tr><tr><td class=\"gsc_mvt_p\">18.</td><td class=\"gsc_mvt_t\">Nucleic Acids Research</td><td class=\"gsc_mvt_n\"><a class=\"gs_ibl gsc_mp_anchor\" href=\"/citations?hl=en&amp;oe=ASCII&amp;vq=en&amp;view_op=list_hcore&amp;venue=R9lVUK9iDeEJ.2022\">238</a></td><td class=\"gsc_mvt_n\"><span class=\"gs_ibl gsc_mp_anchor\">550</span></td></tr><tr><td class=\"gsc_mvt_p\">19.</td><td class=\"gsc_mvt_t\">International Conference on Machine Learning</td><td class=\"gsc_mvt_n\"><a class=\"gs_ibl gsc_mp_anchor\" href=\"/citations?hl=en&amp;oe=ASCII&amp;vq=en&amp;view_op=list_hcore&amp;venue=wL2oxc9mT4YJ.2022\">237</a></td><td class=\"gsc_mvt_n\"><span class=\"gs_ibl gsc_mp_anchor\">421</span></td></tr><tr><td class=\"gsc_mvt_p\">20.</td><td class=\"gsc_mvt_t\">Nature Medicine</td><td class=\"gsc_mvt_n\"><a class=\"gs_ibl gsc_mp_anchor\" href=\"/citations?hl=en&amp;oe=ASCII&amp;vq=en&amp;view_op=list_hcore&amp;venue=yXgDGIh3w10J.2022\">235</a></td><td class=\"gsc_mvt_n\"><span class=\"gs_ibl gsc_mp_anchor\">389</span></td></tr><tr><td class=\"gsc_mvt_p\">21.</td><td class=\"gsc_mvt_t\">Renewable and Sustainable Energy Reviews</td><td class=\"gsc_mvt_n\"><a class=\"gs_ibl gsc_mp_anchor\" href=\"/citations?hl=en&amp;oe=ASCII&amp;vq=en&amp;view_op=list_hcore&amp;venue=ZSbkjLcARiEJ.2022\">227</a></td><td class=\"gsc_mvt_n\"><span class=\"gs_ibl gsc_mp_anchor\">324</span></td></tr><tr><td class=\"gsc_mvt_p\">22.</td><td class=\"gsc_mvt_t\">Science of The Total Environment</td><td class=\"gsc_mvt_n\"><a class=\"gs_ibl gsc_mp_anchor\" href=\"/citations?hl=en&amp;oe=ASCII&amp;vq=en&amp;view_op=list_hcore&amp;venue=zHYLxfa9svsJ.2022\">225</a></td><td class=\"gsc_mvt_n\"><span class=\"gs_ibl gsc_mp_anchor\">311</span></td></tr><tr><td class=\"gsc_mvt_p\">23.</td><td class=\"gsc_mvt_t\">Advanced Energy Materials</td><td class=\"gsc_mvt_n\"><a class=\"gs_ibl gsc_mp_anchor\" href=\"/citations?hl=en&amp;oe=ASCII&amp;vq=en&amp;view_op=list_hcore&amp;venue=w0MXM7xwO6EJ.2022\">220</a></td><td class=\"gsc_mvt_n\"><span class=\"gs_ibl gsc_mp_anchor\">300</span></td></tr><tr><td class=\"gsc_mvt_p\">24.</td><td class=\"gsc_mvt_t\">Journal of Clinical Oncology</td><td class=\"gsc_mvt_n\"><a class=\"gs_ibl gsc_mp_anchor\" href=\"/citations?hl=en&amp;oe=ASCII&amp;vq=en&amp;view_op=list_hcore&amp;venue=ecHF5oQilegJ.2022\">213</a></td><td class=\"gsc_mvt_n\"><span class=\"gs_ibl gsc_mp_anchor\">315</span></td></tr><tr><td class=\"gsc_mvt_p\">25.</td><td class=\"gsc_mvt_t\">ACS Nano</td><td class=\"gsc_mvt_n\"><a class=\"gs_ibl gsc_mp_anchor\" href=\"/citations?hl=en&amp;oe=ASCII&amp;vq=en&amp;view_op=list_hcore&amp;venue=a9bp_yfgXwYJ.2022\">211</a></td><td class=\"gsc_mvt_n\"><span class=\"gs_ibl gsc_mp_anchor\">277</span></td></tr><tr><td class=\"gsc_mvt_p\">26.</td><td class=\"gsc_mvt_t\">Journal of Cleaner Production</td><td class=\"gsc_mvt_n\"><a class=\"gs_ibl gsc_mp_anchor\" href=\"/citations?hl=en&amp;oe=ASCII&amp;vq=en&amp;view_op=list_hcore&amp;venue=tYeMgWz27P4J.2022\">211</a></td><td class=\"gsc_mvt_n\"><span class=\"gs_ibl gsc_mp_anchor\">273</span></td></tr><tr><td class=\"gsc_mvt_p\">27.</td><td class=\"gsc_mvt_t\">Advanced Functional Materials</td><td class=\"gsc_mvt_n\"><a class=\"gs_ibl gsc_mp_anchor\" href=\"/citations?hl=en&amp;oe=ASCII&amp;vq=en&amp;view_op=list_hcore&amp;venue=49-WwfyYHmkJ.2022\">210</a></td><td class=\"gsc_mvt_n\"><span class=\"gs_ibl gsc_mp_anchor\">280</span></td></tr><tr><td class=\"gsc_mvt_p\">28.</td><td class=\"gsc_mvt_t\">Physical Review Letters</td><td class=\"gsc_mvt_n\"><a class=\"gs_ibl gsc_mp_anchor\" href=\"/citations?hl=en&amp;oe=ASCII&amp;vq=en&amp;view_op=list_hcore&amp;venue=k6hd2dUel5kJ.2022\">207</a></td><td class=\"gsc_mvt_n\"><span class=\"gs_ibl gsc_mp_anchor\">294</span></td></tr><tr><td class=\"gsc_mvt_p\">29.</td><td class=\"gsc_mvt_t\">Scientific Reports</td><td class=\"gsc_mvt_n\"><a class=\"gs_ibl gsc_mp_anchor\" href=\"/citations?hl=en&amp;oe=ASCII&amp;vq=en&amp;view_op=list_hcore&amp;venue=tEL7frEn2VoJ.2022\">206</a></td><td class=\"gsc_mvt_n\"><span class=\"gs_ibl gsc_mp_anchor\">274</span></td></tr><tr><td class=\"gsc_mvt_p\">30.</td><td class=\"gsc_mvt_t\">The Lancet Oncology</td><td class=\"gsc_mvt_n\"><a class=\"gs_ibl gsc_mp_anchor\" href=\"/citations?hl=en&amp;oe=ASCII&amp;vq=en&amp;view_op=list_hcore&amp;venue=xO04yUCWFMsJ.2022\">202</a></td><td class=\"gsc_mvt_n\"><span class=\"gs_ibl gsc_mp_anchor\">329</span></td></tr><tr><td class=\"gsc_mvt_p\">31.</td><td class=\"gsc_mvt_t\">Energy &amp; Environmental Science</td><td class=\"gsc_mvt_n\"><a class=\"gs_ibl gsc_mp_anchor\" href=\"/citations?hl=en&amp;oe=ASCII&amp;vq=en&amp;view_op=list_hcore&amp;venue=SBb1EorUeGIJ.2022\">202</a></td><td class=\"gsc_mvt_n\"><span class=\"gs_ibl gsc_mp_anchor\">290</span></td></tr><tr><td class=\"gsc_mvt_p\">32.</td><td class=\"gsc_mvt_t\">IEEE Access</td><td class=\"gsc_mvt_n\"><a class=\"gs_ibl gsc_mp_anchor\" href=\"/citations?hl=en&amp;oe=ASCII&amp;vq=en&amp;view_op=list_hcore&amp;venue=ccvNpBuUinsJ.2022\">200</a></td><td class=\"gsc_mvt_n\"><span class=\"gs_ibl gsc_mp_anchor\">303</span></td></tr><tr><td class=\"gsc_mvt_p\">33.</td><td class=\"gsc_mvt_t\">PLoS ONE</td><td class=\"gsc_mvt_n\"><a class=\"gs_ibl gsc_mp_anchor\" href=\"/citations?hl=en&amp;oe=ASCII&amp;vq=en&amp;view_op=list_hcore&amp;venue=F3lYEBtxq6EJ.2022\">198</a></td><td class=\"gsc_mvt_n\"><span class=\"gs_ibl gsc_mp_anchor\">278</span></td></tr><tr><td class=\"gsc_mvt_p\">34.</td><td class=\"gsc_mvt_t\">Science Advances</td><td class=\"gsc_mvt_n\"><a class=\"gs_ibl gsc_mp_anchor\" href=\"/citations?hl=en&amp;oe=ASCII&amp;vq=en&amp;view_op=list_hcore&amp;venue=4Y_HB2IUpckJ.2022\">197</a></td><td class=\"gsc_mvt_n\"><span class=\"gs_ibl gsc_mp_anchor\">294</span></td></tr><tr><td class=\"gsc_mvt_p\">35.</td><td class=\"gsc_mvt_t\">Journal of the American College of Cardiology</td><td class=\"gsc_mvt_n\"><a class=\"gs_ibl gsc_mp_anchor\" href=\"/citations?hl=en&amp;oe=ASCII&amp;vq=en&amp;view_op=list_hcore&amp;venue=xYLghxaa8FcJ.2022\">195</a></td><td class=\"gsc_mvt_n\"><span class=\"gs_ibl gsc_mp_anchor\">276</span></td></tr><tr><td class=\"gsc_mvt_p\">36.</td><td class=\"gsc_mvt_t\">Applied Catalysis B: Environmental</td><td class=\"gsc_mvt_n\"><a class=\"gs_ibl gsc_mp_anchor\" href=\"/citations?hl=en&amp;oe=ASCII&amp;vq=en&amp;view_op=list_hcore&amp;venue=c9uks1oR5n4J.2022\">192</a></td><td class=\"gsc_mvt_n\"><span class=\"gs_ibl gsc_mp_anchor\">246</span></td></tr><tr><td class=\"gsc_mvt_p\">37.</td><td class=\"gsc_mvt_t\">Nature Genetics</td><td class=\"gsc_mvt_n\"><a class=\"gs_ibl gsc_mp_anchor\" href=\"/citations?hl=en&amp;oe=ASCII&amp;vq=en&amp;view_op=list_hcore&amp;venue=3p71nYTXsNMJ.2022\">191</a></td><td class=\"gsc_mvt_n\"><span class=\"gs_ibl gsc_mp_anchor\">297</span></td></tr><tr><td class=\"gsc_mvt_p\">38.</td><td class=\"gsc_mvt_t\">BMJ</td><td class=\"gsc_mvt_n\"><a class=\"gs_ibl gsc_mp_anchor\" href=\"/citations?hl=en&amp;oe=ASCII&amp;vq=en&amp;view_op=list_hcore&amp;venue=aUkdNLROwn8J.2022\">190</a></td><td class=\"gsc_mvt_n\"><span class=\"gs_ibl gsc_mp_anchor\">307</span></td></tr><tr><td class=\"gsc_mvt_p\">39.</td><td class=\"gsc_mvt_t\">Circulation</td><td class=\"gsc_mvt_n\"><a class=\"gs_ibl gsc_mp_anchor\" href=\"/citations?hl=en&amp;oe=ASCII&amp;vq=en&amp;view_op=list_hcore&amp;venue=wTjLJ-HBjrYJ.2022\">189</a></td><td class=\"gsc_mvt_n\"><span class=\"gs_ibl gsc_mp_anchor\">301</span></td></tr><tr><td class=\"gsc_mvt_p\">40.</td><td class=\"gsc_mvt_t\">European Conference on Computer Vision</td><td class=\"gsc_mvt_n\"><a class=\"gs_ibl gsc_mp_anchor\" href=\"/citations?hl=en&amp;oe=ASCII&amp;vq=en&amp;view_op=list_hcore&amp;venue=cwIh2C-xo8kJ.2022\">186</a></td><td class=\"gsc_mvt_n\"><span class=\"gs_ibl gsc_mp_anchor\">321</span></td></tr><tr><td class=\"gsc_mvt_p\">41.</td><td class=\"gsc_mvt_t\">International Journal of Molecular Sciences</td><td class=\"gsc_mvt_n\"><a class=\"gs_ibl gsc_mp_anchor\" href=\"/citations?hl=en&amp;oe=ASCII&amp;vq=en&amp;view_op=list_hcore&amp;venue=YlxNGrUs9ywJ.2022\">183</a></td><td class=\"gsc_mvt_n\"><span class=\"gs_ibl gsc_mp_anchor\">253</span></td></tr><tr><td class=\"gsc_mvt_p\">42.</td><td class=\"gsc_mvt_t\">Nature Materials</td><td class=\"gsc_mvt_n\"><a class=\"gs_ibl gsc_mp_anchor\" href=\"/citations?hl=en&amp;oe=ASCII&amp;vq=en&amp;view_op=list_hcore&amp;venue=NueHEC17BmwJ.2022\">181</a></td><td class=\"gsc_mvt_n\"><span class=\"gs_ibl gsc_mp_anchor\">265</span></td></tr><tr><td class=\"gsc_mvt_p\">43.</td><td class=\"gsc_mvt_t\">Chemical engineering journal</td><td class=\"gsc_mvt_n\"><a class=\"gs_ibl gsc_mp_anchor\" href=\"/citations?hl=en&amp;oe=ASCII&amp;vq=en&amp;view_op=list_hcore&amp;venue=NDSEyFw9R_kJ.2022\">181</a></td><td class=\"gsc_mvt_n\"><span class=\"gs_ibl gsc_mp_anchor\">224</span></td></tr><tr><td class=\"gsc_mvt_p\">44.</td><td class=\"gsc_mvt_t\">AAAI Conference on Artificial Intelligence</td><td class=\"gsc_mvt_n\"><a class=\"gs_ibl gsc_mp_anchor\" href=\"/citations?hl=en&amp;oe=ASCII&amp;vq=en&amp;view_op=list_hcore&amp;venue=PV9sQN5dnPsJ.2022\">180</a></td><td class=\"gsc_mvt_n\"><span class=\"gs_ibl gsc_mp_anchor\">296</span></td></tr><tr><td class=\"gsc_mvt_p\">45.</td><td class=\"gsc_mvt_t\">Journal of Materials Chemistry A</td><td class=\"gsc_mvt_n\"><a class=\"gs_ibl gsc_mp_anchor\" href=\"/citations?hl=en&amp;oe=ASCII&amp;vq=en&amp;view_op=list_hcore&amp;venue=BteXzRNhMa4J.2022\">178</a></td><td class=\"gsc_mvt_n\"><span class=\"gs_ibl gsc_mp_anchor\">220</span></td></tr><tr><td class=\"gsc_mvt_p\">46.</td><td class=\"gsc_mvt_t\">ACS Applied Materials &amp; Interfaces</td><td class=\"gsc_mvt_n\"><a class=\"gs_ibl gsc_mp_anchor\" href=\"/citations?hl=en&amp;oe=ASCII&amp;vq=en&amp;view_op=list_hcore&amp;venue=AWVyEJdRWZAJ.2022\">177</a></td><td class=\"gsc_mvt_n\"><span class=\"gs_ibl gsc_mp_anchor\">223</span></td></tr><tr><td class=\"gsc_mvt_p\">47.</td><td class=\"gsc_mvt_t\">Nature Biotechnology</td><td class=\"gsc_mvt_n\"><a class=\"gs_ibl gsc_mp_anchor\" href=\"/citations?hl=en&amp;oe=ASCII&amp;vq=en&amp;view_op=list_hcore&amp;venue=d4fTNLVMoAsJ.2022\">175</a></td><td class=\"gsc_mvt_n\"><span class=\"gs_ibl gsc_mp_anchor\">315</span></td></tr><tr><td class=\"gsc_mvt_p\">48.</td><td class=\"gsc_mvt_t\">The Lancet Infectious Diseases</td><td class=\"gsc_mvt_n\"><a class=\"gs_ibl gsc_mp_anchor\" href=\"/citations?hl=en&amp;oe=ASCII&amp;vq=en&amp;view_op=list_hcore&amp;venue=Cw6YFRBewwIJ.2022\">173</a></td><td class=\"gsc_mvt_n\"><span class=\"gs_ibl gsc_mp_anchor\">296</span></td></tr><tr><td class=\"gsc_mvt_p\">49.</td><td class=\"gsc_mvt_t\">Frontiers in Immunology</td><td class=\"gsc_mvt_n\"><a class=\"gs_ibl gsc_mp_anchor\" href=\"/citations?hl=en&amp;oe=ASCII&amp;vq=en&amp;view_op=list_hcore&amp;venue=7vpXVsi1JBIJ.2022\">173</a></td><td class=\"gsc_mvt_n\"><span class=\"gs_ibl gsc_mp_anchor\">228</span></td></tr><tr><td class=\"gsc_mvt_p\">50.</td><td class=\"gsc_mvt_t\">Applied Energy</td><td class=\"gsc_mvt_n\"><a class=\"gs_ibl gsc_mp_anchor\" href=\"/citations?hl=en&amp;oe=ASCII&amp;vq=en&amp;view_op=list_hcore&amp;venue=YEgmRIvqc-sJ.2022\">173</a></td><td class=\"gsc_mvt_n\"><span class=\"gs_ibl gsc_mp_anchor\">217</span></td></tr><tr><td class=\"gsc_mvt_p\">51.</td><td class=\"gsc_mvt_t\">Nano Energy</td><td class=\"gsc_mvt_n\"><a class=\"gs_ibl gsc_mp_anchor\" href=\"/citations?hl=en&amp;oe=ASCII&amp;vq=en&amp;view_op=list_hcore&amp;venue=VnRGJcx2SzEJ.2022\">172</a></td><td class=\"gsc_mvt_n\"><span class=\"gs_ibl gsc_mp_anchor\">232</span></td></tr><tr><td class=\"gsc_mvt_p\">52.</td><td class=\"gsc_mvt_t\">Nature Energy</td><td class=\"gsc_mvt_n\"><a class=\"gs_ibl gsc_mp_anchor\" href=\"/citations?hl=en&amp;oe=ASCII&amp;vq=en&amp;view_op=list_hcore&amp;venue=cfU9-VnFg7MJ.2022\">170</a></td><td class=\"gsc_mvt_n\"><span class=\"gs_ibl gsc_mp_anchor\">314</span></td></tr><tr><td class=\"gsc_mvt_p\">53.</td><td class=\"gsc_mvt_t\">Meeting of the Association for Computational Linguistics (ACL)</td><td class=\"gsc_mvt_n\"><a class=\"gs_ibl gsc_mp_anchor\" href=\"/citations?hl=en&amp;oe=ASCII&amp;vq=en&amp;view_op=list_hcore&amp;venue=Y3UjV9bSCxMJ.2022\">169</a></td><td class=\"gsc_mvt_n\"><span class=\"gs_ibl gsc_mp_anchor\">304</span></td></tr><tr><td class=\"gsc_mvt_p\">54.</td><td class=\"gsc_mvt_t\">The Astrophysical Journal</td><td class=\"gsc_mvt_n\"><a class=\"gs_ibl gsc_mp_anchor\" href=\"/citations?hl=en&amp;oe=ASCII&amp;vq=en&amp;view_op=list_hcore&amp;venue=kLu-gHHm-yoJ.2022\">167</a></td><td class=\"gsc_mvt_n\"><span class=\"gs_ibl gsc_mp_anchor\">234</span></td></tr><tr><td class=\"gsc_mvt_p\">55.</td><td class=\"gsc_mvt_t\">Gastroenterology</td><td class=\"gsc_mvt_n\"><a class=\"gs_ibl gsc_mp_anchor\" href=\"/citations?hl=en&amp;oe=ASCII&amp;vq=en&amp;view_op=list_hcore&amp;venue=coh_9l_eLP4J.2022\">166</a></td><td class=\"gsc_mvt_n\"><span class=\"gs_ibl gsc_mp_anchor\">254</span></td></tr><tr><td class=\"gsc_mvt_p\">56.</td><td class=\"gsc_mvt_t\">Nature Methods</td><td class=\"gsc_mvt_n\"><a class=\"gs_ibl gsc_mp_anchor\" href=\"/citations?hl=en&amp;oe=ASCII&amp;vq=en&amp;view_op=list_hcore&amp;venue=Qq1AZ4GL_n8J.2022\">165</a></td><td class=\"gsc_mvt_n\"><span class=\"gs_ibl gsc_mp_anchor\">296</span></td></tr><tr><td class=\"gsc_mvt_p\">57.</td><td class=\"gsc_mvt_t\">IEEE Transactions on Pattern Analysis and Machine Intelligence</td><td class=\"gsc_mvt_n\"><a class=\"gs_ibl gsc_mp_anchor\" href=\"/citations?hl=en&amp;oe=ASCII&amp;vq=en&amp;view_op=list_hcore&amp;venue=FMIcylNwodUJ.2022\">165</a></td><td class=\"gsc_mvt_n\"><span class=\"gs_ibl gsc_mp_anchor\">293</span></td></tr><tr><td class=\"gsc_mvt_p\">58.</td><td class=\"gsc_mvt_t\">Cochrane Database of Systematic Reviews</td><td class=\"gsc_mvt_n\"><a class=\"gs_ibl gsc_mp_anchor\" href=\"/citations?hl=en&amp;oe=ASCII&amp;vq=en&amp;view_op=list_hcore&amp;venue=wkjEIQda6iQJ.2022\">165</a></td><td class=\"gsc_mvt_n\"><span class=\"gs_ibl gsc_mp_anchor\">243</span></td></tr><tr><td class=\"gsc_mvt_p\">59.</td><td class=\"gsc_mvt_t\">Blood</td><td class=\"gsc_mvt_n\"><a class=\"gs_ibl gsc_mp_anchor\" href=\"/citations?hl=en&amp;oe=ASCII&amp;vq=en&amp;view_op=list_hcore&amp;venue=MQG5QwakzOcJ.2022\">165</a></td><td class=\"gsc_mvt_n\"><span class=\"gs_ibl gsc_mp_anchor\">229</span></td></tr><tr><td class=\"gsc_mvt_p\">60.</td><td class=\"gsc_mvt_t\">Neuron</td><td class=\"gsc_mvt_n\"><a class=\"gs_ibl gsc_mp_anchor\" href=\"/citations?hl=en&amp;oe=ASCII&amp;vq=en&amp;view_op=list_hcore&amp;venue=pbEUc7Yi4KkJ.2022\">164</a></td><td class=\"gsc_mvt_n\"><span class=\"gs_ibl gsc_mp_anchor\">231</span></td></tr><tr><td class=\"gsc_mvt_p\">61.</td><td class=\"gsc_mvt_t\">Nano Letters</td><td class=\"gsc_mvt_n\"><a class=\"gs_ibl gsc_mp_anchor\" href=\"/citations?hl=en&amp;oe=ASCII&amp;vq=en&amp;view_op=list_hcore&amp;venue=N-tBBiwlGDsJ.2022\">164</a></td><td class=\"gsc_mvt_n\"><span class=\"gs_ibl gsc_mp_anchor\">207</span></td></tr><tr><td class=\"gsc_mvt_p\">62.</td><td class=\"gsc_mvt_t\">Morbidity and Mortality Weekly Report</td><td class=\"gsc_mvt_n\"><a class=\"gs_ibl gsc_mp_anchor\" href=\"/citations?hl=en&amp;oe=ASCII&amp;vq=en&amp;view_op=list_hcore&amp;venue=pMbx1O4DEmYJ.2022\">163</a></td><td class=\"gsc_mvt_n\"><span class=\"gs_ibl gsc_mp_anchor\">302</span></td></tr><tr><td class=\"gsc_mvt_p\">63.</td><td class=\"gsc_mvt_t\">European Heart Journal</td><td class=\"gsc_mvt_n\"><a class=\"gs_ibl gsc_mp_anchor\" href=\"/citations?hl=en&amp;oe=ASCII&amp;vq=en&amp;view_op=list_hcore&amp;venue=nzv6ligyWB4J.2022\">163</a></td><td class=\"gsc_mvt_n\"><span class=\"gs_ibl gsc_mp_anchor\">265</span></td></tr><tr><td class=\"gsc_mvt_p\">64.</td><td class=\"gsc_mvt_t\">Nature Nanotechnology</td><td class=\"gsc_mvt_n\"><a class=\"gs_ibl gsc_mp_anchor\" href=\"/citations?hl=en&amp;oe=ASCII&amp;vq=en&amp;view_op=list_hcore&amp;venue=nGsYFxF7AIcJ.2022\">163</a></td><td class=\"gsc_mvt_n\"><span class=\"gs_ibl gsc_mp_anchor\">264</span></td></tr><tr><td class=\"gsc_mvt_p\">65.</td><td class=\"gsc_mvt_t\">ACS Catalysis</td><td class=\"gsc_mvt_n\"><a class=\"gs_ibl gsc_mp_anchor\" href=\"/citations?hl=en&amp;oe=ASCII&amp;vq=en&amp;view_op=list_hcore&amp;venue=HY38J6diLbEJ.2022\">163</a></td><td class=\"gsc_mvt_n\"><span class=\"gs_ibl gsc_mp_anchor\">220</span></td></tr><tr><td class=\"gsc_mvt_p\">66.</td><td class=\"gsc_mvt_t\">Nature Neuroscience</td><td class=\"gsc_mvt_n\"><a class=\"gs_ibl gsc_mp_anchor\" href=\"/citations?hl=en&amp;oe=ASCII&amp;vq=en&amp;view_op=list_hcore&amp;venue=XZq8YKj5AB8J.2022\">162</a></td><td class=\"gsc_mvt_n\"><span class=\"gs_ibl gsc_mp_anchor\">248</span></td></tr><tr><td class=\"gsc_mvt_p\">67.</td><td class=\"gsc_mvt_t\">American Economic Review</td><td class=\"gsc_mvt_n\"><a class=\"gs_ibl gsc_mp_anchor\" href=\"/citations?hl=en&amp;oe=ASCII&amp;vq=en&amp;view_op=list_hcore&amp;venue=JdmuJJQqBKkJ.2022\">160</a></td><td class=\"gsc_mvt_n\"><span class=\"gs_ibl gsc_mp_anchor\">263</span></td></tr><tr><td class=\"gsc_mvt_p\">68.</td><td class=\"gsc_mvt_t\">Journal of High Energy Physics</td><td class=\"gsc_mvt_n\"><a class=\"gs_ibl gsc_mp_anchor\" href=\"/citations?hl=en&amp;oe=ASCII&amp;vq=en&amp;view_op=list_hcore&amp;venue=YsyE7AUs20UJ.2022\">160</a></td><td class=\"gsc_mvt_n\"><span class=\"gs_ibl gsc_mp_anchor\">220</span></td></tr><tr><td class=\"gsc_mvt_p\">69.</td><td class=\"gsc_mvt_t\">IEEE Communications Surveys &amp; Tutorials</td><td class=\"gsc_mvt_n\"><a class=\"gs_ibl gsc_mp_anchor\" href=\"/citations?hl=en&amp;oe=ASCII&amp;vq=en&amp;view_op=list_hcore&amp;venue=rH0u9gfK8u8J.2022\">159</a></td><td class=\"gsc_mvt_n\"><span class=\"gs_ibl gsc_mp_anchor\">304</span></td></tr><tr><td class=\"gsc_mvt_p\">70.</td><td class=\"gsc_mvt_t\">Annals of Oncology</td><td class=\"gsc_mvt_n\"><a class=\"gs_ibl gsc_mp_anchor\" href=\"/citations?hl=en&amp;oe=ASCII&amp;vq=en&amp;view_op=list_hcore&amp;venue=YKYgGM0Tw8gJ.2022\">159</a></td><td class=\"gsc_mvt_n\"><span class=\"gs_ibl gsc_mp_anchor\">243</span></td></tr><tr><td class=\"gsc_mvt_p\">71.</td><td class=\"gsc_mvt_t\">Nutrients</td><td class=\"gsc_mvt_n\"><a class=\"gs_ibl gsc_mp_anchor\" href=\"/citations?hl=en&amp;oe=ASCII&amp;vq=en&amp;view_op=list_hcore&amp;venue=yfc83oKvDvIJ.2022\">159</a></td><td class=\"gsc_mvt_n\"><span class=\"gs_ibl gsc_mp_anchor\">214</span></td></tr><tr><td class=\"gsc_mvt_p\">72.</td><td class=\"gsc_mvt_t\">Accounts of Chemical Research</td><td class=\"gsc_mvt_n\"><a class=\"gs_ibl gsc_mp_anchor\" href=\"/citations?hl=en&amp;oe=ASCII&amp;vq=en&amp;view_op=list_hcore&amp;venue=5u1VVK3q13gJ.2022\">159</a></td><td class=\"gsc_mvt_n\"><span class=\"gs_ibl gsc_mp_anchor\">211</span></td></tr><tr><td class=\"gsc_mvt_p\">73.</td><td class=\"gsc_mvt_t\">Immunity</td><td class=\"gsc_mvt_n\"><a class=\"gs_ibl gsc_mp_anchor\" href=\"/citations?hl=en&amp;oe=ASCII&amp;vq=en&amp;view_op=list_hcore&amp;venue=Psc9Ho3-rx8J.2022\">158</a></td><td class=\"gsc_mvt_n\"><span class=\"gs_ibl gsc_mp_anchor\">242</span></td></tr><tr><td class=\"gsc_mvt_p\">74.</td><td class=\"gsc_mvt_t\">Environmental Science &amp; Technology</td><td class=\"gsc_mvt_n\"><a class=\"gs_ibl gsc_mp_anchor\" href=\"/citations?hl=en&amp;oe=ASCII&amp;vq=en&amp;view_op=list_hcore&amp;venue=-AYGASySECUJ.2022\">158</a></td><td class=\"gsc_mvt_n\"><span class=\"gs_ibl gsc_mp_anchor\">214</span></td></tr><tr><td class=\"gsc_mvt_p\">75.</td><td class=\"gsc_mvt_t\">Nature Reviews. Molecular Cell Biology</td><td class=\"gsc_mvt_n\"><a class=\"gs_ibl gsc_mp_anchor\" href=\"/citations?hl=en&amp;oe=ASCII&amp;vq=en&amp;view_op=list_hcore&amp;venue=BW5-ciPRQT8J.2022\">155</a></td><td class=\"gsc_mvt_n\"><span class=\"gs_ibl gsc_mp_anchor\">340</span></td></tr><tr><td class=\"gsc_mvt_p\">76.</td><td class=\"gsc_mvt_t\">Gut</td><td class=\"gsc_mvt_n\"><a class=\"gs_ibl gsc_mp_anchor\" href=\"/citations?hl=en&amp;oe=ASCII&amp;vq=en&amp;view_op=list_hcore&amp;venue=8boGrBcAQRIJ.2022\">155</a></td><td class=\"gsc_mvt_n\"><span class=\"gs_ibl gsc_mp_anchor\">235</span></td></tr><tr><td class=\"gsc_mvt_p\">77.</td><td class=\"gsc_mvt_t\">Physical Review D</td><td class=\"gsc_mvt_n\"><a class=\"gs_ibl gsc_mp_anchor\" href=\"/citations?hl=en&amp;oe=ASCII&amp;vq=en&amp;view_op=list_hcore&amp;venue=BDbZY07nj-oJ.2022\">155</a></td><td class=\"gsc_mvt_n\"><span class=\"gs_ibl gsc_mp_anchor\">217</span></td></tr><tr><td class=\"gsc_mvt_p\">78.</td><td class=\"gsc_mvt_t\">ACS Energy Letters</td><td class=\"gsc_mvt_n\"><a class=\"gs_ibl gsc_mp_anchor\" href=\"/citations?hl=en&amp;oe=ASCII&amp;vq=en&amp;view_op=list_hcore&amp;venue=ov9mJjzpAbkJ.2022\">155</a></td><td class=\"gsc_mvt_n\"><span class=\"gs_ibl gsc_mp_anchor\">212</span></td></tr><tr><td class=\"gsc_mvt_p\">79.</td><td class=\"gsc_mvt_t\">Monthly Notices of the Royal Astronomical Society</td><td class=\"gsc_mvt_n\"><a class=\"gs_ibl gsc_mp_anchor\" href=\"/citations?hl=en&amp;oe=ASCII&amp;vq=en&amp;view_op=list_hcore&amp;venue=1psIsUvUvtgJ.2022\">155</a></td><td class=\"gsc_mvt_n\"><span class=\"gs_ibl gsc_mp_anchor\">194</span></td></tr><tr><td class=\"gsc_mvt_p\">80.</td><td class=\"gsc_mvt_t\">Conference on Empirical Methods in Natural Language Processing (EMNLP)</td><td class=\"gsc_mvt_n\"><a class=\"gs_ibl gsc_mp_anchor\" href=\"/citations?hl=en&amp;oe=ASCII&amp;vq=en&amp;view_op=list_hcore&amp;venue=LqrQjvOguiMJ.2022\">154</a></td><td class=\"gsc_mvt_n\"><span class=\"gs_ibl gsc_mp_anchor\">249</span></td></tr><tr><td class=\"gsc_mvt_p\">81.</td><td class=\"gsc_mvt_t\">Clinical Infectious Diseases</td><td class=\"gsc_mvt_n\"><a class=\"gs_ibl gsc_mp_anchor\" href=\"/citations?hl=en&amp;oe=ASCII&amp;vq=en&amp;view_op=list_hcore&amp;venue=fBR8hym4NqEJ.2022\">153</a></td><td class=\"gsc_mvt_n\"><span class=\"gs_ibl gsc_mp_anchor\">278</span></td></tr><tr><td class=\"gsc_mvt_p\">82.</td><td class=\"gsc_mvt_t\">Cell Metabolism</td><td class=\"gsc_mvt_n\"><a class=\"gs_ibl gsc_mp_anchor\" href=\"/citations?hl=en&amp;oe=ASCII&amp;vq=en&amp;view_op=list_hcore&amp;venue=zMrP9W20roUJ.2022\">153</a></td><td class=\"gsc_mvt_n\"><span class=\"gs_ibl gsc_mp_anchor\">211</span></td></tr><tr><td class=\"gsc_mvt_p\">83.</td><td class=\"gsc_mvt_t\">Nature Reviews Immunology</td><td class=\"gsc_mvt_n\"><a class=\"gs_ibl gsc_mp_anchor\" href=\"/citations?hl=en&amp;oe=ASCII&amp;vq=en&amp;view_op=list_hcore&amp;venue=JAoASYWHSYEJ.2022\">152</a></td><td class=\"gsc_mvt_n\"><span class=\"gs_ibl gsc_mp_anchor\">292</span></td></tr><tr><td class=\"gsc_mvt_p\">84.</td><td class=\"gsc_mvt_t\">Joule</td><td class=\"gsc_mvt_n\"><a class=\"gs_ibl gsc_mp_anchor\" href=\"/citations?hl=en&amp;oe=ASCII&amp;vq=en&amp;view_op=list_hcore&amp;venue=jCO4Z2fB5dsJ.2022\">152</a></td><td class=\"gsc_mvt_n\"><span class=\"gs_ibl gsc_mp_anchor\">233</span></td></tr><tr><td class=\"gsc_mvt_p\">85.</td><td class=\"gsc_mvt_t\">Nature Photonics</td><td class=\"gsc_mvt_n\"><a class=\"gs_ibl gsc_mp_anchor\" href=\"/citations?hl=en&amp;oe=ASCII&amp;vq=en&amp;view_op=list_hcore&amp;venue=iSeY9RQKcc8J.2022\">152</a></td><td class=\"gsc_mvt_n\"><span class=\"gs_ibl gsc_mp_anchor\">228</span></td></tr><tr><td class=\"gsc_mvt_p\">86.</td><td class=\"gsc_mvt_t\">International Journal of Environmental Research and Public Health</td><td class=\"gsc_mvt_n\"><a class=\"gs_ibl gsc_mp_anchor\" href=\"/citations?hl=en&amp;oe=ASCII&amp;vq=en&amp;view_op=list_hcore&amp;venue=kEa56xlDDN8J.2022\">152</a></td><td class=\"gsc_mvt_n\"><span class=\"gs_ibl gsc_mp_anchor\">225</span></td></tr><tr><td class=\"gsc_mvt_p\">87.</td><td class=\"gsc_mvt_t\">Environmental Pollution</td><td class=\"gsc_mvt_n\"><a class=\"gs_ibl gsc_mp_anchor\" href=\"/citations?hl=en&amp;oe=ASCII&amp;vq=en&amp;view_op=list_hcore&amp;venue=Hfdvd0qCGFkJ.2022\">152</a></td><td class=\"gsc_mvt_n\"><span class=\"gs_ibl gsc_mp_anchor\">222</span></td></tr><tr><td class=\"gsc_mvt_p\">88.</td><td class=\"gsc_mvt_t\">Computers in Human Behavior</td><td class=\"gsc_mvt_n\"><a class=\"gs_ibl gsc_mp_anchor\" href=\"/citations?hl=en&amp;oe=ASCII&amp;vq=en&amp;view_op=list_hcore&amp;venue=N8OFJny_66QJ.2022\">152</a></td><td class=\"gsc_mvt_n\"><span class=\"gs_ibl gsc_mp_anchor\">214</span></td></tr><tr><td class=\"gsc_mvt_p\">89.</td><td class=\"gsc_mvt_t\">Frontiers in Microbiology</td><td class=\"gsc_mvt_n\"><a class=\"gs_ibl gsc_mp_anchor\" href=\"/citations?hl=en&amp;oe=ASCII&amp;vq=en&amp;view_op=list_hcore&amp;venue=Ok3gP5VjmVIJ.2022\">151</a></td><td class=\"gsc_mvt_n\"><span class=\"gs_ibl gsc_mp_anchor\">225</span></td></tr><tr><td class=\"gsc_mvt_p\">90.</td><td class=\"gsc_mvt_t\">Nature Physics</td><td class=\"gsc_mvt_n\"><a class=\"gs_ibl gsc_mp_anchor\" href=\"/citations?hl=en&amp;oe=ASCII&amp;vq=en&amp;view_op=list_hcore&amp;venue=ouAzwbN82bMJ.2022\">151</a></td><td class=\"gsc_mvt_n\"><span class=\"gs_ibl gsc_mp_anchor\">222</span></td></tr><tr><td class=\"gsc_mvt_p\">91.</td><td class=\"gsc_mvt_t\">Small</td><td class=\"gsc_mvt_n\"><a class=\"gs_ibl gsc_mp_anchor\" href=\"/citations?hl=en&amp;oe=ASCII&amp;vq=en&amp;view_op=list_hcore&amp;venue=TdhLrHqKTh8J.2022\">150</a></td><td class=\"gsc_mvt_n\"><span class=\"gs_ibl gsc_mp_anchor\">196</span></td></tr><tr><td class=\"gsc_mvt_p\">92.</td><td class=\"gsc_mvt_t\">Cell Reports</td><td class=\"gsc_mvt_n\"><a class=\"gs_ibl gsc_mp_anchor\" href=\"/citations?hl=en&amp;oe=ASCII&amp;vq=en&amp;view_op=list_hcore&amp;venue=u0OhSowAd3cJ.2022\">149</a></td><td class=\"gsc_mvt_n\"><span class=\"gs_ibl gsc_mp_anchor\">205</span></td></tr><tr><td class=\"gsc_mvt_p\">93.</td><td class=\"gsc_mvt_t\">Molecular Cell</td><td class=\"gsc_mvt_n\"><a class=\"gs_ibl gsc_mp_anchor\" href=\"/citations?hl=en&amp;oe=ASCII&amp;vq=en&amp;view_op=list_hcore&amp;venue=mP0ixsjOxMUJ.2022\">149</a></td><td class=\"gsc_mvt_n\"><span class=\"gs_ibl gsc_mp_anchor\">202</span></td></tr><tr><td class=\"gsc_mvt_p\">94.</td><td class=\"gsc_mvt_t\">Clinical Cancer Research</td><td class=\"gsc_mvt_n\"><a class=\"gs_ibl gsc_mp_anchor\" href=\"/citations?hl=en&amp;oe=ASCII&amp;vq=en&amp;view_op=list_hcore&amp;venue=zh7nnyKb8kcJ.2022\">146</a></td><td class=\"gsc_mvt_n\"><span class=\"gs_ibl gsc_mp_anchor\">201</span></td></tr><tr><td class=\"gsc_mvt_p\">95.</td><td class=\"gsc_mvt_t\">Bioresource Technology</td><td class=\"gsc_mvt_n\"><a class=\"gs_ibl gsc_mp_anchor\" href=\"/citations?hl=en&amp;oe=ASCII&amp;vq=en&amp;view_op=list_hcore&amp;venue=JeYzXj7cKAQJ.2022\">146</a></td><td class=\"gsc_mvt_n\"><span class=\"gs_ibl gsc_mp_anchor\">190</span></td></tr><tr><td class=\"gsc_mvt_p\">96.</td><td class=\"gsc_mvt_t\">Journal of Business Research</td><td class=\"gsc_mvt_n\"><a class=\"gs_ibl gsc_mp_anchor\" href=\"/citations?hl=en&amp;oe=ASCII&amp;vq=en&amp;view_op=list_hcore&amp;venue=r_ClXCa7Zg8J.2022\">145</a></td><td class=\"gsc_mvt_n\"><span class=\"gs_ibl gsc_mp_anchor\">233</span></td></tr><tr><td class=\"gsc_mvt_p\">97.</td><td class=\"gsc_mvt_t\">Molecular Cancer</td><td class=\"gsc_mvt_n\"><a class=\"gs_ibl gsc_mp_anchor\" href=\"/citations?hl=en&amp;oe=ASCII&amp;vq=en&amp;view_op=list_hcore&amp;venue=u98KWqnAzy8J.2022\">145</a></td><td class=\"gsc_mvt_n\"><span class=\"gs_ibl gsc_mp_anchor\">209</span></td></tr><tr><td class=\"gsc_mvt_p\">98.</td><td class=\"gsc_mvt_t\">Sensors</td><td class=\"gsc_mvt_n\"><a class=\"gs_ibl gsc_mp_anchor\" href=\"/citations?hl=en&amp;oe=ASCII&amp;vq=en&amp;view_op=list_hcore&amp;venue=KJTg4Mmu7pUJ.2022\">145</a></td><td class=\"gsc_mvt_n\"><span class=\"gs_ibl gsc_mp_anchor\">201</span></td></tr><tr><td class=\"gsc_mvt_p\">99.</td><td class=\"gsc_mvt_t\">Nature Climate Change</td><td class=\"gsc_mvt_n\"><a class=\"gs_ibl gsc_mp_anchor\" href=\"/citations?hl=en&amp;oe=ASCII&amp;vq=en&amp;view_op=list_hcore&amp;venue=IFUPWd7_UnUJ.2022\">144</a></td><td class=\"gsc_mvt_n\"><span class=\"gs_ibl gsc_mp_anchor\">228</span></td></tr><tr><td class=\"gsc_mvt_p\">100.</td><td class=\"gsc_mvt_t\">IEEE Internet of Things Journal</td><td class=\"gsc_mvt_n\"><a class=\"gs_ibl gsc_mp_anchor\" href=\"/citations?hl=en&amp;oe=ASCII&amp;vq=en&amp;view_op=list_hcore&amp;venue=9oNLl9DgMnQJ.2022\">144</a></td><td class=\"gsc_mvt_n\"><span class=\"gs_ibl gsc_mp_anchor\">212</span></td></tr></table></div></div><div class=\"gs_gray\" id=\"gsc_mp_disclaimer\">Dates and citation counts are estimated and are determined automatically by a computer program.</div></div></div></div><div id=\"gs_ftr_sp\" role=\"presentation\"></div><div id=\"gs_ftr\" role=\"contentinfo\"><div id=\"gs_ftr_rt\"><a href=\"/intl/en/scholar/about.html\">Help</a><a href=\"//www.google.com/intl/en/policies/privacy/\">Privacy</a><a href=\"//www.google.com/intl/en/policies/terms/\">Terms</a></div></div></div></body></html>"
      ]
     },
     "execution_count": 45,
     "metadata": {},
     "output_type": "execute_result"
    }
   ],
   "source": [
    "scholar_soup=BeautifulSoup(requests.get('https://scholar.google.com/citations?view_op=top_venues&hl=en').content,\"html.parser\")\n",
    "scholar_soup"
   ]
  },
  {
   "cell_type": "code",
   "execution_count": 56,
   "id": "fe0fd455",
   "metadata": {},
   "outputs": [
    {
     "data": {
      "text/plain": [
       "<td class=\"gsc_mvt_p\">1.</td>"
      ]
     },
     "execution_count": 56,
     "metadata": {},
     "output_type": "execute_result"
    }
   ],
   "source": [
    "rank=scholar_soup.find('th',class_=\"gsc_mvt_p\")\n",
    "rank"
   ]
  },
  {
   "cell_type": "code",
   "execution_count": 57,
   "id": "f29611e2",
   "metadata": {},
   "outputs": [
    {
     "data": {
      "text/plain": [
       "'1.'"
      ]
     },
     "execution_count": 57,
     "metadata": {},
     "output_type": "execute_result"
    }
   ],
   "source": [
    "rank.text"
   ]
  },
  {
   "cell_type": "code",
   "execution_count": 58,
   "id": "d5cee891",
   "metadata": {},
   "outputs": [
    {
     "data": {
      "text/plain": [
       "<td class=\"gsc_mvt_t\">Nature</td>"
      ]
     },
     "execution_count": 58,
     "metadata": {},
     "output_type": "execute_result"
    }
   ],
   "source": [
    "publication=scholar_soup.find('th',class_=\"gsc_mvt_t\")\n",
    "publication"
   ]
  },
  {
   "cell_type": "code",
   "execution_count": 59,
   "id": "cf40e653",
   "metadata": {},
   "outputs": [
    {
     "data": {
      "text/plain": [
       "'Nature'"
      ]
     },
     "execution_count": 59,
     "metadata": {},
     "output_type": "execute_result"
    }
   ],
   "source": [
    "publication.text"
   ]
  },
  {
   "cell_type": "code",
   "execution_count": 60,
   "id": "ede90a25",
   "metadata": {},
   "outputs": [
    {
     "data": {
      "text/plain": [
       "<td class=\"gsc_mvt_n\"><a class=\"gs_ibl gsc_mp_anchor\" href=\"/citations?hl=en&amp;oe=ASCII&amp;vq=en&amp;view_op=list_hcore&amp;venue=H--JoiVp8x8J.2022\">444</a></td>"
      ]
     },
     "execution_count": 60,
     "metadata": {},
     "output_type": "execute_result"
    }
   ],
   "source": [
    "h5index=scholar_soup.find('th',class_=\"gsc_mvt_n\")\n",
    "h5index"
   ]
  },
  {
   "cell_type": "code",
   "execution_count": 61,
   "id": "43c13743",
   "metadata": {},
   "outputs": [
    {
     "data": {
      "text/plain": [
       "'444'"
      ]
     },
     "execution_count": 61,
     "metadata": {},
     "output_type": "execute_result"
    }
   ],
   "source": [
    "h5index.text"
   ]
  },
  {
   "cell_type": "code",
   "execution_count": 64,
   "id": "87c05e31",
   "metadata": {},
   "outputs": [
    {
     "data": {
      "text/plain": [
       "<span class=\"gs_ibl gsc_mp_anchor\">667</span>"
      ]
     },
     "execution_count": 64,
     "metadata": {},
     "output_type": "execute_result"
    }
   ],
   "source": [
    "h5median=scholar_soup.find('span',class_=\"gs_ibl gsc_mp_anchor\")\n",
    "h5median"
   ]
  },
  {
   "cell_type": "code",
   "execution_count": 65,
   "id": "e484f9d3",
   "metadata": {},
   "outputs": [
    {
     "data": {
      "text/plain": [
       "'444'"
      ]
     },
     "execution_count": 65,
     "metadata": {},
     "output_type": "execute_result"
    }
   ],
   "source": [
    "h5index.text"
   ]
  },
  {
   "cell_type": "code",
   "execution_count": 68,
   "id": "f3cdf4fc",
   "metadata": {},
   "outputs": [
    {
     "data": {
      "text/plain": [
       "[]"
      ]
     },
     "execution_count": 68,
     "metadata": {},
     "output_type": "execute_result"
    }
   ],
   "source": [
    "Rank=[]\n",
    "for i in article_soup.find_all('th',class_=\"gsc_mvt_p\"):\n",
    "    Rank.append(i.text)\n",
    "Rank"
   ]
  },
  {
   "cell_type": "code",
   "execution_count": 69,
   "id": "0cdf5379",
   "metadata": {},
   "outputs": [
    {
     "data": {
      "text/plain": [
       "[]"
      ]
     },
     "execution_count": 69,
     "metadata": {},
     "output_type": "execute_result"
    }
   ],
   "source": [
    "Publication=[]\n",
    "for i in article_soup.find_all('th',class_=\"gsc_mvt_t\"):\n",
    "    Publication.append(i.text)\n",
    "Publication"
   ]
  },
  {
   "cell_type": "code",
   "execution_count": 70,
   "id": "332e51a6",
   "metadata": {},
   "outputs": [
    {
     "data": {
      "text/plain": [
       "[]"
      ]
     },
     "execution_count": 70,
     "metadata": {},
     "output_type": "execute_result"
    }
   ],
   "source": [
    "h5_index=[]\n",
    "for i in article_soup.find_all('th',class_=\"gsc_mvt_n\"):\n",
    "    h5_index.append(i.text)\n",
    "h5_index"
   ]
  },
  {
   "cell_type": "code",
   "execution_count": 71,
   "id": "90ab67e9",
   "metadata": {},
   "outputs": [
    {
     "data": {
      "text/plain": [
       "[]"
      ]
     },
     "execution_count": 71,
     "metadata": {},
     "output_type": "execute_result"
    }
   ],
   "source": [
    "h5_median=[]\n",
    "for i in article_soup.find_all('th',class_=\"gsc_mvt_n\"):\n",
    "    h5_median.append(i.text)\n",
    "h5_median"
   ]
  },
  {
   "cell_type": "code",
   "execution_count": 72,
   "id": "da51b909",
   "metadata": {},
   "outputs": [
    {
     "name": "stdout",
     "output_type": "stream",
     "text": [
      "0 0 0 0\n"
     ]
    }
   ],
   "source": [
    "print(len(Rank),len(Publication),len(h5_index),len(h5_median))"
   ]
  },
  {
   "cell_type": "code",
   "execution_count": 73,
   "id": "17e67585",
   "metadata": {},
   "outputs": [
    {
     "ename": "AttributeError",
     "evalue": "partially initialized module 'pandas' has no attribute 'core' (most likely due to a circular import)",
     "output_type": "error",
     "traceback": [
      "\u001b[1;31m---------------------------------------------------------------------------\u001b[0m",
      "\u001b[1;31mAttributeError\u001b[0m                            Traceback (most recent call last)",
      "\u001b[1;32m~\\AppData\\Local\\Temp/ipykernel_3908/3120247791.py\u001b[0m in \u001b[0;36m<module>\u001b[1;34m\u001b[0m\n\u001b[1;32m----> 1\u001b[1;33m \u001b[1;32mimport\u001b[0m \u001b[0mpandas\u001b[0m \u001b[1;32mas\u001b[0m \u001b[0mpd\u001b[0m\u001b[1;33m\u001b[0m\u001b[1;33m\u001b[0m\u001b[0m\n\u001b[0m\u001b[0;32m      2\u001b[0m \u001b[0mdf\u001b[0m\u001b[1;33m=\u001b[0m\u001b[0mpd\u001b[0m\u001b[1;33m.\u001b[0m\u001b[0mDataFrame\u001b[0m\u001b[1;33m(\u001b[0m\u001b[1;33m{\u001b[0m\u001b[1;34m'Rank'\u001b[0m\u001b[1;33m:\u001b[0m\u001b[0mRank\u001b[0m\u001b[1;33m,\u001b[0m\u001b[1;34m'Publication'\u001b[0m\u001b[1;33m:\u001b[0m\u001b[0mPublication\u001b[0m\u001b[1;33m,\u001b[0m\u001b[1;34m'h5-index'\u001b[0m\u001b[1;33m:\u001b[0m\u001b[0mh5\u001b[0m\u001b[1;33m-\u001b[0m\u001b[0mindex\u001b[0m\u001b[1;33m,\u001b[0m\u001b[1;34m'h5-median'\u001b[0m\u001b[1;33m:\u001b[0m\u001b[0mh5_median\u001b[0m\u001b[1;33m}\u001b[0m\u001b[1;33m)\u001b[0m\u001b[1;33m\u001b[0m\u001b[1;33m\u001b[0m\u001b[0m\n\u001b[0;32m      3\u001b[0m \u001b[0mdf\u001b[0m\u001b[1;33m\u001b[0m\u001b[1;33m\u001b[0m\u001b[0m\n",
      "\u001b[1;32m~\\anaconda3\\lib\\site-packages\\pandas\\__init__.py\u001b[0m in \u001b[0;36m<module>\u001b[1;34m\u001b[0m\n\u001b[0;32m    177\u001b[0m \u001b[1;33m\u001b[0m\u001b[0m\n\u001b[0;32m    178\u001b[0m \u001b[1;32mfrom\u001b[0m \u001b[0mpandas\u001b[0m\u001b[1;33m.\u001b[0m\u001b[0mutil\u001b[0m\u001b[1;33m.\u001b[0m\u001b[0m_tester\u001b[0m \u001b[1;32mimport\u001b[0m \u001b[0mtest\u001b[0m\u001b[1;33m\u001b[0m\u001b[1;33m\u001b[0m\u001b[0m\n\u001b[1;32m--> 179\u001b[1;33m \u001b[1;32mimport\u001b[0m \u001b[0mpandas\u001b[0m\u001b[1;33m.\u001b[0m\u001b[0mtesting\u001b[0m\u001b[1;33m\u001b[0m\u001b[1;33m\u001b[0m\u001b[0m\n\u001b[0m\u001b[0;32m    180\u001b[0m \u001b[1;32mimport\u001b[0m \u001b[0mpandas\u001b[0m\u001b[1;33m.\u001b[0m\u001b[0marrays\u001b[0m\u001b[1;33m\u001b[0m\u001b[1;33m\u001b[0m\u001b[0m\n\u001b[0;32m    181\u001b[0m \u001b[1;33m\u001b[0m\u001b[0m\n",
      "\u001b[1;32m~\\anaconda3\\lib\\site-packages\\pandas\\testing.py\u001b[0m in \u001b[0;36m<module>\u001b[1;34m\u001b[0m\n\u001b[0;32m      4\u001b[0m \u001b[1;33m\u001b[0m\u001b[0m\n\u001b[0;32m      5\u001b[0m \u001b[1;33m\u001b[0m\u001b[0m\n\u001b[1;32m----> 6\u001b[1;33m from pandas._testing import (\n\u001b[0m\u001b[0;32m      7\u001b[0m     \u001b[0massert_extension_array_equal\u001b[0m\u001b[1;33m,\u001b[0m\u001b[1;33m\u001b[0m\u001b[1;33m\u001b[0m\u001b[0m\n\u001b[0;32m      8\u001b[0m     \u001b[0massert_frame_equal\u001b[0m\u001b[1;33m,\u001b[0m\u001b[1;33m\u001b[0m\u001b[1;33m\u001b[0m\u001b[0m\n",
      "\u001b[1;32m~\\anaconda3\\lib\\site-packages\\pandas\\_testing\\__init__.py\u001b[0m in \u001b[0;36m<module>\u001b[1;34m\u001b[0m\n\u001b[0;32m    946\u001b[0m \u001b[1;33m\u001b[0m\u001b[0m\n\u001b[0;32m    947\u001b[0m \u001b[1;33m\u001b[0m\u001b[0m\n\u001b[1;32m--> 948\u001b[1;33m \u001b[0mcython_table\u001b[0m \u001b[1;33m=\u001b[0m \u001b[0mpd\u001b[0m\u001b[1;33m.\u001b[0m\u001b[0mcore\u001b[0m\u001b[1;33m.\u001b[0m\u001b[0mcommon\u001b[0m\u001b[1;33m.\u001b[0m\u001b[0m_cython_table\u001b[0m\u001b[1;33m.\u001b[0m\u001b[0mitems\u001b[0m\u001b[1;33m(\u001b[0m\u001b[1;33m)\u001b[0m\u001b[1;33m\u001b[0m\u001b[1;33m\u001b[0m\u001b[0m\n\u001b[0m\u001b[0;32m    949\u001b[0m \u001b[1;33m\u001b[0m\u001b[0m\n\u001b[0;32m    950\u001b[0m \u001b[1;33m\u001b[0m\u001b[0m\n",
      "\u001b[1;31mAttributeError\u001b[0m: partially initialized module 'pandas' has no attribute 'core' (most likely due to a circular import)"
     ]
    }
   ],
   "source": [
    "import pandas as pd\n",
    "df=pd.DataFrame({'Rank':Rank,'Publication':Publication,'h5-index':h5-index,'h5-median':h5_median})\n",
    "df"
   ]
  },
  {
   "cell_type": "code",
   "execution_count": null,
   "id": "636a8208",
   "metadata": {},
   "outputs": [],
   "source": []
  }
 ],
 "metadata": {
  "kernelspec": {
   "display_name": "Python 3 (ipykernel)",
   "language": "python",
   "name": "python3"
  },
  "language_info": {
   "codemirror_mode": {
    "name": "ipython",
    "version": 3
   },
   "file_extension": ".py",
   "mimetype": "text/x-python",
   "name": "python",
   "nbconvert_exporter": "python",
   "pygments_lexer": "ipython3",
   "version": "3.9.7"
  }
 },
 "nbformat": 4,
 "nbformat_minor": 5
}
