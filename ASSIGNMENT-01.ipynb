{
 "cells": [
  {
   "cell_type": "markdown",
   "id": "cca20eb1",
   "metadata": {},
   "source": [
    "# Assignment-1\n",
    "Web Scraping"
   ]
  },
  {
   "cell_type": "code",
   "execution_count": null,
   "id": "67624cdf",
   "metadata": {},
   "outputs": [],
   "source": [
    "!pip install bs4\n",
    "!pip install requests"
   ]
  },
  {
   "cell_type": "code",
   "execution_count": null,
   "id": "addcb2f7",
   "metadata": {},
   "outputs": [],
   "source": [
    "from bs4 import BeautifulSoup\n",
    "import requests"
   ]
  },
  {
   "cell_type": "markdown",
   "id": "c021a8e7",
   "metadata": {},
   "source": [
    "Q1) Write a python program to display all the header tags from wikipedia.org."
   ]
  },
  {
   "cell_type": "code",
   "execution_count": null,
   "id": "5ac998e3",
   "metadata": {},
   "outputs": [],
   "source": [
    "wiki_soup=BeautifulSoup(requests.get('https://en.wikipedia.org/wiki/Main_Page').content,\"html.parser\")\n",
    "wiki_soup"
   ]
  },
  {
   "cell_type": "code",
   "execution_count": null,
   "id": "7f0eeb44",
   "metadata": {},
   "outputs": [],
   "source": [
    "header=wiki_soup.find('span',class_=\"mw-headline\")\n",
    "header"
   ]
  },
  {
   "cell_type": "code",
   "execution_count": null,
   "id": "4a653ff0",
   "metadata": {},
   "outputs": [],
   "source": [
    "header.text"
   ]
  },
  {
   "cell_type": "code",
   "execution_count": null,
   "id": "cc3622ea",
   "metadata": {},
   "outputs": [],
   "source": [
    "Headings=[]\n",
    "for i in wiki_soup.find_all('span',class_=\"mw-headline\"):\n",
    "    Headings.append(i.text)\n",
    "Headings  "
   ]
  },
  {
   "cell_type": "code",
   "execution_count": null,
   "id": "d6d0bb93",
   "metadata": {},
   "outputs": [],
   "source": []
  },
  {
   "cell_type": "markdown",
   "id": "4be91d74",
   "metadata": {},
   "source": [
    "Q2) Write a python program to display IMDB’s Top rated 100 movies’ data (i.e. name, rating, year of release)and make data frame."
   ]
  },
  {
   "cell_type": "code",
   "execution_count": null,
   "id": "2687df4f",
   "metadata": {},
   "outputs": [],
   "source": [
    "movies_soup=BeautifulSoup(requests.get('https://www.imdb.com/list/ls091520106/').content,\"html.parser\")\n",
    "movies_soup"
   ]
  },
  {
   "cell_type": "code",
   "execution_count": null,
   "id": "1c39a81c",
   "metadata": {},
   "outputs": [],
   "source": [
    "names=movies_soup.find('h3',class_=\"lister-item-header\")\n",
    "names"
   ]
  },
  {
   "cell_type": "code",
   "execution_count": null,
   "id": "8d9598db",
   "metadata": {},
   "outputs": [],
   "source": [
    "names.text"
   ]
  },
  {
   "cell_type": "code",
   "execution_count": null,
   "id": "c58360ca",
   "metadata": {},
   "outputs": [],
   "source": [
    "rating=movies_soup.find('span',class_=\"ipl-rating-star__rating\")\n",
    "rating.text.split('|')[0]"
   ]
  },
  {
   "cell_type": "code",
   "execution_count": null,
   "id": "6e8a9e1c",
   "metadata": {},
   "outputs": [],
   "source": [
    "years=movies_soup.find('span',class_=\"lister-item-year text-muted unbold\")\n",
    "years"
   ]
  },
  {
   "cell_type": "code",
   "execution_count": null,
   "id": "06b3dc8b",
   "metadata": {},
   "outputs": [],
   "source": [
    "years.text"
   ]
  },
  {
   "cell_type": "code",
   "execution_count": null,
   "id": "264ecbcf",
   "metadata": {},
   "outputs": [],
   "source": [
    "Names_of_Movies=[]\n",
    "for i in movies_soup.find_all('h3',class_=\"lister-item-header\"):\n",
    "    Names_of_Movies.append(i.text)\n",
    "Names_of_Movies"
   ]
  },
  {
   "cell_type": "code",
   "execution_count": null,
   "id": "a459110e",
   "metadata": {},
   "outputs": [],
   "source": [
    "Rating=[]\n",
    "for i in movies_soup.find_all('span',class_=\"ipl-rating-star__rating\"):\n",
    "    Rating.append(i.text.split('|')[0])\n",
    "Rating"
   ]
  },
  {
   "cell_type": "code",
   "execution_count": null,
   "id": "7c1e77e7",
   "metadata": {},
   "outputs": [],
   "source": [
    "Year_of_Release=[]\n",
    "for i in movies_soup.find_all('span',class_=\"lister-item-year text-muted unbold\"):\n",
    "    Year_of_Release.append(i.text)\n",
    "Year_of_Release"
   ]
  },
  {
   "cell_type": "code",
   "execution_count": null,
   "id": "f5824f49",
   "metadata": {},
   "outputs": [],
   "source": [
    "print(len(Names_of_Movies),len(Rating),len(Year_of_Release))"
   ]
  },
  {
   "cell_type": "code",
   "execution_count": null,
   "id": "3b93bff0",
   "metadata": {},
   "outputs": [],
   "source": [
    "import pandas as pd\n",
    "df=pd.DataFrame({'Name of Movie':Names_of_Movies,'Rating':Rating,'Year of Release':Year_of_Release})\n",
    "df"
   ]
  },
  {
   "cell_type": "code",
   "execution_count": null,
   "id": "391723d6",
   "metadata": {},
   "outputs": [],
   "source": []
  },
  {
   "cell_type": "markdown",
   "id": "bae42fba",
   "metadata": {},
   "source": [
    "Q3) Write a python program to display IMDB’s Top rated 100 Indian movies’ data (i.e. name, rating, year of release) and make data frame.\n"
   ]
  },
  {
   "cell_type": "code",
   "execution_count": null,
   "id": "e28fcaac",
   "metadata": {},
   "outputs": [],
   "source": [
    "picture_soup=BeautifulSoup(requests.get('https://www.imdb.com/india/top-rated-indian-movies/').content,\"html.parser\")\n",
    "picture_soup"
   ]
  },
  {
   "cell_type": "code",
   "execution_count": null,
   "id": "48652005",
   "metadata": {},
   "outputs": [],
   "source": [
    "names1=picture_soup.find('td',class_=\"titleColumn\")\n",
    "names1"
   ]
  },
  {
   "cell_type": "code",
   "execution_count": null,
   "id": "8382057a",
   "metadata": {},
   "outputs": [],
   "source": [
    "names1.text"
   ]
  },
  {
   "cell_type": "code",
   "execution_count": null,
   "id": "d8dbfdb1",
   "metadata": {},
   "outputs": [],
   "source": [
    "rate=picture_soup.find('td',class_=\"ratingColumn imdbRating\")\n",
    "rate"
   ]
  },
  {
   "cell_type": "code",
   "execution_count": null,
   "id": "042f4c5d",
   "metadata": {},
   "outputs": [],
   "source": [
    "rate.text"
   ]
  },
  {
   "cell_type": "code",
   "execution_count": null,
   "id": "3d7c449e",
   "metadata": {},
   "outputs": [],
   "source": [
    "year=picture_soup.find('span',class_=\"secondaryInfo\")\n",
    "year"
   ]
  },
  {
   "cell_type": "code",
   "execution_count": null,
   "id": "c78b517f",
   "metadata": {},
   "outputs": [],
   "source": [
    "year.text"
   ]
  },
  {
   "cell_type": "code",
   "execution_count": null,
   "id": "4becbb80",
   "metadata": {},
   "outputs": [],
   "source": [
    "Movies_Name=[]\n",
    "for i in picture_soup.find_all('td',class_=\"titleColumn\"):\n",
    "    Movies_Name.append(i.text)\n",
    "Movies_Name"
   ]
  },
  {
   "cell_type": "code",
   "execution_count": null,
   "id": "345f4d3b",
   "metadata": {},
   "outputs": [],
   "source": [
    "Ratings1=[]\n",
    "for i in picture_soup.find_all('td',class_=\"ratingColumn imdbRating\"):\n",
    "    Ratings1.append(i.text)\n",
    "Ratings1"
   ]
  },
  {
   "cell_type": "code",
   "execution_count": null,
   "id": "3221280f",
   "metadata": {},
   "outputs": [],
   "source": [
    "ReleaseYear=[]\n",
    "for i in picture_soup.find_all('span',class_=\"secondaryInfo\"):\n",
    "    ReleaseYear.append(i.text)\n",
    "ReleaseYear    "
   ]
  },
  {
   "cell_type": "code",
   "execution_count": null,
   "id": "8e057aab",
   "metadata": {},
   "outputs": [],
   "source": [
    "print(len(Movies_Name),len(Ratings1),len(ReleaseYear))"
   ]
  },
  {
   "cell_type": "code",
   "execution_count": null,
   "id": "3ccf3e6d",
   "metadata": {
    "scrolled": true
   },
   "outputs": [],
   "source": [
    "import pandas as pd\n",
    "df=pd.DataFrame({'Name of Movies':Movies_Name,'Rating':Ratings1,'Year of Release':ReleaseYear})\n",
    "df"
   ]
  },
  {
   "cell_type": "code",
   "execution_count": null,
   "id": "64e6608a",
   "metadata": {},
   "outputs": [],
   "source": []
  },
  {
   "cell_type": "markdown",
   "id": "60812293",
   "metadata": {},
   "source": [
    "Q4) Write s python program to display list of respected former presidents of India(i.e. Name , Term of office)\n",
    "from https://presidentofindia.nic.in/former-presidents.htm"
   ]
  },
  {
   "cell_type": "markdown",
   "id": "ca967cb7",
   "metadata": {},
   "source": [
    "List of President of India"
   ]
  },
  {
   "cell_type": "code",
   "execution_count": null,
   "id": "a27e6873",
   "metadata": {},
   "outputs": [],
   "source": [
    "presedent_soup=BeautifulSoup(requests.get('https://presidentofindia.nic.in/former-presidents.htm').content,\"html.parser\")\n",
    "presedent_soup"
   ]
  },
  {
   "cell_type": "code",
   "execution_count": null,
   "id": "9625547a",
   "metadata": {},
   "outputs": [],
   "source": [
    "first=presedent_soup.find('div',class_=\"presidentListing\")\n",
    "first"
   ]
  },
  {
   "cell_type": "code",
   "execution_count": null,
   "id": "c7176feb",
   "metadata": {},
   "outputs": [],
   "source": [
    "first.text"
   ]
  },
  {
   "cell_type": "code",
   "execution_count": null,
   "id": "964acdf8",
   "metadata": {},
   "outputs": [],
   "source": [
    "term=presedent_soup.find('span',class_=\"terms\")\n",
    "term"
   ]
  },
  {
   "cell_type": "code",
   "execution_count": null,
   "id": "ba7e6022",
   "metadata": {},
   "outputs": [],
   "source": [
    "term.text"
   ]
  },
  {
   "cell_type": "code",
   "execution_count": null,
   "id": "f9dcb377",
   "metadata": {},
   "outputs": [],
   "source": [
    "Name=[]\n",
    "for i in presedent_soup.find_all('div',class_=\"presidentListing\"):\n",
    "    Name.append(i.text)\n",
    "Name    "
   ]
  },
  {
   "cell_type": "code",
   "execution_count": null,
   "id": "938f2b1b",
   "metadata": {},
   "outputs": [],
   "source": [
    "Term_of_office=[]\n",
    "for i in presedent_soup.find_all('span',class_=\"terms\"):\n",
    "    Term_of_office.append(i.text)\n",
    "Term_of_office    "
   ]
  },
  {
   "cell_type": "code",
   "execution_count": null,
   "id": "84afcaf6",
   "metadata": {},
   "outputs": [],
   "source": [
    "print(len(Name),len(Term_of_office))"
   ]
  },
  {
   "cell_type": "code",
   "execution_count": null,
   "id": "63755df3",
   "metadata": {},
   "outputs": [],
   "source": [
    "import pandas as pd\n",
    "df=pd.DataFrame({'Name of Presidents':Name,'Term of year':Term_of_office})\n",
    "df"
   ]
  },
  {
   "cell_type": "markdown",
   "id": "36f4284d",
   "metadata": {},
   "source": [
    "Q8) Write a python program to scrape the details of most downloaded articles from AI in last 90 days.\n",
    "https://www.journals.elsevier.com/artificial-intelligence/most-downloaded-articles"
   ]
  },
  {
   "cell_type": "markdown",
   "id": "19da6b18",
   "metadata": {},
   "source": [
    "MOST DOWNLOADED ARTICLES FROM AI IN LAST 90 DAYS"
   ]
  },
  {
   "cell_type": "code",
   "execution_count": null,
   "id": "ee5df18f",
   "metadata": {},
   "outputs": [],
   "source": [
    "article_soup=BeautifulSoup(requests.get(\"https://www.journals.elsevier.com/artificial-intelligence/most-downloaded-articles\").content,\"html.parser\")\n",
    "article_soup"
   ]
  },
  {
   "cell_type": "code",
   "execution_count": null,
   "id": "90f7d322",
   "metadata": {},
   "outputs": [],
   "source": [
    "title1=article_soup.find('h2',class_=\"sc-1qrq3sd-1 MKjKb sc-1nmom32-0 sc-1nmom32-1 hqhUYH ebTA-dR\")\n",
    "title1"
   ]
  },
  {
   "cell_type": "code",
   "execution_count": null,
   "id": "60248ff5",
   "metadata": {},
   "outputs": [],
   "source": [
    "title1.text"
   ]
  },
  {
   "cell_type": "code",
   "execution_count": null,
   "id": "050f15be",
   "metadata": {},
   "outputs": [],
   "source": [
    "authors1=article_soup.find('span',class_=\"sc-1w3fpd7-0 pgLAT\")\n",
    "authors1"
   ]
  },
  {
   "cell_type": "code",
   "execution_count": null,
   "id": "0048a74a",
   "metadata": {},
   "outputs": [],
   "source": [
    "authors1.text"
   ]
  },
  {
   "cell_type": "code",
   "execution_count": null,
   "id": "5067e982",
   "metadata": {},
   "outputs": [],
   "source": [
    "publisheddate1=article_soup.find('span',class_=\"sc-1thf9ly-2 bKddwo\")\n",
    "publisheddate1"
   ]
  },
  {
   "cell_type": "code",
   "execution_count": null,
   "id": "1d6ed668",
   "metadata": {},
   "outputs": [],
   "source": [
    "publisheddate1.text"
   ]
  },
  {
   "cell_type": "code",
   "execution_count": null,
   "id": "6f8a514e",
   "metadata": {},
   "outputs": [],
   "source": [
    "paperurl1=article_soup.find('h2',class_=\"sc-1qrq3sd-1 MKjKb sc-1nmom32-0 sc-1nmom32-1 hqhUYH ebTA-dR\")\n",
    "paperurl1"
   ]
  },
  {
   "cell_type": "code",
   "execution_count": null,
   "id": "98e473de",
   "metadata": {},
   "outputs": [],
   "source": [
    "Paper_Title=[]\n",
    "for i in article_soup.find_all('h2',class_=\"sc-1qrq3sd-1 MKjKb sc-1nmom32-0 sc-1nmom32-1 hqhUYH ebTA-dR\"):\n",
    "    Paper_Title.append(i.text)\n",
    "Paper_Title    "
   ]
  },
  {
   "cell_type": "code",
   "execution_count": null,
   "id": "153d4e85",
   "metadata": {},
   "outputs": [],
   "source": [
    "Authors=[]\n",
    "for i in article_soup.find_all('span',class_=\"sc-1w3fpd7-0 pgLAT\"):\n",
    "    Authors.append(i.text)\n",
    "Authors   "
   ]
  },
  {
   "cell_type": "code",
   "execution_count": null,
   "id": "eb9302f4",
   "metadata": {},
   "outputs": [],
   "source": [
    "Published_Date=[]\n",
    "for i in article_soup.find_all('span',class_=\"sc-1thf9ly-2 bKddwo\"):\n",
    "    Published_Date.append(i.text)\n",
    "Published_Date"
   ]
  },
  {
   "cell_type": "code",
   "execution_count": null,
   "id": "52b5f4d9",
   "metadata": {},
   "outputs": [],
   "source": [
    "Paper_URL=[]\n",
    "for i in article_soup.find_all('h2',class_=\"sc-1qrq3sd-1 MKjKb sc-1nmom32-0 sc-1nmom32-1 hqhUYH ebTA-dR\"):\n",
    "    Paper_URL.append(i.text)\n",
    "Paper_URL "
   ]
  },
  {
   "cell_type": "code",
   "execution_count": null,
   "id": "95c123e0",
   "metadata": {},
   "outputs": [],
   "source": [
    "print(len(Paper_Title),len(Authors),len(Published_Date),len(Paper_URL))"
   ]
  },
  {
   "cell_type": "code",
   "execution_count": null,
   "id": "d5e50869",
   "metadata": {},
   "outputs": [],
   "source": [
    "import pandas as pd\n",
    "df=pd.DataFrame({'Paper Title':Paper_Title,'Authors':Authors,'Published Date':Published_Date,'Paper URL':Paper_URL})\n",
    "df"
   ]
  },
  {
   "cell_type": "code",
   "execution_count": null,
   "id": "bc70ccfd",
   "metadata": {},
   "outputs": [],
   "source": []
  },
  {
   "cell_type": "markdown",
   "id": "9a17ae87",
   "metadata": {},
   "source": [
    "Q10) Write a python program to scrape the details of top publications from Google Scholar from\n",
    "https://scholar.google.com/citations?view_op=top_venues&hl=en\n"
   ]
  },
  {
   "cell_type": "markdown",
   "id": "1d7cb552",
   "metadata": {},
   "source": [
    "Details of top publications from Google Scholar"
   ]
  },
  {
   "cell_type": "code",
   "execution_count": null,
   "id": "0748c4f5",
   "metadata": {},
   "outputs": [],
   "source": [
    "scholar_soup=BeautifulSoup(requests.get('https://scholar.google.com/citations?view_op=top_venues&hl=en').content,\"html.parser\")\n",
    "scholar_soup"
   ]
  },
  {
   "cell_type": "code",
   "execution_count": null,
   "id": "fe0fd455",
   "metadata": {},
   "outputs": [],
   "source": [
    "rank=scholar_soup.find('td',class_=\"gsc_mvt_p\")\n",
    "rank"
   ]
  },
  {
   "cell_type": "code",
   "execution_count": null,
   "id": "f29611e2",
   "metadata": {},
   "outputs": [],
   "source": [
    "rank.text"
   ]
  },
  {
   "cell_type": "code",
   "execution_count": null,
   "id": "d5cee891",
   "metadata": {},
   "outputs": [],
   "source": [
    "publication=scholar_soup.find('td',class_=\"gsc_mvt_t\")\n",
    "publication"
   ]
  },
  {
   "cell_type": "code",
   "execution_count": null,
   "id": "cf40e653",
   "metadata": {},
   "outputs": [],
   "source": [
    "publication.text"
   ]
  },
  {
   "cell_type": "code",
   "execution_count": null,
   "id": "ede90a25",
   "metadata": {},
   "outputs": [],
   "source": [
    "h5index=scholar_soup.find('td',class_=\"gsc_mvt_n\")\n",
    "h5index"
   ]
  },
  {
   "cell_type": "code",
   "execution_count": null,
   "id": "43c13743",
   "metadata": {},
   "outputs": [],
   "source": [
    "h5index.text"
   ]
  },
  {
   "cell_type": "code",
   "execution_count": null,
   "id": "87c05e31",
   "metadata": {},
   "outputs": [],
   "source": [
    "h5median=scholar_soup.find('span',class_=\"gs_ibl gsc_mp_anchor\")\n",
    "h5median"
   ]
  },
  {
   "cell_type": "code",
   "execution_count": null,
   "id": "e484f9d3",
   "metadata": {},
   "outputs": [],
   "source": [
    "h5median.text"
   ]
  },
  {
   "cell_type": "code",
   "execution_count": null,
   "id": "f3cdf4fc",
   "metadata": {},
   "outputs": [],
   "source": [
    "Rank=[]\n",
    "for i in scholar_soup.find_all('td',class_=\"gsc_mvt_p\"):\n",
    "    Rank.append(i.text)\n",
    "Rank"
   ]
  },
  {
   "cell_type": "code",
   "execution_count": null,
   "id": "0cdf5379",
   "metadata": {},
   "outputs": [],
   "source": [
    "Publication=[]\n",
    "for i in scholar_soup.find_all('td',class_=\"gsc_mvt_t\"):\n",
    "    Publication.append(i.text)\n",
    "Publication"
   ]
  },
  {
   "cell_type": "code",
   "execution_count": null,
   "id": "332e51a6",
   "metadata": {},
   "outputs": [],
   "source": [
    "h5_index=[]\n",
    "for i in scholar_soup.find_all('td',class_=\"gsc_mvt_n\"):\n",
    "    h5_index.append(i.text)\n",
    "h5_index"
   ]
  },
  {
   "cell_type": "code",
   "execution_count": null,
   "id": "010f61d4",
   "metadata": {},
   "outputs": [],
   "source": [
    "LIST=h5_index"
   ]
  },
  {
   "cell_type": "code",
   "execution_count": null,
   "id": "53652774",
   "metadata": {},
   "outputs": [],
   "source": [
    "print(LIST)"
   ]
  },
  {
   "cell_type": "code",
   "execution_count": null,
   "id": "8d67617a",
   "metadata": {},
   "outputs": [],
   "source": [
    "S1=slice(101,200)"
   ]
  },
  {
   "cell_type": "code",
   "execution_count": null,
   "id": "20befac5",
   "metadata": {},
   "outputs": [],
   "source": [
    "print(LIST[S1])"
   ]
  },
  {
   "cell_type": "code",
   "execution_count": null,
   "id": "90ab67e9",
   "metadata": {},
   "outputs": [],
   "source": [
    "h5_median=[]\n",
    "for i in scholar_soup.find_all('span',class_=\"gs_ibl gsc_mp_anchor\"):\n",
    "    h5_median.append(i.text)\n",
    "h5_median"
   ]
  },
  {
   "cell_type": "code",
   "execution_count": null,
   "id": "da51b909",
   "metadata": {},
   "outputs": [],
   "source": [
    "print(len(Rank),len(Publication),len(h5_index),len(h5_median))"
   ]
  },
  {
   "cell_type": "code",
   "execution_count": null,
   "id": "17e67585",
   "metadata": {},
   "outputs": [],
   "source": [
    "import pandas as pd\n",
    "df=pd.DataFrame({'Rank':Rank,'Publication':Publication,'h5-index':h5-index,'h5-median':h5_median})\n",
    "df"
   ]
  },
  {
   "cell_type": "code",
   "execution_count": null,
   "id": "7a429d27",
   "metadata": {},
   "outputs": [],
   "source": []
  },
  {
   "cell_type": "markdown",
   "id": "a61442f0",
   "metadata": {},
   "source": [
    "Q5) Write a python program to scrape cricket rankings from icc-cricket.com. You have to scrape:\n",
    "a) Top 10 ODI teams in men’s cricket along with the records for matches, points and rating.\n",
    "b) Top 10 ODI Batsmen along with the records of their team and rating.\n",
    "c) Top 10 ODI bowlers along with the records of their team and rating."
   ]
  },
  {
   "cell_type": "markdown",
   "id": "702742ac",
   "metadata": {},
   "source": [
    "# Cricket Ranking"
   ]
  },
  {
   "cell_type": "markdown",
   "id": "c7810eee",
   "metadata": {},
   "source": [
    "Top 10 ODI Teams in Mens"
   ]
  },
  {
   "cell_type": "code",
   "execution_count": null,
   "id": "9d485831",
   "metadata": {},
   "outputs": [],
   "source": [
    "cricket_soup=BeautifulSoup(requests.get('https://www.icc-cricket.com/rankings/mens/team-rankings/odi').content,\"html.parser\")\n",
    "cricket_soup"
   ]
  },
  {
   "cell_type": "code",
   "execution_count": null,
   "id": "eed4b550",
   "metadata": {},
   "outputs": [],
   "source": [
    "Teams=cricket_soup.find('span',class_=\"u-hide-phablet\")\n",
    "Teams"
   ]
  },
  {
   "cell_type": "code",
   "execution_count": null,
   "id": "27f150df",
   "metadata": {},
   "outputs": [],
   "source": [
    "Teams.text"
   ]
  },
  {
   "cell_type": "code",
   "execution_count": null,
   "id": "a6baf6ca",
   "metadata": {},
   "outputs": [],
   "source": [
    "Matches=cricket_soup.find('td',class_=\"rankings-block__banner--matches\")\n",
    "Matches"
   ]
  },
  {
   "cell_type": "code",
   "execution_count": null,
   "id": "05954142",
   "metadata": {},
   "outputs": [],
   "source": [
    "Matches.text"
   ]
  },
  {
   "cell_type": "code",
   "execution_count": null,
   "id": "8cb5c13d",
   "metadata": {},
   "outputs": [],
   "source": [
    "Points=cricket_soup.find('td',class_=\"rankings-block__banner--points\")\n",
    "Points"
   ]
  },
  {
   "cell_type": "code",
   "execution_count": null,
   "id": "c67546fc",
   "metadata": {},
   "outputs": [],
   "source": [
    "Points.text"
   ]
  },
  {
   "cell_type": "code",
   "execution_count": null,
   "id": "dd8f3a17",
   "metadata": {},
   "outputs": [],
   "source": [
    "Rating=cricket_soup.find('td',class_=\"rankings-block__banner--rating u-text-right\")\n",
    "Rating"
   ]
  },
  {
   "cell_type": "code",
   "execution_count": null,
   "id": "083edebd",
   "metadata": {},
   "outputs": [],
   "source": [
    "Rating.text"
   ]
  },
  {
   "cell_type": "code",
   "execution_count": null,
   "id": "2ad7e3e4",
   "metadata": {},
   "outputs": [],
   "source": [
    "Names_of_Team=[]\n",
    "for i in cricket_soup.find_all():\n",
    "    Names_of_Team.append(i.text)\n",
    "Names_of_Team   "
   ]
  },
  {
   "cell_type": "code",
   "execution_count": null,
   "id": "820ddda3",
   "metadata": {},
   "outputs": [],
   "source": [
    "Matches=[]\n",
    "for i in cricket_soup.find_all('td',class_=\"table-body__cell u-text-right rating\"):\n",
    "    Matches.append(i.text)\n",
    "Matches"
   ]
  },
  {
   "cell_type": "code",
   "execution_count": null,
   "id": "84a639b5",
   "metadata": {},
   "outputs": [],
   "source": [
    "Points=[]\n",
    "for i in cricket_soup.find_all('td',class_=\"table-body__cell u-center-text\"):\n",
    "    Points.append(i.text)\n",
    "Points"
   ]
  },
  {
   "cell_type": "code",
   "execution_count": null,
   "id": "afb0c955",
   "metadata": {},
   "outputs": [],
   "source": [
    "Rating=[]\n",
    "for i in cricket_soup.find_all('td',class_=\"table-body__cell u-text-right rating\"):\n",
    "    Rating.append(i.text)\n",
    "Rating"
   ]
  },
  {
   "cell_type": "code",
   "execution_count": null,
   "id": "eccf0ab1",
   "metadata": {},
   "outputs": [],
   "source": [
    "print(len(Names_of_Team),len(Matches),len(Points),len(Rating))"
   ]
  },
  {
   "cell_type": "code",
   "execution_count": null,
   "id": "6281f27b",
   "metadata": {},
   "outputs": [],
   "source": []
  },
  {
   "cell_type": "markdown",
   "id": "5fdf670c",
   "metadata": {},
   "source": [
    "Q6) Write a python program to scrape cricket rankings from icc-cricket.com. You have to scrape:\n",
    "a) Top 10 ODI teams in women’s cricket along with the records for matches, points and rating.\n",
    "b) Top 10 women’s ODI Batting players along with the records of their team and rating.\n",
    "c) Top 10 women’s ODI all-rounder along with the records of their team and rating."
   ]
  },
  {
   "cell_type": "code",
   "execution_count": null,
   "id": "c2f42dfa",
   "metadata": {},
   "outputs": [],
   "source": [
    "cricketW_soup=BeautifulSoup(requests.get('https://www.icc-cricket.com/rankings/womens/team-rankings/odi').content,\"html.parser\")\n",
    "cricketW_soup"
   ]
  },
  {
   "cell_type": "code",
   "execution_count": null,
   "id": "be3a0f74",
   "metadata": {},
   "outputs": [],
   "source": [
    "TeamsW=cricketW_soup.find('span',class_=\"u-hide-phablet\")\n",
    "TeamsW"
   ]
  },
  {
   "cell_type": "code",
   "execution_count": null,
   "id": "a06463c6",
   "metadata": {},
   "outputs": [],
   "source": [
    "MatchesW=cricketW_soup.find('td',class_=\"rankings-block__banner--matches\")\n",
    "MatchesW"
   ]
  },
  {
   "cell_type": "code",
   "execution_count": null,
   "id": "be3e3bfa",
   "metadata": {},
   "outputs": [],
   "source": [
    "PointsW=cricketW_soup.find('td',class_=\"rankings-block__banner--points\")\n",
    "PointsW"
   ]
  },
  {
   "cell_type": "code",
   "execution_count": null,
   "id": "476818d8",
   "metadata": {},
   "outputs": [],
   "source": [
    "RatingW=cricketW_soup.find('td',class_=\"rankings-block__banner--rating u-text-right\")\n",
    "RatingW"
   ]
  },
  {
   "cell_type": "code",
   "execution_count": null,
   "id": "c5ce3a25",
   "metadata": {},
   "outputs": [],
   "source": [
    "RatingW.text"
   ]
  },
  {
   "cell_type": "code",
   "execution_count": null,
   "id": "ada64bbf",
   "metadata": {},
   "outputs": [],
   "source": [
    "Team_Name=[]\n",
    "for i in cricketW_soup.find_all('span',class_=\"u-hide-phablet\"):\n",
    "    Team_Name.append(i.text)\n",
    "Team_Name   "
   ]
  },
  {
   "cell_type": "code",
   "execution_count": null,
   "id": "c64858a0",
   "metadata": {},
   "outputs": [],
   "source": [
    "Matches=[]\n",
    "for i in cricketW_soup.find_all('td',class_=\"table-body__cell u-center-text\"):\n",
    "    Matches.append(i.text)\n",
    "Matches"
   ]
  },
  {
   "cell_type": "code",
   "execution_count": null,
   "id": "9085d19b",
   "metadata": {},
   "outputs": [],
   "source": [
    "Points=[]\n",
    "for i in cricketW_soup.find_all('td',class_=\"table-body__cell u-center-text\"):\n",
    "    Points.append(i.text)\n",
    "Points"
   ]
  },
  {
   "cell_type": "code",
   "execution_count": null,
   "id": "5f237698",
   "metadata": {},
   "outputs": [],
   "source": [
    "Rating=[]\n",
    "for i in cricketW_soup.find_all('td',class_=\"table-body__cell u-text-right rating\"):\n",
    "    Rating.append(i.text)\n",
    "Rating"
   ]
  },
  {
   "cell_type": "code",
   "execution_count": null,
   "id": "ef6241ce",
   "metadata": {},
   "outputs": [],
   "source": [
    "print(len(Team_Name),len(Matches),len(Points),len(Rating))"
   ]
  },
  {
   "cell_type": "code",
   "execution_count": null,
   "id": "ecdd1979",
   "metadata": {},
   "outputs": [],
   "source": []
  },
  {
   "cell_type": "markdown",
   "id": "1ff34f0f",
   "metadata": {},
   "source": [
    "Q7) Write a python program to scrape mentioned news details from https://www.cnbc.com/world/?region=world :\n",
    "i) Headline\n",
    "ii) Time\n",
    "iii) News Link"
   ]
  },
  {
   "cell_type": "code",
   "execution_count": null,
   "id": "f0c076a0",
   "metadata": {},
   "outputs": [],
   "source": [
    "news_soup=BeautifulSoup(requests.get('https://www.cnbc.com/world/?region=world').content,\"html.parser\")\n",
    "news_soup"
   ]
  },
  {
   "cell_type": "code",
   "execution_count": null,
   "id": "03252974",
   "metadata": {},
   "outputs": [],
   "source": [
    "Headline=news_soup.find('a',class_=\"LatestNews-headline\")\n",
    "Headline"
   ]
  },
  {
   "cell_type": "code",
   "execution_count": null,
   "id": "5451005b",
   "metadata": {},
   "outputs": [],
   "source": [
    "Headline.text"
   ]
  },
  {
   "cell_type": "code",
   "execution_count": null,
   "id": "a9e5864c",
   "metadata": {},
   "outputs": [],
   "source": [
    "NewsTime=news_soup.find('time',class_=\"LatestNews-timestamp\")\n",
    "NewsTime"
   ]
  },
  {
   "cell_type": "code",
   "execution_count": null,
   "id": "a2455b72",
   "metadata": {},
   "outputs": [],
   "source": [
    "NewsTime.text"
   ]
  },
  {
   "cell_type": "code",
   "execution_count": null,
   "id": "f5f49c28",
   "metadata": {},
   "outputs": [],
   "source": [
    "News_Link=news_soup.find('a',href=\"https://www.cnbc.com/2022/09/25/italy-poised-for-hard-right-leader-as-country-votes-in-snap-election.html\")\n",
    "News_Link"
   ]
  },
  {
   "cell_type": "code",
   "execution_count": null,
   "id": "5588e207",
   "metadata": {},
   "outputs": [],
   "source": [
    "News_Link.text"
   ]
  },
  {
   "cell_type": "code",
   "execution_count": null,
   "id": "fa4a214b",
   "metadata": {},
   "outputs": [],
   "source": []
  },
  {
   "cell_type": "markdown",
   "id": "ccad03c6",
   "metadata": {},
   "source": [
    "Q9) Write a python program to scrape mentioned details from dineout.co.in :\n",
    "i) Restaurant name\n",
    "ii) Cuisine\n",
    "iii) Location\n",
    "iv) Ratings\n",
    "v) Image URL"
   ]
  },
  {
   "cell_type": "code",
   "execution_count": null,
   "id": "6f3b5834",
   "metadata": {},
   "outputs": [],
   "source": [
    "dine_soup=BeautifulSoup(requests.get('https://www.dineout.co.in/').content,\"html.parser\")\n",
    "dine_soup"
   ]
  },
  {
   "cell_type": "code",
   "execution_count": null,
   "id": "8e291c64",
   "metadata": {},
   "outputs": [],
   "source": [
    "restaurant_name=dine_soup.find('input',type_=\"text\")\n",
    "restaurant_name"
   ]
  },
  {
   "cell_type": "code",
   "execution_count": null,
   "id": "e4c5368d",
   "metadata": {},
   "outputs": [],
   "source": [
    "cuisine=dine_soup.find('span',class_=\"_2Sza-\")\n",
    "cuisine"
   ]
  },
  {
   "cell_type": "code",
   "execution_count": null,
   "id": "f2212488",
   "metadata": {},
   "outputs": [],
   "source": [
    "cuisine.text"
   ]
  },
  {
   "cell_type": "code",
   "execution_count": null,
   "id": "9ca885ae",
   "metadata": {},
   "outputs": [],
   "source": [
    "location=dine_soup.find('span',class_=\"_2Sza-\")\n",
    "location"
   ]
  },
  {
   "cell_type": "code",
   "execution_count": null,
   "id": "cff67fed",
   "metadata": {},
   "outputs": [],
   "source": [
    "Rating=dine_soup.find('span',class_=\"_2Sza-\")\n",
    "Rating"
   ]
  },
  {
   "cell_type": "code",
   "execution_count": null,
   "id": "327d71eb",
   "metadata": {},
   "outputs": [],
   "source": [
    "image=[]\n",
    "for i in dine_soup.find_all('img',class_=\"no-img\"):\n",
    "    image.append(i.get('data-src'))\n",
    "image    "
   ]
  },
  {
   "cell_type": "code",
   "execution_count": null,
   "id": "d06f48a9",
   "metadata": {},
   "outputs": [],
   "source": []
  },
  {
   "cell_type": "code",
   "execution_count": null,
   "id": "e4e7f4b1",
   "metadata": {},
   "outputs": [],
   "source": []
  }
 ],
 "metadata": {
  "kernelspec": {
   "display_name": "Python 3 (ipykernel)",
   "language": "python",
   "name": "python3"
  },
  "language_info": {
   "codemirror_mode": {
    "name": "ipython",
    "version": 3
   },
   "file_extension": ".py",
   "mimetype": "text/x-python",
   "name": "python",
   "nbconvert_exporter": "python",
   "pygments_lexer": "ipython3",
   "version": "3.9.7"
  }
 },
 "nbformat": 4,
 "nbformat_minor": 5
}
